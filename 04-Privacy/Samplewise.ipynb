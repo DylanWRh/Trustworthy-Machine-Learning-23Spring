{
 "cells": [
  {
   "attachments": {},
   "cell_type": "markdown",
   "metadata": {},
   "source": [
    "<h2>Quick Start: Creating Sample-wise Unlearnable Examples</h2>"
   ]
  },
  {
   "attachments": {},
   "cell_type": "markdown",
   "metadata": {},
   "source": [
    "<h3>Prepare Data</h3>"
   ]
  },
  {
   "cell_type": "code",
   "execution_count": 1,
   "metadata": {},
   "outputs": [
    {
     "name": "stdout",
     "output_type": "stream",
     "text": [
      "Files already downloaded and verified\n",
      "Files already downloaded and verified\n"
     ]
    }
   ],
   "source": [
    "import torch\n",
    "import torchvision\n",
    "from torch.utils.data import DataLoader\n",
    "from torchvision import datasets, transforms\n",
    "\n",
    "# Prepare Dataset\n",
    "train_transform = [\n",
    "    transforms.ToTensor()\n",
    "]\n",
    "test_transform = [\n",
    "    transforms.ToTensor()\n",
    "]\n",
    "train_transform = transforms.Compose(train_transform)\n",
    "test_transform = transforms.Compose(test_transform)\n",
    "\n",
    "clean_train_dataset = datasets.CIFAR10(root='/data1/mjli/Code/kerdeq/data/', train=True, download=True, transform=train_transform)\n",
    "clean_test_dataset = datasets.CIFAR10(root='/data1/mjli/Code/kerdeq/data/', train=False, download=True, transform=test_transform)\n",
    "\n",
    "### No shuffle, easy to perturb image\n",
    "clean_train_loader = DataLoader(dataset=clean_train_dataset, batch_size=512,\n",
    "                                shuffle=False, pin_memory=True,\n",
    "                                drop_last=False, num_workers=12)\n",
    "clean_test_loader = DataLoader(dataset=clean_test_dataset, batch_size=512,\n",
    "                                shuffle=False, pin_memory=True,\n",
    "                                drop_last=False, num_workers=12)"
   ]
  },
  {
   "attachments": {},
   "cell_type": "markdown",
   "metadata": {},
   "source": [
    "<h3>Prepare Model</h3>"
   ]
  },
  {
   "cell_type": "code",
   "execution_count": 2,
   "metadata": {},
   "outputs": [],
   "source": [
    "from models.ResNet import ResNet18\n",
    "import toolbox\n",
    "\n",
    "torch.backends.cudnn.enabled = True\n",
    "torch.backends.cudnn.benchmark = True\n",
    "\n",
    "base_model = ResNet18()\n",
    "base_model = base_model.cuda()\n",
    "criterion = torch.nn.CrossEntropyLoss()\n",
    "optimizer = torch.optim.SGD(params=base_model.parameters(), lr=0.1, weight_decay=0.0005, momentum=0.9)\n"
   ]
  },
  {
   "attachments": {},
   "cell_type": "markdown",
   "metadata": {},
   "source": [
    "<h3>Prepare Perturbation Generator Tool</h3>"
   ]
  },
  {
   "cell_type": "code",
   "execution_count": 3,
   "metadata": {},
   "outputs": [],
   "source": [
    "import numpy as np\n",
    "from torch.autograd import Variable\n",
    "\n",
    "if torch.cuda.is_available():\n",
    "    device = torch.device('cuda')\n",
    "else:\n",
    "    device = torch.device('cpu')\n",
    "\n",
    "\n",
    "class PerturbationTool():\n",
    "    def __init__(self, seed=0, epsilon=0.03137254901, num_steps=20, step_size=0.00784313725):\n",
    "        self.epsilon = epsilon\n",
    "        self.num_steps = num_steps\n",
    "        self.step_size = step_size\n",
    "        self.seed = seed\n",
    "        np.random.seed(seed)\n",
    "\n",
    "    def random_noise(self, noise_shape=[10, 3, 32, 32]):\n",
    "        random_noise = torch.FloatTensor(*noise_shape).uniform_(-self.epsilon, self.epsilon).to(device)\n",
    "        return random_noise\n",
    "\n",
    "    def min_min_attack(self, images, labels, model, optimizer, criterion, random_noise=None, sample_wise=False):\n",
    "        if random_noise is None:\n",
    "            random_noise = torch.FloatTensor(*images.shape).uniform_(-self.epsilon, self.epsilon).to(device)\n",
    "\n",
    "        perturb_img = Variable(images.data + random_noise, requires_grad=True)\n",
    "        perturb_img = Variable(torch.clamp(perturb_img, 0, 1), requires_grad=True)\n",
    "        eta = random_noise\n",
    "        for _ in range(self.num_steps):\n",
    "            opt = torch.optim.SGD([perturb_img], lr=1e-3)\n",
    "            opt.zero_grad()\n",
    "            model.zero_grad()\n",
    "            if isinstance(criterion, torch.nn.CrossEntropyLoss):\n",
    "                if hasattr(model, 'classify'):\n",
    "                    model.classify = True\n",
    "                logits = model(perturb_img)\n",
    "                loss = criterion(logits, labels)\n",
    "            else:\n",
    "                logits, loss = criterion(model, perturb_img, labels, optimizer)\n",
    "            perturb_img.retain_grad()\n",
    "            loss.backward()\n",
    "            eta = self.step_size * perturb_img.grad.data.sign() * (-1)\n",
    "            perturb_img = Variable(perturb_img.data + eta, requires_grad=True)\n",
    "            eta = torch.clamp(perturb_img.data - images.data, -self.epsilon, self.epsilon)\n",
    "            perturb_img = Variable(images.data + eta, requires_grad=True)\n",
    "            perturb_img = Variable(torch.clamp(perturb_img, 0, 1), requires_grad=True)\n",
    "\n",
    "        return perturb_img, eta\n",
    "\n",
    "    \n",
    "noise_generator = PerturbationTool(epsilon=16/255, num_steps=10, step_size=4/255)\n",
    "\n",
    "\n",
    "### Test noise_generator\n",
    "images= torch.randn([1,3,32,32]).cuda()\n",
    "labels= torch.ones([1]).long().cuda()\n",
    "\n",
    "# noise_generator.min_min_attack(images, labels, base_model, optimizer, criterion, \n",
    "#                                                           random_noise=torch.zeros_like(images).cuda())\n"
   ]
  },
  {
   "attachments": {},
   "cell_type": "markdown",
   "metadata": {},
   "source": [
    "<h3>Generate Error-Minimizing Noise</h3>"
   ]
  },
  {
   "cell_type": "code",
   "execution_count": 4,
   "metadata": {},
   "outputs": [
    {
     "name": "stderr",
     "output_type": "stream",
     "text": [
      "100%|████████████████████████████████████████████████████████████████████████████████████████████████████████████████████████████████████████████████████████████████████████████████████████████████████████████████████████████████████████████████| 98/98 [02:50<00:00,  1.74s/it]\n"
     ]
    },
    {
     "name": "stdout",
     "output_type": "stream",
     "text": [
      "Accuracy 27.78\n"
     ]
    },
    {
     "name": "stderr",
     "output_type": "stream",
     "text": [
      "100%|████████████████████████████████████████████████████████████████████████████████████████████████████████████████████████████████████████████████████████████████████████████████████████████████████████████████████████████████████████████████| 98/98 [01:42<00:00,  1.04s/it]\n"
     ]
    },
    {
     "name": "stdout",
     "output_type": "stream",
     "text": [
      "Accuracy 40.95\n"
     ]
    },
    {
     "name": "stderr",
     "output_type": "stream",
     "text": [
      "100%|████████████████████████████████████████████████████████████████████████████████████████████████████████████████████████████████████████████████████████████████████████████████████████████████████████████████████████████████████████████████| 98/98 [01:26<00:00,  1.14it/s]\n"
     ]
    },
    {
     "name": "stdout",
     "output_type": "stream",
     "text": [
      "Accuracy 11.90\n"
     ]
    },
    {
     "name": "stderr",
     "output_type": "stream",
     "text": [
      "100%|████████████████████████████████████████████████████████████████████████████████████████████████████████████████████████████████████████████████████████████████████████████████████████████████████████████████████████████████████████████████| 98/98 [01:26<00:00,  1.13it/s]\n"
     ]
    },
    {
     "name": "stdout",
     "output_type": "stream",
     "text": [
      "Accuracy 25.15\n"
     ]
    },
    {
     "name": "stderr",
     "output_type": "stream",
     "text": [
      "100%|████████████████████████████████████████████████████████████████████████████████████████████████████████████████████████████████████████████████████████████████████████████████████████████████████████████████████████████████████████████████| 98/98 [01:21<00:00,  1.20it/s]\n"
     ]
    },
    {
     "name": "stdout",
     "output_type": "stream",
     "text": [
      "Accuracy 88.64\n"
     ]
    },
    {
     "name": "stderr",
     "output_type": "stream",
     "text": [
      "100%|████████████████████████████████████████████████████████████████████████████████████████████████████████████████████████████████████████████████████████████████████████████████████████████████████████████████████████████████████████████████| 98/98 [01:20<00:00,  1.22it/s]\n"
     ]
    },
    {
     "name": "stdout",
     "output_type": "stream",
     "text": [
      "Accuracy 97.00\n"
     ]
    },
    {
     "name": "stderr",
     "output_type": "stream",
     "text": [
      "100%|████████████████████████████████████████████████████████████████████████████████████████████████████████████████████████████████████████████████████████████████████████████████████████████████████████████████████████████████████████████████| 98/98 [01:21<00:00,  1.21it/s]\n"
     ]
    },
    {
     "name": "stdout",
     "output_type": "stream",
     "text": [
      "Accuracy 98.49\n"
     ]
    },
    {
     "name": "stderr",
     "output_type": "stream",
     "text": [
      "100%|████████████████████████████████████████████████████████████████████████████████████████████████████████████████████████████████████████████████████████████████████████████████████████████████████████████████████████████████████████████████| 98/98 [01:21<00:00,  1.20it/s]\n"
     ]
    },
    {
     "name": "stdout",
     "output_type": "stream",
     "text": [
      "Accuracy 99.93\n"
     ]
    }
   ],
   "source": [
    "from tqdm import tqdm\n",
    "\n",
    "noise = torch.zeros([50000, 3, 32, 32])\n",
    "data_iter = iter(clean_train_loader)\n",
    "condition = True\n",
    "train_idx = 0\n",
    "\n",
    "while condition:\n",
    "    #########Try to write the sample-wise min-min noise generator ########\n",
    "    #####1.optimize theta for M steps\n",
    "    #####2. generate min-min noise for each training images and update noise\n",
    "    #####3. If acc>0.99 break, else loop\n",
    "    #####4. Please refer to class-wise min-min noise generator\n",
    "    ##### Point 6 \n"
   ]
  },
  {
   "cell_type": "code",
   "execution_count": 4,
   "metadata": {},
   "outputs": [
    {
     "name": "stdout",
     "output_type": "stream",
     "text": [
      "tensor([[[[ 6.2745e-02,  6.2745e-02,  3.1373e-02,  ..., -6.2745e-02,\n",
      "           -6.2745e-02, -6.2745e-02],\n",
      "          [ 6.2745e-02,  6.2745e-02,  7.4506e-09,  ..., -6.2745e-02,\n",
      "           -6.2745e-02, -6.2745e-02],\n",
      "          [ 7.4506e-09, -4.7059e-02, -6.2745e-02,  ..., -6.2745e-02,\n",
      "           -6.2745e-02, -6.2745e-02],\n",
      "          ...,\n",
      "          [-6.2745e-02, -6.2745e-02, -6.2745e-02,  ..., -6.2745e-02,\n",
      "           -6.2745e-02, -6.2745e-02],\n",
      "          [-6.2745e-02, -6.2745e-02, -6.2745e-02,  ..., -6.2745e-02,\n",
      "           -3.1373e-02,  0.0000e+00],\n",
      "          [-6.2745e-02,  0.0000e+00, -6.2745e-02,  ..., -4.7059e-02,\n",
      "            6.2745e-02,  0.0000e+00]],\n",
      "\n",
      "         [[-6.2745e-02, -6.2745e-02, -3.1373e-02,  ...,  6.2745e-02,\n",
      "            6.2745e-02,  6.2745e-02],\n",
      "          [ 3.1373e-02, -1.5686e-02,  3.7253e-09,  ...,  6.2745e-02,\n",
      "            6.2745e-02,  6.2745e-02],\n",
      "          [-3.1373e-02,  4.7059e-02,  6.2745e-02,  ...,  6.2745e-02,\n",
      "            6.2745e-02,  6.2745e-02],\n",
      "          ...,\n",
      "          [ 6.2745e-02,  6.2745e-02,  6.2745e-02,  ...,  6.2745e-02,\n",
      "            6.2745e-02,  6.2745e-02],\n",
      "          [ 6.2745e-02,  6.2745e-02,  6.2745e-02,  ...,  6.2745e-02,\n",
      "            6.2745e-02,  6.2745e-02],\n",
      "          [ 6.2745e-02,  6.2745e-02,  6.2745e-02,  ...,  6.2745e-02,\n",
      "            6.2745e-02,  3.1373e-02]],\n",
      "\n",
      "         [[ 6.2745e-02, -6.2745e-02, -6.2745e-02,  ..., -1.5686e-02,\n",
      "           -6.2745e-02,  4.7059e-02],\n",
      "          [-6.2745e-02, -1.5686e-02,  6.2745e-02,  ...,  6.2745e-02,\n",
      "            6.2745e-02,  6.2745e-02],\n",
      "          [-6.2745e-02,  6.2745e-02,  6.2745e-02,  ...,  6.2745e-02,\n",
      "           -6.2745e-02,  6.2745e-02],\n",
      "          ...,\n",
      "          [ 6.2745e-02,  6.2745e-02,  6.2745e-02,  ...,  4.7059e-02,\n",
      "            3.1373e-02,  6.2745e-02],\n",
      "          [-6.2745e-02, -6.2745e-02, -4.7059e-02,  ..., -3.1373e-02,\n",
      "           -1.5686e-02, -4.7059e-02],\n",
      "          [-6.2745e-02, -6.2745e-02, -6.2745e-02,  ..., -6.2745e-02,\n",
      "           -6.2745e-02,  3.1373e-02]]],\n",
      "\n",
      "\n",
      "        [[[-4.7059e-02, -6.2745e-02, -6.2745e-02,  ..., -6.2745e-02,\n",
      "           -6.2745e-02, -6.2745e-02],\n",
      "          [-6.2745e-02, -6.2745e-02, -6.2745e-02,  ..., -6.2745e-02,\n",
      "           -6.2745e-02, -6.2745e-02],\n",
      "          [-6.2745e-02, -6.2745e-02, -6.2745e-02,  ..., -6.2745e-02,\n",
      "           -6.2745e-02, -6.2745e-02],\n",
      "          ...,\n",
      "          [ 4.7059e-02,  3.1373e-02,  0.0000e+00,  ...,  4.7059e-02,\n",
      "            3.1373e-02,  3.1373e-02],\n",
      "          [ 3.1373e-02,  3.1373e-02, -3.1373e-02,  ...,  0.0000e+00,\n",
      "            0.0000e+00,  0.0000e+00],\n",
      "          [ 3.1373e-02, -6.2745e-02,  3.1373e-02,  ..., -6.2745e-02,\n",
      "           -4.7059e-02,  4.7059e-02]],\n",
      "\n",
      "         [[ 6.2745e-02,  6.2745e-02,  6.2745e-02,  ...,  6.2745e-02,\n",
      "            6.2745e-02,  6.2745e-02],\n",
      "          [-6.2745e-02,  6.2745e-02,  6.2745e-02,  ...,  6.2745e-02,\n",
      "            6.2745e-02,  6.2745e-02],\n",
      "          [ 6.2745e-02,  4.7059e-02,  4.7059e-02,  ...,  6.2745e-02,\n",
      "            6.2745e-02,  6.2745e-02],\n",
      "          ...,\n",
      "          [-3.1373e-02, -3.1373e-02,  0.0000e+00,  ...,  1.4901e-08,\n",
      "            3.1373e-02,  4.7059e-02],\n",
      "          [-3.1373e-02, -3.1373e-02,  0.0000e+00,  ...,  0.0000e+00,\n",
      "            2.9802e-08,  2.9802e-08],\n",
      "          [ 0.0000e+00,  3.1373e-02,  3.1373e-02,  ...,  4.7059e-02,\n",
      "            1.5686e-02,  1.5686e-02]],\n",
      "\n",
      "         [[-6.2745e-02,  6.2745e-02,  6.2745e-02,  ...,  6.2745e-02,\n",
      "            6.2745e-02,  6.2745e-02],\n",
      "          [ 6.2745e-02,  6.2745e-02,  6.2745e-02,  ...,  6.2745e-02,\n",
      "            6.2745e-02,  6.2745e-02],\n",
      "          [ 6.2745e-02, -3.1373e-02, -4.7059e-02,  ...,  6.2745e-02,\n",
      "            6.2745e-02,  4.7059e-02],\n",
      "          ...,\n",
      "          [-6.2745e-02, -6.2745e-02, -6.2745e-02,  ..., -6.2745e-02,\n",
      "            4.7059e-02, -1.5686e-02],\n",
      "          [ 1.5686e-02,  1.5686e-02,  1.5686e-02,  ...,  0.0000e+00,\n",
      "            0.0000e+00, -1.5686e-02],\n",
      "          [ 3.1373e-02,  3.1373e-02,  1.5686e-02,  ..., -4.7059e-02,\n",
      "            0.0000e+00, -4.7059e-02]]],\n",
      "\n",
      "\n",
      "        [[[-6.2745e-02, -6.2745e-02, -6.2745e-02,  ..., -6.2745e-02,\n",
      "           -6.2745e-02, -6.2745e-02],\n",
      "          [-6.2745e-02, -6.2745e-02, -6.2745e-02,  ..., -3.1373e-02,\n",
      "            1.5686e-02,  1.5686e-02],\n",
      "          [-6.2745e-02, -6.2745e-02, -6.2745e-02,  ...,  1.9608e-02,\n",
      "            1.9608e-02,  1.9608e-02],\n",
      "          ...,\n",
      "          [-4.7059e-02, -3.1373e-02,  4.7059e-02,  ...,  6.2745e-02,\n",
      "            4.7059e-02,  6.2745e-02],\n",
      "          [ 4.7059e-02,  4.7059e-02,  4.7059e-02,  ...,  4.7059e-02,\n",
      "            1.5686e-02,  6.2745e-02],\n",
      "          [ 1.5686e-02, -1.5686e-02, -6.2745e-02,  ..., -3.1373e-02,\n",
      "           -6.2745e-02,  6.2745e-02]],\n",
      "\n",
      "         [[ 1.5686e-02,  2.3529e-02,  2.3529e-02,  ...,  2.3529e-02,\n",
      "            2.3529e-02,  2.3529e-02],\n",
      "          [ 1.5686e-02,  1.5686e-02,  1.5686e-02,  ...,  1.5686e-02,\n",
      "            1.5686e-02,  1.5686e-02],\n",
      "          [ 1.5686e-02,  1.9608e-02,  1.9608e-02,  ..., -6.2745e-02,\n",
      "           -6.2745e-02, -6.2745e-02],\n",
      "          ...,\n",
      "          [ 4.7059e-02,  3.1373e-02, -6.2745e-02,  ..., -6.2745e-02,\n",
      "           -3.1373e-02,  0.0000e+00],\n",
      "          [-1.5686e-02, -6.2745e-02, -4.7059e-02,  ...,  0.0000e+00,\n",
      "            0.0000e+00,  0.0000e+00],\n",
      "          [-1.5686e-02, -1.5686e-02, -6.2745e-02,  ...,  0.0000e+00,\n",
      "            0.0000e+00,  0.0000e+00]],\n",
      "\n",
      "         [[-6.2745e-02, -6.2745e-02, -6.2745e-02,  ...,  2.3529e-02,\n",
      "            2.3529e-02,  2.3529e-02],\n",
      "          [ 1.5686e-02,  1.5686e-02, -6.2745e-02,  ...,  1.5686e-02,\n",
      "           -1.5686e-02,  1.5686e-02],\n",
      "          [-6.2745e-02, -6.2745e-02, -6.2745e-02,  ..., -6.2745e-02,\n",
      "           -6.2745e-02, -6.2745e-02],\n",
      "          ...,\n",
      "          [-6.2745e-02, -4.7059e-02,  1.5686e-02,  ..., -6.2745e-02,\n",
      "           -1.5686e-02,  4.7059e-02],\n",
      "          [ 1.5686e-02,  1.5686e-02,  1.5686e-02,  ..., -3.1373e-02,\n",
      "            6.2745e-02, -3.1373e-02],\n",
      "          [ 1.5686e-02,  1.5686e-02,  1.5686e-02,  ..., -1.5686e-02,\n",
      "            6.2745e-02, -3.1373e-02]]],\n",
      "\n",
      "\n",
      "        ...,\n",
      "\n",
      "\n",
      "        [[[-4.7059e-02, -6.2745e-02, -3.1373e-02,  ..., -4.7059e-02,\n",
      "            3.1373e-02,  6.2745e-02],\n",
      "          [-6.2745e-02, -6.2745e-02,  6.2745e-02,  ...,  6.2745e-02,\n",
      "            6.2745e-02,  6.2745e-02],\n",
      "          [-4.7059e-02, -4.7059e-02,  6.2745e-02,  ..., -1.5686e-02,\n",
      "            6.2745e-02, -3.1373e-02],\n",
      "          ...,\n",
      "          [ 6.2745e-02,  6.2745e-02, -6.2745e-02,  ...,  4.7059e-02,\n",
      "           -1.5686e-02,  4.7059e-02],\n",
      "          [ 6.2745e-02,  6.2745e-02,  1.4901e-08,  ...,  4.7059e-02,\n",
      "            1.5686e-02,  3.1373e-02],\n",
      "          [-4.7059e-02, -4.7059e-02, -4.7059e-02,  ..., -6.2745e-02,\n",
      "           -6.2745e-02,  4.7059e-02]],\n",
      "\n",
      "         [[ 6.2745e-02,  6.2745e-02,  6.2745e-02,  ...,  6.2745e-02,\n",
      "            6.2745e-02,  6.2745e-02],\n",
      "          [-6.2745e-02,  6.2745e-02, -6.2745e-02,  ...,  6.2745e-02,\n",
      "           -3.1373e-02,  6.2745e-02],\n",
      "          [-6.2745e-02, -6.2745e-02, -6.2745e-02,  ..., -6.2745e-02,\n",
      "           -6.2745e-02, -6.2745e-02],\n",
      "          ...,\n",
      "          [ 6.2745e-02, -1.5686e-02,  6.2745e-02,  ..., -4.7059e-02,\n",
      "           -1.5686e-02,  4.7059e-02],\n",
      "          [-4.7059e-02, -1.5686e-02,  6.2745e-02,  ..., -3.1373e-02,\n",
      "           -3.1373e-02,  4.7059e-02],\n",
      "          [-4.7059e-02, -4.7059e-02, -4.7059e-02,  ...,  6.2745e-02,\n",
      "            4.7059e-02,  1.5686e-02]],\n",
      "\n",
      "         [[-6.2745e-02,  6.2745e-02, -6.2745e-02,  ...,  6.2745e-02,\n",
      "            6.2745e-02,  6.2745e-02],\n",
      "          [ 6.2745e-02,  3.5294e-02,  6.2745e-02,  ...,  6.2745e-02,\n",
      "            6.2745e-02,  6.2745e-02],\n",
      "          [-6.2745e-02, -6.2745e-02, -6.2745e-02,  ..., -6.2745e-02,\n",
      "            6.2745e-02,  6.2745e-02],\n",
      "          ...,\n",
      "          [-6.2745e-02, -6.2745e-02,  4.7059e-02,  ..., -6.2745e-02,\n",
      "            1.5686e-02,  4.7059e-02],\n",
      "          [ 4.7059e-02,  4.7059e-02,  4.7059e-02,  ...,  4.7059e-02,\n",
      "            4.7059e-02,  4.7059e-02],\n",
      "          [ 6.2745e-02,  4.7059e-02,  6.2745e-02,  ...,  4.7059e-02,\n",
      "            4.7059e-02,  1.5686e-02]]],\n",
      "\n",
      "\n",
      "        [[[-3.1373e-02, -3.1373e-02,  0.0000e+00,  ...,  3.1373e-02,\n",
      "            3.1373e-02,  0.0000e+00],\n",
      "          [ 0.0000e+00,  0.0000e+00,  0.0000e+00,  ...,  4.7059e-02,\n",
      "            6.2745e-02,  6.2745e-02],\n",
      "          [ 0.0000e+00,  3.1373e-02,  6.2745e-02,  ...,  6.2745e-02,\n",
      "            6.2745e-02,  6.2745e-02],\n",
      "          ...,\n",
      "          [ 4.7059e-02, -3.1373e-02, -6.2745e-02,  ..., -6.2745e-02,\n",
      "           -6.2745e-02, -6.2745e-02],\n",
      "          [ 0.0000e+00, -3.1373e-02,  3.1373e-02,  ..., -6.2745e-02,\n",
      "           -6.2745e-02, -6.2745e-02],\n",
      "          [ 3.1373e-02,  6.2745e-02,  6.2745e-02,  ..., -6.2745e-02,\n",
      "            4.7059e-02,  6.2745e-02]],\n",
      "\n",
      "         [[ 3.1373e-02,  3.1373e-02,  3.1373e-02,  ...,  3.1373e-02,\n",
      "            6.2745e-02,  0.0000e+00],\n",
      "          [ 3.1373e-02,  3.1373e-02,  0.0000e+00,  ...,  0.0000e+00,\n",
      "            3.1373e-02,  3.1373e-02],\n",
      "          [ 0.0000e+00,  0.0000e+00,  0.0000e+00,  ..., -4.7059e-02,\n",
      "           -4.7059e-02, -6.2745e-02],\n",
      "          ...,\n",
      "          [-6.2745e-02, -6.2745e-02, -3.1373e-02,  ..., -6.2745e-02,\n",
      "           -6.2745e-02, -6.2745e-02],\n",
      "          [ 6.2745e-02,  3.1373e-02, -6.2745e-02,  ..., -6.2745e-02,\n",
      "           -6.2745e-02, -3.1373e-02],\n",
      "          [ 6.2745e-02,  4.7059e-02,  0.0000e+00,  ...,  0.0000e+00,\n",
      "            6.2745e-02,  6.2745e-02]],\n",
      "\n",
      "         [[ 5.8824e-02,  6.2745e-02,  0.0000e+00,  ..., -6.2745e-02,\n",
      "           -6.2745e-02, -6.2745e-02],\n",
      "          [-6.2745e-02, -6.2745e-02,  3.1373e-02,  ..., -4.7059e-02,\n",
      "           -6.2745e-02, -6.2745e-02],\n",
      "          [ 4.3137e-02, -3.9216e-03,  0.0000e+00,  ...,  6.2745e-02,\n",
      "            6.2745e-02,  6.2745e-02],\n",
      "          ...,\n",
      "          [-4.7059e-02, -4.7059e-02,  3.1373e-02,  ...,  4.7059e-02,\n",
      "            6.2745e-02,  1.5686e-02],\n",
      "          [-6.2745e-02, -6.2745e-02,  0.0000e+00,  ...,  6.2745e-02,\n",
      "            6.2745e-02, -1.5686e-02],\n",
      "          [-6.2745e-02, -6.2745e-02, -6.2745e-02,  ...,  4.7059e-02,\n",
      "            3.1373e-02, -6.2745e-02]]],\n",
      "\n",
      "\n",
      "        [[[-3.1373e-02, -3.1373e-02, -3.1373e-02,  ..., -1.5686e-02,\n",
      "            3.1373e-02,  4.7059e-02],\n",
      "          [-3.1373e-02,  0.0000e+00,  0.0000e+00,  ...,  3.1373e-02,\n",
      "            4.7059e-02,  1.5686e-02],\n",
      "          [-3.1373e-02, -3.1373e-02, -3.1373e-02,  ...,  3.1373e-02,\n",
      "            3.1373e-02,  4.7059e-02],\n",
      "          ...,\n",
      "          [ 6.2745e-02,  6.2745e-02,  1.5686e-02,  ...,  4.7059e-02,\n",
      "            4.7059e-02,  3.9216e-02],\n",
      "          [ 6.2745e-02,  0.0000e+00,  2.9802e-08,  ...,  4.7059e-02,\n",
      "            4.7059e-02,  4.7059e-02],\n",
      "          [-6.2745e-02, -6.2745e-02, -6.2745e-02,  ...,  0.0000e+00,\n",
      "            1.5686e-02, -4.7059e-02]],\n",
      "\n",
      "         [[ 3.1373e-02,  3.1373e-02,  3.1373e-02,  ...,  1.5686e-02,\n",
      "           -4.7059e-02, -4.7059e-02],\n",
      "          [ 3.1373e-02,  3.1373e-02,  3.1373e-02,  ...,  6.2745e-02,\n",
      "           -4.7059e-02, -4.7059e-02],\n",
      "          [ 3.1373e-02,  0.0000e+00,  0.0000e+00,  ..., -4.7059e-02,\n",
      "           -1.5686e-02, -1.5686e-02],\n",
      "          ...,\n",
      "          [ 0.0000e+00,  0.0000e+00,  0.0000e+00,  ..., -4.7059e-02,\n",
      "           -4.7059e-02, -4.7059e-02],\n",
      "          [-1.5686e-02,  0.0000e+00,  0.0000e+00,  ..., -4.7059e-02,\n",
      "           -4.7059e-02, -4.7059e-02],\n",
      "          [-3.1373e-02, -3.1373e-02,  0.0000e+00,  ..., -4.7059e-02,\n",
      "           -4.7059e-02, -4.7059e-02]],\n",
      "\n",
      "         [[ 4.7059e-02,  1.5686e-02, -6.2745e-02,  ..., -6.2745e-02,\n",
      "           -6.2745e-02, -6.2745e-02],\n",
      "          [ 6.2745e-02, -6.2745e-02,  1.9608e-02,  ..., -4.7059e-02,\n",
      "           -6.2745e-02, -6.2745e-02],\n",
      "          [ 4.7059e-02,  0.0000e+00,  2.7451e-02,  ...,  4.7059e-02,\n",
      "            4.7059e-02,  4.7059e-02],\n",
      "          ...,\n",
      "          [-6.2745e-02,  3.1373e-02,  3.1373e-02,  ...,  4.7059e-02,\n",
      "            4.7059e-02,  4.7059e-02],\n",
      "          [ 3.1373e-02,  3.1373e-02,  3.1373e-02,  ...,  4.7059e-02,\n",
      "            4.7059e-02,  4.7059e-02],\n",
      "          [ 3.1373e-02,  3.1373e-02,  3.1373e-02,  ...,  4.7059e-02,\n",
      "            4.7059e-02,  4.7059e-02]]]])\n"
     ]
    }
   ],
   "source": [
    "# Examine the noise\n",
    "print(noise)"
   ]
  },
  {
   "attachments": {},
   "cell_type": "markdown",
   "metadata": {},
   "source": [
    "<h3>Creat Unlearnable Dataset</h3>"
   ]
  },
  {
   "cell_type": "code",
   "execution_count": 5,
   "metadata": {},
   "outputs": [
    {
     "name": "stdout",
     "output_type": "stream",
     "text": [
      "Files already downloaded and verified\n",
      "Files already downloaded and verified\n"
     ]
    }
   ],
   "source": [
    "import numpy as np\n",
    "\n",
    "# Add standard augmentation\n",
    "train_transform = [\n",
    "    transforms.RandomCrop(32, padding=4),\n",
    "    transforms.RandomHorizontalFlip(),\n",
    "    transforms.ToTensor()\n",
    "]\n",
    "train_transform = transforms.Compose(train_transform)\n",
    "clean_train_dataset = datasets.CIFAR10(root='/data1/mjli/Code/kerdeq/data/', train=True, download=True, transform=train_transform)\n",
    "unlearnable_train_dataset = datasets.CIFAR10(root='/data1/mjli/Code/kerdeq/data/', train=True, download=True, transform=train_transform)\n",
    "\n",
    "perturb_noise = noise.mul(255).clamp_(0, 255).permute(0, 2, 3, 1).to('cpu').numpy()\n",
    "unlearnable_train_dataset.data = unlearnable_train_dataset.data.astype(np.float32)\n",
    "\n",
    "#############Add perturb noise to original images#############\n",
    "for i in range(len(unlearnable_train_dataset)):\n",
    "    unlearnable_train_dataset.data[i] += perturb_noise[i]\n",
    "    unlearnable_train_dataset.data[i] = np.clip(unlearnable_train_dataset.data[i], a_min=0, a_max=255)\n",
    "unlearnable_train_dataset.data = unlearnable_train_dataset.data.astype(np.uint8)\n",
    "\n",
    "\n"
   ]
  },
  {
   "attachments": {},
   "cell_type": "markdown",
   "metadata": {},
   "source": [
    "<h3>Visualize Clean Images, Error-Minimizing Noise, Unlearnable Images</h3>"
   ]
  },
  {
   "cell_type": "code",
   "execution_count": null,
   "metadata": {},
   "outputs": [],
   "source": [
    "import random\n",
    "import matplotlib.pyplot as plt\n",
    "import matplotlib\n",
    "%matplotlib inline\n",
    "\n",
    "def imshow(img):\n",
    "    fig = plt.figure(figsize=(8, 8), dpi=80, facecolor='w', edgecolor='k')\n",
    "    npimg = img.numpy()\n",
    "    plt.imshow(np.transpose(npimg, (1, 2, 0)))\n",
    "    plt.show()\n",
    "    \n",
    "def get_pairs_of_imgs(idx):\n",
    "    clean_img = clean_train_dataset.data[idx]\n",
    "    unlearnable_img = unlearnable_train_dataset.data[idx]\n",
    "    clean_img = torchvision.transforms.functional.to_tensor(clean_img)\n",
    "    unlearnable_img = torchvision.transforms.functional.to_tensor(unlearnable_img)\n",
    "\n",
    "    x = noise[idx]\n",
    "    x_min = torch.min(x)\n",
    "    x_max = torch.max(x)\n",
    "    noise_norm = (x - x_min) / (x_max - x_min)\n",
    "    noise_norm = torch.clamp(noise_norm, 0, 1)\n",
    "    return [clean_img, noise_norm, unlearnable_img]\n",
    "    \n",
    "selected_idx = [random.randint(0, 50000) for _ in range(3)]\n",
    "img_grid = []\n",
    "for idx in selected_idx:\n",
    "    img_grid += get_pairs_of_imgs(idx)\n",
    "    \n",
    "\n",
    "imshow(torchvision.utils.make_grid(torch.stack(img_grid), nrow=3, pad_value=255))\n",
    "\n"
   ]
  },
  {
   "attachments": {},
   "cell_type": "markdown",
   "metadata": {},
   "source": [
    "<h3>Train ResNet18 on Unlearnable Dataset</h3>"
   ]
  },
  {
   "cell_type": "code",
   "execution_count": 6,
   "metadata": {},
   "outputs": [
    {
     "name": "stderr",
     "output_type": "stream",
     "text": [
      "Acc 68.27 Loss: 0.92: 100%|████████████████████████████████████████████████████████████████████████████████████████████████████████████████████████████████████████████████████████████████████████████████████████████████████████████████████████| 391/391 [00:23<00:00, 16.90it/s]\n",
      "  0%|                                                                                                                                                                                                                                                        | 0/391 [00:00<?, ?it/s]"
     ]
    },
    {
     "name": "stdout",
     "output_type": "stream",
     "text": [
      "Clean Accuracy 16.11\n",
      "\n"
     ]
    },
    {
     "name": "stderr",
     "output_type": "stream",
     "text": [
      "Acc 91.68 Loss: 0.25: 100%|████████████████████████████████████████████████████████████████████████████████████████████████████████████████████████████████████████████████████████████████████████████████████████████████████████████████████████| 391/391 [00:21<00:00, 18.11it/s]\n",
      "  0%|                                                                                                                                                                                                                                                        | 0/391 [00:00<?, ?it/s]"
     ]
    },
    {
     "name": "stdout",
     "output_type": "stream",
     "text": [
      "Clean Accuracy 18.00\n",
      "\n"
     ]
    },
    {
     "name": "stderr",
     "output_type": "stream",
     "text": [
      "Acc 94.61 Loss: 0.16: 100%|████████████████████████████████████████████████████████████████████████████████████████████████████████████████████████████████████████████████████████████████████████████████████████████████████████████████████████| 391/391 [00:16<00:00, 24.07it/s]\n",
      "  0%|                                                                                                                                                                                                                                                        | 0/391 [00:00<?, ?it/s]"
     ]
    },
    {
     "name": "stdout",
     "output_type": "stream",
     "text": [
      "Clean Accuracy 24.67\n",
      "\n"
     ]
    },
    {
     "name": "stderr",
     "output_type": "stream",
     "text": [
      "Acc 95.92 Loss: 0.12: 100%|████████████████████████████████████████████████████████████████████████████████████████████████████████████████████████████████████████████████████████████████████████████████████████████████████████████████████████| 391/391 [00:15<00:00, 25.13it/s]\n",
      "  0%|                                                                                                                                                                                                                                                        | 0/391 [00:00<?, ?it/s]"
     ]
    },
    {
     "name": "stdout",
     "output_type": "stream",
     "text": [
      "Clean Accuracy 18.41\n",
      "\n"
     ]
    },
    {
     "name": "stderr",
     "output_type": "stream",
     "text": [
      "Acc 96.35 Loss: 0.11: 100%|████████████████████████████████████████████████████████████████████████████████████████████████████████████████████████████████████████████████████████████████████████████████████████████████████████████████████████| 391/391 [00:16<00:00, 23.30it/s]\n",
      "  0%|                                                                                                                                                                                                                                                        | 0/391 [00:00<?, ?it/s]"
     ]
    },
    {
     "name": "stdout",
     "output_type": "stream",
     "text": [
      "Clean Accuracy 22.73\n",
      "\n"
     ]
    },
    {
     "name": "stderr",
     "output_type": "stream",
     "text": [
      "Acc 96.77 Loss: 0.10: 100%|████████████████████████████████████████████████████████████████████████████████████████████████████████████████████████████████████████████████████████████████████████████████████████████████████████████████████████| 391/391 [00:16<00:00, 24.30it/s]\n",
      "  0%|                                                                                                                                                                                                                                                        | 0/391 [00:00<?, ?it/s]"
     ]
    },
    {
     "name": "stdout",
     "output_type": "stream",
     "text": [
      "Clean Accuracy 18.56\n",
      "\n"
     ]
    },
    {
     "name": "stderr",
     "output_type": "stream",
     "text": [
      "Acc 97.21 Loss: 0.09: 100%|████████████████████████████████████████████████████████████████████████████████████████████████████████████████████████████████████████████████████████████████████████████████████████████████████████████████████████| 391/391 [00:16<00:00, 23.73it/s]\n",
      "  0%|                                                                                                                                                                                                                                                        | 0/391 [00:00<?, ?it/s]"
     ]
    },
    {
     "name": "stdout",
     "output_type": "stream",
     "text": [
      "Clean Accuracy 19.44\n",
      "\n"
     ]
    },
    {
     "name": "stderr",
     "output_type": "stream",
     "text": [
      "Acc 97.25 Loss: 0.08: 100%|████████████████████████████████████████████████████████████████████████████████████████████████████████████████████████████████████████████████████████████████████████████████████████████████████████████████████████| 391/391 [00:15<00:00, 24.54it/s]\n",
      "  0%|                                                                                                                                                                                                                                                        | 0/391 [00:00<?, ?it/s]"
     ]
    },
    {
     "name": "stdout",
     "output_type": "stream",
     "text": [
      "Clean Accuracy 20.32\n",
      "\n"
     ]
    },
    {
     "name": "stderr",
     "output_type": "stream",
     "text": [
      "Acc 97.48 Loss: 0.08: 100%|████████████████████████████████████████████████████████████████████████████████████████████████████████████████████████████████████████████████████████████████████████████████████████████████████████████████████████| 391/391 [00:16<00:00, 23.66it/s]\n",
      "  0%|                                                                                                                                                                                                                                                        | 0/391 [00:00<?, ?it/s]"
     ]
    },
    {
     "name": "stdout",
     "output_type": "stream",
     "text": [
      "Clean Accuracy 21.29\n",
      "\n"
     ]
    },
    {
     "name": "stderr",
     "output_type": "stream",
     "text": [
      "Acc 97.60 Loss: 0.07: 100%|████████████████████████████████████████████████████████████████████████████████████████████████████████████████████████████████████████████████████████████████████████████████████████████████████████████████████████| 391/391 [00:15<00:00, 25.03it/s]\n",
      "  0%|                                                                                                                                                                                                                                                        | 0/391 [00:00<?, ?it/s]"
     ]
    },
    {
     "name": "stdout",
     "output_type": "stream",
     "text": [
      "Clean Accuracy 21.16\n",
      "\n"
     ]
    },
    {
     "name": "stderr",
     "output_type": "stream",
     "text": [
      "Acc 97.68 Loss: 0.07:  10%|██████████████████████▏                                                                                                                                                                                                  | 40/391 [00:03<00:27, 12.95it/s]\n"
     ]
    },
    {
     "ename": "KeyboardInterrupt",
     "evalue": "",
     "output_type": "error",
     "traceback": [
      "\u001b[0;31m---------------------------------------------------------------------------\u001b[0m",
      "\u001b[0;31mKeyboardInterrupt\u001b[0m                         Traceback (most recent call last)",
      "Cell \u001b[0;32mIn[6], line 22\u001b[0m\n\u001b[1;32m     20\u001b[0m \u001b[38;5;28;01mfor\u001b[39;00m images, labels \u001b[38;5;129;01min\u001b[39;00m pbar:\n\u001b[1;32m     21\u001b[0m     images, labels \u001b[38;5;241m=\u001b[39m images\u001b[38;5;241m.\u001b[39mcuda(), labels\u001b[38;5;241m.\u001b[39mcuda()\n\u001b[0;32m---> 22\u001b[0m     \u001b[43mmodel\u001b[49m\u001b[38;5;241;43m.\u001b[39;49m\u001b[43mzero_grad\u001b[49m\u001b[43m(\u001b[49m\u001b[43m)\u001b[49m\n\u001b[1;32m     23\u001b[0m     optimizer\u001b[38;5;241m.\u001b[39mzero_grad()\n\u001b[1;32m     24\u001b[0m     logits \u001b[38;5;241m=\u001b[39m model(images)\n",
      "File \u001b[0;32m/data1/mjli/miniconda3/envs/backdoor/lib/python3.8/site-packages/torch/nn/modules/module.py:1908\u001b[0m, in \u001b[0;36mModule.zero_grad\u001b[0;34m(self, set_to_none)\u001b[0m\n\u001b[1;32m   1906\u001b[0m \u001b[38;5;28;01melse\u001b[39;00m:\n\u001b[1;32m   1907\u001b[0m     p\u001b[38;5;241m.\u001b[39mgrad\u001b[38;5;241m.\u001b[39mrequires_grad_(\u001b[38;5;28;01mFalse\u001b[39;00m)\n\u001b[0;32m-> 1908\u001b[0m \u001b[43mp\u001b[49m\u001b[38;5;241;43m.\u001b[39;49m\u001b[43mgrad\u001b[49m\u001b[38;5;241;43m.\u001b[39;49m\u001b[43mzero_\u001b[49m\u001b[43m(\u001b[49m\u001b[43m)\u001b[49m\n",
      "\u001b[0;31mKeyboardInterrupt\u001b[0m: "
     ]
    }
   ],
   "source": [
    "from util import AverageMeter\n",
    "\n",
    "model = ResNet18()\n",
    "model = model.cuda()\n",
    "criterion = torch.nn.CrossEntropyLoss()\n",
    "optimizer = torch.optim.SGD(params=model.parameters(), lr=0.1, weight_decay=0.0005, momentum=0.9)\n",
    "scheduler = torch.optim.lr_scheduler.CosineAnnealingLR(optimizer, T_max=30, eta_min=0)\n",
    "\n",
    "unlearnable_loader = DataLoader(dataset=unlearnable_train_dataset, batch_size=128,\n",
    "                                shuffle=True, pin_memory=True,\n",
    "                                drop_last=False, num_workers=12)\n",
    "\n",
    "\n",
    "for epoch in range(30):\n",
    "    # Train\n",
    "    model.train()\n",
    "    acc_meter = AverageMeter()\n",
    "    loss_meter = AverageMeter()\n",
    "    pbar = tqdm(unlearnable_loader, total=len(unlearnable_loader))\n",
    "    for images, labels in pbar:\n",
    "        images, labels = images.cuda(), labels.cuda()\n",
    "        model.zero_grad()\n",
    "        optimizer.zero_grad()\n",
    "        logits = model(images)\n",
    "        loss = criterion(logits, labels)\n",
    "        loss.backward()\n",
    "        torch.nn.utils.clip_grad_norm_(model.parameters(), 5.0)\n",
    "        optimizer.step()\n",
    "        \n",
    "        _, predicted = torch.max(logits.data, 1)\n",
    "        acc = (predicted == labels).sum().item()/labels.size(0)\n",
    "        acc_meter.update(acc)\n",
    "        loss_meter.update(loss.item())\n",
    "        pbar.set_description(\"Acc %.2f Loss: %.2f\" % (acc_meter.avg*100, loss_meter.avg))\n",
    "    scheduler.step()\n",
    "    # Eval\n",
    "    model.eval()\n",
    "    correct, total = 0, 0\n",
    "    for i, (images, labels) in enumerate(clean_test_loader):\n",
    "        images, labels = images.cuda(), labels.cuda()\n",
    "        with torch.no_grad():\n",
    "            logits = model(images)\n",
    "            _, predicted = torch.max(logits.data, 1)\n",
    "            total += labels.size(0)\n",
    "            correct += (predicted == labels).sum().item()\n",
    "    acc = correct / total\n",
    "    tqdm.write('Clean Accuracy %.2f\\n' % (acc*100))\n",
    "            "
   ]
  },
  {
   "cell_type": "code",
   "execution_count": null,
   "metadata": {},
   "outputs": [],
   "source": []
  },
  {
   "cell_type": "code",
   "execution_count": null,
   "metadata": {},
   "outputs": [],
   "source": []
  }
 ],
 "metadata": {
  "kernelspec": {
   "display_name": "Python 3 (ipykernel)",
   "language": "python",
   "name": "python3"
  },
  "language_info": {
   "codemirror_mode": {
    "name": "ipython",
    "version": 3
   },
   "file_extension": ".py",
   "mimetype": "text/x-python",
   "name": "python",
   "nbconvert_exporter": "python",
   "pygments_lexer": "ipython3",
   "version": "3.8.0"
  }
 },
 "nbformat": 4,
 "nbformat_minor": 4
}
