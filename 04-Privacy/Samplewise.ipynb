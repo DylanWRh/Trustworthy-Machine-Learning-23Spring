{
 "cells": [
  {
   "cell_type": "markdown",
   "metadata": {},
   "source": [
    "<h2>Quick Start: Creating Sample-wise Unlearnable Examples</h2>"
   ]
  },
  {
   "cell_type": "markdown",
   "metadata": {},
   "source": [
    "<h3>Prepare Data</h3>"
   ]
  },
  {
   "cell_type": "code",
   "execution_count": 1,
   "metadata": {},
   "outputs": [
    {
     "name": "stdout",
     "output_type": "stream",
     "text": [
      "Files already downloaded and verified\n",
      "Files already downloaded and verified\n"
     ]
    }
   ],
   "source": [
    "import torch\n",
    "import torchvision\n",
    "from torch.utils.data import DataLoader\n",
    "from torchvision import datasets, transforms\n",
    "\n",
    "# Prepare Dataset\n",
    "train_transform = [\n",
    "    transforms.ToTensor()\n",
    "]\n",
    "test_transform = [\n",
    "    transforms.ToTensor()\n",
    "]\n",
    "train_transform = transforms.Compose(train_transform)\n",
    "test_transform = transforms.Compose(test_transform)\n",
    "\n",
    "clean_train_dataset = datasets.CIFAR10(root='./data1/mjli/Code/kerdeq/data/', train=True, download=True, transform=train_transform)\n",
    "clean_test_dataset = datasets.CIFAR10(root='./data1/mjli/Code/kerdeq/data/', train=False, download=True, transform=test_transform)\n",
    "\n",
    "### No shuffle, easy to perturb image\n",
    "clean_train_loader = DataLoader(dataset=clean_train_dataset, batch_size=512,\n",
    "                                shuffle=False, pin_memory=True,\n",
    "                                drop_last=False, num_workers=6)\n",
    "clean_test_loader = DataLoader(dataset=clean_test_dataset, batch_size=512,\n",
    "                                shuffle=False, pin_memory=True,\n",
    "                                drop_last=False, num_workers=6)"
   ]
  },
  {
   "cell_type": "markdown",
   "metadata": {},
   "source": [
    "<h3>Prepare Model</h3>"
   ]
  },
  {
   "cell_type": "code",
   "execution_count": 2,
   "metadata": {},
   "outputs": [],
   "source": [
    "from models.ResNet import ResNet18\n",
    "\n",
    "torch.backends.cudnn.enabled = True\n",
    "torch.backends.cudnn.benchmark = True\n",
    "\n",
    "base_model = ResNet18()\n",
    "base_model = base_model.cuda()\n",
    "criterion = torch.nn.CrossEntropyLoss()\n",
    "optimizer = torch.optim.SGD(params=base_model.parameters(), lr=0.1, weight_decay=0.0005, momentum=0.9)\n"
   ]
  },
  {
   "cell_type": "markdown",
   "metadata": {},
   "source": [
    "<h3>Prepare Perturbation Generator Tool</h3>"
   ]
  },
  {
   "cell_type": "code",
   "execution_count": 3,
   "metadata": {},
   "outputs": [],
   "source": [
    "import numpy as np\n",
    "from torch.autograd import Variable\n",
    "\n",
    "if torch.cuda.is_available():\n",
    "    device = torch.device('cuda')\n",
    "else:\n",
    "    device = torch.device('cpu')\n",
    "\n",
    "\n",
    "class PerturbationTool():\n",
    "    def __init__(self, seed=0, epsilon=0.03137254901, num_steps=20, step_size=0.00784313725):\n",
    "        self.epsilon = epsilon\n",
    "        self.num_steps = num_steps\n",
    "        self.step_size = step_size\n",
    "        self.seed = seed\n",
    "        np.random.seed(seed)\n",
    "\n",
    "    def random_noise(self, noise_shape=[10, 3, 32, 32]):\n",
    "        random_noise = torch.FloatTensor(*noise_shape).uniform_(-self.epsilon, self.epsilon).to(device)\n",
    "        return random_noise\n",
    "\n",
    "    def min_min_attack(self, images, labels, model, optimizer, criterion, random_noise=None, sample_wise=False):\n",
    "        if random_noise is None:\n",
    "            random_noise = torch.FloatTensor(*images.shape).uniform_(-self.epsilon, self.epsilon).to(device)\n",
    "\n",
    "        perturb_img = Variable(images.data + random_noise, requires_grad=True)\n",
    "        perturb_img = Variable(torch.clamp(perturb_img, 0, 1), requires_grad=True)\n",
    "        eta = random_noise\n",
    "        for _ in range(self.num_steps):\n",
    "            opt = torch.optim.SGD([perturb_img], lr=1e-3)\n",
    "            opt.zero_grad()\n",
    "            model.zero_grad()\n",
    "            if isinstance(criterion, torch.nn.CrossEntropyLoss):\n",
    "                if hasattr(model, 'classify'):\n",
    "                    model.classify = True\n",
    "                logits = model(perturb_img)\n",
    "                loss = criterion(logits, labels)\n",
    "            else:\n",
    "                logits, loss = criterion(model, perturb_img, labels, optimizer)\n",
    "            perturb_img.retain_grad()\n",
    "            loss.backward()\n",
    "            eta = self.step_size * perturb_img.grad.data.sign() * (-1)\n",
    "            perturb_img = Variable(perturb_img.data + eta, requires_grad=True)\n",
    "            eta = torch.clamp(perturb_img.data - images.data, -self.epsilon, self.epsilon)\n",
    "            perturb_img = Variable(images.data + eta, requires_grad=True)\n",
    "            perturb_img = Variable(torch.clamp(perturb_img, 0, 1), requires_grad=True)\n",
    "\n",
    "        return perturb_img, eta\n",
    "\n",
    "    \n",
    "noise_generator = PerturbationTool(epsilon=16/255, num_steps=10, step_size=4/255)\n",
    "\n",
    "\n",
    "### Test noise_generator\n",
    "images= torch.randn([1,3,32,32]).cuda()\n",
    "labels= torch.ones([1]).long().cuda()\n",
    "\n",
    "# noise_generator.min_min_attack(images, labels, base_model, optimizer, criterion, \n",
    "#                                                           random_noise=torch.zeros_like(images).cuda())\n"
   ]
  },
  {
   "cell_type": "markdown",
   "metadata": {},
   "source": [
    "<h3>Generate Error-Minimizing Noise</h3>"
   ]
  },
  {
   "cell_type": "code",
   "execution_count": 5,
   "metadata": {},
   "outputs": [
    {
     "name": "stderr",
     "output_type": "stream",
     "text": [
      "100%|██████████| 98/98 [04:54<00:00,  3.00s/it]\n"
     ]
    },
    {
     "name": "stdout",
     "output_type": "stream",
     "text": [
      "Accuracy 43.90\n"
     ]
    },
    {
     "name": "stderr",
     "output_type": "stream",
     "text": [
      "100%|██████████| 98/98 [04:50<00:00,  2.96s/it]\n"
     ]
    },
    {
     "name": "stdout",
     "output_type": "stream",
     "text": [
      "Accuracy 69.11\n"
     ]
    },
    {
     "name": "stderr",
     "output_type": "stream",
     "text": [
      "100%|██████████| 98/98 [04:53<00:00,  2.99s/it]\n"
     ]
    },
    {
     "name": "stdout",
     "output_type": "stream",
     "text": [
      "Accuracy 85.09\n"
     ]
    },
    {
     "name": "stderr",
     "output_type": "stream",
     "text": [
      "100%|██████████| 98/98 [04:49<00:00,  2.95s/it]\n"
     ]
    },
    {
     "name": "stdout",
     "output_type": "stream",
     "text": [
      "Accuracy 93.84\n"
     ]
    },
    {
     "name": "stderr",
     "output_type": "stream",
     "text": [
      "100%|██████████| 98/98 [04:51<00:00,  2.98s/it]\n"
     ]
    },
    {
     "name": "stdout",
     "output_type": "stream",
     "text": [
      "Accuracy 97.81\n"
     ]
    },
    {
     "name": "stderr",
     "output_type": "stream",
     "text": [
      "100%|██████████| 98/98 [04:54<00:00,  3.00s/it]\n"
     ]
    },
    {
     "name": "stdout",
     "output_type": "stream",
     "text": [
      "Accuracy 98.69\n"
     ]
    },
    {
     "name": "stderr",
     "output_type": "stream",
     "text": [
      "100%|██████████| 98/98 [03:15<00:00,  1.99s/it]\n"
     ]
    },
    {
     "name": "stdout",
     "output_type": "stream",
     "text": [
      "Accuracy 99.45\n"
     ]
    }
   ],
   "source": [
    "from tqdm import tqdm\n",
    "\n",
    "noise = torch.zeros([50000, 3, 32, 32])\n",
    "data_iter = iter(clean_train_loader)\n",
    "condition = True\n",
    "train_idx = 0\n",
    "\n",
    "while condition:\n",
    "    #########Try to write the sample-wise min-min noise generator ########\n",
    "    #####1.optimize theta for M steps\n",
    "    #####2. generate min-min noise for each training images and update noise\n",
    "    #####3. If acc>0.99 break, else loop\n",
    "    #####4. Please refer to class-wise min-min noise generator\n",
    "    ##### Point 6 \n",
    "    \n",
    "    base_model.train()\n",
    "    for param in base_model.parameters():\n",
    "        param.requires_grad = True\n",
    "    # Step 1 optimize theta for M steps\n",
    "    for j in range(0, 10):\n",
    "        try:\n",
    "            imgs, labels = next(data_iter)\n",
    "        except:\n",
    "            train_idx = 0\n",
    "            data_iter = iter(clean_train_loader)\n",
    "            imgs, labels = next(data_iter)\n",
    "        for i in range(len(imgs)):\n",
    "            imgs[i] += noise[train_idx]\n",
    "            train_idx += 1\n",
    "            if train_idx >= 50000:\n",
    "                train_idx -= 50000\n",
    "        imgs = imgs.to(device)\n",
    "        labels = labels.to(device)\n",
    "        \n",
    "        base_model.zero_grad()\n",
    "        optimizer.zero_grad()\n",
    "        logits = base_model(imgs)\n",
    "        loss = criterion(logits, labels)\n",
    "        loss.backward()\n",
    "        optimizer.step()\n",
    "    \n",
    "    # Step 2 generate min-min noise for each training images and update noise\n",
    "    # Perturbation over entire dataset\n",
    "    idx = 0\n",
    "    for param in base_model.parameters():\n",
    "        param.requires_grad = False\n",
    "    for i, (images, labels) in tqdm(enumerate(clean_train_loader), total=len(clean_train_loader)):\n",
    "        batch_start_idx, batch_noise = idx, []\n",
    "        for i, _ in enumerate(images):\n",
    "            # Update noise to images\n",
    "            batch_noise.append(noise[idx])\n",
    "            idx += 1\n",
    "        batch_noise = torch.stack(batch_noise).cuda()\n",
    "        \n",
    "        # Update sample-wise perturbation\n",
    "        base_model.eval()\n",
    "        images, labels = images.cuda(), labels.cuda()\n",
    "        perturb_img, eta = noise_generator.min_min_attack(images, labels, base_model, optimizer, criterion, \n",
    "                                                          random_noise=batch_noise)\n",
    "        for i, delta in enumerate(eta):\n",
    "            noise[batch_start_idx+i] = delta.clone().detach().cpu()\n",
    "    \n",
    "    # Step 3 If acc>0.99 break, else loop\n",
    "    eval_idx, total, correct = 0, 0, 0\n",
    "    for i, (images, labels) in enumerate(clean_train_loader):\n",
    "        for i, _ in enumerate(images):\n",
    "            # Update noise to images\n",
    "            images[i] += noise[eval_idx]\n",
    "            eval_idx += 1\n",
    "        images, labels = images.cuda(), labels.cuda()\n",
    "        with torch.no_grad():\n",
    "            logits = base_model(images)\n",
    "            _, predicted = torch.max(logits.data, 1)\n",
    "            total += labels.size(0)\n",
    "            correct += (predicted == labels).sum().item()\n",
    "    acc = correct / total\n",
    "    print('Accuracy %.2f' % (acc*100))\n",
    "    if acc > 0.99:\n",
    "        condition=False   \n"
   ]
  },
  {
   "cell_type": "code",
   "execution_count": 6,
   "metadata": {},
   "outputs": [
    {
     "name": "stdout",
     "output_type": "stream",
     "text": [
      "tensor([[[[ 1.5686e-02, -6.2745e-02,  4.7059e-02,  ...,  4.7059e-02,\n",
      "            4.7059e-02,  4.7059e-02],\n",
      "          [-6.2745e-02,  0.0000e+00,  4.7059e-02,  ...,  4.7059e-02,\n",
      "            4.7059e-02,  2.9802e-08],\n",
      "          [ 3.1373e-02,  6.2745e-02,  4.7059e-02,  ..., -3.1373e-02,\n",
      "           -6.2745e-02, -3.1373e-02],\n",
      "          ...,\n",
      "          [ 6.2745e-02,  6.2745e-02,  4.7059e-02,  ..., -6.2745e-02,\n",
      "           -6.2745e-02, -6.2745e-02],\n",
      "          [ 6.2745e-02,  6.2745e-02,  6.2745e-02,  ..., -1.5686e-02,\n",
      "           -4.7059e-02, -6.2745e-02],\n",
      "          [ 6.2745e-02,  6.2745e-02,  6.2745e-02,  ..., -1.5686e-02,\n",
      "           -6.2745e-02, -6.2745e-02]],\n",
      "\n",
      "         [[-6.2745e-02,  6.2745e-02, -4.7059e-02,  ..., -4.7059e-02,\n",
      "           -4.7059e-02, -4.7059e-02],\n",
      "          [ 6.2745e-02,  4.7059e-02,  1.5686e-02,  ..., -4.7059e-02,\n",
      "           -4.7059e-02, -4.7059e-02],\n",
      "          [-3.1373e-02,  1.9608e-02,  3.1373e-02,  ...,  0.0000e+00,\n",
      "            0.0000e+00, -3.1373e-02],\n",
      "          ...,\n",
      "          [-6.2745e-02, -4.7059e-02, -4.7059e-02,  ..., -1.5686e-02,\n",
      "            1.5686e-02,  1.5686e-02],\n",
      "          [-6.2745e-02, -6.2745e-02, -6.2745e-02,  ...,  1.5686e-02,\n",
      "            4.7059e-02,  4.7059e-02],\n",
      "          [-6.2745e-02, -6.2745e-02, -6.2745e-02,  ...,  1.5686e-02,\n",
      "            1.5686e-02,  6.2745e-02]],\n",
      "\n",
      "         [[-6.2745e-02, -1.5686e-02, -6.2745e-02,  ...,  6.2745e-02,\n",
      "            6.2745e-02,  6.2745e-02],\n",
      "          [-6.2745e-02,  3.7253e-09,  0.0000e+00,  ...,  6.2745e-02,\n",
      "            6.2745e-02, -4.7059e-02],\n",
      "          [-6.2745e-02, -1.5686e-02, -4.7059e-02,  ...,  6.2745e-02,\n",
      "            6.2745e-02,  6.2745e-02],\n",
      "          ...,\n",
      "          [ 6.2745e-02, -1.5686e-02, -1.5686e-02,  ...,  6.2745e-02,\n",
      "            6.2745e-02,  6.2745e-02],\n",
      "          [ 6.2745e-02, -4.7059e-02, -4.7059e-02,  ...,  6.2745e-02,\n",
      "            4.7059e-02,  6.2745e-02],\n",
      "          [ 6.2745e-02, -4.7059e-02,  6.2745e-02,  ...,  6.2745e-02,\n",
      "            6.2745e-02,  6.2745e-02]]],\n",
      "\n",
      "\n",
      "        [[[ 3.1373e-02,  6.2745e-02,  0.0000e+00,  ..., -3.1373e-02,\n",
      "           -6.2745e-02, -6.2745e-02],\n",
      "          [ 0.0000e+00,  0.0000e+00,  0.0000e+00,  ..., -6.2745e-02,\n",
      "           -6.2745e-02, -6.2745e-02],\n",
      "          [ 0.0000e+00,  0.0000e+00, -3.1373e-02,  ..., -6.2745e-02,\n",
      "           -6.2745e-02, -6.2745e-02],\n",
      "          ...,\n",
      "          [-4.7059e-02, -3.1373e-02, -3.1373e-02,  ...,  4.7059e-02,\n",
      "            1.5686e-02,  0.0000e+00],\n",
      "          [-3.1373e-02,  6.2745e-02,  0.0000e+00,  ...,  4.7059e-02,\n",
      "           -3.1373e-02,  4.7059e-02],\n",
      "          [-3.1373e-02,  6.2745e-02,  3.1373e-02,  ..., -6.2745e-02,\n",
      "           -6.2745e-02, -6.2745e-02]],\n",
      "\n",
      "         [[ 6.2745e-02, -6.2745e-02, -6.2745e-02,  ..., -3.1373e-02,\n",
      "           -6.2745e-02, -6.2745e-02],\n",
      "          [-6.2745e-02,  3.1373e-02, -6.2745e-02,  ..., -6.2745e-02,\n",
      "           -6.2745e-02,  4.7059e-02],\n",
      "          [-6.2745e-02, -6.2745e-02, -6.2745e-02,  ..., -6.2745e-02,\n",
      "           -6.2745e-02, -6.2745e-02],\n",
      "          ...,\n",
      "          [-4.7059e-02, -6.2745e-02, -6.2745e-02,  ..., -4.7059e-02,\n",
      "           -4.7059e-02, -4.7059e-02],\n",
      "          [-6.2745e-02, -6.2745e-02, -3.1373e-02,  ..., -4.7059e-02,\n",
      "           -4.7059e-02, -4.7059e-02],\n",
      "          [-6.2745e-02, -6.2745e-02, -6.2745e-02,  ..., -4.7059e-02,\n",
      "           -4.7059e-02, -4.7059e-02]],\n",
      "\n",
      "         [[ 4.7059e-02,  4.7059e-02,  0.0000e+00,  ...,  6.2745e-02,\n",
      "            6.2745e-02,  6.2745e-02],\n",
      "          [-6.2745e-02,  3.1373e-02,  2.9802e-08,  ...,  6.2745e-02,\n",
      "            6.2745e-02,  6.2745e-02],\n",
      "          [ 4.7059e-02,  4.7059e-02,  3.1373e-02,  ...,  6.2745e-02,\n",
      "            6.2745e-02,  6.2745e-02],\n",
      "          ...,\n",
      "          [ 3.1373e-02, -3.1373e-02,  0.0000e+00,  ..., -4.7059e-02,\n",
      "            3.1373e-02, -3.1373e-02],\n",
      "          [-3.1373e-02, -6.2745e-02, -3.1373e-02,  ...,  6.2745e-02,\n",
      "            6.2745e-02,  4.7059e-02],\n",
      "          [ 3.1373e-02,  3.1373e-02,  0.0000e+00,  ...,  6.2745e-02,\n",
      "            4.7059e-02, -6.2745e-02]]],\n",
      "\n",
      "\n",
      "        [[[-6.2745e-02,  2.3529e-02,  7.8431e-03,  ..., -7.8431e-03,\n",
      "           -7.8431e-03, -7.8431e-03],\n",
      "          [-6.2745e-02, -6.2745e-02,  0.0000e+00,  ..., -1.5686e-02,\n",
      "           -1.5686e-02, -1.5686e-02],\n",
      "          [-6.2745e-02, -6.2745e-02, -4.3137e-02,  ..., -1.1765e-02,\n",
      "           -1.1765e-02, -4.7059e-02],\n",
      "          ...,\n",
      "          [ 0.0000e+00,  4.7059e-02,  4.7059e-02,  ...,  3.1373e-02,\n",
      "            1.5686e-02,  0.0000e+00],\n",
      "          [ 4.7059e-02,  4.7059e-02,  4.7059e-02,  ...,  0.0000e+00,\n",
      "            1.5686e-02,  1.5686e-02],\n",
      "          [ 4.7059e-02,  4.7059e-02,  4.7059e-02,  ...,  4.7059e-02,\n",
      "            4.7059e-02,  3.1373e-02]],\n",
      "\n",
      "         [[ 1.5686e-02, -6.2745e-02, -6.2745e-02,  ..., -4.7059e-02,\n",
      "           -4.7059e-02, -4.7059e-02],\n",
      "          [-6.2745e-02,  1.5686e-02, -6.2745e-02,  ..., -4.7059e-02,\n",
      "           -4.7059e-02, -4.7059e-02],\n",
      "          [-6.2745e-02,  1.9608e-02, -6.2745e-02,  ..., -4.7059e-02,\n",
      "           -4.7059e-02, -3.1373e-02],\n",
      "          ...,\n",
      "          [-4.7059e-02, -4.7059e-02,  1.5686e-02,  ..., -6.2745e-02,\n",
      "           -6.2745e-02, -6.2745e-02],\n",
      "          [-4.7059e-02, -4.7059e-02, -1.5686e-02,  ..., -6.2745e-02,\n",
      "           -6.2745e-02, -6.2745e-02],\n",
      "          [-6.2745e-02, -6.2745e-02, -6.2745e-02,  ..., -6.2745e-02,\n",
      "           -6.2745e-02, -6.2745e-02]],\n",
      "\n",
      "         [[ 1.5686e-02,  2.3529e-02, -6.2745e-02,  ..., -4.7059e-02,\n",
      "           -4.7059e-02, -4.7059e-02],\n",
      "          [-6.2745e-02,  1.5686e-02, -6.2745e-02,  ..., -4.7059e-02,\n",
      "           -4.7059e-02, -4.7059e-02],\n",
      "          [ 1.5686e-02, -1.1765e-02, -6.2745e-02,  ..., -4.7059e-02,\n",
      "           -4.7059e-02, -4.7059e-02],\n",
      "          ...,\n",
      "          [-4.7059e-02, -4.7059e-02, -3.1373e-02,  ..., -1.5686e-02,\n",
      "            0.0000e+00, -1.5686e-02],\n",
      "          [-1.5686e-02, -1.5686e-02, -1.5686e-02,  ..., -4.7059e-02,\n",
      "           -3.1373e-02, -3.1373e-02],\n",
      "          [ 1.5686e-02, -1.5686e-02,  4.7059e-02,  ..., -4.7059e-02,\n",
      "           -3.1373e-02, -4.7059e-02]]],\n",
      "\n",
      "\n",
      "        ...,\n",
      "\n",
      "\n",
      "        [[[-6.2745e-02,  6.2745e-02,  6.2745e-02,  ...,  6.2745e-02,\n",
      "            6.2745e-02,  6.2745e-02],\n",
      "          [-6.2745e-02, -6.2745e-02,  6.2745e-02,  ...,  6.2745e-02,\n",
      "            3.1373e-02, -6.2745e-02],\n",
      "          [ 6.2745e-02,  6.2745e-02,  6.2745e-02,  ...,  1.5686e-02,\n",
      "           -4.7059e-02, -6.2745e-02],\n",
      "          ...,\n",
      "          [ 6.2745e-02,  6.2745e-02,  6.2745e-02,  ...,  6.2745e-02,\n",
      "            6.2745e-02,  6.2745e-02],\n",
      "          [ 6.2745e-02,  6.2745e-02,  6.2745e-02,  ...,  6.2745e-02,\n",
      "            6.2745e-02,  6.2745e-02],\n",
      "          [ 6.2745e-02,  6.2745e-02,  6.2745e-02,  ...,  6.2745e-02,\n",
      "            6.2745e-02,  6.2745e-02]],\n",
      "\n",
      "         [[ 6.2745e-02, -6.2745e-02,  6.2745e-02,  ..., -6.2745e-02,\n",
      "           -6.2745e-02, -6.2745e-02],\n",
      "          [-6.2745e-02,  6.2745e-02, -6.2745e-02,  ..., -6.2745e-02,\n",
      "           -6.2745e-02,  6.2745e-02],\n",
      "          [-3.1373e-02, -6.2745e-02, -6.2745e-02,  ..., -3.1373e-02,\n",
      "           -3.1373e-02,  4.7059e-02],\n",
      "          ...,\n",
      "          [ 6.2745e-02, -6.2745e-02,  6.2745e-02,  ..., -6.2745e-02,\n",
      "           -6.2745e-02, -6.2745e-02],\n",
      "          [ 6.2745e-02, -6.2745e-02, -6.2745e-02,  ..., -6.2745e-02,\n",
      "           -6.2745e-02, -6.2745e-02],\n",
      "          [-6.2745e-02, -6.2745e-02, -6.2745e-02,  ..., -6.2745e-02,\n",
      "           -6.2745e-02, -6.2745e-02]],\n",
      "\n",
      "         [[ 6.2745e-02,  6.2745e-02, -6.2745e-02,  ..., -6.2745e-02,\n",
      "           -3.1373e-02,  4.7059e-02],\n",
      "          [-6.2745e-02,  3.5294e-02, -6.2745e-02,  ..., -6.2745e-02,\n",
      "           -6.2745e-02,  6.2745e-02],\n",
      "          [-6.2745e-02, -6.2745e-02, -6.2745e-02,  ..., -6.2745e-02,\n",
      "           -1.5686e-02,  6.2745e-02],\n",
      "          ...,\n",
      "          [-6.2745e-02, -6.2745e-02, -6.2745e-02,  ..., -6.2745e-02,\n",
      "           -6.2745e-02, -6.2745e-02],\n",
      "          [-6.2745e-02, -6.2745e-02, -6.2745e-02,  ..., -6.2745e-02,\n",
      "           -6.2745e-02, -6.2745e-02],\n",
      "          [-6.2745e-02, -6.2745e-02, -6.2745e-02,  ..., -6.2745e-02,\n",
      "           -6.2745e-02, -6.2745e-02]]],\n",
      "\n",
      "\n",
      "        [[[ 6.2745e-02, -4.7059e-02, -4.7059e-02,  ..., -6.2745e-02,\n",
      "           -6.2745e-02, -6.2745e-02],\n",
      "          [ 6.2745e-02,  6.2745e-02, -4.7059e-02,  ..., -6.2745e-02,\n",
      "           -6.2745e-02, -6.2745e-02],\n",
      "          [ 6.2745e-02,  6.2745e-02, -1.5686e-02,  ..., -6.2745e-02,\n",
      "           -6.2745e-02, -6.2745e-02],\n",
      "          ...,\n",
      "          [-4.7059e-02, -6.2745e-02, -6.2745e-02,  ..., -4.7059e-02,\n",
      "           -4.7059e-02, -4.7059e-02],\n",
      "          [-6.2745e-02, -6.2745e-02, -6.2745e-02,  ..., -4.7059e-02,\n",
      "           -4.7059e-02, -4.7059e-02],\n",
      "          [-6.2745e-02, -6.2745e-02, -6.2745e-02,  ..., -4.7059e-02,\n",
      "           -4.7059e-02, -4.7059e-02]],\n",
      "\n",
      "         [[-6.2745e-02,  6.2745e-02, -6.2745e-02,  ...,  6.2745e-02,\n",
      "            6.2745e-02,  6.2745e-02],\n",
      "          [ 6.2745e-02, -6.2745e-02,  4.7059e-02,  ...,  6.2745e-02,\n",
      "            6.2745e-02,  6.2745e-02],\n",
      "          [-6.2745e-02, -6.2745e-02,  4.7059e-02,  ...,  6.2745e-02,\n",
      "            6.2745e-02,  6.2745e-02],\n",
      "          ...,\n",
      "          [-6.2745e-02, -6.2745e-02, -4.7059e-02,  ...,  6.2745e-02,\n",
      "           -4.7059e-02,  4.7059e-02],\n",
      "          [-6.2745e-02,  6.2745e-02,  6.2745e-02,  ...,  3.1373e-02,\n",
      "            1.5686e-02,  4.7059e-02],\n",
      "          [ 6.2745e-02,  6.2745e-02,  6.2745e-02,  ...,  4.7059e-02,\n",
      "            4.7059e-02,  4.7059e-02]],\n",
      "\n",
      "         [[-6.2745e-02, -6.2745e-02,  6.2745e-02,  ...,  6.2745e-02,\n",
      "            6.2745e-02,  6.2745e-02],\n",
      "          [-6.2745e-02, -6.2745e-02,  6.2745e-02,  ...,  6.2745e-02,\n",
      "            6.2745e-02,  6.2745e-02],\n",
      "          [-6.2745e-02, -1.9608e-02,  6.2745e-02,  ...,  6.2745e-02,\n",
      "            6.2745e-02,  6.2745e-02],\n",
      "          ...,\n",
      "          [ 6.2745e-02,  6.2745e-02,  6.2745e-02,  ...,  4.7059e-02,\n",
      "            4.7059e-02,  4.7059e-02],\n",
      "          [ 6.2745e-02,  6.2745e-02,  6.2745e-02,  ...,  4.7059e-02,\n",
      "            4.7059e-02,  4.7059e-02],\n",
      "          [ 6.2745e-02,  6.2745e-02,  6.2745e-02,  ...,  4.7059e-02,\n",
      "            6.2745e-02,  6.2745e-02]]],\n",
      "\n",
      "\n",
      "        [[[ 6.2745e-02, -6.2745e-02,  6.2745e-02,  ..., -6.2745e-02,\n",
      "           -6.2745e-02, -6.2745e-02],\n",
      "          [ 6.2745e-02,  6.2745e-02,  6.2745e-02,  ..., -6.2745e-02,\n",
      "           -6.2745e-02, -6.2745e-02],\n",
      "          [ 6.2745e-02,  6.2745e-02,  6.2745e-02,  ..., -6.2745e-02,\n",
      "           -6.2745e-02, -6.2745e-02],\n",
      "          ...,\n",
      "          [-6.2745e-02, -6.2745e-02, -6.2745e-02,  ...,  1.5686e-02,\n",
      "            3.1373e-02, -4.7059e-02],\n",
      "          [-6.2745e-02, -6.2745e-02, -6.2745e-02,  ..., -4.7059e-02,\n",
      "           -3.1373e-02, -4.7059e-02],\n",
      "          [-6.2745e-02, -6.2745e-02, -6.2745e-02,  ..., -4.7059e-02,\n",
      "           -4.7059e-02, -6.2745e-02]],\n",
      "\n",
      "         [[-6.2745e-02,  6.2745e-02, -6.2745e-02,  ...,  6.2745e-02,\n",
      "            6.2745e-02,  6.2745e-02],\n",
      "          [ 6.2745e-02, -6.2745e-02, -6.2745e-02,  ...,  6.2745e-02,\n",
      "            6.2745e-02,  6.2745e-02],\n",
      "          [-6.2745e-02, -6.2745e-02, -6.2745e-02,  ...,  6.2745e-02,\n",
      "            6.2745e-02,  6.2745e-02],\n",
      "          ...,\n",
      "          [-6.2745e-02, -6.2745e-02, -6.2745e-02,  ...,  4.7059e-02,\n",
      "           -3.1373e-02,  3.9216e-02],\n",
      "          [-6.2745e-02, -6.2745e-02, -6.2745e-02,  ..., -3.1373e-02,\n",
      "           -3.1373e-02,  0.0000e+00],\n",
      "          [-4.7059e-02, -4.7059e-02, -4.7059e-02,  ..., -3.1373e-02,\n",
      "           -3.1373e-02, -3.1373e-02]],\n",
      "\n",
      "         [[-6.2745e-02, -6.2745e-02, -6.2745e-02,  ...,  6.2745e-02,\n",
      "            6.2745e-02,  6.2745e-02],\n",
      "          [-6.2745e-02, -6.2745e-02, -6.2745e-02,  ...,  6.2745e-02,\n",
      "            6.2745e-02,  6.2745e-02],\n",
      "          [-6.2745e-02, -6.2745e-02, -6.2745e-02,  ...,  6.2745e-02,\n",
      "            6.2745e-02,  6.2745e-02],\n",
      "          ...,\n",
      "          [ 6.2745e-02,  6.2745e-02,  6.2745e-02,  ...,  3.1373e-02,\n",
      "            4.7059e-02, -3.1373e-02],\n",
      "          [ 6.2745e-02,  6.2745e-02,  6.2745e-02,  ...,  1.5686e-02,\n",
      "            0.0000e+00,  0.0000e+00],\n",
      "          [ 6.2745e-02,  6.2745e-02,  6.2745e-02,  ...,  6.2745e-02,\n",
      "            4.7059e-02,  6.2745e-02]]]])\n"
     ]
    }
   ],
   "source": [
    "# Examine the noise\n",
    "print(noise)"
   ]
  },
  {
   "cell_type": "markdown",
   "metadata": {},
   "source": [
    "<h3>Creat Unlearnable Dataset</h3>"
   ]
  },
  {
   "cell_type": "code",
   "execution_count": 8,
   "metadata": {},
   "outputs": [
    {
     "name": "stdout",
     "output_type": "stream",
     "text": [
      "Files already downloaded and verified\n",
      "Files already downloaded and verified\n"
     ]
    }
   ],
   "source": [
    "import numpy as np\n",
    "\n",
    "# Add standard augmentation\n",
    "train_transform = [\n",
    "    transforms.RandomCrop(32, padding=4),\n",
    "    transforms.RandomHorizontalFlip(),\n",
    "    transforms.ToTensor()\n",
    "]\n",
    "train_transform = transforms.Compose(train_transform)\n",
    "clean_train_dataset = datasets.CIFAR10(root='./data1/mjli/Code/kerdeq/data/', train=True, download=True, transform=train_transform)\n",
    "unlearnable_train_dataset = datasets.CIFAR10(root='./data1/mjli/Code/kerdeq/data/', train=True, download=True, transform=train_transform)\n",
    "\n",
    "perturb_noise = noise.mul(255).clamp_(0, 255).permute(0, 2, 3, 1).to('cpu').numpy()\n",
    "unlearnable_train_dataset.data = unlearnable_train_dataset.data.astype(np.float32)\n",
    "\n",
    "#############Add perturb noise to original images#############\n",
    "for i in range(len(unlearnable_train_dataset)):\n",
    "    unlearnable_train_dataset.data[i] += perturb_noise[i]\n",
    "    unlearnable_train_dataset.data[i] = np.clip(unlearnable_train_dataset.data[i], a_min=0, a_max=255)\n",
    "unlearnable_train_dataset.data = unlearnable_train_dataset.data.astype(np.uint8)\n",
    "\n",
    "\n"
   ]
  },
  {
   "cell_type": "markdown",
   "metadata": {},
   "source": [
    "<h3>Visualize Clean Images, Error-Minimizing Noise, Unlearnable Images</h3>"
   ]
  },
  {
   "cell_type": "code",
   "execution_count": 9,
   "metadata": {},
   "outputs": [
    {
     "name": "stderr",
     "output_type": "stream",
     "text": [
      "Clipping input data to the valid range for imshow with RGB data ([0..1] for floats or [0..255] for integers).\n"
     ]
    },
    {
     "data": {
      "image/png": "[encoded data removed]",
      "text/plain": [
       "<Figure size 640x640 with 1 Axes>"
      ]
     },
     "metadata": {},
     "output_type": "display_data"
    }
   ],
   "source": [
    "import random\n",
    "import matplotlib.pyplot as plt\n",
    "import matplotlib\n",
    "%matplotlib inline\n",
    "\n",
    "def imshow(img):\n",
    "    fig = plt.figure(figsize=(8, 8), dpi=80, facecolor='w', edgecolor='k')\n",
    "    npimg = img.numpy()\n",
    "    plt.imshow(np.transpose(npimg, (1, 2, 0)))\n",
    "    plt.show()\n",
    "    \n",
    "def get_pairs_of_imgs(idx):\n",
    "    clean_img = clean_train_dataset.data[idx]\n",
    "    unlearnable_img = unlearnable_train_dataset.data[idx]\n",
    "    clean_img = torchvision.transforms.functional.to_tensor(clean_img)\n",
    "    unlearnable_img = torchvision.transforms.functional.to_tensor(unlearnable_img)\n",
    "\n",
    "    x = noise[idx]\n",
    "    x_min = torch.min(x)\n",
    "    x_max = torch.max(x)\n",
    "    noise_norm = (x - x_min) / (x_max - x_min)\n",
    "    noise_norm = torch.clamp(noise_norm, 0, 1)\n",
    "    return [clean_img, noise_norm, unlearnable_img]\n",
    "    \n",
    "selected_idx = [random.randint(0, 50000) for _ in range(3)]\n",
    "img_grid = []\n",
    "for idx in selected_idx:\n",
    "    img_grid += get_pairs_of_imgs(idx)\n",
    "    \n",
    "\n",
    "imshow(torchvision.utils.make_grid(torch.stack(img_grid), nrow=3, pad_value=255))\n",
    "\n"
   ]
  },
  {
   "cell_type": "markdown",
   "metadata": {},
   "source": [
    "<h3>Train ResNet18 on Unlearnable Dataset</h3>"
   ]
  },
  {
   "cell_type": "code",
   "execution_count": 11,
   "metadata": {},
   "outputs": [
    {
     "name": "stderr",
     "output_type": "stream",
     "text": [
      "Acc 57.18 Loss: 1.24: 100%|██████████| 391/391 [00:48<00:00,  8.05it/s]\n"
     ]
    },
    {
     "name": "stdout",
     "output_type": "stream",
     "text": [
      "Clean Accuracy 26.83\n",
      "\n"
     ]
    },
    {
     "name": "stderr",
     "output_type": "stream",
     "text": [
      "Acc 83.64 Loss: 0.49: 100%|██████████| 391/391 [00:48<00:00,  8.13it/s]\n"
     ]
    },
    {
     "name": "stdout",
     "output_type": "stream",
     "text": [
      "Clean Accuracy 29.12\n",
      "\n"
     ]
    },
    {
     "name": "stderr",
     "output_type": "stream",
     "text": [
      "Acc 89.76 Loss: 0.31: 100%|██████████| 391/391 [00:48<00:00,  8.13it/s]\n"
     ]
    },
    {
     "name": "stdout",
     "output_type": "stream",
     "text": [
      "Clean Accuracy 27.85\n",
      "\n"
     ]
    },
    {
     "name": "stderr",
     "output_type": "stream",
     "text": [
      "Acc 92.23 Loss: 0.23: 100%|██████████| 391/391 [00:47<00:00,  8.16it/s]\n"
     ]
    },
    {
     "name": "stdout",
     "output_type": "stream",
     "text": [
      "Clean Accuracy 28.56\n",
      "\n"
     ]
    },
    {
     "name": "stderr",
     "output_type": "stream",
     "text": [
      "Acc 93.66 Loss: 0.19: 100%|██████████| 391/391 [00:48<00:00,  8.08it/s]\n"
     ]
    },
    {
     "name": "stdout",
     "output_type": "stream",
     "text": [
      "Clean Accuracy 29.35\n",
      "\n"
     ]
    },
    {
     "name": "stderr",
     "output_type": "stream",
     "text": [
      "Acc 94.26 Loss: 0.17: 100%|██████████| 391/391 [00:48<00:00,  8.14it/s]\n"
     ]
    },
    {
     "name": "stdout",
     "output_type": "stream",
     "text": [
      "Clean Accuracy 29.39\n",
      "\n"
     ]
    },
    {
     "name": "stderr",
     "output_type": "stream",
     "text": [
      "Acc 94.97 Loss: 0.15: 100%|██████████| 391/391 [00:47<00:00,  8.17it/s]\n"
     ]
    },
    {
     "name": "stdout",
     "output_type": "stream",
     "text": [
      "Clean Accuracy 29.78\n",
      "\n"
     ]
    },
    {
     "name": "stderr",
     "output_type": "stream",
     "text": [
      "Acc 95.29 Loss: 0.14: 100%|██████████| 391/391 [00:48<00:00,  8.13it/s]\n"
     ]
    },
    {
     "name": "stdout",
     "output_type": "stream",
     "text": [
      "Clean Accuracy 27.80\n",
      "\n"
     ]
    },
    {
     "name": "stderr",
     "output_type": "stream",
     "text": [
      "Acc 95.79 Loss: 0.13: 100%|██████████| 391/391 [00:48<00:00,  8.13it/s]\n"
     ]
    },
    {
     "name": "stdout",
     "output_type": "stream",
     "text": [
      "Clean Accuracy 28.18\n",
      "\n"
     ]
    },
    {
     "name": "stderr",
     "output_type": "stream",
     "text": [
      "Acc 96.01 Loss: 0.12: 100%|██████████| 391/391 [00:47<00:00,  8.16it/s]\n"
     ]
    },
    {
     "name": "stdout",
     "output_type": "stream",
     "text": [
      "Clean Accuracy 29.33\n",
      "\n"
     ]
    },
    {
     "name": "stderr",
     "output_type": "stream",
     "text": [
      "Acc 96.38 Loss: 0.11: 100%|██████████| 391/391 [00:47<00:00,  8.19it/s]\n"
     ]
    },
    {
     "name": "stdout",
     "output_type": "stream",
     "text": [
      "Clean Accuracy 25.82\n",
      "\n"
     ]
    },
    {
     "name": "stderr",
     "output_type": "stream",
     "text": [
      "Acc 96.45 Loss: 0.11: 100%|██████████| 391/391 [00:47<00:00,  8.20it/s]\n"
     ]
    },
    {
     "name": "stdout",
     "output_type": "stream",
     "text": [
      "Clean Accuracy 28.05\n",
      "\n"
     ]
    },
    {
     "name": "stderr",
     "output_type": "stream",
     "text": [
      "Acc 96.81 Loss: 0.10: 100%|██████████| 391/391 [00:48<00:00,  8.13it/s]\n"
     ]
    },
    {
     "name": "stdout",
     "output_type": "stream",
     "text": [
      "Clean Accuracy 24.59\n",
      "\n"
     ]
    },
    {
     "name": "stderr",
     "output_type": "stream",
     "text": [
      "Acc 96.94 Loss: 0.09: 100%|██████████| 391/391 [00:48<00:00,  8.12it/s]\n"
     ]
    },
    {
     "name": "stdout",
     "output_type": "stream",
     "text": [
      "Clean Accuracy 28.20\n",
      "\n"
     ]
    },
    {
     "name": "stderr",
     "output_type": "stream",
     "text": [
      "Acc 97.18 Loss: 0.09: 100%|██████████| 391/391 [00:48<00:00,  8.12it/s]\n"
     ]
    },
    {
     "name": "stdout",
     "output_type": "stream",
     "text": [
      "Clean Accuracy 25.68\n",
      "\n"
     ]
    },
    {
     "name": "stderr",
     "output_type": "stream",
     "text": [
      "Acc 97.64 Loss: 0.07: 100%|██████████| 391/391 [00:47<00:00,  8.18it/s]\n"
     ]
    },
    {
     "name": "stdout",
     "output_type": "stream",
     "text": [
      "Clean Accuracy 28.12\n",
      "\n"
     ]
    },
    {
     "name": "stderr",
     "output_type": "stream",
     "text": [
      "Acc 97.90 Loss: 0.07: 100%|██████████| 391/391 [00:48<00:00,  8.13it/s]\n"
     ]
    },
    {
     "name": "stdout",
     "output_type": "stream",
     "text": [
      "Clean Accuracy 28.00\n",
      "\n"
     ]
    },
    {
     "name": "stderr",
     "output_type": "stream",
     "text": [
      "Acc 98.16 Loss: 0.06: 100%|██████████| 391/391 [00:47<00:00,  8.17it/s]\n"
     ]
    },
    {
     "name": "stdout",
     "output_type": "stream",
     "text": [
      "Clean Accuracy 29.76\n",
      "\n"
     ]
    },
    {
     "name": "stderr",
     "output_type": "stream",
     "text": [
      "Acc 98.29 Loss: 0.05: 100%|██████████| 391/391 [00:47<00:00,  8.16it/s]\n"
     ]
    },
    {
     "name": "stdout",
     "output_type": "stream",
     "text": [
      "Clean Accuracy 27.59\n",
      "\n"
     ]
    },
    {
     "name": "stderr",
     "output_type": "stream",
     "text": [
      "Acc 98.63 Loss: 0.04: 100%|██████████| 391/391 [00:48<00:00,  8.11it/s]\n"
     ]
    },
    {
     "name": "stdout",
     "output_type": "stream",
     "text": [
      "Clean Accuracy 31.19\n",
      "\n"
     ]
    },
    {
     "name": "stderr",
     "output_type": "stream",
     "text": [
      "Acc 98.82 Loss: 0.04: 100%|██████████| 391/391 [00:48<00:00,  8.08it/s]\n"
     ]
    },
    {
     "name": "stdout",
     "output_type": "stream",
     "text": [
      "Clean Accuracy 31.06\n",
      "\n"
     ]
    },
    {
     "name": "stderr",
     "output_type": "stream",
     "text": [
      "Acc 99.19 Loss: 0.03: 100%|██████████| 391/391 [00:48<00:00,  8.14it/s]\n"
     ]
    },
    {
     "name": "stdout",
     "output_type": "stream",
     "text": [
      "Clean Accuracy 27.90\n",
      "\n"
     ]
    },
    {
     "name": "stderr",
     "output_type": "stream",
     "text": [
      "Acc 99.46 Loss: 0.02: 100%|██████████| 391/391 [00:48<00:00,  8.14it/s]\n"
     ]
    },
    {
     "name": "stdout",
     "output_type": "stream",
     "text": [
      "Clean Accuracy 31.42\n",
      "\n"
     ]
    },
    {
     "name": "stderr",
     "output_type": "stream",
     "text": [
      "Acc 99.62 Loss: 0.01: 100%|██████████| 391/391 [00:48<00:00,  8.14it/s]\n"
     ]
    },
    {
     "name": "stdout",
     "output_type": "stream",
     "text": [
      "Clean Accuracy 30.63\n",
      "\n"
     ]
    },
    {
     "name": "stderr",
     "output_type": "stream",
     "text": [
      "Acc 99.75 Loss: 0.01: 100%|██████████| 391/391 [00:47<00:00,  8.15it/s]\n"
     ]
    },
    {
     "name": "stdout",
     "output_type": "stream",
     "text": [
      "Clean Accuracy 29.63\n",
      "\n"
     ]
    },
    {
     "name": "stderr",
     "output_type": "stream",
     "text": [
      "Acc 99.80 Loss: 0.01: 100%|██████████| 391/391 [00:47<00:00,  8.20it/s]\n"
     ]
    },
    {
     "name": "stdout",
     "output_type": "stream",
     "text": [
      "Clean Accuracy 30.10\n",
      "\n"
     ]
    },
    {
     "name": "stderr",
     "output_type": "stream",
     "text": [
      "Acc 99.85 Loss: 0.01: 100%|██████████| 391/391 [00:47<00:00,  8.18it/s]\n"
     ]
    },
    {
     "name": "stdout",
     "output_type": "stream",
     "text": [
      "Clean Accuracy 30.38\n",
      "\n"
     ]
    },
    {
     "name": "stderr",
     "output_type": "stream",
     "text": [
      "Acc 99.87 Loss: 0.01: 100%|██████████| 391/391 [00:47<00:00,  8.15it/s]\n"
     ]
    },
    {
     "name": "stdout",
     "output_type": "stream",
     "text": [
      "Clean Accuracy 29.47\n",
      "\n"
     ]
    },
    {
     "name": "stderr",
     "output_type": "stream",
     "text": [
      "Acc 99.91 Loss: 0.00: 100%|██████████| 391/391 [00:48<00:00,  8.13it/s]\n"
     ]
    },
    {
     "name": "stdout",
     "output_type": "stream",
     "text": [
      "Clean Accuracy 30.23\n",
      "\n"
     ]
    },
    {
     "name": "stderr",
     "output_type": "stream",
     "text": [
      "Acc 99.91 Loss: 0.00: 100%|██████████| 391/391 [00:34<00:00, 11.46it/s]\n"
     ]
    },
    {
     "name": "stdout",
     "output_type": "stream",
     "text": [
      "Clean Accuracy 30.46\n",
      "\n"
     ]
    }
   ],
   "source": [
    "from util import AverageMeter\n",
    "\n",
    "model = ResNet18()\n",
    "model = model.cuda()\n",
    "criterion = torch.nn.CrossEntropyLoss()\n",
    "optimizer = torch.optim.SGD(params=model.parameters(), lr=0.1, weight_decay=0.0005, momentum=0.9)\n",
    "scheduler = torch.optim.lr_scheduler.CosineAnnealingLR(optimizer, T_max=30, eta_min=0)\n",
    "\n",
    "unlearnable_loader = DataLoader(dataset=unlearnable_train_dataset, batch_size=128,\n",
    "                                shuffle=True, pin_memory=True,\n",
    "                                drop_last=False, num_workers=6)\n",
    "\n",
    "\n",
    "for epoch in range(30):\n",
    "    # Train\n",
    "    model.train()\n",
    "    acc_meter = AverageMeter()\n",
    "    loss_meter = AverageMeter()\n",
    "    pbar = tqdm(unlearnable_loader, total=len(unlearnable_loader))\n",
    "    for images, labels in pbar:\n",
    "        images, labels = images.cuda(), labels.cuda()\n",
    "        model.zero_grad()\n",
    "        optimizer.zero_grad()\n",
    "        logits = model(images)\n",
    "        loss = criterion(logits, labels)\n",
    "        loss.backward()\n",
    "        torch.nn.utils.clip_grad_norm_(model.parameters(), 5.0)\n",
    "        optimizer.step()\n",
    "        \n",
    "        _, predicted = torch.max(logits.data, 1)\n",
    "        acc = (predicted == labels).sum().item()/labels.size(0)\n",
    "        acc_meter.update(acc)\n",
    "        loss_meter.update(loss.item())\n",
    "        pbar.set_description(\"Acc %.2f Loss: %.2f\" % (acc_meter.avg*100, loss_meter.avg))\n",
    "    scheduler.step()\n",
    "    # Eval\n",
    "    model.eval()\n",
    "    correct, total = 0, 0\n",
    "    for i, (images, labels) in enumerate(clean_test_loader):\n",
    "        images, labels = images.cuda(), labels.cuda()\n",
    "        with torch.no_grad():\n",
    "            logits = model(images)\n",
    "            _, predicted = torch.max(logits.data, 1)\n",
    "            total += labels.size(0)\n",
    "            correct += (predicted == labels).sum().item()\n",
    "    acc = correct / total\n",
    "    tqdm.write('Clean Accuracy %.2f\\n' % (acc*100))\n",
    "            "
   ]
  },
  {
   "cell_type": "code",
   "execution_count": null,
   "metadata": {},
   "outputs": [],
   "source": []
  },
  {
   "cell_type": "code",
   "execution_count": null,
   "metadata": {},
   "outputs": [],
   "source": []
  }
 ],
 "metadata": {
  "kernelspec": {
   "display_name": "Python 3 (ipykernel)",
   "language": "python",
   "name": "python3"
  },
  "language_info": {
   "codemirror_mode": {
    "name": "ipython",
    "version": 3
   },
   "file_extension": ".py",
   "mimetype": "text/x-python",
   "name": "python",
   "nbconvert_exporter": "python",
   "pygments_lexer": "ipython3",
   "version": "3.7.10"
  }
 },
 "nbformat": 4,
 "nbformat_minor": 4
}
