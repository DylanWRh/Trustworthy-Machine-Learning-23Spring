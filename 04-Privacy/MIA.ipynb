{
 "cells": [
  {
   "cell_type": "markdown",
   "id": "9a0f65bc",
   "metadata": {},
   "source": [
    "<h3>Split dataset</h3>"
   ]
  },
  {
   "cell_type": "code",
   "execution_count": 1,
   "id": "626b1a03",
   "metadata": {
    "tags": []
   },
   "outputs": [],
   "source": [
    "from torchvision.datasets import MNIST\n",
    "import numpy as np\n",
    "from PIL import Image\n",
    "\n",
    "train_target_size = 20000\n",
    "\n",
    "class custum_MNIST(MNIST):\n",
    "\n",
    "    def __init__(self, target, num, *args, **kwargs):\n",
    "        super().__init__(*args, **kwargs)\n",
    "        self.target = target\n",
    "        if self.train:\n",
    "            if target:\n",
    "                # training data for target model\n",
    "                self.data = self.data[:25000]\n",
    "                self.targets = self.targets[:25000]\n",
    "            else:\n",
    "                # training data for shadow model\n",
    "                idx_shadow = np.arange(25000,50000) \n",
    "                # idx_shadow = np.random.shuffle(idx_shadow)\n",
    "                np.random.shuffle(idx_shadow)\n",
    "                self.data = self.data[idx_shadow[2500*(num%10): 2500*(num%10)+2500]]\n",
    "                self.targets = self.targets[idx_shadow[2500*(num%10): 2500*(num%10)+2500]]\n",
    "        else:\n",
    "            if target:\n",
    "                # test data for target model\n",
    "                self.data = self.data[:5000]\n",
    "                self.targets = self.targets[:5000]\n",
    "            else:\n",
    "                # test data for shadow model\n",
    "                idx_shadow = np.arange(5000,10000) \n",
    "                # idx_shadow = np.random.shuffle(idx_shadow)\n",
    "                np.random.shuffle(idx_shadow)\n",
    "                self.data = self.data[idx_shadow[500*(num%10): 500*(num%10)+500]]\n",
    "                self.targets = self.targets[idx_shadow[500*(num%10): 500*(num%10)+500]]\n",
    "\n",
    "    def __getitem__(self, index):\n",
    "        \"\"\"\n",
    "        Args:\n",
    "            index (int): Index\n",
    "        Returns:\n",
    "            tuple: (image, target) where target is index of the target class.\n",
    "        \"\"\"\n",
    "        if self.train:\n",
    "            if self.target:\n",
    "                index = index % 25000\n",
    "            else:\n",
    "                index = index % 2500\n",
    "        else:\n",
    "            if self.target:\n",
    "                index = index % 5000\n",
    "            else:\n",
    "                index = index % 500\n",
    "        img, target = self.data[index], int(self.targets[index])\n",
    "\n",
    "        # doing this so that it is consistent with all other datasets\n",
    "        # to return a PIL Image\n",
    "        img = Image.fromarray(img.numpy(), mode='L')\n",
    "\n",
    "        if self.transform is not None:\n",
    "            img = self.transform(img)\n",
    "\n",
    "        if self.target_transform is not None:\n",
    "            target = self.target_transform(target)\n",
    "        return img, target\n",
    "    \n",
    "def get_data_for_final_eval(models, all_dataloaders, device):\n",
    "    Y = []\n",
    "    X = []\n",
    "    C = []\n",
    "    for idx_model, model in enumerate(models):\n",
    "        model.eval()\n",
    "        #print(all_dataloaders)\n",
    "        dataloaders = all_dataloaders[idx_model]\n",
    "        for phase in ['train', 'val']:\n",
    "            for batch_idx, (data, target) in enumerate(dataloaders[phase]):\n",
    "                inputs, labels = data.to(device), target.to(device)\n",
    "                output = model(inputs)\n",
    "                for out in output.cpu().detach().numpy():\n",
    "                    X.append(out)\n",
    "                    if phase == \"train\":\n",
    "                        Y.append(1)\n",
    "                    else:\n",
    "                        Y.append(0)\n",
    "                for cla in labels.cpu().detach().numpy():\n",
    "                    C.append(cla)\n",
    "    return (np.array(X), np.array(Y), np.array(C))"
   ]
  },
  {
   "cell_type": "markdown",
   "id": "c12c61e8",
   "metadata": {
    "tags": []
   },
   "source": [
    "<h3>train model and return data for MIA</h3>"
   ]
  },
  {
   "cell_type": "code",
   "execution_count": 2,
   "id": "4836ed94",
   "metadata": {
    "tags": []
   },
   "outputs": [],
   "source": [
    "import torch\n",
    "import torch.nn as nn\n",
    "import torch.optim as optim\n",
    "from torch.optim import lr_scheduler\n",
    "import numpy as np\n",
    "import torchvision\n",
    "from torchvision import datasets, models, transforms\n",
    "import matplotlib.pyplot as plt\n",
    "import time\n",
    "import tqdm\n",
    "import copy\n",
    "\n",
    "\n",
    "device = torch.device(\"cuda:0\" if torch.cuda.is_available() else \"cpu\")\n",
    "\n",
    "def train(model, criterion, optimizer, scheduler, dataloaders, dataset_sizes, num_epochs=25):\n",
    "    print(\"DATASET SIZE\", dataset_sizes)\n",
    "    since = time.time()\n",
    "\n",
    "    best_model_wts = copy.deepcopy(model.state_dict())\n",
    "    best_acc = 0\n",
    "    return_value_train = np.zeros((4,num_epochs))\n",
    "\n",
    "    for epoch in range(num_epochs):\n",
    "        #print('Epoch {}/{}'.format(epoch, num_epochs - 1))\n",
    "        #print('-' * 10)\n",
    "\n",
    "        X = [] ## The feature of the final logits for MIA classifier\n",
    "        Y = [] ## 1:\"in\" training sample 0:\"out\" training sample\n",
    "\n",
    "        # Each epoch has a training and validation phase\n",
    "        for phase in ['train', 'val']:\n",
    "            if phase == 'train':\n",
    "                if scheduler is not None:\n",
    "                    scheduler.step()\n",
    "                model.train()  # Set model to training mode\n",
    "            else:\n",
    "                model.eval()   # Set model to evaluate mode\n",
    "\n",
    "            running_loss = 0.0\n",
    "            running_corrects = 0\n",
    "\n",
    "            # Iterate over data.\n",
    "            for data, target in tqdm.tqdm(dataloaders[phase]):\n",
    "                inputs, labels = data.to(device), target.to(device)\n",
    "\n",
    "\n",
    "                # zero the parameter gradients\n",
    "                optimizer.zero_grad()\n",
    "\n",
    "                # forward\n",
    "                # track history if only in train\n",
    "                with torch.set_grad_enabled(phase == 'train'):\n",
    "                    outputs = model(inputs)\n",
    "                    _, preds = torch.max(outputs, 1)\n",
    "                    loss = criterion(outputs, labels)\n",
    "\n",
    "                    ##### Generate data for MIA on the final epoch, return X and Y\n",
    "                    ##### X is models output \n",
    "                    ##### Y denotes whether such sample is used for training\n",
    "                    ##### Point 2\n",
    "                    if epoch == num_epochs - 1:\n",
    "                        for output in outputs.cpu().detach().numpy():\n",
    "                            X.append(output)\n",
    "                            Y.append(1 if phase == 'train' else 0)\n",
    "\n",
    "\n",
    "                    # backward + optimize only if in training phase\n",
    "                    if phase == 'train':\n",
    "                        loss.backward()\n",
    "                        optimizer.step()\n",
    "\n",
    "                # statistics\n",
    "                running_loss += loss.item() * inputs.size(0)\n",
    "                running_corrects += torch.sum(preds == labels.data)\n",
    "\n",
    "            epoch_loss = running_loss / dataset_sizes[phase]\n",
    "            epoch_acc = running_corrects.double() / dataset_sizes[phase]\n",
    "\n",
    "            # deep copy the model\n",
    "            if phase == 'val' and epoch_acc > best_acc:\n",
    "                best_acc = epoch_acc\n",
    "                print(epoch, best_acc)\n",
    "\n",
    "    return model, best_acc, np.array(X), np.array(Y)\n"
   ]
  },
  {
   "cell_type": "markdown",
   "id": "f1fc5ebd",
   "metadata": {},
   "source": [
    "<h3>Train target model and use target model's training set and validation set as validation set for MIA</h3>"
   ]
  },
  {
   "cell_type": "code",
   "execution_count": 4,
   "id": "3f9a838a",
   "metadata": {
    "collapsed": true,
    "jupyter": {
     "outputs_hidden": true
    },
    "tags": []
   },
   "outputs": [
    {
     "name": "stdout",
     "output_type": "stream",
     "text": [
      "TAILLE dataset {'train': 25000, 'val': 5000}\n",
      "DATASET SIZE {'train': 25000, 'val': 5000}\n"
     ]
    },
    {
     "name": "stderr",
     "output_type": "stream",
     "text": [
      "100%|██████████| 391/391 [00:06<00:00, 56.58it/s]\n",
      "100%|██████████| 79/79 [00:01<00:00, 67.76it/s]\n"
     ]
    },
    {
     "name": "stdout",
     "output_type": "stream",
     "text": [
      "0 tensor(0.4076, device='cuda:0', dtype=torch.float64)\n"
     ]
    },
    {
     "name": "stderr",
     "output_type": "stream",
     "text": [
      "100%|██████████| 391/391 [00:06<00:00, 56.90it/s]\n",
      "100%|██████████| 79/79 [00:01<00:00, 67.17it/s]\n"
     ]
    },
    {
     "name": "stdout",
     "output_type": "stream",
     "text": [
      "1 tensor(0.6590, device='cuda:0', dtype=torch.float64)\n"
     ]
    },
    {
     "name": "stderr",
     "output_type": "stream",
     "text": [
      "100%|██████████| 391/391 [00:06<00:00, 58.51it/s]\n",
      "100%|██████████| 79/79 [00:01<00:00, 70.45it/s]\n"
     ]
    },
    {
     "name": "stdout",
     "output_type": "stream",
     "text": [
      "2 tensor(0.7776, device='cuda:0', dtype=torch.float64)\n"
     ]
    },
    {
     "name": "stderr",
     "output_type": "stream",
     "text": [
      "100%|██████████| 391/391 [00:06<00:00, 57.54it/s]\n",
      "100%|██████████| 79/79 [00:01<00:00, 73.08it/s]\n"
     ]
    },
    {
     "name": "stdout",
     "output_type": "stream",
     "text": [
      "3 tensor(0.8300, device='cuda:0', dtype=torch.float64)\n"
     ]
    },
    {
     "name": "stderr",
     "output_type": "stream",
     "text": [
      "100%|██████████| 391/391 [00:06<00:00, 58.24it/s]\n",
      "100%|██████████| 79/79 [00:01<00:00, 68.91it/s]\n"
     ]
    },
    {
     "name": "stdout",
     "output_type": "stream",
     "text": [
      "4 tensor(0.8448, device='cuda:0', dtype=torch.float64)\n"
     ]
    },
    {
     "name": "stderr",
     "output_type": "stream",
     "text": [
      "100%|██████████| 391/391 [00:06<00:00, 57.97it/s]\n",
      "100%|██████████| 79/79 [00:01<00:00, 65.92it/s]\n"
     ]
    },
    {
     "name": "stdout",
     "output_type": "stream",
     "text": [
      "5 tensor(0.8562, device='cuda:0', dtype=torch.float64)\n"
     ]
    },
    {
     "name": "stderr",
     "output_type": "stream",
     "text": [
      "100%|██████████| 391/391 [00:06<00:00, 58.01it/s]\n",
      "100%|██████████| 79/79 [00:01<00:00, 65.63it/s]\n"
     ]
    },
    {
     "name": "stdout",
     "output_type": "stream",
     "text": [
      "6 tensor(0.8642, device='cuda:0', dtype=torch.float64)\n"
     ]
    },
    {
     "name": "stderr",
     "output_type": "stream",
     "text": [
      "100%|██████████| 391/391 [00:06<00:00, 57.58it/s]\n",
      "100%|██████████| 79/79 [00:01<00:00, 74.60it/s]\n"
     ]
    },
    {
     "name": "stdout",
     "output_type": "stream",
     "text": [
      "7 tensor(0.8704, device='cuda:0', dtype=torch.float64)\n"
     ]
    },
    {
     "name": "stderr",
     "output_type": "stream",
     "text": [
      "100%|██████████| 391/391 [00:06<00:00, 56.04it/s]\n",
      "100%|██████████| 79/79 [00:01<00:00, 68.54it/s]\n"
     ]
    },
    {
     "name": "stdout",
     "output_type": "stream",
     "text": [
      "8 tensor(0.8778, device='cuda:0', dtype=torch.float64)\n"
     ]
    },
    {
     "name": "stderr",
     "output_type": "stream",
     "text": [
      "100%|██████████| 391/391 [00:06<00:00, 57.33it/s]\n",
      "100%|██████████| 79/79 [00:01<00:00, 67.41it/s]\n"
     ]
    },
    {
     "name": "stdout",
     "output_type": "stream",
     "text": [
      "9 tensor(0.8852, device='cuda:0', dtype=torch.float64)\n"
     ]
    },
    {
     "name": "stderr",
     "output_type": "stream",
     "text": [
      "100%|██████████| 391/391 [00:06<00:00, 56.68it/s]\n",
      "100%|██████████| 79/79 [00:01<00:00, 68.32it/s]\n",
      "100%|██████████| 391/391 [00:06<00:00, 55.98it/s]\n",
      "100%|██████████| 79/79 [00:01<00:00, 67.51it/s]\n",
      "100%|██████████| 391/391 [00:06<00:00, 57.51it/s]\n",
      "100%|██████████| 79/79 [00:01<00:00, 74.93it/s]\n"
     ]
    },
    {
     "name": "stdout",
     "output_type": "stream",
     "text": [
      "12 tensor(0.8938, device='cuda:0', dtype=torch.float64)\n"
     ]
    },
    {
     "name": "stderr",
     "output_type": "stream",
     "text": [
      "100%|██████████| 391/391 [00:06<00:00, 56.80it/s]\n",
      "100%|██████████| 79/79 [00:01<00:00, 71.68it/s]\n"
     ]
    },
    {
     "name": "stdout",
     "output_type": "stream",
     "text": [
      "13 tensor(0.8974, device='cuda:0', dtype=torch.float64)\n"
     ]
    },
    {
     "name": "stderr",
     "output_type": "stream",
     "text": [
      "100%|██████████| 391/391 [00:06<00:00, 57.39it/s]\n",
      "100%|██████████| 79/79 [00:01<00:00, 69.07it/s]\n",
      "100%|██████████| 391/391 [00:06<00:00, 56.62it/s]\n",
      "100%|██████████| 79/79 [00:01<00:00, 68.09it/s]\n"
     ]
    },
    {
     "name": "stdout",
     "output_type": "stream",
     "text": [
      "15 tensor(0.9040, device='cuda:0', dtype=torch.float64)\n"
     ]
    },
    {
     "name": "stderr",
     "output_type": "stream",
     "text": [
      "100%|██████████| 391/391 [00:06<00:00, 56.06it/s]\n",
      "100%|██████████| 79/79 [00:01<00:00, 68.87it/s]\n",
      "100%|██████████| 391/391 [00:06<00:00, 56.31it/s]\n",
      "100%|██████████| 79/79 [00:01<00:00, 67.12it/s]\n"
     ]
    },
    {
     "name": "stdout",
     "output_type": "stream",
     "text": [
      "17 tensor(0.9044, device='cuda:0', dtype=torch.float64)\n"
     ]
    },
    {
     "name": "stderr",
     "output_type": "stream",
     "text": [
      "100%|██████████| 391/391 [00:06<00:00, 57.50it/s]\n",
      "100%|██████████| 79/79 [00:01<00:00, 76.95it/s]\n"
     ]
    },
    {
     "name": "stdout",
     "output_type": "stream",
     "text": [
      "18 tensor(0.9140, device='cuda:0', dtype=torch.float64)\n"
     ]
    },
    {
     "name": "stderr",
     "output_type": "stream",
     "text": [
      "100%|██████████| 391/391 [00:06<00:00, 62.51it/s]\n",
      "100%|██████████| 79/79 [00:01<00:00, 73.04it/s]\n",
      "100%|██████████| 391/391 [00:06<00:00, 62.17it/s]\n",
      "100%|██████████| 79/79 [00:01<00:00, 71.16it/s]\n"
     ]
    },
    {
     "name": "stdout",
     "output_type": "stream",
     "text": [
      "20 tensor(0.9158, device='cuda:0', dtype=torch.float64)\n"
     ]
    },
    {
     "name": "stderr",
     "output_type": "stream",
     "text": [
      "100%|██████████| 391/391 [00:06<00:00, 58.37it/s]\n",
      "100%|██████████| 79/79 [00:01<00:00, 70.02it/s]\n"
     ]
    },
    {
     "name": "stdout",
     "output_type": "stream",
     "text": [
      "21 tensor(0.9226, device='cuda:0', dtype=torch.float64)\n"
     ]
    },
    {
     "name": "stderr",
     "output_type": "stream",
     "text": [
      "100%|██████████| 391/391 [00:06<00:00, 60.04it/s]\n",
      "100%|██████████| 79/79 [00:01<00:00, 75.24it/s]\n",
      "100%|██████████| 391/391 [00:06<00:00, 61.41it/s]\n",
      "100%|██████████| 79/79 [00:01<00:00, 73.13it/s]\n",
      "100%|██████████| 391/391 [00:06<00:00, 60.89it/s]\n",
      "100%|██████████| 79/79 [00:01<00:00, 71.05it/s]\n",
      "100%|██████████| 391/391 [00:06<00:00, 58.35it/s]\n",
      "100%|██████████| 79/79 [00:01<00:00, 71.84it/s]\n"
     ]
    },
    {
     "name": "stdout",
     "output_type": "stream",
     "text": [
      "25 tensor(0.9294, device='cuda:0', dtype=torch.float64)\n"
     ]
    },
    {
     "name": "stderr",
     "output_type": "stream",
     "text": [
      "100%|██████████| 391/391 [00:06<00:00, 59.61it/s]\n",
      "100%|██████████| 79/79 [00:01<00:00, 67.79it/s]\n"
     ]
    },
    {
     "name": "stdout",
     "output_type": "stream",
     "text": [
      "26 tensor(0.9314, device='cuda:0', dtype=torch.float64)\n"
     ]
    },
    {
     "name": "stderr",
     "output_type": "stream",
     "text": [
      "100%|██████████| 391/391 [00:06<00:00, 59.60it/s]\n",
      "100%|██████████| 79/79 [00:01<00:00, 72.15it/s]\n"
     ]
    },
    {
     "name": "stdout",
     "output_type": "stream",
     "text": [
      "27 tensor(0.9318, device='cuda:0', dtype=torch.float64)\n"
     ]
    },
    {
     "name": "stderr",
     "output_type": "stream",
     "text": [
      "100%|██████████| 391/391 [00:06<00:00, 60.90it/s]\n",
      "100%|██████████| 79/79 [00:01<00:00, 72.52it/s]\n"
     ]
    },
    {
     "name": "stdout",
     "output_type": "stream",
     "text": [
      "28 tensor(0.9320, device='cuda:0', dtype=torch.float64)\n"
     ]
    },
    {
     "name": "stderr",
     "output_type": "stream",
     "text": [
      "100%|██████████| 391/391 [00:06<00:00, 62.65it/s]\n",
      "100%|██████████| 79/79 [00:01<00:00, 70.58it/s]\n"
     ]
    },
    {
     "name": "stdout",
     "output_type": "stream",
     "text": [
      "29 tensor(0.9380, device='cuda:0', dtype=torch.float64)\n"
     ]
    },
    {
     "name": "stderr",
     "output_type": "stream",
     "text": [
      "100%|██████████| 391/391 [00:06<00:00, 60.81it/s]\n",
      "100%|██████████| 79/79 [00:01<00:00, 67.39it/s]\n"
     ]
    },
    {
     "name": "stdout",
     "output_type": "stream",
     "text": [
      "30 tensor(0.9388, device='cuda:0', dtype=torch.float64)\n"
     ]
    },
    {
     "name": "stderr",
     "output_type": "stream",
     "text": [
      "100%|██████████| 391/391 [00:06<00:00, 61.05it/s]\n",
      "100%|██████████| 79/79 [00:01<00:00, 70.96it/s]\n",
      "100%|██████████| 391/391 [00:06<00:00, 60.23it/s]\n",
      "100%|██████████| 79/79 [00:01<00:00, 73.29it/s]\n"
     ]
    },
    {
     "name": "stdout",
     "output_type": "stream",
     "text": [
      "32 tensor(0.9394, device='cuda:0', dtype=torch.float64)\n"
     ]
    },
    {
     "name": "stderr",
     "output_type": "stream",
     "text": [
      "100%|██████████| 391/391 [00:06<00:00, 59.74it/s]\n",
      "100%|██████████| 79/79 [00:01<00:00, 67.59it/s]\n",
      "100%|██████████| 391/391 [00:06<00:00, 57.66it/s]\n",
      "100%|██████████| 79/79 [00:01<00:00, 60.59it/s]\n"
     ]
    },
    {
     "name": "stdout",
     "output_type": "stream",
     "text": [
      "34 tensor(0.9438, device='cuda:0', dtype=torch.float64)\n"
     ]
    },
    {
     "name": "stderr",
     "output_type": "stream",
     "text": [
      "100%|██████████| 391/391 [00:06<00:00, 57.00it/s]\n",
      "100%|██████████| 79/79 [00:01<00:00, 69.71it/s]\n",
      "100%|██████████| 391/391 [00:06<00:00, 59.40it/s]\n",
      "100%|██████████| 79/79 [00:01<00:00, 71.15it/s]\n",
      "100%|██████████| 391/391 [00:06<00:00, 59.33it/s]\n",
      "100%|██████████| 79/79 [00:01<00:00, 68.54it/s]\n",
      "100%|██████████| 391/391 [00:06<00:00, 59.61it/s]\n",
      "100%|██████████| 79/79 [00:01<00:00, 76.38it/s]\n"
     ]
    },
    {
     "name": "stdout",
     "output_type": "stream",
     "text": [
      "38 tensor(0.9444, device='cuda:0', dtype=torch.float64)\n"
     ]
    },
    {
     "name": "stderr",
     "output_type": "stream",
     "text": [
      "100%|██████████| 391/391 [00:06<00:00, 61.54it/s]\n",
      "100%|██████████| 79/79 [00:01<00:00, 74.65it/s]\n"
     ]
    },
    {
     "name": "stdout",
     "output_type": "stream",
     "text": [
      "39 tensor(0.9486, device='cuda:0', dtype=torch.float64)\n",
      "tensor(0.9486, device='cuda:0', dtype=torch.float64)\n"
     ]
    }
   ],
   "source": [
    "import torch\n",
    "import torch.nn as nn\n",
    "import torch.optim as optim\n",
    "from model import *\n",
    "from torch.optim import lr_scheduler\n",
    "from sklearn.utils import shuffle\n",
    "from sklearn.metrics import precision_recall_fscore_support, accuracy_score\n",
    "\n",
    "\n",
    "data_train_target = custum_MNIST(True, 0, '../data', train=True, download=True,\n",
    "                   transform=transforms.Compose([\n",
    "                       transforms.ToTensor(),\n",
    "                       transforms.Normalize((0.1307,), (0.3081,))\n",
    "                   ]))\n",
    "data_test_target = custum_MNIST(True, 0, '../data', train=False, transform=transforms.Compose([\n",
    "                   transforms.ToTensor(),\n",
    "                   transforms.Normalize((0.1307,), (0.3081,))\n",
    "               ]))\n",
    "\n",
    "criterion = nn.CrossEntropyLoss()\n",
    "train_loader_target = torch.utils.data.DataLoader(data_train_target, batch_size=64, shuffle=True)\n",
    "test_loader_target = torch.utils.data.DataLoader(data_test_target, batch_size=64, shuffle=True)\n",
    "dataloaders_target = {\"train\": train_loader_target, \"val\": test_loader_target}\n",
    "dataset_sizes_target = {\"train\": len(data_train_target), \"val\": len(data_test_target)}\n",
    "print(\"TAILLE dataset\", dataset_sizes_target)\n",
    "model_target = Net_mnist().to(device)\n",
    "optimizer = optim.SGD(model_target.parameters(), lr=0.001, momentum=0.5)\n",
    "exp_lr_scheduler = None\n",
    "\n",
    "model_target, best_acc_target, data_test_set, label_test_set = train(model_target, criterion, optimizer, exp_lr_scheduler, dataloaders_target, dataset_sizes_target,\n",
    "                       num_epochs=40)\n",
    "\n",
    "print(best_acc_target)"
   ]
  },
  {
   "cell_type": "markdown",
   "id": "28bd463e",
   "metadata": {
    "tags": []
   },
   "source": [
    "<h3>Train shadow model and use shadow model's training set and validation set as training set for MIA</h3>"
   ]
  },
  {
   "cell_type": "code",
   "execution_count": 9,
   "id": "86ee9efd",
   "metadata": {
    "tags": []
   },
   "outputs": [
    {
     "name": "stdout",
     "output_type": "stream",
     "text": [
      "2500 500\n",
      "TAILLE dataset {'train': 2500, 'val': 500}\n",
      "DATASET SIZE {'train': 2500, 'val': 500}\n"
     ]
    },
    {
     "name": "stderr",
     "output_type": "stream",
     "text": [
      "100%|██████████| 40/40 [00:00<00:00, 57.02it/s]\n",
      "100%|██████████| 8/8 [00:00<00:00, 66.30it/s]\n"
     ]
    },
    {
     "name": "stdout",
     "output_type": "stream",
     "text": [
      "0 tensor(0.1260, device='cuda:0', dtype=torch.float64)\n"
     ]
    },
    {
     "name": "stderr",
     "output_type": "stream",
     "text": [
      "100%|██████████| 40/40 [00:00<00:00, 57.26it/s]\n",
      "100%|██████████| 8/8 [00:00<00:00, 71.23it/s]\n"
     ]
    },
    {
     "name": "stdout",
     "output_type": "stream",
     "text": [
      "1 tensor(0.1900, device='cuda:0', dtype=torch.float64)\n"
     ]
    },
    {
     "name": "stderr",
     "output_type": "stream",
     "text": [
      "100%|██████████| 40/40 [00:00<00:00, 59.36it/s]\n",
      "100%|██████████| 8/8 [00:00<00:00, 70.12it/s]\n"
     ]
    },
    {
     "name": "stdout",
     "output_type": "stream",
     "text": [
      "2 tensor(0.2720, device='cuda:0', dtype=torch.float64)\n"
     ]
    },
    {
     "name": "stderr",
     "output_type": "stream",
     "text": [
      "100%|██████████| 40/40 [00:00<00:00, 58.96it/s]\n",
      "100%|██████████| 8/8 [00:00<00:00, 70.97it/s]\n"
     ]
    },
    {
     "name": "stdout",
     "output_type": "stream",
     "text": [
      "3 tensor(0.3280, device='cuda:0', dtype=torch.float64)\n"
     ]
    },
    {
     "name": "stderr",
     "output_type": "stream",
     "text": [
      "100%|██████████| 40/40 [00:00<00:00, 58.98it/s]\n",
      "100%|██████████| 8/8 [00:00<00:00, 69.75it/s]\n"
     ]
    },
    {
     "name": "stdout",
     "output_type": "stream",
     "text": [
      "4 tensor(0.4360, device='cuda:0', dtype=torch.float64)\n"
     ]
    },
    {
     "name": "stderr",
     "output_type": "stream",
     "text": [
      "100%|██████████| 40/40 [00:00<00:00, 58.29it/s]\n",
      "100%|██████████| 8/8 [00:00<00:00, 69.50it/s]\n"
     ]
    },
    {
     "name": "stdout",
     "output_type": "stream",
     "text": [
      "5 tensor(0.4860, device='cuda:0', dtype=torch.float64)\n"
     ]
    },
    {
     "name": "stderr",
     "output_type": "stream",
     "text": [
      "100%|██████████| 40/40 [00:00<00:00, 58.19it/s]\n",
      "100%|██████████| 8/8 [00:00<00:00, 70.88it/s]\n"
     ]
    },
    {
     "name": "stdout",
     "output_type": "stream",
     "text": [
      "6 tensor(0.5500, device='cuda:0', dtype=torch.float64)\n"
     ]
    },
    {
     "name": "stderr",
     "output_type": "stream",
     "text": [
      "100%|██████████| 40/40 [00:00<00:00, 59.40it/s]\n",
      "100%|██████████| 8/8 [00:00<00:00, 69.75it/s]\n"
     ]
    },
    {
     "name": "stdout",
     "output_type": "stream",
     "text": [
      "7 tensor(0.5680, device='cuda:0', dtype=torch.float64)\n"
     ]
    },
    {
     "name": "stderr",
     "output_type": "stream",
     "text": [
      "100%|██████████| 40/40 [00:00<00:00, 59.47it/s]\n",
      "100%|██████████| 8/8 [00:00<00:00, 70.11it/s]\n"
     ]
    },
    {
     "name": "stdout",
     "output_type": "stream",
     "text": [
      "8 tensor(0.5840, device='cuda:0', dtype=torch.float64)\n"
     ]
    },
    {
     "name": "stderr",
     "output_type": "stream",
     "text": [
      "100%|██████████| 40/40 [00:00<00:00, 58.44it/s]\n",
      "100%|██████████| 8/8 [00:00<00:00, 69.73it/s]\n"
     ]
    },
    {
     "name": "stdout",
     "output_type": "stream",
     "text": [
      "9 tensor(0.5980, device='cuda:0', dtype=torch.float64)\n"
     ]
    },
    {
     "name": "stderr",
     "output_type": "stream",
     "text": [
      "100%|██████████| 40/40 [00:00<00:00, 59.04it/s]\n",
      "100%|██████████| 8/8 [00:00<00:00, 68.11it/s]\n"
     ]
    },
    {
     "name": "stdout",
     "output_type": "stream",
     "text": [
      "10 tensor(0.6300, device='cuda:0', dtype=torch.float64)\n"
     ]
    },
    {
     "name": "stderr",
     "output_type": "stream",
     "text": [
      "100%|██████████| 40/40 [00:00<00:00, 58.85it/s]\n",
      "100%|██████████| 8/8 [00:00<00:00, 67.24it/s]\n"
     ]
    },
    {
     "name": "stdout",
     "output_type": "stream",
     "text": [
      "11 tensor(0.6680, device='cuda:0', dtype=torch.float64)\n"
     ]
    },
    {
     "name": "stderr",
     "output_type": "stream",
     "text": [
      "100%|██████████| 40/40 [00:00<00:00, 58.46it/s]\n",
      "100%|██████████| 8/8 [00:00<00:00, 41.19it/s]\n"
     ]
    },
    {
     "name": "stdout",
     "output_type": "stream",
     "text": [
      "12 tensor(0.6700, device='cuda:0', dtype=torch.float64)\n"
     ]
    },
    {
     "name": "stderr",
     "output_type": "stream",
     "text": [
      "100%|██████████| 40/40 [00:00<00:00, 59.14it/s]\n",
      "100%|██████████| 8/8 [00:00<00:00, 68.43it/s]\n",
      "100%|██████████| 40/40 [00:00<00:00, 58.93it/s]\n",
      "100%|██████████| 8/8 [00:00<00:00, 68.94it/s]\n",
      "100%|██████████| 40/40 [00:00<00:00, 58.69it/s]\n",
      "100%|██████████| 8/8 [00:00<00:00, 68.87it/s]\n"
     ]
    },
    {
     "name": "stdout",
     "output_type": "stream",
     "text": [
      "15 tensor(0.6760, device='cuda:0', dtype=torch.float64)\n"
     ]
    },
    {
     "name": "stderr",
     "output_type": "stream",
     "text": [
      "100%|██████████| 40/40 [00:00<00:00, 55.21it/s]\n",
      "100%|██████████| 8/8 [00:00<00:00, 59.87it/s]\n"
     ]
    },
    {
     "name": "stdout",
     "output_type": "stream",
     "text": [
      "16 tensor(0.7100, device='cuda:0', dtype=torch.float64)\n"
     ]
    },
    {
     "name": "stderr",
     "output_type": "stream",
     "text": [
      "100%|██████████| 40/40 [00:00<00:00, 59.74it/s]\n",
      "100%|██████████| 8/8 [00:00<00:00, 71.16it/s]\n"
     ]
    },
    {
     "name": "stdout",
     "output_type": "stream",
     "text": [
      "17 tensor(0.7660, device='cuda:0', dtype=torch.float64)\n"
     ]
    },
    {
     "name": "stderr",
     "output_type": "stream",
     "text": [
      "100%|██████████| 40/40 [00:00<00:00, 63.95it/s]\n",
      "100%|██████████| 8/8 [00:00<00:00, 75.37it/s]\n",
      "100%|██████████| 40/40 [00:00<00:00, 67.38it/s]\n",
      "100%|██████████| 8/8 [00:00<00:00, 74.87it/s]\n"
     ]
    },
    {
     "name": "stdout",
     "output_type": "stream",
     "text": [
      "19 tensor(0.8040, device='cuda:0', dtype=torch.float64)\n"
     ]
    },
    {
     "name": "stderr",
     "output_type": "stream",
     "text": [
      "100%|██████████| 40/40 [00:00<00:00, 69.20it/s]\n",
      "100%|██████████| 8/8 [00:00<00:00, 74.83it/s]\n",
      "100%|██████████| 40/40 [00:00<00:00, 70.30it/s]\n",
      "100%|██████████| 8/8 [00:00<00:00, 77.30it/s]\n"
     ]
    },
    {
     "name": "stdout",
     "output_type": "stream",
     "text": [
      "21 tensor(0.8200, device='cuda:0', dtype=torch.float64)\n"
     ]
    },
    {
     "name": "stderr",
     "output_type": "stream",
     "text": [
      "100%|██████████| 40/40 [00:00<00:00, 70.11it/s]\n",
      "100%|██████████| 8/8 [00:00<00:00, 77.06it/s]\n"
     ]
    },
    {
     "name": "stdout",
     "output_type": "stream",
     "text": [
      "22 tensor(0.8220, device='cuda:0', dtype=torch.float64)\n"
     ]
    },
    {
     "name": "stderr",
     "output_type": "stream",
     "text": [
      "100%|██████████| 40/40 [00:00<00:00, 68.59it/s]\n",
      "100%|██████████| 8/8 [00:00<00:00, 72.21it/s]\n"
     ]
    },
    {
     "name": "stdout",
     "output_type": "stream",
     "text": [
      "23 tensor(0.8300, device='cuda:0', dtype=torch.float64)\n"
     ]
    },
    {
     "name": "stderr",
     "output_type": "stream",
     "text": [
      "100%|██████████| 40/40 [00:00<00:00, 64.74it/s]\n",
      "100%|██████████| 8/8 [00:00<00:00, 72.70it/s]\n"
     ]
    },
    {
     "name": "stdout",
     "output_type": "stream",
     "text": [
      "24 tensor(0.8380, device='cuda:0', dtype=torch.float64)\n"
     ]
    },
    {
     "name": "stderr",
     "output_type": "stream",
     "text": [
      "100%|██████████| 40/40 [00:00<00:00, 65.06it/s]\n",
      "100%|██████████| 8/8 [00:00<00:00, 72.21it/s]\n"
     ]
    },
    {
     "name": "stdout",
     "output_type": "stream",
     "text": [
      "25 tensor(0.8440, device='cuda:0', dtype=torch.float64)\n"
     ]
    },
    {
     "name": "stderr",
     "output_type": "stream",
     "text": [
      "100%|██████████| 40/40 [00:00<00:00, 65.13it/s]\n",
      "100%|██████████| 8/8 [00:00<00:00, 72.76it/s]\n",
      "100%|██████████| 40/40 [00:00<00:00, 65.55it/s]\n",
      "100%|██████████| 8/8 [00:00<00:00, 72.32it/s]\n"
     ]
    },
    {
     "name": "stdout",
     "output_type": "stream",
     "text": [
      "27 tensor(0.8540, device='cuda:0', dtype=torch.float64)\n"
     ]
    },
    {
     "name": "stderr",
     "output_type": "stream",
     "text": [
      "100%|██████████| 40/40 [00:00<00:00, 64.73it/s]\n",
      "100%|██████████| 8/8 [00:00<00:00, 71.48it/s]\n"
     ]
    },
    {
     "name": "stdout",
     "output_type": "stream",
     "text": [
      "28 tensor(0.8780, device='cuda:0', dtype=torch.float64)\n"
     ]
    },
    {
     "name": "stderr",
     "output_type": "stream",
     "text": [
      "100%|██████████| 40/40 [00:00<00:00, 65.13it/s]\n",
      "100%|██████████| 8/8 [00:00<00:00, 72.03it/s]\n",
      "100%|██████████| 40/40 [00:00<00:00, 64.90it/s]\n",
      "100%|██████████| 8/8 [00:00<00:00, 72.29it/s]\n",
      "100%|██████████| 40/40 [00:00<00:00, 65.34it/s]\n",
      "100%|██████████| 8/8 [00:00<00:00, 74.65it/s]\n",
      "100%|██████████| 40/40 [00:00<00:00, 67.56it/s]\n",
      "100%|██████████| 8/8 [00:00<00:00, 75.05it/s]\n",
      "100%|██████████| 40/40 [00:00<00:00, 66.95it/s]\n",
      "100%|██████████| 8/8 [00:00<00:00, 73.89it/s]\n",
      "100%|██████████| 40/40 [00:00<00:00, 69.26it/s]\n",
      "100%|██████████| 8/8 [00:00<00:00, 76.67it/s]\n",
      "100%|██████████| 40/40 [00:00<00:00, 68.57it/s]\n",
      "100%|██████████| 8/8 [00:00<00:00, 73.39it/s]\n"
     ]
    },
    {
     "name": "stdout",
     "output_type": "stream",
     "text": [
      "35 tensor(0.8840, device='cuda:0', dtype=torch.float64)\n"
     ]
    },
    {
     "name": "stderr",
     "output_type": "stream",
     "text": [
      "100%|██████████| 40/40 [00:00<00:00, 64.88it/s]\n",
      "100%|██████████| 8/8 [00:00<00:00, 71.85it/s]\n"
     ]
    },
    {
     "name": "stdout",
     "output_type": "stream",
     "text": [
      "36 tensor(0.8860, device='cuda:0', dtype=torch.float64)\n"
     ]
    },
    {
     "name": "stderr",
     "output_type": "stream",
     "text": [
      "100%|██████████| 40/40 [00:00<00:00, 64.86it/s]\n",
      "100%|██████████| 8/8 [00:00<00:00, 72.03it/s]\n",
      "100%|██████████| 40/40 [00:00<00:00, 58.60it/s]\n",
      "100%|██████████| 8/8 [00:00<00:00, 69.03it/s]\n"
     ]
    },
    {
     "name": "stdout",
     "output_type": "stream",
     "text": [
      "38 tensor(0.8880, device='cuda:0', dtype=torch.float64)\n"
     ]
    },
    {
     "name": "stderr",
     "output_type": "stream",
     "text": [
      "100%|██████████| 40/40 [00:00<00:00, 58.88it/s]\n",
      "100%|██████████| 8/8 [00:00<00:00, 71.28it/s]\n"
     ]
    },
    {
     "name": "stdout",
     "output_type": "stream",
     "text": [
      "39 tensor(0.9000, device='cuda:0', dtype=torch.float64)\n",
      "tensor(0.9000, device='cuda:0', dtype=torch.float64)\n",
      "2500 500\n",
      "TAILLE dataset {'train': 2500, 'val': 500}\n",
      "DATASET SIZE {'train': 2500, 'val': 500}\n"
     ]
    },
    {
     "name": "stderr",
     "output_type": "stream",
     "text": [
      "100%|██████████| 40/40 [00:00<00:00, 55.48it/s]\n",
      "100%|██████████| 8/8 [00:00<00:00, 69.41it/s]\n"
     ]
    },
    {
     "name": "stdout",
     "output_type": "stream",
     "text": [
      "0 tensor(0.0860, device='cuda:0', dtype=torch.float64)\n"
     ]
    },
    {
     "name": "stderr",
     "output_type": "stream",
     "text": [
      "100%|██████████| 40/40 [00:00<00:00, 60.03it/s]\n",
      "100%|██████████| 8/8 [00:00<00:00, 72.38it/s]\n",
      "100%|██████████| 40/40 [00:00<00:00, 59.41it/s]\n",
      "100%|██████████| 8/8 [00:00<00:00, 71.30it/s]\n"
     ]
    },
    {
     "name": "stdout",
     "output_type": "stream",
     "text": [
      "2 tensor(0.1040, device='cuda:0', dtype=torch.float64)\n"
     ]
    },
    {
     "name": "stderr",
     "output_type": "stream",
     "text": [
      "100%|██████████| 40/40 [00:00<00:00, 60.31it/s]\n",
      "100%|██████████| 8/8 [00:00<00:00, 72.42it/s]\n"
     ]
    },
    {
     "name": "stdout",
     "output_type": "stream",
     "text": [
      "3 tensor(0.1840, device='cuda:0', dtype=torch.float64)\n"
     ]
    },
    {
     "name": "stderr",
     "output_type": "stream",
     "text": [
      "100%|██████████| 40/40 [00:00<00:00, 60.74it/s]\n",
      "100%|██████████| 8/8 [00:00<00:00, 72.07it/s]\n"
     ]
    },
    {
     "name": "stdout",
     "output_type": "stream",
     "text": [
      "4 tensor(0.2920, device='cuda:0', dtype=torch.float64)\n"
     ]
    },
    {
     "name": "stderr",
     "output_type": "stream",
     "text": [
      "100%|██████████| 40/40 [00:00<00:00, 60.54it/s]\n",
      "100%|██████████| 8/8 [00:00<00:00, 58.97it/s]\n"
     ]
    },
    {
     "name": "stdout",
     "output_type": "stream",
     "text": [
      "5 tensor(0.3440, device='cuda:0', dtype=torch.float64)\n"
     ]
    },
    {
     "name": "stderr",
     "output_type": "stream",
     "text": [
      "100%|██████████| 40/40 [00:00<00:00, 58.21it/s]\n",
      "100%|██████████| 8/8 [00:00<00:00, 71.89it/s]\n"
     ]
    },
    {
     "name": "stdout",
     "output_type": "stream",
     "text": [
      "6 tensor(0.4000, device='cuda:0', dtype=torch.float64)\n"
     ]
    },
    {
     "name": "stderr",
     "output_type": "stream",
     "text": [
      "100%|██████████| 40/40 [00:00<00:00, 59.41it/s]\n",
      "100%|██████████| 8/8 [00:00<00:00, 71.58it/s]\n"
     ]
    },
    {
     "name": "stdout",
     "output_type": "stream",
     "text": [
      "7 tensor(0.4400, device='cuda:0', dtype=torch.float64)\n"
     ]
    },
    {
     "name": "stderr",
     "output_type": "stream",
     "text": [
      "100%|██████████| 40/40 [00:00<00:00, 59.27it/s]\n",
      "100%|██████████| 8/8 [00:00<00:00, 70.88it/s]\n"
     ]
    },
    {
     "name": "stdout",
     "output_type": "stream",
     "text": [
      "8 tensor(0.4460, device='cuda:0', dtype=torch.float64)\n"
     ]
    },
    {
     "name": "stderr",
     "output_type": "stream",
     "text": [
      "100%|██████████| 40/40 [00:00<00:00, 59.57it/s]\n",
      "100%|██████████| 8/8 [00:00<00:00, 69.40it/s]\n"
     ]
    },
    {
     "name": "stdout",
     "output_type": "stream",
     "text": [
      "9 tensor(0.4480, device='cuda:0', dtype=torch.float64)\n"
     ]
    },
    {
     "name": "stderr",
     "output_type": "stream",
     "text": [
      "100%|██████████| 40/40 [00:00<00:00, 59.43it/s]\n",
      "100%|██████████| 8/8 [00:00<00:00, 71.60it/s]\n"
     ]
    },
    {
     "name": "stdout",
     "output_type": "stream",
     "text": [
      "10 tensor(0.4880, device='cuda:0', dtype=torch.float64)\n"
     ]
    },
    {
     "name": "stderr",
     "output_type": "stream",
     "text": [
      "100%|██████████| 40/40 [00:00<00:00, 59.76it/s]\n",
      "100%|██████████| 8/8 [00:00<00:00, 71.01it/s]\n"
     ]
    },
    {
     "name": "stdout",
     "output_type": "stream",
     "text": [
      "11 tensor(0.5400, device='cuda:0', dtype=torch.float64)\n"
     ]
    },
    {
     "name": "stderr",
     "output_type": "stream",
     "text": [
      "100%|██████████| 40/40 [00:00<00:00, 59.44it/s]\n",
      "100%|██████████| 8/8 [00:00<00:00, 71.18it/s]\n"
     ]
    },
    {
     "name": "stdout",
     "output_type": "stream",
     "text": [
      "12 tensor(0.5760, device='cuda:0', dtype=torch.float64)\n"
     ]
    },
    {
     "name": "stderr",
     "output_type": "stream",
     "text": [
      "100%|██████████| 40/40 [00:00<00:00, 59.17it/s]\n",
      "100%|██████████| 8/8 [00:00<00:00, 70.04it/s]\n"
     ]
    },
    {
     "name": "stdout",
     "output_type": "stream",
     "text": [
      "13 tensor(0.6400, device='cuda:0', dtype=torch.float64)\n"
     ]
    },
    {
     "name": "stderr",
     "output_type": "stream",
     "text": [
      "100%|██████████| 40/40 [00:00<00:00, 60.51it/s]\n",
      "100%|██████████| 8/8 [00:00<00:00, 69.56it/s]\n"
     ]
    },
    {
     "name": "stdout",
     "output_type": "stream",
     "text": [
      "14 tensor(0.6920, device='cuda:0', dtype=torch.float64)\n"
     ]
    },
    {
     "name": "stderr",
     "output_type": "stream",
     "text": [
      "100%|██████████| 40/40 [00:00<00:00, 60.31it/s]\n",
      "100%|██████████| 8/8 [00:00<00:00, 67.45it/s]\n"
     ]
    },
    {
     "name": "stdout",
     "output_type": "stream",
     "text": [
      "15 tensor(0.7340, device='cuda:0', dtype=torch.float64)\n"
     ]
    },
    {
     "name": "stderr",
     "output_type": "stream",
     "text": [
      "100%|██████████| 40/40 [00:00<00:00, 60.66it/s]\n",
      "100%|██████████| 8/8 [00:00<00:00, 68.85it/s]\n"
     ]
    },
    {
     "name": "stdout",
     "output_type": "stream",
     "text": [
      "16 tensor(0.7460, device='cuda:0', dtype=torch.float64)\n"
     ]
    },
    {
     "name": "stderr",
     "output_type": "stream",
     "text": [
      "100%|██████████| 40/40 [00:00<00:00, 60.69it/s]\n",
      "100%|██████████| 8/8 [00:00<00:00, 68.68it/s]\n"
     ]
    },
    {
     "name": "stdout",
     "output_type": "stream",
     "text": [
      "17 tensor(0.7680, device='cuda:0', dtype=torch.float64)\n"
     ]
    },
    {
     "name": "stderr",
     "output_type": "stream",
     "text": [
      "100%|██████████| 40/40 [00:00<00:00, 61.10it/s]\n",
      "100%|██████████| 8/8 [00:00<00:00, 70.27it/s]\n"
     ]
    },
    {
     "name": "stdout",
     "output_type": "stream",
     "text": [
      "18 tensor(0.7940, device='cuda:0', dtype=torch.float64)\n"
     ]
    },
    {
     "name": "stderr",
     "output_type": "stream",
     "text": [
      "100%|██████████| 40/40 [00:00<00:00, 61.80it/s]\n",
      "100%|██████████| 8/8 [00:00<00:00, 69.35it/s]\n"
     ]
    },
    {
     "name": "stdout",
     "output_type": "stream",
     "text": [
      "19 tensor(0.8160, device='cuda:0', dtype=torch.float64)\n"
     ]
    },
    {
     "name": "stderr",
     "output_type": "stream",
     "text": [
      "100%|██████████| 40/40 [00:00<00:00, 61.43it/s]\n",
      "100%|██████████| 8/8 [00:00<00:00, 69.51it/s]\n"
     ]
    },
    {
     "name": "stdout",
     "output_type": "stream",
     "text": [
      "20 tensor(0.8320, device='cuda:0', dtype=torch.float64)\n"
     ]
    },
    {
     "name": "stderr",
     "output_type": "stream",
     "text": [
      "100%|██████████| 40/40 [00:00<00:00, 61.50it/s]\n",
      "100%|██████████| 8/8 [00:00<00:00, 69.63it/s]\n"
     ]
    },
    {
     "name": "stdout",
     "output_type": "stream",
     "text": [
      "21 tensor(0.8520, device='cuda:0', dtype=torch.float64)\n"
     ]
    },
    {
     "name": "stderr",
     "output_type": "stream",
     "text": [
      "100%|██████████| 40/40 [00:00<00:00, 60.97it/s]\n",
      "100%|██████████| 8/8 [00:00<00:00, 67.62it/s]\n",
      "100%|██████████| 40/40 [00:00<00:00, 61.35it/s]\n",
      "100%|██████████| 8/8 [00:00<00:00, 69.29it/s]\n",
      "100%|██████████| 40/40 [00:00<00:00, 61.22it/s]\n",
      "100%|██████████| 8/8 [00:00<00:00, 69.43it/s]\n"
     ]
    },
    {
     "name": "stdout",
     "output_type": "stream",
     "text": [
      "24 tensor(0.8580, device='cuda:0', dtype=torch.float64)\n"
     ]
    },
    {
     "name": "stderr",
     "output_type": "stream",
     "text": [
      "100%|██████████| 40/40 [00:00<00:00, 61.92it/s]\n",
      "100%|██████████| 8/8 [00:00<00:00, 69.83it/s]\n"
     ]
    },
    {
     "name": "stdout",
     "output_type": "stream",
     "text": [
      "25 tensor(0.8740, device='cuda:0', dtype=torch.float64)\n"
     ]
    },
    {
     "name": "stderr",
     "output_type": "stream",
     "text": [
      "100%|██████████| 40/40 [00:00<00:00, 61.55it/s]\n",
      "100%|██████████| 8/8 [00:00<00:00, 69.36it/s]\n"
     ]
    },
    {
     "name": "stdout",
     "output_type": "stream",
     "text": [
      "26 tensor(0.8780, device='cuda:0', dtype=torch.float64)\n"
     ]
    },
    {
     "name": "stderr",
     "output_type": "stream",
     "text": [
      "100%|██████████| 40/40 [00:00<00:00, 61.93it/s]\n",
      "100%|██████████| 8/8 [00:00<00:00, 69.73it/s]\n",
      "100%|██████████| 40/40 [00:00<00:00, 61.42it/s]\n",
      "100%|██████████| 8/8 [00:00<00:00, 70.39it/s]\n",
      "100%|██████████| 40/40 [00:00<00:00, 60.95it/s]\n",
      "100%|██████████| 8/8 [00:00<00:00, 69.33it/s]\n",
      "100%|██████████| 40/40 [00:00<00:00, 53.30it/s]\n",
      "100%|██████████| 8/8 [00:00<00:00, 61.31it/s]\n"
     ]
    },
    {
     "name": "stdout",
     "output_type": "stream",
     "text": [
      "30 tensor(0.8800, device='cuda:0', dtype=torch.float64)\n"
     ]
    },
    {
     "name": "stderr",
     "output_type": "stream",
     "text": [
      "100%|██████████| 40/40 [00:00<00:00, 53.99it/s]\n",
      "100%|██████████| 8/8 [00:00<00:00, 65.04it/s]\n"
     ]
    },
    {
     "name": "stdout",
     "output_type": "stream",
     "text": [
      "31 tensor(0.8820, device='cuda:0', dtype=torch.float64)\n"
     ]
    },
    {
     "name": "stderr",
     "output_type": "stream",
     "text": [
      "100%|██████████| 40/40 [00:00<00:00, 57.45it/s]\n",
      "100%|██████████| 8/8 [00:00<00:00, 77.74it/s]\n"
     ]
    },
    {
     "name": "stdout",
     "output_type": "stream",
     "text": [
      "32 tensor(0.8860, device='cuda:0', dtype=torch.float64)\n"
     ]
    },
    {
     "name": "stderr",
     "output_type": "stream",
     "text": [
      "100%|██████████| 40/40 [00:00<00:00, 63.23it/s]\n",
      "100%|██████████| 8/8 [00:00<00:00, 77.64it/s]\n"
     ]
    },
    {
     "name": "stdout",
     "output_type": "stream",
     "text": [
      "33 tensor(0.8880, device='cuda:0', dtype=torch.float64)\n"
     ]
    },
    {
     "name": "stderr",
     "output_type": "stream",
     "text": [
      "100%|██████████| 40/40 [00:00<00:00, 61.63it/s]\n",
      "100%|██████████| 8/8 [00:00<00:00, 75.97it/s]\n",
      "100%|██████████| 40/40 [00:00<00:00, 59.38it/s]\n",
      "100%|██████████| 8/8 [00:00<00:00, 69.70it/s]\n",
      "100%|██████████| 40/40 [00:00<00:00, 57.46it/s]\n",
      "100%|██████████| 8/8 [00:00<00:00, 69.60it/s]\n",
      "100%|██████████| 40/40 [00:00<00:00, 57.90it/s]\n",
      "100%|██████████| 8/8 [00:00<00:00, 70.83it/s]\n",
      "100%|██████████| 40/40 [00:00<00:00, 57.72it/s]\n",
      "100%|██████████| 8/8 [00:00<00:00, 69.91it/s]\n"
     ]
    },
    {
     "name": "stdout",
     "output_type": "stream",
     "text": [
      "38 tensor(0.9020, device='cuda:0', dtype=torch.float64)\n"
     ]
    },
    {
     "name": "stderr",
     "output_type": "stream",
     "text": [
      "100%|██████████| 40/40 [00:00<00:00, 57.41it/s]\n",
      "100%|██████████| 8/8 [00:00<00:00, 71.35it/s]\n"
     ]
    },
    {
     "name": "stdout",
     "output_type": "stream",
     "text": [
      "tensor(0.9020, device='cuda:0', dtype=torch.float64)\n",
      "2500 500\n",
      "TAILLE dataset {'train': 2500, 'val': 500}\n",
      "DATASET SIZE {'train': 2500, 'val': 500}\n"
     ]
    },
    {
     "name": "stderr",
     "output_type": "stream",
     "text": [
      "100%|██████████| 40/40 [00:00<00:00, 57.58it/s]\n",
      "100%|██████████| 8/8 [00:00<00:00, 71.01it/s]\n"
     ]
    },
    {
     "name": "stdout",
     "output_type": "stream",
     "text": [
      "0 tensor(0.1120, device='cuda:0', dtype=torch.float64)\n"
     ]
    },
    {
     "name": "stderr",
     "output_type": "stream",
     "text": [
      "100%|██████████| 40/40 [00:00<00:00, 57.48it/s]\n",
      "100%|██████████| 8/8 [00:00<00:00, 70.15it/s]\n"
     ]
    },
    {
     "name": "stdout",
     "output_type": "stream",
     "text": [
      "1 tensor(0.1420, device='cuda:0', dtype=torch.float64)\n"
     ]
    },
    {
     "name": "stderr",
     "output_type": "stream",
     "text": [
      "100%|██████████| 40/40 [00:00<00:00, 58.07it/s]\n",
      "100%|██████████| 8/8 [00:00<00:00, 73.52it/s]\n"
     ]
    },
    {
     "name": "stdout",
     "output_type": "stream",
     "text": [
      "2 tensor(0.2080, device='cuda:0', dtype=torch.float64)\n"
     ]
    },
    {
     "name": "stderr",
     "output_type": "stream",
     "text": [
      "100%|██████████| 40/40 [00:00<00:00, 59.14it/s]\n",
      "100%|██████████| 8/8 [00:00<00:00, 72.46it/s]\n"
     ]
    },
    {
     "name": "stdout",
     "output_type": "stream",
     "text": [
      "3 tensor(0.2720, device='cuda:0', dtype=torch.float64)\n"
     ]
    },
    {
     "name": "stderr",
     "output_type": "stream",
     "text": [
      "100%|██████████| 40/40 [00:00<00:00, 59.69it/s]\n",
      "100%|██████████| 8/8 [00:00<00:00, 75.91it/s]\n"
     ]
    },
    {
     "name": "stdout",
     "output_type": "stream",
     "text": [
      "4 tensor(0.3360, device='cuda:0', dtype=torch.float64)\n"
     ]
    },
    {
     "name": "stderr",
     "output_type": "stream",
     "text": [
      "100%|██████████| 40/40 [00:00<00:00, 61.09it/s]\n",
      "100%|██████████| 8/8 [00:00<00:00, 73.81it/s]\n"
     ]
    },
    {
     "name": "stdout",
     "output_type": "stream",
     "text": [
      "5 tensor(0.3580, device='cuda:0', dtype=torch.float64)\n"
     ]
    },
    {
     "name": "stderr",
     "output_type": "stream",
     "text": [
      "100%|██████████| 40/40 [00:00<00:00, 58.44it/s]\n",
      "100%|██████████| 8/8 [00:00<00:00, 71.21it/s]\n"
     ]
    },
    {
     "name": "stdout",
     "output_type": "stream",
     "text": [
      "6 tensor(0.4300, device='cuda:0', dtype=torch.float64)\n"
     ]
    },
    {
     "name": "stderr",
     "output_type": "stream",
     "text": [
      "100%|██████████| 40/40 [00:00<00:00, 57.27it/s]\n",
      "100%|██████████| 8/8 [00:00<00:00, 69.22it/s]\n"
     ]
    },
    {
     "name": "stdout",
     "output_type": "stream",
     "text": [
      "7 tensor(0.4960, device='cuda:0', dtype=torch.float64)\n"
     ]
    },
    {
     "name": "stderr",
     "output_type": "stream",
     "text": [
      "100%|██████████| 40/40 [00:00<00:00, 57.52it/s]\n",
      "100%|██████████| 8/8 [00:00<00:00, 70.70it/s]\n"
     ]
    },
    {
     "name": "stdout",
     "output_type": "stream",
     "text": [
      "8 tensor(0.5720, device='cuda:0', dtype=torch.float64)\n"
     ]
    },
    {
     "name": "stderr",
     "output_type": "stream",
     "text": [
      "100%|██████████| 40/40 [00:00<00:00, 59.06it/s]\n",
      "100%|██████████| 8/8 [00:00<00:00, 72.08it/s]\n"
     ]
    },
    {
     "name": "stdout",
     "output_type": "stream",
     "text": [
      "9 tensor(0.6040, device='cuda:0', dtype=torch.float64)\n"
     ]
    },
    {
     "name": "stderr",
     "output_type": "stream",
     "text": [
      "100%|██████████| 40/40 [00:00<00:00, 59.05it/s]\n",
      "100%|██████████| 8/8 [00:00<00:00, 72.93it/s]\n"
     ]
    },
    {
     "name": "stdout",
     "output_type": "stream",
     "text": [
      "10 tensor(0.6320, device='cuda:0', dtype=torch.float64)\n"
     ]
    },
    {
     "name": "stderr",
     "output_type": "stream",
     "text": [
      "100%|██████████| 40/40 [00:00<00:00, 58.67it/s]\n",
      "100%|██████████| 8/8 [00:00<00:00, 72.46it/s]\n"
     ]
    },
    {
     "name": "stdout",
     "output_type": "stream",
     "text": [
      "11 tensor(0.6700, device='cuda:0', dtype=torch.float64)\n"
     ]
    },
    {
     "name": "stderr",
     "output_type": "stream",
     "text": [
      "100%|██████████| 40/40 [00:00<00:00, 59.09it/s]\n",
      "100%|██████████| 8/8 [00:00<00:00, 72.84it/s]\n"
     ]
    },
    {
     "name": "stdout",
     "output_type": "stream",
     "text": [
      "12 tensor(0.6900, device='cuda:0', dtype=torch.float64)\n"
     ]
    },
    {
     "name": "stderr",
     "output_type": "stream",
     "text": [
      "100%|██████████| 40/40 [00:00<00:00, 58.93it/s]\n",
      "100%|██████████| 8/8 [00:00<00:00, 72.87it/s]\n",
      "100%|██████████| 40/40 [00:00<00:00, 51.67it/s]\n",
      "100%|██████████| 8/8 [00:00<00:00, 71.73it/s]\n",
      "100%|██████████| 40/40 [00:00<00:00, 59.44it/s]\n",
      "100%|██████████| 8/8 [00:00<00:00, 71.37it/s]\n"
     ]
    },
    {
     "name": "stdout",
     "output_type": "stream",
     "text": [
      "15 tensor(0.7180, device='cuda:0', dtype=torch.float64)\n"
     ]
    },
    {
     "name": "stderr",
     "output_type": "stream",
     "text": [
      "100%|██████████| 40/40 [00:00<00:00, 59.08it/s]\n",
      "100%|██████████| 8/8 [00:00<00:00, 72.75it/s]\n"
     ]
    },
    {
     "name": "stdout",
     "output_type": "stream",
     "text": [
      "16 tensor(0.7480, device='cuda:0', dtype=torch.float64)\n"
     ]
    },
    {
     "name": "stderr",
     "output_type": "stream",
     "text": [
      "100%|██████████| 40/40 [00:00<00:00, 59.16it/s]\n",
      "100%|██████████| 8/8 [00:00<00:00, 73.48it/s]\n"
     ]
    },
    {
     "name": "stdout",
     "output_type": "stream",
     "text": [
      "17 tensor(0.7520, device='cuda:0', dtype=torch.float64)\n"
     ]
    },
    {
     "name": "stderr",
     "output_type": "stream",
     "text": [
      "100%|██████████| 40/40 [00:00<00:00, 58.65it/s]\n",
      "100%|██████████| 8/8 [00:00<00:00, 71.30it/s]\n"
     ]
    },
    {
     "name": "stdout",
     "output_type": "stream",
     "text": [
      "18 tensor(0.7760, device='cuda:0', dtype=torch.float64)\n"
     ]
    },
    {
     "name": "stderr",
     "output_type": "stream",
     "text": [
      "100%|██████████| 40/40 [00:00<00:00, 59.19it/s]\n",
      "100%|██████████| 8/8 [00:00<00:00, 73.11it/s]\n"
     ]
    },
    {
     "name": "stdout",
     "output_type": "stream",
     "text": [
      "19 tensor(0.7960, device='cuda:0', dtype=torch.float64)\n"
     ]
    },
    {
     "name": "stderr",
     "output_type": "stream",
     "text": [
      "100%|██████████| 40/40 [00:00<00:00, 59.20it/s]\n",
      "100%|██████████| 8/8 [00:00<00:00, 71.13it/s]\n"
     ]
    },
    {
     "name": "stdout",
     "output_type": "stream",
     "text": [
      "20 tensor(0.8040, device='cuda:0', dtype=torch.float64)\n"
     ]
    },
    {
     "name": "stderr",
     "output_type": "stream",
     "text": [
      "100%|██████████| 40/40 [00:00<00:00, 59.18it/s]\n",
      "100%|██████████| 8/8 [00:00<00:00, 73.16it/s]\n"
     ]
    },
    {
     "name": "stdout",
     "output_type": "stream",
     "text": [
      "21 tensor(0.8140, device='cuda:0', dtype=torch.float64)\n"
     ]
    },
    {
     "name": "stderr",
     "output_type": "stream",
     "text": [
      "100%|██████████| 40/40 [00:00<00:00, 59.32it/s]\n",
      "100%|██████████| 8/8 [00:00<00:00, 73.88it/s]\n"
     ]
    },
    {
     "name": "stdout",
     "output_type": "stream",
     "text": [
      "22 tensor(0.8280, device='cuda:0', dtype=torch.float64)\n"
     ]
    },
    {
     "name": "stderr",
     "output_type": "stream",
     "text": [
      "100%|██████████| 40/40 [00:00<00:00, 59.17it/s]\n",
      "100%|██████████| 8/8 [00:00<00:00, 72.05it/s]\n",
      "100%|██████████| 40/40 [00:00<00:00, 59.29it/s]\n",
      "100%|██████████| 8/8 [00:00<00:00, 72.26it/s]\n",
      "100%|██████████| 40/40 [00:00<00:00, 59.31it/s]\n",
      "100%|██████████| 8/8 [00:00<00:00, 73.15it/s]\n"
     ]
    },
    {
     "name": "stdout",
     "output_type": "stream",
     "text": [
      "25 tensor(0.8380, device='cuda:0', dtype=torch.float64)\n"
     ]
    },
    {
     "name": "stderr",
     "output_type": "stream",
     "text": [
      "100%|██████████| 40/40 [00:00<00:00, 58.79it/s]\n",
      "100%|██████████| 8/8 [00:00<00:00, 73.17it/s]\n",
      "100%|██████████| 40/40 [00:00<00:00, 59.46it/s]\n",
      "100%|██████████| 8/8 [00:00<00:00, 72.12it/s]\n"
     ]
    },
    {
     "name": "stdout",
     "output_type": "stream",
     "text": [
      "27 tensor(0.8500, device='cuda:0', dtype=torch.float64)\n"
     ]
    },
    {
     "name": "stderr",
     "output_type": "stream",
     "text": [
      "100%|██████████| 40/40 [00:00<00:00, 59.40it/s]\n",
      "100%|██████████| 8/8 [00:00<00:00, 72.20it/s]\n",
      "100%|██████████| 40/40 [00:00<00:00, 59.38it/s]\n",
      "100%|██████████| 8/8 [00:00<00:00, 72.75it/s]\n"
     ]
    },
    {
     "name": "stdout",
     "output_type": "stream",
     "text": [
      "29 tensor(0.8600, device='cuda:0', dtype=torch.float64)\n"
     ]
    },
    {
     "name": "stderr",
     "output_type": "stream",
     "text": [
      "100%|██████████| 40/40 [00:00<00:00, 59.22it/s]\n",
      "100%|██████████| 8/8 [00:00<00:00, 71.99it/s]\n"
     ]
    },
    {
     "name": "stdout",
     "output_type": "stream",
     "text": [
      "30 tensor(0.8640, device='cuda:0', dtype=torch.float64)\n"
     ]
    },
    {
     "name": "stderr",
     "output_type": "stream",
     "text": [
      "100%|██████████| 40/40 [00:00<00:00, 59.30it/s]\n",
      "100%|██████████| 8/8 [00:00<00:00, 71.62it/s]\n",
      "100%|██████████| 40/40 [00:00<00:00, 59.34it/s]\n",
      "100%|██████████| 8/8 [00:00<00:00, 72.81it/s]\n",
      "100%|██████████| 40/40 [00:00<00:00, 59.22it/s]\n",
      "100%|██████████| 8/8 [00:00<00:00, 71.67it/s]\n",
      "100%|██████████| 40/40 [00:00<00:00, 59.30it/s]\n",
      "100%|██████████| 8/8 [00:00<00:00, 72.65it/s]\n"
     ]
    },
    {
     "name": "stdout",
     "output_type": "stream",
     "text": [
      "34 tensor(0.8700, device='cuda:0', dtype=torch.float64)\n"
     ]
    },
    {
     "name": "stderr",
     "output_type": "stream",
     "text": [
      "100%|██████████| 40/40 [00:00<00:00, 59.44it/s]\n",
      "100%|██████████| 8/8 [00:00<00:00, 73.11it/s]\n"
     ]
    },
    {
     "name": "stdout",
     "output_type": "stream",
     "text": [
      "35 tensor(0.8840, device='cuda:0', dtype=torch.float64)\n"
     ]
    },
    {
     "name": "stderr",
     "output_type": "stream",
     "text": [
      "100%|██████████| 40/40 [00:00<00:00, 59.21it/s]\n",
      "100%|██████████| 8/8 [00:00<00:00, 73.39it/s]\n",
      "100%|██████████| 40/40 [00:00<00:00, 59.04it/s]\n",
      "100%|██████████| 8/8 [00:00<00:00, 71.95it/s]\n",
      "100%|██████████| 40/40 [00:00<00:00, 59.69it/s]\n",
      "100%|██████████| 8/8 [00:00<00:00, 74.20it/s]\n",
      "100%|██████████| 40/40 [00:00<00:00, 59.98it/s]\n",
      "100%|██████████| 8/8 [00:00<00:00, 72.27it/s]\n"
     ]
    },
    {
     "name": "stdout",
     "output_type": "stream",
     "text": [
      "tensor(0.8840, device='cuda:0', dtype=torch.float64)\n",
      "2500 500\n",
      "TAILLE dataset {'train': 2500, 'val': 500}\n",
      "DATASET SIZE {'train': 2500, 'val': 500}\n"
     ]
    },
    {
     "name": "stderr",
     "output_type": "stream",
     "text": [
      "100%|██████████| 40/40 [00:00<00:00, 59.62it/s]\n",
      "100%|██████████| 8/8 [00:00<00:00, 76.01it/s]\n"
     ]
    },
    {
     "name": "stdout",
     "output_type": "stream",
     "text": [
      "0 tensor(0.1080, device='cuda:0', dtype=torch.float64)\n"
     ]
    },
    {
     "name": "stderr",
     "output_type": "stream",
     "text": [
      "100%|██████████| 40/40 [00:00<00:00, 62.20it/s]\n",
      "100%|██████████| 8/8 [00:00<00:00, 76.88it/s]\n",
      "100%|██████████| 40/40 [00:00<00:00, 62.80it/s]\n",
      "100%|██████████| 8/8 [00:00<00:00, 75.92it/s]\n",
      "100%|██████████| 40/40 [00:00<00:00, 61.21it/s]\n",
      "100%|██████████| 8/8 [00:00<00:00, 72.54it/s]\n",
      "100%|██████████| 40/40 [00:00<00:00, 59.31it/s]\n",
      "100%|██████████| 8/8 [00:00<00:00, 73.11it/s]\n"
     ]
    },
    {
     "name": "stdout",
     "output_type": "stream",
     "text": [
      "4 tensor(0.1840, device='cuda:0', dtype=torch.float64)\n"
     ]
    },
    {
     "name": "stderr",
     "output_type": "stream",
     "text": [
      "100%|██████████| 40/40 [00:00<00:00, 59.33it/s]\n",
      "100%|██████████| 8/8 [00:00<00:00, 73.01it/s]\n"
     ]
    },
    {
     "name": "stdout",
     "output_type": "stream",
     "text": [
      "5 tensor(0.2260, device='cuda:0', dtype=torch.float64)\n"
     ]
    },
    {
     "name": "stderr",
     "output_type": "stream",
     "text": [
      "100%|██████████| 40/40 [00:00<00:00, 59.11it/s]\n",
      "100%|██████████| 8/8 [00:00<00:00, 72.63it/s]\n"
     ]
    },
    {
     "name": "stdout",
     "output_type": "stream",
     "text": [
      "6 tensor(0.3000, device='cuda:0', dtype=torch.float64)\n"
     ]
    },
    {
     "name": "stderr",
     "output_type": "stream",
     "text": [
      "100%|██████████| 40/40 [00:00<00:00, 58.73it/s]\n",
      "100%|██████████| 8/8 [00:00<00:00, 72.12it/s]\n"
     ]
    },
    {
     "name": "stdout",
     "output_type": "stream",
     "text": [
      "7 tensor(0.3940, device='cuda:0', dtype=torch.float64)\n"
     ]
    },
    {
     "name": "stderr",
     "output_type": "stream",
     "text": [
      "100%|██████████| 40/40 [00:00<00:00, 59.10it/s]\n",
      "100%|██████████| 8/8 [00:00<00:00, 72.88it/s]\n"
     ]
    },
    {
     "name": "stdout",
     "output_type": "stream",
     "text": [
      "8 tensor(0.4480, device='cuda:0', dtype=torch.float64)\n"
     ]
    },
    {
     "name": "stderr",
     "output_type": "stream",
     "text": [
      "100%|██████████| 40/40 [00:00<00:00, 58.91it/s]\n",
      "100%|██████████| 8/8 [00:00<00:00, 71.30it/s]\n"
     ]
    },
    {
     "name": "stdout",
     "output_type": "stream",
     "text": [
      "9 tensor(0.5040, device='cuda:0', dtype=torch.float64)\n"
     ]
    },
    {
     "name": "stderr",
     "output_type": "stream",
     "text": [
      "100%|██████████| 40/40 [00:00<00:00, 58.96it/s]\n",
      "100%|██████████| 8/8 [00:00<00:00, 72.45it/s]\n"
     ]
    },
    {
     "name": "stdout",
     "output_type": "stream",
     "text": [
      "10 tensor(0.5340, device='cuda:0', dtype=torch.float64)\n"
     ]
    },
    {
     "name": "stderr",
     "output_type": "stream",
     "text": [
      "100%|██████████| 40/40 [00:00<00:00, 60.17it/s]\n",
      "100%|██████████| 8/8 [00:00<00:00, 74.34it/s]\n"
     ]
    },
    {
     "name": "stdout",
     "output_type": "stream",
     "text": [
      "11 tensor(0.5600, device='cuda:0', dtype=torch.float64)\n"
     ]
    },
    {
     "name": "stderr",
     "output_type": "stream",
     "text": [
      "100%|██████████| 40/40 [00:00<00:00, 61.37it/s]\n",
      "100%|██████████| 8/8 [00:00<00:00, 75.31it/s]\n"
     ]
    },
    {
     "name": "stdout",
     "output_type": "stream",
     "text": [
      "12 tensor(0.5900, device='cuda:0', dtype=torch.float64)\n"
     ]
    },
    {
     "name": "stderr",
     "output_type": "stream",
     "text": [
      "100%|██████████| 40/40 [00:00<00:00, 61.59it/s]\n",
      "100%|██████████| 8/8 [00:00<00:00, 77.14it/s]\n"
     ]
    },
    {
     "name": "stdout",
     "output_type": "stream",
     "text": [
      "13 tensor(0.6060, device='cuda:0', dtype=torch.float64)\n"
     ]
    },
    {
     "name": "stderr",
     "output_type": "stream",
     "text": [
      "100%|██████████| 40/40 [00:00<00:00, 61.49it/s]\n",
      "100%|██████████| 8/8 [00:00<00:00, 72.27it/s]\n"
     ]
    },
    {
     "name": "stdout",
     "output_type": "stream",
     "text": [
      "14 tensor(0.6260, device='cuda:0', dtype=torch.float64)\n"
     ]
    },
    {
     "name": "stderr",
     "output_type": "stream",
     "text": [
      "100%|██████████| 40/40 [00:00<00:00, 59.25it/s]\n",
      "100%|██████████| 8/8 [00:00<00:00, 72.87it/s]\n"
     ]
    },
    {
     "name": "stdout",
     "output_type": "stream",
     "text": [
      "15 tensor(0.6440, device='cuda:0', dtype=torch.float64)\n"
     ]
    },
    {
     "name": "stderr",
     "output_type": "stream",
     "text": [
      "100%|██████████| 40/40 [00:00<00:00, 58.96it/s]\n",
      "100%|██████████| 8/8 [00:00<00:00, 72.79it/s]\n",
      "100%|██████████| 40/40 [00:00<00:00, 59.50it/s]\n",
      "100%|██████████| 8/8 [00:00<00:00, 72.29it/s]\n"
     ]
    },
    {
     "name": "stdout",
     "output_type": "stream",
     "text": [
      "17 tensor(0.6660, device='cuda:0', dtype=torch.float64)\n"
     ]
    },
    {
     "name": "stderr",
     "output_type": "stream",
     "text": [
      "100%|██████████| 40/40 [00:00<00:00, 58.98it/s]\n",
      "100%|██████████| 8/8 [00:00<00:00, 72.46it/s]\n"
     ]
    },
    {
     "name": "stdout",
     "output_type": "stream",
     "text": [
      "18 tensor(0.6760, device='cuda:0', dtype=torch.float64)\n"
     ]
    },
    {
     "name": "stderr",
     "output_type": "stream",
     "text": [
      "100%|██████████| 40/40 [00:00<00:00, 59.22it/s]\n",
      "100%|██████████| 8/8 [00:00<00:00, 71.60it/s]\n"
     ]
    },
    {
     "name": "stdout",
     "output_type": "stream",
     "text": [
      "19 tensor(0.7240, device='cuda:0', dtype=torch.float64)\n"
     ]
    },
    {
     "name": "stderr",
     "output_type": "stream",
     "text": [
      "100%|██████████| 40/40 [00:00<00:00, 58.99it/s]\n",
      "100%|██████████| 8/8 [00:00<00:00, 71.01it/s]\n"
     ]
    },
    {
     "name": "stdout",
     "output_type": "stream",
     "text": [
      "20 tensor(0.7660, device='cuda:0', dtype=torch.float64)\n"
     ]
    },
    {
     "name": "stderr",
     "output_type": "stream",
     "text": [
      "100%|██████████| 40/40 [00:00<00:00, 58.32it/s]\n",
      "100%|██████████| 8/8 [00:00<00:00, 71.67it/s]\n"
     ]
    },
    {
     "name": "stdout",
     "output_type": "stream",
     "text": [
      "21 tensor(0.7800, device='cuda:0', dtype=torch.float64)\n"
     ]
    },
    {
     "name": "stderr",
     "output_type": "stream",
     "text": [
      "100%|██████████| 40/40 [00:00<00:00, 58.17it/s]\n",
      "100%|██████████| 8/8 [00:00<00:00, 60.20it/s]\n"
     ]
    },
    {
     "name": "stdout",
     "output_type": "stream",
     "text": [
      "22 tensor(0.7900, device='cuda:0', dtype=torch.float64)\n"
     ]
    },
    {
     "name": "stderr",
     "output_type": "stream",
     "text": [
      "100%|██████████| 40/40 [00:00<00:00, 57.92it/s]\n",
      "100%|██████████| 8/8 [00:00<00:00, 70.68it/s]\n",
      "100%|██████████| 40/40 [00:00<00:00, 58.63it/s]\n",
      "100%|██████████| 8/8 [00:00<00:00, 69.04it/s]\n"
     ]
    },
    {
     "name": "stdout",
     "output_type": "stream",
     "text": [
      "24 tensor(0.8060, device='cuda:0', dtype=torch.float64)\n"
     ]
    },
    {
     "name": "stderr",
     "output_type": "stream",
     "text": [
      "100%|██████████| 40/40 [00:00<00:00, 58.40it/s]\n",
      "100%|██████████| 8/8 [00:00<00:00, 70.61it/s]\n"
     ]
    },
    {
     "name": "stdout",
     "output_type": "stream",
     "text": [
      "25 tensor(0.8260, device='cuda:0', dtype=torch.float64)\n"
     ]
    },
    {
     "name": "stderr",
     "output_type": "stream",
     "text": [
      "100%|██████████| 40/40 [00:00<00:00, 58.13it/s]\n",
      "100%|██████████| 8/8 [00:00<00:00, 68.53it/s]\n"
     ]
    },
    {
     "name": "stdout",
     "output_type": "stream",
     "text": [
      "26 tensor(0.8420, device='cuda:0', dtype=torch.float64)\n"
     ]
    },
    {
     "name": "stderr",
     "output_type": "stream",
     "text": [
      "100%|██████████| 40/40 [00:00<00:00, 56.99it/s]\n",
      "100%|██████████| 8/8 [00:00<00:00, 68.51it/s]\n",
      "100%|██████████| 40/40 [00:00<00:00, 57.74it/s]\n",
      "100%|██████████| 8/8 [00:00<00:00, 68.60it/s]\n"
     ]
    },
    {
     "name": "stdout",
     "output_type": "stream",
     "text": [
      "28 tensor(0.8560, device='cuda:0', dtype=torch.float64)\n"
     ]
    },
    {
     "name": "stderr",
     "output_type": "stream",
     "text": [
      "100%|██████████| 40/40 [00:00<00:00, 58.41it/s]\n",
      "100%|██████████| 8/8 [00:00<00:00, 68.23it/s]\n"
     ]
    },
    {
     "name": "stdout",
     "output_type": "stream",
     "text": [
      "29 tensor(0.8640, device='cuda:0', dtype=torch.float64)\n"
     ]
    },
    {
     "name": "stderr",
     "output_type": "stream",
     "text": [
      "100%|██████████| 40/40 [00:00<00:00, 57.05it/s]\n",
      "100%|██████████| 8/8 [00:00<00:00, 70.26it/s]\n",
      "100%|██████████| 40/40 [00:00<00:00, 58.96it/s]\n",
      "100%|██████████| 8/8 [00:00<00:00, 69.79it/s]\n",
      "100%|██████████| 40/40 [00:00<00:00, 59.02it/s]\n",
      "100%|██████████| 8/8 [00:00<00:00, 59.88it/s]\n"
     ]
    },
    {
     "name": "stdout",
     "output_type": "stream",
     "text": [
      "32 tensor(0.8720, device='cuda:0', dtype=torch.float64)\n"
     ]
    },
    {
     "name": "stderr",
     "output_type": "stream",
     "text": [
      "100%|██████████| 40/40 [00:00<00:00, 57.80it/s]\n",
      "100%|██████████| 8/8 [00:00<00:00, 67.92it/s]\n",
      "100%|██████████| 40/40 [00:00<00:00, 58.38it/s]\n",
      "100%|██████████| 8/8 [00:00<00:00, 69.83it/s]\n"
     ]
    },
    {
     "name": "stdout",
     "output_type": "stream",
     "text": [
      "34 tensor(0.8760, device='cuda:0', dtype=torch.float64)\n"
     ]
    },
    {
     "name": "stderr",
     "output_type": "stream",
     "text": [
      "100%|██████████| 40/40 [00:00<00:00, 59.01it/s]\n",
      "100%|██████████| 8/8 [00:00<00:00, 71.86it/s]\n"
     ]
    },
    {
     "name": "stdout",
     "output_type": "stream",
     "text": [
      "35 tensor(0.8800, device='cuda:0', dtype=torch.float64)\n"
     ]
    },
    {
     "name": "stderr",
     "output_type": "stream",
     "text": [
      "100%|██████████| 40/40 [00:00<00:00, 59.72it/s]\n",
      "100%|██████████| 8/8 [00:00<00:00, 71.99it/s]\n"
     ]
    },
    {
     "name": "stdout",
     "output_type": "stream",
     "text": [
      "36 tensor(0.8820, device='cuda:0', dtype=torch.float64)\n"
     ]
    },
    {
     "name": "stderr",
     "output_type": "stream",
     "text": [
      "100%|██████████| 40/40 [00:00<00:00, 59.70it/s]\n",
      "100%|██████████| 8/8 [00:00<00:00, 70.94it/s]\n",
      "100%|██████████| 40/40 [00:00<00:00, 59.37it/s]\n",
      "100%|██████████| 8/8 [00:00<00:00, 71.08it/s]\n",
      "100%|██████████| 40/40 [00:00<00:00, 59.31it/s]\n",
      "100%|██████████| 8/8 [00:00<00:00, 70.84it/s]\n"
     ]
    },
    {
     "name": "stdout",
     "output_type": "stream",
     "text": [
      "39 tensor(0.8840, device='cuda:0', dtype=torch.float64)\n",
      "tensor(0.8840, device='cuda:0', dtype=torch.float64)\n",
      "2500 500\n",
      "TAILLE dataset {'train': 2500, 'val': 500}\n",
      "DATASET SIZE {'train': 2500, 'val': 500}\n"
     ]
    },
    {
     "name": "stderr",
     "output_type": "stream",
     "text": [
      "100%|██████████| 40/40 [00:00<00:00, 57.86it/s]\n",
      "100%|██████████| 8/8 [00:00<00:00, 70.27it/s]\n"
     ]
    },
    {
     "name": "stdout",
     "output_type": "stream",
     "text": [
      "0 tensor(0.1080, device='cuda:0', dtype=torch.float64)\n"
     ]
    },
    {
     "name": "stderr",
     "output_type": "stream",
     "text": [
      "100%|██████████| 40/40 [00:00<00:00, 57.33it/s]\n",
      "100%|██████████| 8/8 [00:00<00:00, 70.61it/s]\n"
     ]
    },
    {
     "name": "stdout",
     "output_type": "stream",
     "text": [
      "1 tensor(0.1520, device='cuda:0', dtype=torch.float64)\n"
     ]
    },
    {
     "name": "stderr",
     "output_type": "stream",
     "text": [
      "100%|██████████| 40/40 [00:00<00:00, 58.90it/s]\n",
      "100%|██████████| 8/8 [00:00<00:00, 71.45it/s]\n"
     ]
    },
    {
     "name": "stdout",
     "output_type": "stream",
     "text": [
      "2 tensor(0.1880, device='cuda:0', dtype=torch.float64)\n"
     ]
    },
    {
     "name": "stderr",
     "output_type": "stream",
     "text": [
      "100%|██████████| 40/40 [00:00<00:00, 57.63it/s]\n",
      "100%|██████████| 8/8 [00:00<00:00, 61.71it/s]\n"
     ]
    },
    {
     "name": "stdout",
     "output_type": "stream",
     "text": [
      "3 tensor(0.2440, device='cuda:0', dtype=torch.float64)\n"
     ]
    },
    {
     "name": "stderr",
     "output_type": "stream",
     "text": [
      "100%|██████████| 40/40 [00:00<00:00, 58.51it/s]\n",
      "100%|██████████| 8/8 [00:00<00:00, 71.93it/s]\n"
     ]
    },
    {
     "name": "stdout",
     "output_type": "stream",
     "text": [
      "4 tensor(0.2740, device='cuda:0', dtype=torch.float64)\n"
     ]
    },
    {
     "name": "stderr",
     "output_type": "stream",
     "text": [
      "100%|██████████| 40/40 [00:00<00:00, 59.61it/s]\n",
      "100%|██████████| 8/8 [00:00<00:00, 71.14it/s]\n"
     ]
    },
    {
     "name": "stdout",
     "output_type": "stream",
     "text": [
      "5 tensor(0.3340, device='cuda:0', dtype=torch.float64)\n"
     ]
    },
    {
     "name": "stderr",
     "output_type": "stream",
     "text": [
      "100%|██████████| 40/40 [00:00<00:00, 59.22it/s]\n",
      "100%|██████████| 8/8 [00:00<00:00, 71.01it/s]\n"
     ]
    },
    {
     "name": "stdout",
     "output_type": "stream",
     "text": [
      "6 tensor(0.4120, device='cuda:0', dtype=torch.float64)\n"
     ]
    },
    {
     "name": "stderr",
     "output_type": "stream",
     "text": [
      "100%|██████████| 40/40 [00:00<00:00, 59.23it/s]\n",
      "100%|██████████| 8/8 [00:00<00:00, 69.58it/s]\n"
     ]
    },
    {
     "name": "stdout",
     "output_type": "stream",
     "text": [
      "7 tensor(0.4840, device='cuda:0', dtype=torch.float64)\n"
     ]
    },
    {
     "name": "stderr",
     "output_type": "stream",
     "text": [
      "100%|██████████| 40/40 [00:00<00:00, 61.27it/s]\n",
      "100%|██████████| 8/8 [00:00<00:00, 62.52it/s]\n"
     ]
    },
    {
     "name": "stdout",
     "output_type": "stream",
     "text": [
      "8 tensor(0.5440, device='cuda:0', dtype=torch.float64)\n"
     ]
    },
    {
     "name": "stderr",
     "output_type": "stream",
     "text": [
      "100%|██████████| 40/40 [00:00<00:00, 55.63it/s]\n",
      "100%|██████████| 8/8 [00:00<00:00, 65.60it/s]\n"
     ]
    },
    {
     "name": "stdout",
     "output_type": "stream",
     "text": [
      "9 tensor(0.5860, device='cuda:0', dtype=torch.float64)\n"
     ]
    },
    {
     "name": "stderr",
     "output_type": "stream",
     "text": [
      "100%|██████████| 40/40 [00:00<00:00, 55.74it/s]\n",
      "100%|██████████| 8/8 [00:00<00:00, 65.33it/s]\n"
     ]
    },
    {
     "name": "stdout",
     "output_type": "stream",
     "text": [
      "10 tensor(0.6100, device='cuda:0', dtype=torch.float64)\n"
     ]
    },
    {
     "name": "stderr",
     "output_type": "stream",
     "text": [
      "100%|██████████| 40/40 [00:00<00:00, 55.33it/s]\n",
      "100%|██████████| 8/8 [00:00<00:00, 65.51it/s]\n"
     ]
    },
    {
     "name": "stdout",
     "output_type": "stream",
     "text": [
      "11 tensor(0.6360, device='cuda:0', dtype=torch.float64)\n"
     ]
    },
    {
     "name": "stderr",
     "output_type": "stream",
     "text": [
      "100%|██████████| 40/40 [00:00<00:00, 53.37it/s]\n",
      "100%|██████████| 8/8 [00:00<00:00, 60.26it/s]\n"
     ]
    },
    {
     "name": "stdout",
     "output_type": "stream",
     "text": [
      "12 tensor(0.6520, device='cuda:0', dtype=torch.float64)\n"
     ]
    },
    {
     "name": "stderr",
     "output_type": "stream",
     "text": [
      "100%|██████████| 40/40 [00:00<00:00, 51.30it/s]\n",
      "100%|██████████| 8/8 [00:00<00:00, 60.42it/s]\n"
     ]
    },
    {
     "name": "stdout",
     "output_type": "stream",
     "text": [
      "13 tensor(0.6880, device='cuda:0', dtype=torch.float64)\n"
     ]
    },
    {
     "name": "stderr",
     "output_type": "stream",
     "text": [
      "100%|██████████| 40/40 [00:00<00:00, 51.89it/s]\n",
      "100%|██████████| 8/8 [00:00<00:00, 59.37it/s]\n"
     ]
    },
    {
     "name": "stdout",
     "output_type": "stream",
     "text": [
      "14 tensor(0.7040, device='cuda:0', dtype=torch.float64)\n"
     ]
    },
    {
     "name": "stderr",
     "output_type": "stream",
     "text": [
      "100%|██████████| 40/40 [00:00<00:00, 57.59it/s]\n",
      "100%|██████████| 8/8 [00:00<00:00, 69.38it/s]\n"
     ]
    },
    {
     "name": "stdout",
     "output_type": "stream",
     "text": [
      "15 tensor(0.7440, device='cuda:0', dtype=torch.float64)\n"
     ]
    },
    {
     "name": "stderr",
     "output_type": "stream",
     "text": [
      "100%|██████████| 40/40 [00:00<00:00, 58.26it/s]\n",
      "100%|██████████| 8/8 [00:00<00:00, 39.60it/s]\n"
     ]
    },
    {
     "name": "stdout",
     "output_type": "stream",
     "text": [
      "16 tensor(0.7580, device='cuda:0', dtype=torch.float64)\n"
     ]
    },
    {
     "name": "stderr",
     "output_type": "stream",
     "text": [
      "100%|██████████| 40/40 [00:00<00:00, 59.33it/s]\n",
      "100%|██████████| 8/8 [00:00<00:00, 70.71it/s]\n"
     ]
    },
    {
     "name": "stdout",
     "output_type": "stream",
     "text": [
      "17 tensor(0.7840, device='cuda:0', dtype=torch.float64)\n"
     ]
    },
    {
     "name": "stderr",
     "output_type": "stream",
     "text": [
      "100%|██████████| 40/40 [00:00<00:00, 59.84it/s]\n",
      "100%|██████████| 8/8 [00:00<00:00, 68.91it/s]\n"
     ]
    },
    {
     "name": "stdout",
     "output_type": "stream",
     "text": [
      "18 tensor(0.7920, device='cuda:0', dtype=torch.float64)\n"
     ]
    },
    {
     "name": "stderr",
     "output_type": "stream",
     "text": [
      "100%|██████████| 40/40 [00:00<00:00, 60.47it/s]\n",
      "100%|██████████| 8/8 [00:00<00:00, 73.57it/s]\n",
      "100%|██████████| 40/40 [00:00<00:00, 61.77it/s]\n",
      "100%|██████████| 8/8 [00:00<00:00, 70.10it/s]\n"
     ]
    },
    {
     "name": "stdout",
     "output_type": "stream",
     "text": [
      "20 tensor(0.8120, device='cuda:0', dtype=torch.float64)\n"
     ]
    },
    {
     "name": "stderr",
     "output_type": "stream",
     "text": [
      "100%|██████████| 40/40 [00:00<00:00, 60.91it/s]\n",
      "100%|██████████| 8/8 [00:00<00:00, 65.92it/s]\n",
      "100%|██████████| 40/40 [00:00<00:00, 55.03it/s]\n",
      "100%|██████████| 8/8 [00:00<00:00, 61.57it/s]\n"
     ]
    },
    {
     "name": "stdout",
     "output_type": "stream",
     "text": [
      "22 tensor(0.8280, device='cuda:0', dtype=torch.float64)\n"
     ]
    },
    {
     "name": "stderr",
     "output_type": "stream",
     "text": [
      "100%|██████████| 40/40 [00:00<00:00, 56.02it/s]\n",
      "100%|██████████| 8/8 [00:00<00:00, 71.11it/s]\n"
     ]
    },
    {
     "name": "stdout",
     "output_type": "stream",
     "text": [
      "23 tensor(0.8460, device='cuda:0', dtype=torch.float64)\n"
     ]
    },
    {
     "name": "stderr",
     "output_type": "stream",
     "text": [
      "100%|██████████| 40/40 [00:00<00:00, 58.92it/s]\n",
      "100%|██████████| 8/8 [00:00<00:00, 70.53it/s]\n",
      "100%|██████████| 40/40 [00:00<00:00, 58.77it/s]\n",
      "100%|██████████| 8/8 [00:00<00:00, 70.89it/s]\n"
     ]
    },
    {
     "name": "stdout",
     "output_type": "stream",
     "text": [
      "25 tensor(0.8500, device='cuda:0', dtype=torch.float64)\n"
     ]
    },
    {
     "name": "stderr",
     "output_type": "stream",
     "text": [
      "100%|██████████| 40/40 [00:00<00:00, 58.62it/s]\n",
      "100%|██████████| 8/8 [00:00<00:00, 69.27it/s]\n"
     ]
    },
    {
     "name": "stdout",
     "output_type": "stream",
     "text": [
      "26 tensor(0.8620, device='cuda:0', dtype=torch.float64)\n"
     ]
    },
    {
     "name": "stderr",
     "output_type": "stream",
     "text": [
      "100%|██████████| 40/40 [00:00<00:00, 59.47it/s]\n",
      "100%|██████████| 8/8 [00:00<00:00, 71.37it/s]\n"
     ]
    },
    {
     "name": "stdout",
     "output_type": "stream",
     "text": [
      "27 tensor(0.8700, device='cuda:0', dtype=torch.float64)\n"
     ]
    },
    {
     "name": "stderr",
     "output_type": "stream",
     "text": [
      "100%|██████████| 40/40 [00:00<00:00, 59.57it/s]\n",
      "100%|██████████| 8/8 [00:00<00:00, 71.37it/s]\n"
     ]
    },
    {
     "name": "stdout",
     "output_type": "stream",
     "text": [
      "28 tensor(0.8720, device='cuda:0', dtype=torch.float64)\n"
     ]
    },
    {
     "name": "stderr",
     "output_type": "stream",
     "text": [
      "100%|██████████| 40/40 [00:00<00:00, 58.16it/s]\n",
      "100%|██████████| 8/8 [00:00<00:00, 70.97it/s]\n"
     ]
    },
    {
     "name": "stdout",
     "output_type": "stream",
     "text": [
      "29 tensor(0.8860, device='cuda:0', dtype=torch.float64)\n"
     ]
    },
    {
     "name": "stderr",
     "output_type": "stream",
     "text": [
      "100%|██████████| 40/40 [00:00<00:00, 59.48it/s]\n",
      "100%|██████████| 8/8 [00:00<00:00, 73.87it/s]\n",
      "100%|██████████| 40/40 [00:00<00:00, 61.39it/s]\n",
      "100%|██████████| 8/8 [00:00<00:00, 72.92it/s]\n",
      "100%|██████████| 40/40 [00:00<00:00, 61.25it/s]\n",
      "100%|██████████| 8/8 [00:00<00:00, 71.96it/s]\n"
     ]
    },
    {
     "name": "stdout",
     "output_type": "stream",
     "text": [
      "32 tensor(0.8940, device='cuda:0', dtype=torch.float64)\n"
     ]
    },
    {
     "name": "stderr",
     "output_type": "stream",
     "text": [
      "100%|██████████| 40/40 [00:00<00:00, 61.07it/s]\n",
      "100%|██████████| 8/8 [00:00<00:00, 71.51it/s]\n",
      "100%|██████████| 40/40 [00:00<00:00, 60.96it/s]\n",
      "100%|██████████| 8/8 [00:00<00:00, 71.77it/s]\n",
      "100%|██████████| 40/40 [00:00<00:00, 59.90it/s]\n",
      "100%|██████████| 8/8 [00:00<00:00, 73.27it/s]\n",
      "100%|██████████| 40/40 [00:00<00:00, 59.82it/s]\n",
      "100%|██████████| 8/8 [00:00<00:00, 72.72it/s]\n",
      "100%|██████████| 40/40 [00:00<00:00, 56.40it/s]\n",
      "100%|██████████| 8/8 [00:00<00:00, 59.10it/s]\n",
      "100%|██████████| 40/40 [00:00<00:00, 57.03it/s]\n",
      "100%|██████████| 8/8 [00:00<00:00, 70.58it/s]\n"
     ]
    },
    {
     "name": "stdout",
     "output_type": "stream",
     "text": [
      "38 tensor(0.9000, device='cuda:0', dtype=torch.float64)\n"
     ]
    },
    {
     "name": "stderr",
     "output_type": "stream",
     "text": [
      "100%|██████████| 40/40 [00:00<00:00, 59.17it/s]\n",
      "100%|██████████| 8/8 [00:00<00:00, 69.35it/s]\n"
     ]
    },
    {
     "name": "stdout",
     "output_type": "stream",
     "text": [
      "tensor(0.9000, device='cuda:0', dtype=torch.float64)\n",
      "2500 500\n",
      "TAILLE dataset {'train': 2500, 'val': 500}\n",
      "DATASET SIZE {'train': 2500, 'val': 500}\n"
     ]
    },
    {
     "name": "stderr",
     "output_type": "stream",
     "text": [
      "100%|██████████| 40/40 [00:00<00:00, 59.35it/s]\n",
      "100%|██████████| 8/8 [00:00<00:00, 71.16it/s]\n"
     ]
    },
    {
     "name": "stdout",
     "output_type": "stream",
     "text": [
      "0 tensor(0.1300, device='cuda:0', dtype=torch.float64)\n"
     ]
    },
    {
     "name": "stderr",
     "output_type": "stream",
     "text": [
      "100%|██████████| 40/40 [00:00<00:00, 59.14it/s]\n",
      "100%|██████████| 8/8 [00:00<00:00, 69.85it/s]\n"
     ]
    },
    {
     "name": "stdout",
     "output_type": "stream",
     "text": [
      "1 tensor(0.1660, device='cuda:0', dtype=torch.float64)\n"
     ]
    },
    {
     "name": "stderr",
     "output_type": "stream",
     "text": [
      "100%|██████████| 40/40 [00:00<00:00, 58.58it/s]\n",
      "100%|██████████| 8/8 [00:00<00:00, 68.96it/s]\n"
     ]
    },
    {
     "name": "stdout",
     "output_type": "stream",
     "text": [
      "2 tensor(0.1820, device='cuda:0', dtype=torch.float64)\n"
     ]
    },
    {
     "name": "stderr",
     "output_type": "stream",
     "text": [
      "100%|██████████| 40/40 [00:00<00:00, 58.91it/s]\n",
      "100%|██████████| 8/8 [00:00<00:00, 68.65it/s]\n"
     ]
    },
    {
     "name": "stdout",
     "output_type": "stream",
     "text": [
      "3 tensor(0.2220, device='cuda:0', dtype=torch.float64)\n"
     ]
    },
    {
     "name": "stderr",
     "output_type": "stream",
     "text": [
      "100%|██████████| 40/40 [00:00<00:00, 58.68it/s]\n",
      "100%|██████████| 8/8 [00:00<00:00, 70.78it/s]\n"
     ]
    },
    {
     "name": "stdout",
     "output_type": "stream",
     "text": [
      "4 tensor(0.3200, device='cuda:0', dtype=torch.float64)\n"
     ]
    },
    {
     "name": "stderr",
     "output_type": "stream",
     "text": [
      "100%|██████████| 40/40 [00:00<00:00, 59.02it/s]\n",
      "100%|██████████| 8/8 [00:00<00:00, 68.53it/s]\n"
     ]
    },
    {
     "name": "stdout",
     "output_type": "stream",
     "text": [
      "5 tensor(0.3960, device='cuda:0', dtype=torch.float64)\n"
     ]
    },
    {
     "name": "stderr",
     "output_type": "stream",
     "text": [
      "100%|██████████| 40/40 [00:00<00:00, 59.20it/s]\n",
      "100%|██████████| 8/8 [00:00<00:00, 69.51it/s]\n"
     ]
    },
    {
     "name": "stdout",
     "output_type": "stream",
     "text": [
      "6 tensor(0.4440, device='cuda:0', dtype=torch.float64)\n"
     ]
    },
    {
     "name": "stderr",
     "output_type": "stream",
     "text": [
      "100%|██████████| 40/40 [00:00<00:00, 58.91it/s]\n",
      "100%|██████████| 8/8 [00:00<00:00, 69.02it/s]\n"
     ]
    },
    {
     "name": "stdout",
     "output_type": "stream",
     "text": [
      "7 tensor(0.4840, device='cuda:0', dtype=torch.float64)\n"
     ]
    },
    {
     "name": "stderr",
     "output_type": "stream",
     "text": [
      "100%|██████████| 40/40 [00:00<00:00, 58.99it/s]\n",
      "100%|██████████| 8/8 [00:00<00:00, 69.46it/s]\n"
     ]
    },
    {
     "name": "stdout",
     "output_type": "stream",
     "text": [
      "8 tensor(0.5560, device='cuda:0', dtype=torch.float64)\n"
     ]
    },
    {
     "name": "stderr",
     "output_type": "stream",
     "text": [
      "100%|██████████| 40/40 [00:00<00:00, 58.34it/s]\n",
      "100%|██████████| 8/8 [00:00<00:00, 72.31it/s]\n"
     ]
    },
    {
     "name": "stdout",
     "output_type": "stream",
     "text": [
      "9 tensor(0.6180, device='cuda:0', dtype=torch.float64)\n"
     ]
    },
    {
     "name": "stderr",
     "output_type": "stream",
     "text": [
      "100%|██████████| 40/40 [00:00<00:00, 58.69it/s]\n",
      "100%|██████████| 8/8 [00:00<00:00, 64.42it/s]\n"
     ]
    },
    {
     "name": "stdout",
     "output_type": "stream",
     "text": [
      "10 tensor(0.6300, device='cuda:0', dtype=torch.float64)\n"
     ]
    },
    {
     "name": "stderr",
     "output_type": "stream",
     "text": [
      "100%|██████████| 40/40 [00:00<00:00, 57.43it/s]\n",
      "100%|██████████| 8/8 [00:00<00:00, 69.17it/s]\n"
     ]
    },
    {
     "name": "stdout",
     "output_type": "stream",
     "text": [
      "11 tensor(0.6380, device='cuda:0', dtype=torch.float64)\n"
     ]
    },
    {
     "name": "stderr",
     "output_type": "stream",
     "text": [
      "100%|██████████| 40/40 [00:00<00:00, 58.41it/s]\n",
      "100%|██████████| 8/8 [00:00<00:00, 68.72it/s]\n"
     ]
    },
    {
     "name": "stdout",
     "output_type": "stream",
     "text": [
      "12 tensor(0.6900, device='cuda:0', dtype=torch.float64)\n"
     ]
    },
    {
     "name": "stderr",
     "output_type": "stream",
     "text": [
      "100%|██████████| 40/40 [00:00<00:00, 58.47it/s]\n",
      "100%|██████████| 8/8 [00:00<00:00, 68.40it/s]\n"
     ]
    },
    {
     "name": "stdout",
     "output_type": "stream",
     "text": [
      "13 tensor(0.7000, device='cuda:0', dtype=torch.float64)\n"
     ]
    },
    {
     "name": "stderr",
     "output_type": "stream",
     "text": [
      "100%|██████████| 40/40 [00:00<00:00, 58.62it/s]\n",
      "100%|██████████| 8/8 [00:00<00:00, 68.98it/s]\n"
     ]
    },
    {
     "name": "stdout",
     "output_type": "stream",
     "text": [
      "14 tensor(0.7480, device='cuda:0', dtype=torch.float64)\n"
     ]
    },
    {
     "name": "stderr",
     "output_type": "stream",
     "text": [
      "100%|██████████| 40/40 [00:00<00:00, 57.92it/s]\n",
      "100%|██████████| 8/8 [00:00<00:00, 71.17it/s]\n"
     ]
    },
    {
     "name": "stdout",
     "output_type": "stream",
     "text": [
      "15 tensor(0.7700, device='cuda:0', dtype=torch.float64)\n"
     ]
    },
    {
     "name": "stderr",
     "output_type": "stream",
     "text": [
      "100%|██████████| 40/40 [00:00<00:00, 60.39it/s]\n",
      "100%|██████████| 8/8 [00:00<00:00, 75.01it/s]\n",
      "100%|██████████| 40/40 [00:00<00:00, 61.85it/s]\n",
      "100%|██████████| 8/8 [00:00<00:00, 73.73it/s]\n"
     ]
    },
    {
     "name": "stdout",
     "output_type": "stream",
     "text": [
      "17 tensor(0.8100, device='cuda:0', dtype=torch.float64)\n"
     ]
    },
    {
     "name": "stderr",
     "output_type": "stream",
     "text": [
      "100%|██████████| 40/40 [00:00<00:00, 63.88it/s]\n",
      "100%|██████████| 8/8 [00:00<00:00, 77.79it/s]\n"
     ]
    },
    {
     "name": "stdout",
     "output_type": "stream",
     "text": [
      "18 tensor(0.8160, device='cuda:0', dtype=torch.float64)\n"
     ]
    },
    {
     "name": "stderr",
     "output_type": "stream",
     "text": [
      "100%|██████████| 40/40 [00:00<00:00, 64.53it/s]\n",
      "100%|██████████| 8/8 [00:00<00:00, 77.22it/s]\n"
     ]
    },
    {
     "name": "stdout",
     "output_type": "stream",
     "text": [
      "19 tensor(0.8400, device='cuda:0', dtype=torch.float64)\n"
     ]
    },
    {
     "name": "stderr",
     "output_type": "stream",
     "text": [
      "100%|██████████| 40/40 [00:00<00:00, 57.55it/s]\n",
      "100%|██████████| 8/8 [00:00<00:00, 65.68it/s]\n"
     ]
    },
    {
     "name": "stdout",
     "output_type": "stream",
     "text": [
      "20 tensor(0.8420, device='cuda:0', dtype=torch.float64)\n"
     ]
    },
    {
     "name": "stderr",
     "output_type": "stream",
     "text": [
      "100%|██████████| 40/40 [00:00<00:00, 54.72it/s]\n",
      "100%|██████████| 8/8 [00:00<00:00, 73.12it/s]\n"
     ]
    },
    {
     "name": "stdout",
     "output_type": "stream",
     "text": [
      "21 tensor(0.8560, device='cuda:0', dtype=torch.float64)\n"
     ]
    },
    {
     "name": "stderr",
     "output_type": "stream",
     "text": [
      "100%|██████████| 40/40 [00:00<00:00, 58.87it/s]\n",
      "100%|██████████| 8/8 [00:00<00:00, 70.44it/s]\n"
     ]
    },
    {
     "name": "stdout",
     "output_type": "stream",
     "text": [
      "22 tensor(0.8600, device='cuda:0', dtype=torch.float64)\n"
     ]
    },
    {
     "name": "stderr",
     "output_type": "stream",
     "text": [
      "100%|██████████| 40/40 [00:00<00:00, 54.70it/s]\n",
      "100%|██████████| 8/8 [00:00<00:00, 70.14it/s]\n"
     ]
    },
    {
     "name": "stdout",
     "output_type": "stream",
     "text": [
      "23 tensor(0.8860, device='cuda:0', dtype=torch.float64)\n"
     ]
    },
    {
     "name": "stderr",
     "output_type": "stream",
     "text": [
      "100%|██████████| 40/40 [00:00<00:00, 59.26it/s]\n",
      "100%|██████████| 8/8 [00:00<00:00, 71.02it/s]\n",
      "100%|██████████| 40/40 [00:00<00:00, 59.12it/s]\n",
      "100%|██████████| 8/8 [00:00<00:00, 69.54it/s]\n",
      "100%|██████████| 40/40 [00:00<00:00, 58.90it/s]\n",
      "100%|██████████| 8/8 [00:00<00:00, 68.01it/s]\n"
     ]
    },
    {
     "name": "stdout",
     "output_type": "stream",
     "text": [
      "26 tensor(0.8880, device='cuda:0', dtype=torch.float64)\n"
     ]
    },
    {
     "name": "stderr",
     "output_type": "stream",
     "text": [
      "100%|██████████| 40/40 [00:00<00:00, 60.74it/s]\n",
      "100%|██████████| 8/8 [00:00<00:00, 72.23it/s]\n"
     ]
    },
    {
     "name": "stdout",
     "output_type": "stream",
     "text": [
      "27 tensor(0.8900, device='cuda:0', dtype=torch.float64)\n"
     ]
    },
    {
     "name": "stderr",
     "output_type": "stream",
     "text": [
      "100%|██████████| 40/40 [00:00<00:00, 59.87it/s]\n",
      "100%|██████████| 8/8 [00:00<00:00, 71.60it/s]\n",
      "100%|██████████| 40/40 [00:00<00:00, 60.71it/s]\n",
      "100%|██████████| 8/8 [00:00<00:00, 73.59it/s]\n",
      "100%|██████████| 40/40 [00:00<00:00, 60.16it/s]\n",
      "100%|██████████| 8/8 [00:00<00:00, 72.68it/s]\n",
      "100%|██████████| 40/40 [00:00<00:00, 60.41it/s]\n",
      "100%|██████████| 8/8 [00:00<00:00, 75.64it/s]\n"
     ]
    },
    {
     "name": "stdout",
     "output_type": "stream",
     "text": [
      "31 tensor(0.8960, device='cuda:0', dtype=torch.float64)\n"
     ]
    },
    {
     "name": "stderr",
     "output_type": "stream",
     "text": [
      "100%|██████████| 40/40 [00:00<00:00, 61.84it/s]\n",
      "100%|██████████| 8/8 [00:00<00:00, 71.08it/s]\n",
      "100%|██████████| 40/40 [00:00<00:00, 52.11it/s]\n",
      "100%|██████████| 8/8 [00:00<00:00, 61.58it/s]\n",
      "100%|██████████| 40/40 [00:00<00:00, 52.42it/s]\n",
      "100%|██████████| 8/8 [00:00<00:00, 61.62it/s]\n"
     ]
    },
    {
     "name": "stdout",
     "output_type": "stream",
     "text": [
      "34 tensor(0.8980, device='cuda:0', dtype=torch.float64)\n"
     ]
    },
    {
     "name": "stderr",
     "output_type": "stream",
     "text": [
      "100%|██████████| 40/40 [00:00<00:00, 52.46it/s]\n",
      "100%|██████████| 8/8 [00:00<00:00, 61.56it/s]\n",
      "100%|██████████| 40/40 [00:00<00:00, 52.49it/s]\n",
      "100%|██████████| 8/8 [00:00<00:00, 60.93it/s]\n"
     ]
    },
    {
     "name": "stdout",
     "output_type": "stream",
     "text": [
      "36 tensor(0.9000, device='cuda:0', dtype=torch.float64)\n"
     ]
    },
    {
     "name": "stderr",
     "output_type": "stream",
     "text": [
      "100%|██████████| 40/40 [00:00<00:00, 52.39it/s]\n",
      "100%|██████████| 8/8 [00:00<00:00, 61.41it/s]\n",
      "100%|██████████| 40/40 [00:00<00:00, 52.14it/s]\n",
      "100%|██████████| 8/8 [00:00<00:00, 61.75it/s]\n"
     ]
    },
    {
     "name": "stdout",
     "output_type": "stream",
     "text": [
      "38 tensor(0.9020, device='cuda:0', dtype=torch.float64)\n"
     ]
    },
    {
     "name": "stderr",
     "output_type": "stream",
     "text": [
      "100%|██████████| 40/40 [00:00<00:00, 51.21it/s]\n",
      "100%|██████████| 8/8 [00:00<00:00, 61.81it/s]\n"
     ]
    },
    {
     "name": "stdout",
     "output_type": "stream",
     "text": [
      "tensor(0.9020, device='cuda:0', dtype=torch.float64)\n",
      "2500 500\n",
      "TAILLE dataset {'train': 2500, 'val': 500}\n",
      "DATASET SIZE {'train': 2500, 'val': 500}\n"
     ]
    },
    {
     "name": "stderr",
     "output_type": "stream",
     "text": [
      "100%|██████████| 40/40 [00:00<00:00, 59.00it/s]\n",
      "100%|██████████| 8/8 [00:00<00:00, 76.23it/s]\n"
     ]
    },
    {
     "name": "stdout",
     "output_type": "stream",
     "text": [
      "0 tensor(0.1000, device='cuda:0', dtype=torch.float64)\n"
     ]
    },
    {
     "name": "stderr",
     "output_type": "stream",
     "text": [
      "100%|██████████| 40/40 [00:00<00:00, 62.42it/s]\n",
      "100%|██████████| 8/8 [00:00<00:00, 75.83it/s]\n"
     ]
    },
    {
     "name": "stdout",
     "output_type": "stream",
     "text": [
      "1 tensor(0.2120, device='cuda:0', dtype=torch.float64)\n"
     ]
    },
    {
     "name": "stderr",
     "output_type": "stream",
     "text": [
      "100%|██████████| 40/40 [00:00<00:00, 62.48it/s]\n",
      "100%|██████████| 8/8 [00:00<00:00, 75.54it/s]\n"
     ]
    },
    {
     "name": "stdout",
     "output_type": "stream",
     "text": [
      "2 tensor(0.3880, device='cuda:0', dtype=torch.float64)\n"
     ]
    },
    {
     "name": "stderr",
     "output_type": "stream",
     "text": [
      "100%|██████████| 40/40 [00:00<00:00, 62.52it/s]\n",
      "100%|██████████| 8/8 [00:00<00:00, 73.90it/s]\n"
     ]
    },
    {
     "name": "stdout",
     "output_type": "stream",
     "text": [
      "3 tensor(0.4980, device='cuda:0', dtype=torch.float64)\n"
     ]
    },
    {
     "name": "stderr",
     "output_type": "stream",
     "text": [
      "100%|██████████| 40/40 [00:00<00:00, 62.22it/s]\n",
      "100%|██████████| 8/8 [00:00<00:00, 74.93it/s]\n"
     ]
    },
    {
     "name": "stdout",
     "output_type": "stream",
     "text": [
      "4 tensor(0.5680, device='cuda:0', dtype=torch.float64)\n"
     ]
    },
    {
     "name": "stderr",
     "output_type": "stream",
     "text": [
      "100%|██████████| 40/40 [00:00<00:00, 61.97it/s]\n",
      "100%|██████████| 8/8 [00:00<00:00, 73.25it/s]\n"
     ]
    },
    {
     "name": "stdout",
     "output_type": "stream",
     "text": [
      "5 tensor(0.6040, device='cuda:0', dtype=torch.float64)\n"
     ]
    },
    {
     "name": "stderr",
     "output_type": "stream",
     "text": [
      "100%|██████████| 40/40 [00:00<00:00, 61.90it/s]\n",
      "100%|██████████| 8/8 [00:00<00:00, 73.38it/s]\n"
     ]
    },
    {
     "name": "stdout",
     "output_type": "stream",
     "text": [
      "6 tensor(0.6200, device='cuda:0', dtype=torch.float64)\n"
     ]
    },
    {
     "name": "stderr",
     "output_type": "stream",
     "text": [
      "100%|██████████| 40/40 [00:00<00:00, 62.65it/s]\n",
      "100%|██████████| 8/8 [00:00<00:00, 75.74it/s]\n",
      "100%|██████████| 40/40 [00:00<00:00, 53.52it/s]\n",
      "100%|██████████| 8/8 [00:00<00:00, 69.15it/s]\n",
      "100%|██████████| 40/40 [00:00<00:00, 58.65it/s]\n",
      "100%|██████████| 8/8 [00:00<00:00, 69.19it/s]\n"
     ]
    },
    {
     "name": "stdout",
     "output_type": "stream",
     "text": [
      "9 tensor(0.6260, device='cuda:0', dtype=torch.float64)\n"
     ]
    },
    {
     "name": "stderr",
     "output_type": "stream",
     "text": [
      "100%|██████████| 40/40 [00:00<00:00, 60.55it/s]\n",
      "100%|██████████| 8/8 [00:00<00:00, 72.54it/s]\n"
     ]
    },
    {
     "name": "stdout",
     "output_type": "stream",
     "text": [
      "10 tensor(0.6600, device='cuda:0', dtype=torch.float64)\n"
     ]
    },
    {
     "name": "stderr",
     "output_type": "stream",
     "text": [
      "100%|██████████| 40/40 [00:00<00:00, 60.33it/s]\n",
      "100%|██████████| 8/8 [00:00<00:00, 73.31it/s]\n",
      "100%|██████████| 40/40 [00:00<00:00, 59.90it/s]\n",
      "100%|██████████| 8/8 [00:00<00:00, 70.58it/s]\n"
     ]
    },
    {
     "name": "stdout",
     "output_type": "stream",
     "text": [
      "12 tensor(0.6820, device='cuda:0', dtype=torch.float64)\n"
     ]
    },
    {
     "name": "stderr",
     "output_type": "stream",
     "text": [
      "100%|██████████| 40/40 [00:00<00:00, 60.11it/s]\n",
      "100%|██████████| 8/8 [00:00<00:00, 73.16it/s]\n"
     ]
    },
    {
     "name": "stdout",
     "output_type": "stream",
     "text": [
      "13 tensor(0.7000, device='cuda:0', dtype=torch.float64)\n"
     ]
    },
    {
     "name": "stderr",
     "output_type": "stream",
     "text": [
      "100%|██████████| 40/40 [00:00<00:00, 59.96it/s]\n",
      "100%|██████████| 8/8 [00:00<00:00, 71.91it/s]\n"
     ]
    },
    {
     "name": "stdout",
     "output_type": "stream",
     "text": [
      "14 tensor(0.7320, device='cuda:0', dtype=torch.float64)\n"
     ]
    },
    {
     "name": "stderr",
     "output_type": "stream",
     "text": [
      "100%|██████████| 40/40 [00:00<00:00, 60.55it/s]\n",
      "100%|██████████| 8/8 [00:00<00:00, 72.82it/s]\n",
      "100%|██████████| 40/40 [00:00<00:00, 60.44it/s]\n",
      "100%|██████████| 8/8 [00:00<00:00, 73.21it/s]\n"
     ]
    },
    {
     "name": "stdout",
     "output_type": "stream",
     "text": [
      "16 tensor(0.7780, device='cuda:0', dtype=torch.float64)\n"
     ]
    },
    {
     "name": "stderr",
     "output_type": "stream",
     "text": [
      "100%|██████████| 40/40 [00:00<00:00, 60.50it/s]\n",
      "100%|██████████| 8/8 [00:00<00:00, 72.73it/s]\n"
     ]
    },
    {
     "name": "stdout",
     "output_type": "stream",
     "text": [
      "17 tensor(0.7880, device='cuda:0', dtype=torch.float64)\n"
     ]
    },
    {
     "name": "stderr",
     "output_type": "stream",
     "text": [
      "100%|██████████| 40/40 [00:00<00:00, 52.17it/s]\n",
      "100%|██████████| 8/8 [00:00<00:00, 70.15it/s]\n"
     ]
    },
    {
     "name": "stdout",
     "output_type": "stream",
     "text": [
      "18 tensor(0.8060, device='cuda:0', dtype=torch.float64)\n"
     ]
    },
    {
     "name": "stderr",
     "output_type": "stream",
     "text": [
      "100%|██████████| 40/40 [00:00<00:00, 59.72it/s]\n",
      "100%|██████████| 8/8 [00:00<00:00, 73.02it/s]\n",
      "100%|██████████| 40/40 [00:00<00:00, 61.18it/s]\n",
      "100%|██████████| 8/8 [00:00<00:00, 71.45it/s]\n"
     ]
    },
    {
     "name": "stdout",
     "output_type": "stream",
     "text": [
      "20 tensor(0.8200, device='cuda:0', dtype=torch.float64)\n"
     ]
    },
    {
     "name": "stderr",
     "output_type": "stream",
     "text": [
      "100%|██████████| 40/40 [00:00<00:00, 60.04it/s]\n",
      "100%|██████████| 8/8 [00:00<00:00, 72.67it/s]\n",
      "100%|██████████| 40/40 [00:00<00:00, 60.82it/s]\n",
      "100%|██████████| 8/8 [00:00<00:00, 72.13it/s]\n"
     ]
    },
    {
     "name": "stdout",
     "output_type": "stream",
     "text": [
      "22 tensor(0.8240, device='cuda:0', dtype=torch.float64)\n"
     ]
    },
    {
     "name": "stderr",
     "output_type": "stream",
     "text": [
      "100%|██████████| 40/40 [00:00<00:00, 60.75it/s]\n",
      "100%|██████████| 8/8 [00:00<00:00, 73.18it/s]\n"
     ]
    },
    {
     "name": "stdout",
     "output_type": "stream",
     "text": [
      "23 tensor(0.8440, device='cuda:0', dtype=torch.float64)\n"
     ]
    },
    {
     "name": "stderr",
     "output_type": "stream",
     "text": [
      "100%|██████████| 40/40 [00:00<00:00, 60.78it/s]\n",
      "100%|██████████| 8/8 [00:00<00:00, 72.02it/s]\n"
     ]
    },
    {
     "name": "stdout",
     "output_type": "stream",
     "text": [
      "24 tensor(0.8460, device='cuda:0', dtype=torch.float64)\n"
     ]
    },
    {
     "name": "stderr",
     "output_type": "stream",
     "text": [
      "100%|██████████| 40/40 [00:00<00:00, 60.62it/s]\n",
      "100%|██████████| 8/8 [00:00<00:00, 72.80it/s]\n",
      "100%|██████████| 40/40 [00:00<00:00, 61.05it/s]\n",
      "100%|██████████| 8/8 [00:00<00:00, 77.89it/s]\n"
     ]
    },
    {
     "name": "stdout",
     "output_type": "stream",
     "text": [
      "26 tensor(0.8620, device='cuda:0', dtype=torch.float64)\n"
     ]
    },
    {
     "name": "stderr",
     "output_type": "stream",
     "text": [
      "100%|██████████| 40/40 [00:00<00:00, 65.71it/s]\n",
      "100%|██████████| 8/8 [00:00<00:00, 77.87it/s]\n",
      "100%|██████████| 40/40 [00:00<00:00, 63.82it/s]\n",
      "100%|██████████| 8/8 [00:00<00:00, 80.41it/s]\n",
      "100%|██████████| 40/40 [00:00<00:00, 64.56it/s]\n",
      "100%|██████████| 8/8 [00:00<00:00, 80.99it/s]\n"
     ]
    },
    {
     "name": "stdout",
     "output_type": "stream",
     "text": [
      "29 tensor(0.8660, device='cuda:0', dtype=torch.float64)\n"
     ]
    },
    {
     "name": "stderr",
     "output_type": "stream",
     "text": [
      "100%|██████████| 40/40 [00:00<00:00, 61.07it/s]\n",
      "100%|██████████| 8/8 [00:00<00:00, 71.43it/s]\n"
     ]
    },
    {
     "name": "stdout",
     "output_type": "stream",
     "text": [
      "30 tensor(0.8680, device='cuda:0', dtype=torch.float64)\n"
     ]
    },
    {
     "name": "stderr",
     "output_type": "stream",
     "text": [
      "100%|██████████| 40/40 [00:00<00:00, 60.56it/s]\n",
      "100%|██████████| 8/8 [00:00<00:00, 75.15it/s]\n"
     ]
    },
    {
     "name": "stdout",
     "output_type": "stream",
     "text": [
      "31 tensor(0.8760, device='cuda:0', dtype=torch.float64)\n"
     ]
    },
    {
     "name": "stderr",
     "output_type": "stream",
     "text": [
      "100%|██████████| 40/40 [00:00<00:00, 60.40it/s]\n",
      "100%|██████████| 8/8 [00:00<00:00, 73.91it/s]\n",
      "100%|██████████| 40/40 [00:00<00:00, 60.63it/s]\n",
      "100%|██████████| 8/8 [00:00<00:00, 75.06it/s]\n",
      "100%|██████████| 40/40 [00:00<00:00, 60.79it/s]\n",
      "100%|██████████| 8/8 [00:00<00:00, 74.53it/s]\n",
      "100%|██████████| 40/40 [00:00<00:00, 60.19it/s]\n",
      "100%|██████████| 8/8 [00:00<00:00, 73.05it/s]\n"
     ]
    },
    {
     "name": "stdout",
     "output_type": "stream",
     "text": [
      "35 tensor(0.8780, device='cuda:0', dtype=torch.float64)\n"
     ]
    },
    {
     "name": "stderr",
     "output_type": "stream",
     "text": [
      "100%|██████████| 40/40 [00:00<00:00, 62.58it/s]\n",
      "100%|██████████| 8/8 [00:00<00:00, 76.96it/s]\n",
      "100%|██████████| 40/40 [00:00<00:00, 62.52it/s]\n",
      "100%|██████████| 8/8 [00:00<00:00, 72.97it/s]\n"
     ]
    },
    {
     "name": "stdout",
     "output_type": "stream",
     "text": [
      "37 tensor(0.8880, device='cuda:0', dtype=torch.float64)\n"
     ]
    },
    {
     "name": "stderr",
     "output_type": "stream",
     "text": [
      "100%|██████████| 40/40 [00:00<00:00, 63.13it/s]\n",
      "100%|██████████| 8/8 [00:00<00:00, 77.69it/s]\n"
     ]
    },
    {
     "name": "stdout",
     "output_type": "stream",
     "text": [
      "38 tensor(0.8960, device='cuda:0', dtype=torch.float64)\n"
     ]
    },
    {
     "name": "stderr",
     "output_type": "stream",
     "text": [
      "100%|██████████| 40/40 [00:00<00:00, 64.74it/s]\n",
      "100%|██████████| 8/8 [00:00<00:00, 74.77it/s]\n"
     ]
    },
    {
     "name": "stdout",
     "output_type": "stream",
     "text": [
      "tensor(0.8960, device='cuda:0', dtype=torch.float64)\n",
      "2500 500\n",
      "TAILLE dataset {'train': 2500, 'val': 500}\n",
      "DATASET SIZE {'train': 2500, 'val': 500}\n"
     ]
    },
    {
     "name": "stderr",
     "output_type": "stream",
     "text": [
      "100%|██████████| 40/40 [00:00<00:00, 62.88it/s]\n",
      "100%|██████████| 8/8 [00:00<00:00, 80.19it/s]\n"
     ]
    },
    {
     "name": "stdout",
     "output_type": "stream",
     "text": [
      "0 tensor(0.1040, device='cuda:0', dtype=torch.float64)\n"
     ]
    },
    {
     "name": "stderr",
     "output_type": "stream",
     "text": [
      "100%|██████████| 40/40 [00:00<00:00, 64.62it/s]\n",
      "100%|██████████| 8/8 [00:00<00:00, 75.72it/s]\n"
     ]
    },
    {
     "name": "stdout",
     "output_type": "stream",
     "text": [
      "1 tensor(0.1060, device='cuda:0', dtype=torch.float64)\n"
     ]
    },
    {
     "name": "stderr",
     "output_type": "stream",
     "text": [
      "100%|██████████| 40/40 [00:00<00:00, 63.22it/s]\n",
      "100%|██████████| 8/8 [00:00<00:00, 75.31it/s]\n",
      "100%|██████████| 40/40 [00:00<00:00, 62.33it/s]\n",
      "100%|██████████| 8/8 [00:00<00:00, 74.52it/s]\n",
      "100%|██████████| 40/40 [00:00<00:00, 62.40it/s]\n",
      "100%|██████████| 8/8 [00:00<00:00, 75.78it/s]\n"
     ]
    },
    {
     "name": "stdout",
     "output_type": "stream",
     "text": [
      "4 tensor(0.1080, device='cuda:0', dtype=torch.float64)\n"
     ]
    },
    {
     "name": "stderr",
     "output_type": "stream",
     "text": [
      "100%|██████████| 40/40 [00:00<00:00, 62.41it/s]\n",
      "100%|██████████| 8/8 [00:00<00:00, 74.70it/s]\n"
     ]
    },
    {
     "name": "stdout",
     "output_type": "stream",
     "text": [
      "5 tensor(0.1380, device='cuda:0', dtype=torch.float64)\n"
     ]
    },
    {
     "name": "stderr",
     "output_type": "stream",
     "text": [
      "100%|██████████| 40/40 [00:00<00:00, 62.57it/s]\n",
      "100%|██████████| 8/8 [00:00<00:00, 75.23it/s]\n"
     ]
    },
    {
     "name": "stdout",
     "output_type": "stream",
     "text": [
      "6 tensor(0.1860, device='cuda:0', dtype=torch.float64)\n"
     ]
    },
    {
     "name": "stderr",
     "output_type": "stream",
     "text": [
      "100%|██████████| 40/40 [00:00<00:00, 62.33it/s]\n",
      "100%|██████████| 8/8 [00:00<00:00, 75.21it/s]\n"
     ]
    },
    {
     "name": "stdout",
     "output_type": "stream",
     "text": [
      "7 tensor(0.2580, device='cuda:0', dtype=torch.float64)\n"
     ]
    },
    {
     "name": "stderr",
     "output_type": "stream",
     "text": [
      "100%|██████████| 40/40 [00:00<00:00, 61.57it/s]\n",
      "100%|██████████| 8/8 [00:00<00:00, 75.64it/s]\n"
     ]
    },
    {
     "name": "stdout",
     "output_type": "stream",
     "text": [
      "8 tensor(0.3740, device='cuda:0', dtype=torch.float64)\n"
     ]
    },
    {
     "name": "stderr",
     "output_type": "stream",
     "text": [
      "100%|██████████| 40/40 [00:00<00:00, 61.80it/s]\n",
      "100%|██████████| 8/8 [00:00<00:00, 75.09it/s]\n"
     ]
    },
    {
     "name": "stdout",
     "output_type": "stream",
     "text": [
      "9 tensor(0.4780, device='cuda:0', dtype=torch.float64)\n"
     ]
    },
    {
     "name": "stderr",
     "output_type": "stream",
     "text": [
      "100%|██████████| 40/40 [00:00<00:00, 62.45it/s]\n",
      "100%|██████████| 8/8 [00:00<00:00, 74.32it/s]\n"
     ]
    },
    {
     "name": "stdout",
     "output_type": "stream",
     "text": [
      "10 tensor(0.5240, device='cuda:0', dtype=torch.float64)\n"
     ]
    },
    {
     "name": "stderr",
     "output_type": "stream",
     "text": [
      "100%|██████████| 40/40 [00:00<00:00, 62.40it/s]\n",
      "100%|██████████| 8/8 [00:00<00:00, 74.85it/s]\n"
     ]
    },
    {
     "name": "stdout",
     "output_type": "stream",
     "text": [
      "11 tensor(0.5560, device='cuda:0', dtype=torch.float64)\n"
     ]
    },
    {
     "name": "stderr",
     "output_type": "stream",
     "text": [
      "100%|██████████| 40/40 [00:00<00:00, 62.82it/s]\n",
      "100%|██████████| 8/8 [00:00<00:00, 75.88it/s]\n"
     ]
    },
    {
     "name": "stdout",
     "output_type": "stream",
     "text": [
      "12 tensor(0.5880, device='cuda:0', dtype=torch.float64)\n"
     ]
    },
    {
     "name": "stderr",
     "output_type": "stream",
     "text": [
      "100%|██████████| 40/40 [00:00<00:00, 62.56it/s]\n",
      "100%|██████████| 8/8 [00:00<00:00, 75.22it/s]\n"
     ]
    },
    {
     "name": "stdout",
     "output_type": "stream",
     "text": [
      "13 tensor(0.5920, device='cuda:0', dtype=torch.float64)\n"
     ]
    },
    {
     "name": "stderr",
     "output_type": "stream",
     "text": [
      "100%|██████████| 40/40 [00:00<00:00, 62.47it/s]\n",
      "100%|██████████| 8/8 [00:00<00:00, 74.92it/s]\n"
     ]
    },
    {
     "name": "stdout",
     "output_type": "stream",
     "text": [
      "14 tensor(0.5960, device='cuda:0', dtype=torch.float64)\n"
     ]
    },
    {
     "name": "stderr",
     "output_type": "stream",
     "text": [
      "100%|██████████| 40/40 [00:00<00:00, 61.83it/s]\n",
      "100%|██████████| 8/8 [00:00<00:00, 73.05it/s]\n",
      "100%|██████████| 40/40 [00:00<00:00, 62.03it/s]\n",
      "100%|██████████| 8/8 [00:00<00:00, 74.91it/s]\n"
     ]
    },
    {
     "name": "stdout",
     "output_type": "stream",
     "text": [
      "16 tensor(0.6020, device='cuda:0', dtype=torch.float64)\n"
     ]
    },
    {
     "name": "stderr",
     "output_type": "stream",
     "text": [
      "100%|██████████| 40/40 [00:00<00:00, 61.93it/s]\n",
      "100%|██████████| 8/8 [00:00<00:00, 75.38it/s]\n"
     ]
    },
    {
     "name": "stdout",
     "output_type": "stream",
     "text": [
      "17 tensor(0.6120, device='cuda:0', dtype=torch.float64)\n"
     ]
    },
    {
     "name": "stderr",
     "output_type": "stream",
     "text": [
      "100%|██████████| 40/40 [00:00<00:00, 62.40it/s]\n",
      "100%|██████████| 8/8 [00:00<00:00, 74.63it/s]\n"
     ]
    },
    {
     "name": "stdout",
     "output_type": "stream",
     "text": [
      "18 tensor(0.6460, device='cuda:0', dtype=torch.float64)\n"
     ]
    },
    {
     "name": "stderr",
     "output_type": "stream",
     "text": [
      "100%|██████████| 40/40 [00:00<00:00, 62.20it/s]\n",
      "100%|██████████| 8/8 [00:00<00:00, 74.89it/s]\n"
     ]
    },
    {
     "name": "stdout",
     "output_type": "stream",
     "text": [
      "19 tensor(0.6880, device='cuda:0', dtype=torch.float64)\n"
     ]
    },
    {
     "name": "stderr",
     "output_type": "stream",
     "text": [
      "100%|██████████| 40/40 [00:00<00:00, 62.56it/s]\n",
      "100%|██████████| 8/8 [00:00<00:00, 74.81it/s]\n"
     ]
    },
    {
     "name": "stdout",
     "output_type": "stream",
     "text": [
      "20 tensor(0.7000, device='cuda:0', dtype=torch.float64)\n"
     ]
    },
    {
     "name": "stderr",
     "output_type": "stream",
     "text": [
      "100%|██████████| 40/40 [00:00<00:00, 62.26it/s]\n",
      "100%|██████████| 8/8 [00:00<00:00, 75.34it/s]\n"
     ]
    },
    {
     "name": "stdout",
     "output_type": "stream",
     "text": [
      "21 tensor(0.7040, device='cuda:0', dtype=torch.float64)\n"
     ]
    },
    {
     "name": "stderr",
     "output_type": "stream",
     "text": [
      "100%|██████████| 40/40 [00:00<00:00, 62.60it/s]\n",
      "100%|██████████| 8/8 [00:00<00:00, 73.14it/s]\n"
     ]
    },
    {
     "name": "stdout",
     "output_type": "stream",
     "text": [
      "22 tensor(0.7520, device='cuda:0', dtype=torch.float64)\n"
     ]
    },
    {
     "name": "stderr",
     "output_type": "stream",
     "text": [
      "100%|██████████| 40/40 [00:00<00:00, 62.25it/s]\n",
      "100%|██████████| 8/8 [00:00<00:00, 75.23it/s]\n"
     ]
    },
    {
     "name": "stdout",
     "output_type": "stream",
     "text": [
      "23 tensor(0.7600, device='cuda:0', dtype=torch.float64)\n"
     ]
    },
    {
     "name": "stderr",
     "output_type": "stream",
     "text": [
      "100%|██████████| 40/40 [00:00<00:00, 62.41it/s]\n",
      "100%|██████████| 8/8 [00:00<00:00, 74.99it/s]\n"
     ]
    },
    {
     "name": "stdout",
     "output_type": "stream",
     "text": [
      "24 tensor(0.7840, device='cuda:0', dtype=torch.float64)\n"
     ]
    },
    {
     "name": "stderr",
     "output_type": "stream",
     "text": [
      "100%|██████████| 40/40 [00:00<00:00, 58.18it/s]\n",
      "100%|██████████| 8/8 [00:00<00:00, 74.67it/s]\n"
     ]
    },
    {
     "name": "stdout",
     "output_type": "stream",
     "text": [
      "25 tensor(0.8060, device='cuda:0', dtype=torch.float64)\n"
     ]
    },
    {
     "name": "stderr",
     "output_type": "stream",
     "text": [
      "100%|██████████| 40/40 [00:00<00:00, 62.50it/s]\n",
      "100%|██████████| 8/8 [00:00<00:00, 74.32it/s]\n"
     ]
    },
    {
     "name": "stdout",
     "output_type": "stream",
     "text": [
      "26 tensor(0.8180, device='cuda:0', dtype=torch.float64)\n"
     ]
    },
    {
     "name": "stderr",
     "output_type": "stream",
     "text": [
      "100%|██████████| 40/40 [00:00<00:00, 62.80it/s]\n",
      "100%|██████████| 8/8 [00:00<00:00, 75.13it/s]\n",
      "100%|██████████| 40/40 [00:00<00:00, 62.37it/s]\n",
      "100%|██████████| 8/8 [00:00<00:00, 73.93it/s]\n"
     ]
    },
    {
     "name": "stdout",
     "output_type": "stream",
     "text": [
      "28 tensor(0.8340, device='cuda:0', dtype=torch.float64)\n"
     ]
    },
    {
     "name": "stderr",
     "output_type": "stream",
     "text": [
      "100%|██████████| 40/40 [00:00<00:00, 62.41it/s]\n",
      "100%|██████████| 8/8 [00:00<00:00, 75.16it/s]\n",
      "100%|██████████| 40/40 [00:00<00:00, 62.26it/s]\n",
      "100%|██████████| 8/8 [00:00<00:00, 73.49it/s]\n"
     ]
    },
    {
     "name": "stdout",
     "output_type": "stream",
     "text": [
      "30 tensor(0.8460, device='cuda:0', dtype=torch.float64)\n"
     ]
    },
    {
     "name": "stderr",
     "output_type": "stream",
     "text": [
      "100%|██████████| 40/40 [00:00<00:00, 62.25it/s]\n",
      "100%|██████████| 8/8 [00:00<00:00, 74.82it/s]\n"
     ]
    },
    {
     "name": "stdout",
     "output_type": "stream",
     "text": [
      "31 tensor(0.8560, device='cuda:0', dtype=torch.float64)\n"
     ]
    },
    {
     "name": "stderr",
     "output_type": "stream",
     "text": [
      "100%|██████████| 40/40 [00:00<00:00, 62.41it/s]\n",
      "100%|██████████| 8/8 [00:00<00:00, 74.93it/s]\n",
      "100%|██████████| 40/40 [00:00<00:00, 62.08it/s]\n",
      "100%|██████████| 8/8 [00:00<00:00, 75.39it/s]\n"
     ]
    },
    {
     "name": "stdout",
     "output_type": "stream",
     "text": [
      "33 tensor(0.8680, device='cuda:0', dtype=torch.float64)\n"
     ]
    },
    {
     "name": "stderr",
     "output_type": "stream",
     "text": [
      "100%|██████████| 40/40 [00:00<00:00, 61.89it/s]\n",
      "100%|██████████| 8/8 [00:00<00:00, 74.98it/s]\n"
     ]
    },
    {
     "name": "stdout",
     "output_type": "stream",
     "text": [
      "34 tensor(0.8740, device='cuda:0', dtype=torch.float64)\n"
     ]
    },
    {
     "name": "stderr",
     "output_type": "stream",
     "text": [
      "100%|██████████| 40/40 [00:00<00:00, 62.09it/s]\n",
      "100%|██████████| 8/8 [00:00<00:00, 73.20it/s]\n",
      "100%|██████████| 40/40 [00:00<00:00, 62.60it/s]\n",
      "100%|██████████| 8/8 [00:00<00:00, 76.62it/s]\n",
      "100%|██████████| 40/40 [00:00<00:00, 62.85it/s]\n",
      "100%|██████████| 8/8 [00:00<00:00, 77.60it/s]\n",
      "100%|██████████| 40/40 [00:00<00:00, 60.06it/s]\n",
      "100%|██████████| 8/8 [00:00<00:00, 76.18it/s]\n",
      "100%|██████████| 40/40 [00:00<00:00, 63.48it/s]\n",
      "100%|██████████| 8/8 [00:00<00:00, 77.33it/s]\n"
     ]
    },
    {
     "name": "stdout",
     "output_type": "stream",
     "text": [
      "tensor(0.8740, device='cuda:0', dtype=torch.float64)\n",
      "2500 500\n",
      "TAILLE dataset {'train': 2500, 'val': 500}\n",
      "DATASET SIZE {'train': 2500, 'val': 500}\n"
     ]
    },
    {
     "name": "stderr",
     "output_type": "stream",
     "text": [
      "100%|██████████| 40/40 [00:00<00:00, 63.39it/s]\n",
      "100%|██████████| 8/8 [00:00<00:00, 80.53it/s]\n"
     ]
    },
    {
     "name": "stdout",
     "output_type": "stream",
     "text": [
      "0 tensor(0.2100, device='cuda:0', dtype=torch.float64)\n"
     ]
    },
    {
     "name": "stderr",
     "output_type": "stream",
     "text": [
      "100%|██████████| 40/40 [00:00<00:00, 66.01it/s]\n",
      "100%|██████████| 8/8 [00:00<00:00, 80.35it/s]\n"
     ]
    },
    {
     "name": "stdout",
     "output_type": "stream",
     "text": [
      "1 tensor(0.2520, device='cuda:0', dtype=torch.float64)\n"
     ]
    },
    {
     "name": "stderr",
     "output_type": "stream",
     "text": [
      "100%|██████████| 40/40 [00:00<00:00, 66.07it/s]\n",
      "100%|██████████| 8/8 [00:00<00:00, 80.27it/s]\n"
     ]
    },
    {
     "name": "stdout",
     "output_type": "stream",
     "text": [
      "2 tensor(0.2760, device='cuda:0', dtype=torch.float64)\n"
     ]
    },
    {
     "name": "stderr",
     "output_type": "stream",
     "text": [
      "100%|██████████| 40/40 [00:00<00:00, 64.82it/s]\n",
      "100%|██████████| 8/8 [00:00<00:00, 76.33it/s]\n"
     ]
    },
    {
     "name": "stdout",
     "output_type": "stream",
     "text": [
      "3 tensor(0.3280, device='cuda:0', dtype=torch.float64)\n"
     ]
    },
    {
     "name": "stderr",
     "output_type": "stream",
     "text": [
      "100%|██████████| 40/40 [00:00<00:00, 57.19it/s]\n",
      "100%|██████████| 8/8 [00:00<00:00, 71.77it/s]\n"
     ]
    },
    {
     "name": "stdout",
     "output_type": "stream",
     "text": [
      "4 tensor(0.4000, device='cuda:0', dtype=torch.float64)\n"
     ]
    },
    {
     "name": "stderr",
     "output_type": "stream",
     "text": [
      "100%|██████████| 40/40 [00:00<00:00, 59.41it/s]\n",
      "100%|██████████| 8/8 [00:00<00:00, 71.87it/s]\n"
     ]
    },
    {
     "name": "stdout",
     "output_type": "stream",
     "text": [
      "5 tensor(0.4700, device='cuda:0', dtype=torch.float64)\n"
     ]
    },
    {
     "name": "stderr",
     "output_type": "stream",
     "text": [
      "100%|██████████| 40/40 [00:00<00:00, 59.65it/s]\n",
      "100%|██████████| 8/8 [00:00<00:00, 71.83it/s]\n"
     ]
    },
    {
     "name": "stdout",
     "output_type": "stream",
     "text": [
      "6 tensor(0.5420, device='cuda:0', dtype=torch.float64)\n"
     ]
    },
    {
     "name": "stderr",
     "output_type": "stream",
     "text": [
      "100%|██████████| 40/40 [00:00<00:00, 59.66it/s]\n",
      "100%|██████████| 8/8 [00:00<00:00, 69.76it/s]\n"
     ]
    },
    {
     "name": "stdout",
     "output_type": "stream",
     "text": [
      "7 tensor(0.5960, device='cuda:0', dtype=torch.float64)\n"
     ]
    },
    {
     "name": "stderr",
     "output_type": "stream",
     "text": [
      "100%|██████████| 40/40 [00:00<00:00, 59.21it/s]\n",
      "100%|██████████| 8/8 [00:00<00:00, 70.05it/s]\n"
     ]
    },
    {
     "name": "stdout",
     "output_type": "stream",
     "text": [
      "8 tensor(0.6100, device='cuda:0', dtype=torch.float64)\n"
     ]
    },
    {
     "name": "stderr",
     "output_type": "stream",
     "text": [
      "100%|██████████| 40/40 [00:00<00:00, 59.76it/s]\n",
      "100%|██████████| 8/8 [00:00<00:00, 71.57it/s]\n"
     ]
    },
    {
     "name": "stdout",
     "output_type": "stream",
     "text": [
      "9 tensor(0.6280, device='cuda:0', dtype=torch.float64)\n"
     ]
    },
    {
     "name": "stderr",
     "output_type": "stream",
     "text": [
      "100%|██████████| 40/40 [00:00<00:00, 60.67it/s]\n",
      "100%|██████████| 8/8 [00:00<00:00, 73.11it/s]\n"
     ]
    },
    {
     "name": "stdout",
     "output_type": "stream",
     "text": [
      "10 tensor(0.6380, device='cuda:0', dtype=torch.float64)\n"
     ]
    },
    {
     "name": "stderr",
     "output_type": "stream",
     "text": [
      "100%|██████████| 40/40 [00:00<00:00, 61.39it/s]\n",
      "100%|██████████| 8/8 [00:00<00:00, 76.49it/s]\n"
     ]
    },
    {
     "name": "stdout",
     "output_type": "stream",
     "text": [
      "11 tensor(0.6420, device='cuda:0', dtype=torch.float64)\n"
     ]
    },
    {
     "name": "stderr",
     "output_type": "stream",
     "text": [
      "100%|██████████| 40/40 [00:00<00:00, 63.48it/s]\n",
      "100%|██████████| 8/8 [00:00<00:00, 74.34it/s]\n"
     ]
    },
    {
     "name": "stdout",
     "output_type": "stream",
     "text": [
      "12 tensor(0.6620, device='cuda:0', dtype=torch.float64)\n"
     ]
    },
    {
     "name": "stderr",
     "output_type": "stream",
     "text": [
      "100%|██████████| 40/40 [00:00<00:00, 60.82it/s]\n",
      "100%|██████████| 8/8 [00:00<00:00, 76.56it/s]\n"
     ]
    },
    {
     "name": "stdout",
     "output_type": "stream",
     "text": [
      "13 tensor(0.6660, device='cuda:0', dtype=torch.float64)\n"
     ]
    },
    {
     "name": "stderr",
     "output_type": "stream",
     "text": [
      "100%|██████████| 40/40 [00:00<00:00, 53.53it/s]\n",
      "100%|██████████| 8/8 [00:00<00:00, 63.83it/s]\n"
     ]
    },
    {
     "name": "stdout",
     "output_type": "stream",
     "text": [
      "14 tensor(0.6780, device='cuda:0', dtype=torch.float64)\n"
     ]
    },
    {
     "name": "stderr",
     "output_type": "stream",
     "text": [
      "100%|██████████| 40/40 [00:00<00:00, 52.52it/s]\n",
      "100%|██████████| 8/8 [00:00<00:00, 61.77it/s]\n"
     ]
    },
    {
     "name": "stdout",
     "output_type": "stream",
     "text": [
      "15 tensor(0.7060, device='cuda:0', dtype=torch.float64)\n"
     ]
    },
    {
     "name": "stderr",
     "output_type": "stream",
     "text": [
      "100%|██████████| 40/40 [00:00<00:00, 52.53it/s]\n",
      "100%|██████████| 8/8 [00:00<00:00, 62.02it/s]\n"
     ]
    },
    {
     "name": "stdout",
     "output_type": "stream",
     "text": [
      "16 tensor(0.7280, device='cuda:0', dtype=torch.float64)\n"
     ]
    },
    {
     "name": "stderr",
     "output_type": "stream",
     "text": [
      "100%|██████████| 40/40 [00:00<00:00, 51.68it/s]\n",
      "100%|██████████| 8/8 [00:00<00:00, 65.78it/s]\n"
     ]
    },
    {
     "name": "stdout",
     "output_type": "stream",
     "text": [
      "17 tensor(0.7540, device='cuda:0', dtype=torch.float64)\n"
     ]
    },
    {
     "name": "stderr",
     "output_type": "stream",
     "text": [
      "100%|██████████| 40/40 [00:00<00:00, 57.70it/s]\n",
      "100%|██████████| 8/8 [00:00<00:00, 67.77it/s]\n"
     ]
    },
    {
     "name": "stdout",
     "output_type": "stream",
     "text": [
      "18 tensor(0.7700, device='cuda:0', dtype=torch.float64)\n"
     ]
    },
    {
     "name": "stderr",
     "output_type": "stream",
     "text": [
      "100%|██████████| 40/40 [00:00<00:00, 57.96it/s]\n",
      "100%|██████████| 8/8 [00:00<00:00, 67.67it/s]\n",
      "100%|██████████| 40/40 [00:00<00:00, 57.24it/s]\n",
      "100%|██████████| 8/8 [00:00<00:00, 67.93it/s]\n"
     ]
    },
    {
     "name": "stdout",
     "output_type": "stream",
     "text": [
      "20 tensor(0.7820, device='cuda:0', dtype=torch.float64)\n"
     ]
    },
    {
     "name": "stderr",
     "output_type": "stream",
     "text": [
      "100%|██████████| 40/40 [00:00<00:00, 51.27it/s]\n",
      "100%|██████████| 8/8 [00:00<00:00, 68.69it/s]\n"
     ]
    },
    {
     "name": "stdout",
     "output_type": "stream",
     "text": [
      "21 tensor(0.8000, device='cuda:0', dtype=torch.float64)\n"
     ]
    },
    {
     "name": "stderr",
     "output_type": "stream",
     "text": [
      "100%|██████████| 40/40 [00:00<00:00, 55.27it/s]\n",
      "100%|██████████| 8/8 [00:00<00:00, 59.37it/s]\n",
      "100%|██████████| 40/40 [00:00<00:00, 55.23it/s]\n",
      "100%|██████████| 8/8 [00:00<00:00, 69.43it/s]\n"
     ]
    },
    {
     "name": "stdout",
     "output_type": "stream",
     "text": [
      "23 tensor(0.8080, device='cuda:0', dtype=torch.float64)\n"
     ]
    },
    {
     "name": "stderr",
     "output_type": "stream",
     "text": [
      "100%|██████████| 40/40 [00:00<00:00, 58.25it/s]\n",
      "100%|██████████| 8/8 [00:00<00:00, 69.91it/s]\n"
     ]
    },
    {
     "name": "stdout",
     "output_type": "stream",
     "text": [
      "24 tensor(0.8240, device='cuda:0', dtype=torch.float64)\n"
     ]
    },
    {
     "name": "stderr",
     "output_type": "stream",
     "text": [
      "100%|██████████| 40/40 [00:00<00:00, 57.93it/s]\n",
      "100%|██████████| 8/8 [00:00<00:00, 68.20it/s]\n"
     ]
    },
    {
     "name": "stdout",
     "output_type": "stream",
     "text": [
      "25 tensor(0.8420, device='cuda:0', dtype=torch.float64)\n"
     ]
    },
    {
     "name": "stderr",
     "output_type": "stream",
     "text": [
      "100%|██████████| 40/40 [00:00<00:00, 57.70it/s]\n",
      "100%|██████████| 8/8 [00:00<00:00, 68.86it/s]\n"
     ]
    },
    {
     "name": "stdout",
     "output_type": "stream",
     "text": [
      "26 tensor(0.8440, device='cuda:0', dtype=torch.float64)\n"
     ]
    },
    {
     "name": "stderr",
     "output_type": "stream",
     "text": [
      "100%|██████████| 40/40 [00:00<00:00, 57.68it/s]\n",
      "100%|██████████| 8/8 [00:00<00:00, 67.88it/s]\n",
      "100%|██████████| 40/40 [00:00<00:00, 57.98it/s]\n",
      "100%|██████████| 8/8 [00:00<00:00, 68.83it/s]\n",
      "100%|██████████| 40/40 [00:00<00:00, 58.27it/s]\n",
      "100%|██████████| 8/8 [00:00<00:00, 67.92it/s]\n",
      "100%|██████████| 40/40 [00:00<00:00, 58.43it/s]\n",
      "100%|██████████| 8/8 [00:00<00:00, 68.99it/s]\n"
     ]
    },
    {
     "name": "stdout",
     "output_type": "stream",
     "text": [
      "30 tensor(0.8480, device='cuda:0', dtype=torch.float64)\n"
     ]
    },
    {
     "name": "stderr",
     "output_type": "stream",
     "text": [
      "100%|██████████| 40/40 [00:00<00:00, 58.29it/s]\n",
      "100%|██████████| 8/8 [00:00<00:00, 64.51it/s]\n",
      "100%|██████████| 40/40 [00:00<00:00, 57.23it/s]\n",
      "100%|██████████| 8/8 [00:00<00:00, 69.89it/s]\n",
      "100%|██████████| 40/40 [00:00<00:00, 58.68it/s]\n",
      "100%|██████████| 8/8 [00:00<00:00, 70.00it/s]\n"
     ]
    },
    {
     "name": "stdout",
     "output_type": "stream",
     "text": [
      "33 tensor(0.8600, device='cuda:0', dtype=torch.float64)\n"
     ]
    },
    {
     "name": "stderr",
     "output_type": "stream",
     "text": [
      "100%|██████████| 40/40 [00:00<00:00, 58.27it/s]\n",
      "100%|██████████| 8/8 [00:00<00:00, 69.59it/s]\n",
      "100%|██████████| 40/40 [00:00<00:00, 58.56it/s]\n",
      "100%|██████████| 8/8 [00:00<00:00, 70.02it/s]\n"
     ]
    },
    {
     "name": "stdout",
     "output_type": "stream",
     "text": [
      "35 tensor(0.8660, device='cuda:0', dtype=torch.float64)\n"
     ]
    },
    {
     "name": "stderr",
     "output_type": "stream",
     "text": [
      "100%|██████████| 40/40 [00:00<00:00, 59.13it/s]\n",
      "100%|██████████| 8/8 [00:00<00:00, 69.99it/s]\n"
     ]
    },
    {
     "name": "stdout",
     "output_type": "stream",
     "text": [
      "36 tensor(0.8680, device='cuda:0', dtype=torch.float64)\n"
     ]
    },
    {
     "name": "stderr",
     "output_type": "stream",
     "text": [
      "100%|██████████| 40/40 [00:00<00:00, 59.13it/s]\n",
      "100%|██████████| 8/8 [00:00<00:00, 71.22it/s]\n"
     ]
    },
    {
     "name": "stdout",
     "output_type": "stream",
     "text": [
      "37 tensor(0.8780, device='cuda:0', dtype=torch.float64)\n"
     ]
    },
    {
     "name": "stderr",
     "output_type": "stream",
     "text": [
      "100%|██████████| 40/40 [00:00<00:00, 59.16it/s]\n",
      "100%|██████████| 8/8 [00:00<00:00, 69.35it/s]\n"
     ]
    },
    {
     "name": "stdout",
     "output_type": "stream",
     "text": [
      "38 tensor(0.8800, device='cuda:0', dtype=torch.float64)\n"
     ]
    },
    {
     "name": "stderr",
     "output_type": "stream",
     "text": [
      "100%|██████████| 40/40 [00:00<00:00, 58.42it/s]\n",
      "100%|██████████| 8/8 [00:00<00:00, 71.17it/s]\n"
     ]
    },
    {
     "name": "stdout",
     "output_type": "stream",
     "text": [
      "tensor(0.8800, device='cuda:0', dtype=torch.float64)\n",
      "2500 500\n",
      "TAILLE dataset {'train': 2500, 'val': 500}\n",
      "DATASET SIZE {'train': 2500, 'val': 500}\n"
     ]
    },
    {
     "name": "stderr",
     "output_type": "stream",
     "text": [
      "100%|██████████| 40/40 [00:00<00:00, 59.46it/s]\n",
      "100%|██████████| 8/8 [00:00<00:00, 68.35it/s]\n"
     ]
    },
    {
     "name": "stdout",
     "output_type": "stream",
     "text": [
      "0 tensor(0.1040, device='cuda:0', dtype=torch.float64)\n"
     ]
    },
    {
     "name": "stderr",
     "output_type": "stream",
     "text": [
      "100%|██████████| 40/40 [00:00<00:00, 59.89it/s]\n",
      "100%|██████████| 8/8 [00:00<00:00, 73.05it/s]\n"
     ]
    },
    {
     "name": "stdout",
     "output_type": "stream",
     "text": [
      "1 tensor(0.1080, device='cuda:0', dtype=torch.float64)\n"
     ]
    },
    {
     "name": "stderr",
     "output_type": "stream",
     "text": [
      "100%|██████████| 40/40 [00:00<00:00, 60.71it/s]\n",
      "100%|██████████| 8/8 [00:00<00:00, 73.17it/s]\n"
     ]
    },
    {
     "name": "stdout",
     "output_type": "stream",
     "text": [
      "2 tensor(0.1360, device='cuda:0', dtype=torch.float64)\n"
     ]
    },
    {
     "name": "stderr",
     "output_type": "stream",
     "text": [
      "100%|██████████| 40/40 [00:00<00:00, 60.43it/s]\n",
      "100%|██████████| 8/8 [00:00<00:00, 72.98it/s]\n"
     ]
    },
    {
     "name": "stdout",
     "output_type": "stream",
     "text": [
      "3 tensor(0.1900, device='cuda:0', dtype=torch.float64)\n"
     ]
    },
    {
     "name": "stderr",
     "output_type": "stream",
     "text": [
      "100%|██████████| 40/40 [00:00<00:00, 60.48it/s]\n",
      "100%|██████████| 8/8 [00:00<00:00, 73.16it/s]\n"
     ]
    },
    {
     "name": "stdout",
     "output_type": "stream",
     "text": [
      "4 tensor(0.2900, device='cuda:0', dtype=torch.float64)\n"
     ]
    },
    {
     "name": "stderr",
     "output_type": "stream",
     "text": [
      "100%|██████████| 40/40 [00:00<00:00, 60.66it/s]\n",
      "100%|██████████| 8/8 [00:00<00:00, 73.33it/s]\n"
     ]
    },
    {
     "name": "stdout",
     "output_type": "stream",
     "text": [
      "5 tensor(0.3620, device='cuda:0', dtype=torch.float64)\n"
     ]
    },
    {
     "name": "stderr",
     "output_type": "stream",
     "text": [
      "100%|██████████| 40/40 [00:00<00:00, 60.58it/s]\n",
      "100%|██████████| 8/8 [00:00<00:00, 75.05it/s]\n"
     ]
    },
    {
     "name": "stdout",
     "output_type": "stream",
     "text": [
      "6 tensor(0.4140, device='cuda:0', dtype=torch.float64)\n"
     ]
    },
    {
     "name": "stderr",
     "output_type": "stream",
     "text": [
      "100%|██████████| 40/40 [00:00<00:00, 62.05it/s]\n",
      "100%|██████████| 8/8 [00:00<00:00, 72.64it/s]\n"
     ]
    },
    {
     "name": "stdout",
     "output_type": "stream",
     "text": [
      "7 tensor(0.4460, device='cuda:0', dtype=torch.float64)\n"
     ]
    },
    {
     "name": "stderr",
     "output_type": "stream",
     "text": [
      "100%|██████████| 40/40 [00:00<00:00, 63.91it/s]\n",
      "100%|██████████| 8/8 [00:00<00:00, 78.74it/s]\n"
     ]
    },
    {
     "name": "stdout",
     "output_type": "stream",
     "text": [
      "8 tensor(0.4600, device='cuda:0', dtype=torch.float64)\n"
     ]
    },
    {
     "name": "stderr",
     "output_type": "stream",
     "text": [
      "100%|██████████| 40/40 [00:00<00:00, 65.87it/s]\n",
      "100%|██████████| 8/8 [00:00<00:00, 80.70it/s]\n"
     ]
    },
    {
     "name": "stdout",
     "output_type": "stream",
     "text": [
      "9 tensor(0.4640, device='cuda:0', dtype=torch.float64)\n"
     ]
    },
    {
     "name": "stderr",
     "output_type": "stream",
     "text": [
      "100%|██████████| 40/40 [00:00<00:00, 66.05it/s]\n",
      "100%|██████████| 8/8 [00:00<00:00, 80.14it/s]\n",
      "100%|██████████| 40/40 [00:00<00:00, 66.23it/s]\n",
      "100%|██████████| 8/8 [00:00<00:00, 77.78it/s]\n",
      "100%|██████████| 40/40 [00:00<00:00, 66.05it/s]\n",
      "100%|██████████| 8/8 [00:00<00:00, 75.80it/s]\n"
     ]
    },
    {
     "name": "stdout",
     "output_type": "stream",
     "text": [
      "12 tensor(0.4900, device='cuda:0', dtype=torch.float64)\n"
     ]
    },
    {
     "name": "stderr",
     "output_type": "stream",
     "text": [
      "100%|██████████| 40/40 [00:00<00:00, 60.60it/s]\n",
      "100%|██████████| 8/8 [00:00<00:00, 60.65it/s]\n"
     ]
    },
    {
     "name": "stdout",
     "output_type": "stream",
     "text": [
      "13 tensor(0.5560, device='cuda:0', dtype=torch.float64)\n"
     ]
    },
    {
     "name": "stderr",
     "output_type": "stream",
     "text": [
      "100%|██████████| 40/40 [00:00<00:00, 57.93it/s]\n",
      "100%|██████████| 8/8 [00:00<00:00, 67.99it/s]\n"
     ]
    },
    {
     "name": "stdout",
     "output_type": "stream",
     "text": [
      "14 tensor(0.5980, device='cuda:0', dtype=torch.float64)\n"
     ]
    },
    {
     "name": "stderr",
     "output_type": "stream",
     "text": [
      "100%|██████████| 40/40 [00:00<00:00, 58.13it/s]\n",
      "100%|██████████| 8/8 [00:00<00:00, 68.73it/s]\n"
     ]
    },
    {
     "name": "stdout",
     "output_type": "stream",
     "text": [
      "15 tensor(0.6500, device='cuda:0', dtype=torch.float64)\n"
     ]
    },
    {
     "name": "stderr",
     "output_type": "stream",
     "text": [
      "100%|██████████| 40/40 [00:00<00:00, 58.28it/s]\n",
      "100%|██████████| 8/8 [00:00<00:00, 68.43it/s]\n"
     ]
    },
    {
     "name": "stdout",
     "output_type": "stream",
     "text": [
      "16 tensor(0.6840, device='cuda:0', dtype=torch.float64)\n"
     ]
    },
    {
     "name": "stderr",
     "output_type": "stream",
     "text": [
      "100%|██████████| 40/40 [00:00<00:00, 57.83it/s]\n",
      "100%|██████████| 8/8 [00:00<00:00, 69.15it/s]\n"
     ]
    },
    {
     "name": "stdout",
     "output_type": "stream",
     "text": [
      "17 tensor(0.7180, device='cuda:0', dtype=torch.float64)\n"
     ]
    },
    {
     "name": "stderr",
     "output_type": "stream",
     "text": [
      "100%|██████████| 40/40 [00:00<00:00, 58.03it/s]\n",
      "100%|██████████| 8/8 [00:00<00:00, 69.67it/s]\n"
     ]
    },
    {
     "name": "stdout",
     "output_type": "stream",
     "text": [
      "18 tensor(0.7300, device='cuda:0', dtype=torch.float64)\n"
     ]
    },
    {
     "name": "stderr",
     "output_type": "stream",
     "text": [
      "100%|██████████| 40/40 [00:00<00:00, 58.72it/s]\n",
      "100%|██████████| 8/8 [00:00<00:00, 70.98it/s]\n"
     ]
    },
    {
     "name": "stdout",
     "output_type": "stream",
     "text": [
      "19 tensor(0.7360, device='cuda:0', dtype=torch.float64)\n"
     ]
    },
    {
     "name": "stderr",
     "output_type": "stream",
     "text": [
      "100%|██████████| 40/40 [00:00<00:00, 58.92it/s]\n",
      "100%|██████████| 8/8 [00:00<00:00, 73.35it/s]\n"
     ]
    },
    {
     "name": "stdout",
     "output_type": "stream",
     "text": [
      "20 tensor(0.7640, device='cuda:0', dtype=torch.float64)\n"
     ]
    },
    {
     "name": "stderr",
     "output_type": "stream",
     "text": [
      "100%|██████████| 40/40 [00:00<00:00, 61.91it/s]\n",
      "100%|██████████| 8/8 [00:00<00:00, 73.45it/s]\n"
     ]
    },
    {
     "name": "stdout",
     "output_type": "stream",
     "text": [
      "21 tensor(0.7700, device='cuda:0', dtype=torch.float64)\n"
     ]
    },
    {
     "name": "stderr",
     "output_type": "stream",
     "text": [
      "100%|██████████| 40/40 [00:00<00:00, 62.28it/s]\n",
      "100%|██████████| 8/8 [00:00<00:00, 75.63it/s]\n"
     ]
    },
    {
     "name": "stdout",
     "output_type": "stream",
     "text": [
      "22 tensor(0.7940, device='cuda:0', dtype=torch.float64)\n"
     ]
    },
    {
     "name": "stderr",
     "output_type": "stream",
     "text": [
      "100%|██████████| 40/40 [00:00<00:00, 59.56it/s]\n",
      "100%|██████████| 8/8 [00:00<00:00, 65.04it/s]\n",
      "100%|██████████| 40/40 [00:00<00:00, 51.62it/s]\n",
      "100%|██████████| 8/8 [00:00<00:00, 58.53it/s]\n"
     ]
    },
    {
     "name": "stdout",
     "output_type": "stream",
     "text": [
      "24 tensor(0.8120, device='cuda:0', dtype=torch.float64)\n"
     ]
    },
    {
     "name": "stderr",
     "output_type": "stream",
     "text": [
      "100%|██████████| 40/40 [00:00<00:00, 50.14it/s]\n",
      "100%|██████████| 8/8 [00:00<00:00, 58.93it/s]\n",
      "100%|██████████| 40/40 [00:00<00:00, 49.88it/s]\n",
      "100%|██████████| 8/8 [00:00<00:00, 57.66it/s]\n"
     ]
    },
    {
     "name": "stdout",
     "output_type": "stream",
     "text": [
      "26 tensor(0.8140, device='cuda:0', dtype=torch.float64)\n"
     ]
    },
    {
     "name": "stderr",
     "output_type": "stream",
     "text": [
      "100%|██████████| 40/40 [00:00<00:00, 49.36it/s]\n",
      "100%|██████████| 8/8 [00:00<00:00, 59.28it/s]\n"
     ]
    },
    {
     "name": "stdout",
     "output_type": "stream",
     "text": [
      "27 tensor(0.8260, device='cuda:0', dtype=torch.float64)\n"
     ]
    },
    {
     "name": "stderr",
     "output_type": "stream",
     "text": [
      "100%|██████████| 40/40 [00:00<00:00, 50.04it/s]\n",
      "100%|██████████| 8/8 [00:00<00:00, 58.49it/s]\n",
      "100%|██████████| 40/40 [00:00<00:00, 52.36it/s]\n",
      "100%|██████████| 8/8 [00:00<00:00, 59.58it/s]\n",
      "100%|██████████| 40/40 [00:00<00:00, 57.27it/s]\n",
      "100%|██████████| 8/8 [00:00<00:00, 70.00it/s]\n"
     ]
    },
    {
     "name": "stdout",
     "output_type": "stream",
     "text": [
      "30 tensor(0.8500, device='cuda:0', dtype=torch.float64)\n"
     ]
    },
    {
     "name": "stderr",
     "output_type": "stream",
     "text": [
      "100%|██████████| 40/40 [00:00<00:00, 59.02it/s]\n",
      "100%|██████████| 8/8 [00:00<00:00, 71.36it/s]\n"
     ]
    },
    {
     "name": "stdout",
     "output_type": "stream",
     "text": [
      "31 tensor(0.8560, device='cuda:0', dtype=torch.float64)\n"
     ]
    },
    {
     "name": "stderr",
     "output_type": "stream",
     "text": [
      "100%|██████████| 40/40 [00:00<00:00, 59.24it/s]\n",
      "100%|██████████| 8/8 [00:00<00:00, 70.98it/s]\n",
      "100%|██████████| 40/40 [00:00<00:00, 59.39it/s]\n",
      "100%|██████████| 8/8 [00:00<00:00, 71.64it/s]\n"
     ]
    },
    {
     "name": "stdout",
     "output_type": "stream",
     "text": [
      "33 tensor(0.8640, device='cuda:0', dtype=torch.float64)\n"
     ]
    },
    {
     "name": "stderr",
     "output_type": "stream",
     "text": [
      "100%|██████████| 40/40 [00:00<00:00, 57.50it/s]\n",
      "100%|██████████| 8/8 [00:00<00:00, 58.80it/s]\n",
      "100%|██████████| 40/40 [00:00<00:00, 56.97it/s]\n",
      "100%|██████████| 8/8 [00:00<00:00, 50.74it/s]\n"
     ]
    },
    {
     "name": "stdout",
     "output_type": "stream",
     "text": [
      "35 tensor(0.8660, device='cuda:0', dtype=torch.float64)\n"
     ]
    },
    {
     "name": "stderr",
     "output_type": "stream",
     "text": [
      "100%|██████████| 40/40 [00:00<00:00, 49.59it/s]\n",
      "100%|██████████| 8/8 [00:00<00:00, 58.60it/s]\n",
      "100%|██████████| 40/40 [00:00<00:00, 50.98it/s]\n",
      "100%|██████████| 8/8 [00:00<00:00, 59.00it/s]\n",
      "100%|██████████| 40/40 [00:00<00:00, 50.26it/s]\n",
      "100%|██████████| 8/8 [00:00<00:00, 59.13it/s]\n",
      "100%|██████████| 40/40 [00:00<00:00, 51.77it/s]\n",
      "100%|██████████| 8/8 [00:00<00:00, 59.75it/s]\n"
     ]
    },
    {
     "name": "stdout",
     "output_type": "stream",
     "text": [
      "39 tensor(0.8920, device='cuda:0', dtype=torch.float64)\n",
      "tensor(0.8920, device='cuda:0', dtype=torch.float64)\n",
      "2500 500\n",
      "TAILLE dataset {'train': 2500, 'val': 500}\n",
      "DATASET SIZE {'train': 2500, 'val': 500}\n"
     ]
    },
    {
     "name": "stderr",
     "output_type": "stream",
     "text": [
      "100%|██████████| 40/40 [00:00<00:00, 50.56it/s]\n",
      "100%|██████████| 8/8 [00:00<00:00, 59.30it/s]\n"
     ]
    },
    {
     "name": "stdout",
     "output_type": "stream",
     "text": [
      "0 tensor(0.1520, device='cuda:0', dtype=torch.float64)\n"
     ]
    },
    {
     "name": "stderr",
     "output_type": "stream",
     "text": [
      "100%|██████████| 40/40 [00:00<00:00, 52.34it/s]\n",
      "100%|██████████| 8/8 [00:00<00:00, 69.70it/s]\n"
     ]
    },
    {
     "name": "stdout",
     "output_type": "stream",
     "text": [
      "1 tensor(0.1700, device='cuda:0', dtype=torch.float64)\n"
     ]
    },
    {
     "name": "stderr",
     "output_type": "stream",
     "text": [
      "100%|██████████| 40/40 [00:00<00:00, 56.58it/s]\n",
      "100%|██████████| 8/8 [00:00<00:00, 69.27it/s]\n"
     ]
    },
    {
     "name": "stdout",
     "output_type": "stream",
     "text": [
      "2 tensor(0.1920, device='cuda:0', dtype=torch.float64)\n"
     ]
    },
    {
     "name": "stderr",
     "output_type": "stream",
     "text": [
      "100%|██████████| 40/40 [00:00<00:00, 58.15it/s]\n",
      "100%|██████████| 8/8 [00:00<00:00, 68.17it/s]\n"
     ]
    },
    {
     "name": "stdout",
     "output_type": "stream",
     "text": [
      "3 tensor(0.1940, device='cuda:0', dtype=torch.float64)\n"
     ]
    },
    {
     "name": "stderr",
     "output_type": "stream",
     "text": [
      "100%|██████████| 40/40 [00:00<00:00, 58.16it/s]\n",
      "100%|██████████| 8/8 [00:00<00:00, 69.92it/s]\n",
      "100%|██████████| 40/40 [00:00<00:00, 58.29it/s]\n",
      "100%|██████████| 8/8 [00:00<00:00, 69.61it/s]\n"
     ]
    },
    {
     "name": "stdout",
     "output_type": "stream",
     "text": [
      "5 tensor(0.2000, device='cuda:0', dtype=torch.float64)\n"
     ]
    },
    {
     "name": "stderr",
     "output_type": "stream",
     "text": [
      "100%|██████████| 40/40 [00:00<00:00, 57.94it/s]\n",
      "100%|██████████| 8/8 [00:00<00:00, 60.69it/s]\n"
     ]
    },
    {
     "name": "stdout",
     "output_type": "stream",
     "text": [
      "6 tensor(0.2100, device='cuda:0', dtype=torch.float64)\n"
     ]
    },
    {
     "name": "stderr",
     "output_type": "stream",
     "text": [
      "100%|██████████| 40/40 [00:00<00:00, 58.23it/s]\n",
      "100%|██████████| 8/8 [00:00<00:00, 69.59it/s]\n"
     ]
    },
    {
     "name": "stdout",
     "output_type": "stream",
     "text": [
      "7 tensor(0.2160, device='cuda:0', dtype=torch.float64)\n"
     ]
    },
    {
     "name": "stderr",
     "output_type": "stream",
     "text": [
      "100%|██████████| 40/40 [00:00<00:00, 58.25it/s]\n",
      "100%|██████████| 8/8 [00:00<00:00, 69.62it/s]\n"
     ]
    },
    {
     "name": "stdout",
     "output_type": "stream",
     "text": [
      "8 tensor(0.2280, device='cuda:0', dtype=torch.float64)\n"
     ]
    },
    {
     "name": "stderr",
     "output_type": "stream",
     "text": [
      "100%|██████████| 40/40 [00:00<00:00, 57.86it/s]\n",
      "100%|██████████| 8/8 [00:00<00:00, 69.58it/s]\n"
     ]
    },
    {
     "name": "stdout",
     "output_type": "stream",
     "text": [
      "9 tensor(0.2440, device='cuda:0', dtype=torch.float64)\n"
     ]
    },
    {
     "name": "stderr",
     "output_type": "stream",
     "text": [
      "100%|██████████| 40/40 [00:00<00:00, 58.28it/s]\n",
      "100%|██████████| 8/8 [00:00<00:00, 68.95it/s]\n"
     ]
    },
    {
     "name": "stdout",
     "output_type": "stream",
     "text": [
      "10 tensor(0.2700, device='cuda:0', dtype=torch.float64)\n"
     ]
    },
    {
     "name": "stderr",
     "output_type": "stream",
     "text": [
      "100%|██████████| 40/40 [00:00<00:00, 55.70it/s]\n",
      "100%|██████████| 8/8 [00:00<00:00, 58.23it/s]\n"
     ]
    },
    {
     "name": "stdout",
     "output_type": "stream",
     "text": [
      "11 tensor(0.3020, device='cuda:0', dtype=torch.float64)\n"
     ]
    },
    {
     "name": "stderr",
     "output_type": "stream",
     "text": [
      "100%|██████████| 40/40 [00:00<00:00, 58.71it/s]\n",
      "100%|██████████| 8/8 [00:00<00:00, 69.55it/s]\n"
     ]
    },
    {
     "name": "stdout",
     "output_type": "stream",
     "text": [
      "12 tensor(0.3700, device='cuda:0', dtype=torch.float64)\n"
     ]
    },
    {
     "name": "stderr",
     "output_type": "stream",
     "text": [
      "100%|██████████| 40/40 [00:00<00:00, 58.66it/s]\n",
      "100%|██████████| 8/8 [00:00<00:00, 69.13it/s]\n"
     ]
    },
    {
     "name": "stdout",
     "output_type": "stream",
     "text": [
      "13 tensor(0.4280, device='cuda:0', dtype=torch.float64)\n"
     ]
    },
    {
     "name": "stderr",
     "output_type": "stream",
     "text": [
      "100%|██████████| 40/40 [00:00<00:00, 59.13it/s]\n",
      "100%|██████████| 8/8 [00:00<00:00, 70.79it/s]\n"
     ]
    },
    {
     "name": "stdout",
     "output_type": "stream",
     "text": [
      "14 tensor(0.5020, device='cuda:0', dtype=torch.float64)\n"
     ]
    },
    {
     "name": "stderr",
     "output_type": "stream",
     "text": [
      "100%|██████████| 40/40 [00:00<00:00, 59.62it/s]\n",
      "100%|██████████| 8/8 [00:00<00:00, 69.88it/s]\n"
     ]
    },
    {
     "name": "stdout",
     "output_type": "stream",
     "text": [
      "15 tensor(0.5900, device='cuda:0', dtype=torch.float64)\n"
     ]
    },
    {
     "name": "stderr",
     "output_type": "stream",
     "text": [
      "100%|██████████| 40/40 [00:00<00:00, 59.89it/s]\n",
      "100%|██████████| 8/8 [00:00<00:00, 71.85it/s]\n"
     ]
    },
    {
     "name": "stdout",
     "output_type": "stream",
     "text": [
      "16 tensor(0.6100, device='cuda:0', dtype=torch.float64)\n"
     ]
    },
    {
     "name": "stderr",
     "output_type": "stream",
     "text": [
      "100%|██████████| 40/40 [00:00<00:00, 60.67it/s]\n",
      "100%|██████████| 8/8 [00:00<00:00, 65.04it/s]\n"
     ]
    },
    {
     "name": "stdout",
     "output_type": "stream",
     "text": [
      "17 tensor(0.6160, device='cuda:0', dtype=torch.float64)\n"
     ]
    },
    {
     "name": "stderr",
     "output_type": "stream",
     "text": [
      "100%|██████████| 40/40 [00:00<00:00, 56.30it/s]\n",
      "100%|██████████| 8/8 [00:00<00:00, 77.09it/s]\n"
     ]
    },
    {
     "name": "stdout",
     "output_type": "stream",
     "text": [
      "18 tensor(0.6520, device='cuda:0', dtype=torch.float64)\n"
     ]
    },
    {
     "name": "stderr",
     "output_type": "stream",
     "text": [
      "100%|██████████| 40/40 [00:00<00:00, 62.80it/s]\n",
      "100%|██████████| 8/8 [00:00<00:00, 75.00it/s]\n"
     ]
    },
    {
     "name": "stdout",
     "output_type": "stream",
     "text": [
      "19 tensor(0.6660, device='cuda:0', dtype=torch.float64)\n"
     ]
    },
    {
     "name": "stderr",
     "output_type": "stream",
     "text": [
      "100%|██████████| 40/40 [00:00<00:00, 61.92it/s]\n",
      "100%|██████████| 8/8 [00:00<00:00, 73.67it/s]\n"
     ]
    },
    {
     "name": "stdout",
     "output_type": "stream",
     "text": [
      "20 tensor(0.7180, device='cuda:0', dtype=torch.float64)\n"
     ]
    },
    {
     "name": "stderr",
     "output_type": "stream",
     "text": [
      "100%|██████████| 40/40 [00:00<00:00, 61.33it/s]\n",
      "100%|██████████| 8/8 [00:00<00:00, 71.49it/s]\n",
      "100%|██████████| 40/40 [00:00<00:00, 59.11it/s]\n",
      "100%|██████████| 8/8 [00:00<00:00, 71.29it/s]\n"
     ]
    },
    {
     "name": "stdout",
     "output_type": "stream",
     "text": [
      "22 tensor(0.7500, device='cuda:0', dtype=torch.float64)\n"
     ]
    },
    {
     "name": "stderr",
     "output_type": "stream",
     "text": [
      "100%|██████████| 40/40 [00:00<00:00, 51.41it/s]\n",
      "100%|██████████| 8/8 [00:00<00:00, 70.93it/s]\n"
     ]
    },
    {
     "name": "stdout",
     "output_type": "stream",
     "text": [
      "23 tensor(0.7840, device='cuda:0', dtype=torch.float64)\n"
     ]
    },
    {
     "name": "stderr",
     "output_type": "stream",
     "text": [
      "100%|██████████| 40/40 [00:00<00:00, 59.64it/s]\n",
      "100%|██████████| 8/8 [00:00<00:00, 69.62it/s]\n"
     ]
    },
    {
     "name": "stdout",
     "output_type": "stream",
     "text": [
      "24 tensor(0.7860, device='cuda:0', dtype=torch.float64)\n"
     ]
    },
    {
     "name": "stderr",
     "output_type": "stream",
     "text": [
      "100%|██████████| 40/40 [00:00<00:00, 58.97it/s]\n",
      "100%|██████████| 8/8 [00:00<00:00, 71.65it/s]\n"
     ]
    },
    {
     "name": "stdout",
     "output_type": "stream",
     "text": [
      "25 tensor(0.8080, device='cuda:0', dtype=torch.float64)\n"
     ]
    },
    {
     "name": "stderr",
     "output_type": "stream",
     "text": [
      "100%|██████████| 40/40 [00:00<00:00, 57.27it/s]\n",
      "100%|██████████| 8/8 [00:00<00:00, 59.17it/s]\n",
      "100%|██████████| 40/40 [00:00<00:00, 56.55it/s]\n",
      "100%|██████████| 8/8 [00:00<00:00, 71.40it/s]\n"
     ]
    },
    {
     "name": "stdout",
     "output_type": "stream",
     "text": [
      "27 tensor(0.8240, device='cuda:0', dtype=torch.float64)\n"
     ]
    },
    {
     "name": "stderr",
     "output_type": "stream",
     "text": [
      "100%|██████████| 40/40 [00:00<00:00, 59.86it/s]\n",
      "100%|██████████| 8/8 [00:00<00:00, 73.29it/s]\n"
     ]
    },
    {
     "name": "stdout",
     "output_type": "stream",
     "text": [
      "28 tensor(0.8260, device='cuda:0', dtype=torch.float64)\n"
     ]
    },
    {
     "name": "stderr",
     "output_type": "stream",
     "text": [
      "100%|██████████| 40/40 [00:00<00:00, 62.18it/s]\n",
      "100%|██████████| 8/8 [00:00<00:00, 73.58it/s]\n",
      "100%|██████████| 40/40 [00:00<00:00, 60.55it/s]\n",
      "100%|██████████| 8/8 [00:00<00:00, 74.93it/s]\n"
     ]
    },
    {
     "name": "stdout",
     "output_type": "stream",
     "text": [
      "30 tensor(0.8420, device='cuda:0', dtype=torch.float64)\n"
     ]
    },
    {
     "name": "stderr",
     "output_type": "stream",
     "text": [
      "100%|██████████| 40/40 [00:00<00:00, 62.98it/s]\n",
      "100%|██████████| 8/8 [00:00<00:00, 73.14it/s]\n",
      "100%|██████████| 40/40 [00:00<00:00, 59.70it/s]\n",
      "100%|██████████| 8/8 [00:00<00:00, 68.87it/s]\n",
      "100%|██████████| 40/40 [00:00<00:00, 58.67it/s]\n",
      "100%|██████████| 8/8 [00:00<00:00, 69.13it/s]\n",
      "100%|██████████| 40/40 [00:00<00:00, 60.16it/s]\n",
      "100%|██████████| 8/8 [00:00<00:00, 68.76it/s]\n"
     ]
    },
    {
     "name": "stdout",
     "output_type": "stream",
     "text": [
      "34 tensor(0.8580, device='cuda:0', dtype=torch.float64)\n"
     ]
    },
    {
     "name": "stderr",
     "output_type": "stream",
     "text": [
      "100%|██████████| 40/40 [00:00<00:00, 58.67it/s]\n",
      "100%|██████████| 8/8 [00:00<00:00, 67.81it/s]\n",
      "100%|██████████| 40/40 [00:00<00:00, 58.32it/s]\n",
      "100%|██████████| 8/8 [00:00<00:00, 68.59it/s]\n",
      "100%|██████████| 40/40 [00:00<00:00, 58.73it/s]\n",
      "100%|██████████| 8/8 [00:00<00:00, 69.53it/s]\n",
      "100%|██████████| 40/40 [00:00<00:00, 57.75it/s]\n",
      "100%|██████████| 8/8 [00:00<00:00, 66.82it/s]\n",
      "100%|██████████| 40/40 [00:00<00:00, 59.02it/s]\n",
      "100%|██████████| 8/8 [00:00<00:00, 68.90it/s]\n"
     ]
    },
    {
     "name": "stdout",
     "output_type": "stream",
     "text": [
      "39 tensor(0.8720, device='cuda:0', dtype=torch.float64)\n",
      "tensor(0.8720, device='cuda:0', dtype=torch.float64)\n",
      "2500 500\n",
      "TAILLE dataset {'train': 2500, 'val': 500}\n",
      "DATASET SIZE {'train': 2500, 'val': 500}\n"
     ]
    },
    {
     "name": "stderr",
     "output_type": "stream",
     "text": [
      "100%|██████████| 40/40 [00:00<00:00, 59.71it/s]\n",
      "100%|██████████| 8/8 [00:00<00:00, 71.84it/s]\n"
     ]
    },
    {
     "name": "stdout",
     "output_type": "stream",
     "text": [
      "0 tensor(0.1280, device='cuda:0', dtype=torch.float64)\n"
     ]
    },
    {
     "name": "stderr",
     "output_type": "stream",
     "text": [
      "100%|██████████| 40/40 [00:00<00:00, 61.24it/s]\n",
      "100%|██████████| 8/8 [00:00<00:00, 72.38it/s]\n"
     ]
    },
    {
     "name": "stdout",
     "output_type": "stream",
     "text": [
      "1 tensor(0.1580, device='cuda:0', dtype=torch.float64)\n"
     ]
    },
    {
     "name": "stderr",
     "output_type": "stream",
     "text": [
      "100%|██████████| 40/40 [00:00<00:00, 61.29it/s]\n",
      "100%|██████████| 8/8 [00:00<00:00, 73.43it/s]\n"
     ]
    },
    {
     "name": "stdout",
     "output_type": "stream",
     "text": [
      "2 tensor(0.2000, device='cuda:0', dtype=torch.float64)\n"
     ]
    },
    {
     "name": "stderr",
     "output_type": "stream",
     "text": [
      "100%|██████████| 40/40 [00:00<00:00, 61.14it/s]\n",
      "100%|██████████| 8/8 [00:00<00:00, 73.15it/s]\n"
     ]
    },
    {
     "name": "stdout",
     "output_type": "stream",
     "text": [
      "3 tensor(0.2400, device='cuda:0', dtype=torch.float64)\n"
     ]
    },
    {
     "name": "stderr",
     "output_type": "stream",
     "text": [
      "100%|██████████| 40/40 [00:00<00:00, 61.00it/s]\n",
      "100%|██████████| 8/8 [00:00<00:00, 72.21it/s]\n"
     ]
    },
    {
     "name": "stdout",
     "output_type": "stream",
     "text": [
      "4 tensor(0.3620, device='cuda:0', dtype=torch.float64)\n"
     ]
    },
    {
     "name": "stderr",
     "output_type": "stream",
     "text": [
      "100%|██████████| 40/40 [00:00<00:00, 59.78it/s]\n",
      "100%|██████████| 8/8 [00:00<00:00, 72.54it/s]\n"
     ]
    },
    {
     "name": "stdout",
     "output_type": "stream",
     "text": [
      "5 tensor(0.4760, device='cuda:0', dtype=torch.float64)\n"
     ]
    },
    {
     "name": "stderr",
     "output_type": "stream",
     "text": [
      "100%|██████████| 40/40 [00:00<00:00, 60.30it/s]\n",
      "100%|██████████| 8/8 [00:00<00:00, 69.65it/s]\n"
     ]
    },
    {
     "name": "stdout",
     "output_type": "stream",
     "text": [
      "6 tensor(0.5500, device='cuda:0', dtype=torch.float64)\n"
     ]
    },
    {
     "name": "stderr",
     "output_type": "stream",
     "text": [
      "100%|██████████| 40/40 [00:00<00:00, 61.10it/s]\n",
      "100%|██████████| 8/8 [00:00<00:00, 74.10it/s]\n"
     ]
    },
    {
     "name": "stdout",
     "output_type": "stream",
     "text": [
      "7 tensor(0.6000, device='cuda:0', dtype=torch.float64)\n"
     ]
    },
    {
     "name": "stderr",
     "output_type": "stream",
     "text": [
      "100%|██████████| 40/40 [00:00<00:00, 60.66it/s]\n",
      "100%|██████████| 8/8 [00:00<00:00, 72.74it/s]\n"
     ]
    },
    {
     "name": "stdout",
     "output_type": "stream",
     "text": [
      "8 tensor(0.6260, device='cuda:0', dtype=torch.float64)\n"
     ]
    },
    {
     "name": "stderr",
     "output_type": "stream",
     "text": [
      "100%|██████████| 40/40 [00:00<00:00, 60.97it/s]\n",
      "100%|██████████| 8/8 [00:00<00:00, 69.98it/s]\n"
     ]
    },
    {
     "name": "stdout",
     "output_type": "stream",
     "text": [
      "9 tensor(0.6580, device='cuda:0', dtype=torch.float64)\n"
     ]
    },
    {
     "name": "stderr",
     "output_type": "stream",
     "text": [
      "100%|██████████| 40/40 [00:00<00:00, 60.68it/s]\n",
      "100%|██████████| 8/8 [00:00<00:00, 73.22it/s]\n"
     ]
    },
    {
     "name": "stdout",
     "output_type": "stream",
     "text": [
      "10 tensor(0.6940, device='cuda:0', dtype=torch.float64)\n"
     ]
    },
    {
     "name": "stderr",
     "output_type": "stream",
     "text": [
      "100%|██████████| 40/40 [00:00<00:00, 60.37it/s]\n",
      "100%|██████████| 8/8 [00:00<00:00, 72.14it/s]\n"
     ]
    },
    {
     "name": "stdout",
     "output_type": "stream",
     "text": [
      "11 tensor(0.7240, device='cuda:0', dtype=torch.float64)\n"
     ]
    },
    {
     "name": "stderr",
     "output_type": "stream",
     "text": [
      "100%|██████████| 40/40 [00:00<00:00, 60.26it/s]\n",
      "100%|██████████| 8/8 [00:00<00:00, 68.62it/s]\n"
     ]
    },
    {
     "name": "stdout",
     "output_type": "stream",
     "text": [
      "12 tensor(0.7360, device='cuda:0', dtype=torch.float64)\n"
     ]
    },
    {
     "name": "stderr",
     "output_type": "stream",
     "text": [
      "100%|██████████| 40/40 [00:00<00:00, 60.06it/s]\n",
      "100%|██████████| 8/8 [00:00<00:00, 72.94it/s]\n"
     ]
    },
    {
     "name": "stdout",
     "output_type": "stream",
     "text": [
      "13 tensor(0.7420, device='cuda:0', dtype=torch.float64)\n"
     ]
    },
    {
     "name": "stderr",
     "output_type": "stream",
     "text": [
      "100%|██████████| 40/40 [00:00<00:00, 60.48it/s]\n",
      "100%|██████████| 8/8 [00:00<00:00, 71.47it/s]\n"
     ]
    },
    {
     "name": "stdout",
     "output_type": "stream",
     "text": [
      "14 tensor(0.7520, device='cuda:0', dtype=torch.float64)\n"
     ]
    },
    {
     "name": "stderr",
     "output_type": "stream",
     "text": [
      "100%|██████████| 40/40 [00:00<00:00, 60.74it/s]\n",
      "100%|██████████| 8/8 [00:00<00:00, 72.15it/s]\n"
     ]
    },
    {
     "name": "stdout",
     "output_type": "stream",
     "text": [
      "15 tensor(0.7680, device='cuda:0', dtype=torch.float64)\n"
     ]
    },
    {
     "name": "stderr",
     "output_type": "stream",
     "text": [
      "100%|██████████| 40/40 [00:00<00:00, 60.92it/s]\n",
      "100%|██████████| 8/8 [00:00<00:00, 72.45it/s]\n"
     ]
    },
    {
     "name": "stdout",
     "output_type": "stream",
     "text": [
      "16 tensor(0.7700, device='cuda:0', dtype=torch.float64)\n"
     ]
    },
    {
     "name": "stderr",
     "output_type": "stream",
     "text": [
      "100%|██████████| 40/40 [00:00<00:00, 60.37it/s]\n",
      "100%|██████████| 8/8 [00:00<00:00, 73.24it/s]\n",
      "100%|██████████| 40/40 [00:00<00:00, 60.33it/s]\n",
      "100%|██████████| 8/8 [00:00<00:00, 71.91it/s]\n"
     ]
    },
    {
     "name": "stdout",
     "output_type": "stream",
     "text": [
      "18 tensor(0.7880, device='cuda:0', dtype=torch.float64)\n"
     ]
    },
    {
     "name": "stderr",
     "output_type": "stream",
     "text": [
      "100%|██████████| 40/40 [00:00<00:00, 60.42it/s]\n",
      "100%|██████████| 8/8 [00:00<00:00, 72.45it/s]\n"
     ]
    },
    {
     "name": "stdout",
     "output_type": "stream",
     "text": [
      "19 tensor(0.8040, device='cuda:0', dtype=torch.float64)\n"
     ]
    },
    {
     "name": "stderr",
     "output_type": "stream",
     "text": [
      "100%|██████████| 40/40 [00:00<00:00, 60.27it/s]\n",
      "100%|██████████| 8/8 [00:00<00:00, 73.65it/s]\n"
     ]
    },
    {
     "name": "stdout",
     "output_type": "stream",
     "text": [
      "20 tensor(0.8280, device='cuda:0', dtype=torch.float64)\n"
     ]
    },
    {
     "name": "stderr",
     "output_type": "stream",
     "text": [
      "100%|██████████| 40/40 [00:00<00:00, 60.50it/s]\n",
      "100%|██████████| 8/8 [00:00<00:00, 71.90it/s]\n"
     ]
    },
    {
     "name": "stdout",
     "output_type": "stream",
     "text": [
      "21 tensor(0.8420, device='cuda:0', dtype=torch.float64)\n"
     ]
    },
    {
     "name": "stderr",
     "output_type": "stream",
     "text": [
      "100%|██████████| 40/40 [00:00<00:00, 61.72it/s]\n",
      "100%|██████████| 8/8 [00:00<00:00, 73.09it/s]\n"
     ]
    },
    {
     "name": "stdout",
     "output_type": "stream",
     "text": [
      "22 tensor(0.8560, device='cuda:0', dtype=torch.float64)\n"
     ]
    },
    {
     "name": "stderr",
     "output_type": "stream",
     "text": [
      "100%|██████████| 40/40 [00:00<00:00, 60.45it/s]\n",
      "100%|██████████| 8/8 [00:00<00:00, 72.91it/s]\n",
      "100%|██████████| 40/40 [00:00<00:00, 61.41it/s]\n",
      "100%|██████████| 8/8 [00:00<00:00, 71.24it/s]\n",
      "100%|██████████| 40/40 [00:00<00:00, 61.03it/s]\n",
      "100%|██████████| 8/8 [00:00<00:00, 74.35it/s]\n"
     ]
    },
    {
     "name": "stdout",
     "output_type": "stream",
     "text": [
      "25 tensor(0.8620, device='cuda:0', dtype=torch.float64)\n"
     ]
    },
    {
     "name": "stderr",
     "output_type": "stream",
     "text": [
      "100%|██████████| 40/40 [00:00<00:00, 61.26it/s]\n",
      "100%|██████████| 8/8 [00:00<00:00, 71.22it/s]\n"
     ]
    },
    {
     "name": "stdout",
     "output_type": "stream",
     "text": [
      "26 tensor(0.8720, device='cuda:0', dtype=torch.float64)\n"
     ]
    },
    {
     "name": "stderr",
     "output_type": "stream",
     "text": [
      "100%|██████████| 40/40 [00:00<00:00, 63.18it/s]\n",
      "100%|██████████| 8/8 [00:00<00:00, 76.13it/s]\n",
      "100%|██████████| 40/40 [00:00<00:00, 64.39it/s]\n",
      "100%|██████████| 8/8 [00:00<00:00, 77.12it/s]\n",
      "100%|██████████| 40/40 [00:00<00:00, 64.80it/s]\n",
      "100%|██████████| 8/8 [00:00<00:00, 80.26it/s]\n",
      "100%|██████████| 40/40 [00:00<00:00, 64.25it/s]\n",
      "100%|██████████| 8/8 [00:00<00:00, 80.24it/s]\n",
      "100%|██████████| 40/40 [00:00<00:00, 64.69it/s]\n",
      "100%|██████████| 8/8 [00:00<00:00, 79.98it/s]\n"
     ]
    },
    {
     "name": "stdout",
     "output_type": "stream",
     "text": [
      "31 tensor(0.8840, device='cuda:0', dtype=torch.float64)\n"
     ]
    },
    {
     "name": "stderr",
     "output_type": "stream",
     "text": [
      "100%|██████████| 40/40 [00:00<00:00, 63.01it/s]\n",
      "100%|██████████| 8/8 [00:00<00:00, 76.54it/s]\n",
      "100%|██████████| 40/40 [00:00<00:00, 60.42it/s]\n",
      "100%|██████████| 8/8 [00:00<00:00, 72.68it/s]\n",
      "100%|██████████| 40/40 [00:00<00:00, 59.87it/s]\n",
      "100%|██████████| 8/8 [00:00<00:00, 80.13it/s]\n"
     ]
    },
    {
     "name": "stdout",
     "output_type": "stream",
     "text": [
      "34 tensor(0.8920, device='cuda:0', dtype=torch.float64)\n"
     ]
    },
    {
     "name": "stderr",
     "output_type": "stream",
     "text": [
      "100%|██████████| 40/40 [00:00<00:00, 64.47it/s]\n",
      "100%|██████████| 8/8 [00:00<00:00, 80.16it/s]\n"
     ]
    },
    {
     "name": "stdout",
     "output_type": "stream",
     "text": [
      "35 tensor(0.9000, device='cuda:0', dtype=torch.float64)\n"
     ]
    },
    {
     "name": "stderr",
     "output_type": "stream",
     "text": [
      "100%|██████████| 40/40 [00:00<00:00, 62.85it/s]\n",
      "100%|██████████| 8/8 [00:00<00:00, 73.24it/s]\n"
     ]
    },
    {
     "name": "stdout",
     "output_type": "stream",
     "text": [
      "36 tensor(0.9020, device='cuda:0', dtype=torch.float64)\n"
     ]
    },
    {
     "name": "stderr",
     "output_type": "stream",
     "text": [
      "100%|██████████| 40/40 [00:00<00:00, 59.46it/s]\n",
      "100%|██████████| 8/8 [00:00<00:00, 72.37it/s]\n",
      "100%|██████████| 40/40 [00:00<00:00, 59.26it/s]\n",
      "100%|██████████| 8/8 [00:00<00:00, 73.60it/s]\n",
      "100%|██████████| 40/40 [00:00<00:00, 58.87it/s]\n",
      "100%|██████████| 8/8 [00:00<00:00, 72.01it/s]\n"
     ]
    },
    {
     "name": "stdout",
     "output_type": "stream",
     "text": [
      "39 tensor(0.9040, device='cuda:0', dtype=torch.float64)\n",
      "tensor(0.9040, device='cuda:0', dtype=torch.float64)\n",
      "2500 500\n",
      "TAILLE dataset {'train': 2500, 'val': 500}\n",
      "DATASET SIZE {'train': 2500, 'val': 500}\n"
     ]
    },
    {
     "name": "stderr",
     "output_type": "stream",
     "text": [
      "100%|██████████| 40/40 [00:00<00:00, 59.79it/s]\n",
      "100%|██████████| 8/8 [00:00<00:00, 73.96it/s]\n"
     ]
    },
    {
     "name": "stdout",
     "output_type": "stream",
     "text": [
      "0 tensor(0.1360, device='cuda:0', dtype=torch.float64)\n"
     ]
    },
    {
     "name": "stderr",
     "output_type": "stream",
     "text": [
      "100%|██████████| 40/40 [00:00<00:00, 60.47it/s]\n",
      "100%|██████████| 8/8 [00:00<00:00, 72.52it/s]\n"
     ]
    },
    {
     "name": "stdout",
     "output_type": "stream",
     "text": [
      "1 tensor(0.2060, device='cuda:0', dtype=torch.float64)\n"
     ]
    },
    {
     "name": "stderr",
     "output_type": "stream",
     "text": [
      "100%|██████████| 40/40 [00:00<00:00, 60.21it/s]\n",
      "100%|██████████| 8/8 [00:00<00:00, 78.04it/s]\n"
     ]
    },
    {
     "name": "stdout",
     "output_type": "stream",
     "text": [
      "2 tensor(0.2460, device='cuda:0', dtype=torch.float64)\n"
     ]
    },
    {
     "name": "stderr",
     "output_type": "stream",
     "text": [
      "100%|██████████| 40/40 [00:00<00:00, 62.68it/s]\n",
      "100%|██████████| 8/8 [00:00<00:00, 77.71it/s]\n"
     ]
    },
    {
     "name": "stdout",
     "output_type": "stream",
     "text": [
      "3 tensor(0.2780, device='cuda:0', dtype=torch.float64)\n"
     ]
    },
    {
     "name": "stderr",
     "output_type": "stream",
     "text": [
      "100%|██████████| 40/40 [00:00<00:00, 60.77it/s]\n",
      "100%|██████████| 8/8 [00:00<00:00, 73.62it/s]\n",
      "100%|██████████| 40/40 [00:00<00:00, 64.19it/s]\n",
      "100%|██████████| 8/8 [00:00<00:00, 73.48it/s]\n"
     ]
    },
    {
     "name": "stdout",
     "output_type": "stream",
     "text": [
      "5 tensor(0.2860, device='cuda:0', dtype=torch.float64)\n"
     ]
    },
    {
     "name": "stderr",
     "output_type": "stream",
     "text": [
      "100%|██████████| 40/40 [00:00<00:00, 60.30it/s]\n",
      "100%|██████████| 8/8 [00:00<00:00, 72.87it/s]\n"
     ]
    },
    {
     "name": "stdout",
     "output_type": "stream",
     "text": [
      "6 tensor(0.3040, device='cuda:0', dtype=torch.float64)\n"
     ]
    },
    {
     "name": "stderr",
     "output_type": "stream",
     "text": [
      "100%|██████████| 40/40 [00:00<00:00, 58.82it/s]\n",
      "100%|██████████| 8/8 [00:00<00:00, 72.16it/s]\n"
     ]
    },
    {
     "name": "stdout",
     "output_type": "stream",
     "text": [
      "7 tensor(0.3380, device='cuda:0', dtype=torch.float64)\n"
     ]
    },
    {
     "name": "stderr",
     "output_type": "stream",
     "text": [
      "100%|██████████| 40/40 [00:00<00:00, 58.73it/s]\n",
      "100%|██████████| 8/8 [00:00<00:00, 74.11it/s]\n"
     ]
    },
    {
     "name": "stdout",
     "output_type": "stream",
     "text": [
      "8 tensor(0.3620, device='cuda:0', dtype=torch.float64)\n"
     ]
    },
    {
     "name": "stderr",
     "output_type": "stream",
     "text": [
      "100%|██████████| 40/40 [00:00<00:00, 58.75it/s]\n",
      "100%|██████████| 8/8 [00:00<00:00, 71.87it/s]\n"
     ]
    },
    {
     "name": "stdout",
     "output_type": "stream",
     "text": [
      "9 tensor(0.3980, device='cuda:0', dtype=torch.float64)\n"
     ]
    },
    {
     "name": "stderr",
     "output_type": "stream",
     "text": [
      "100%|██████████| 40/40 [00:00<00:00, 60.20it/s]\n",
      "100%|██████████| 8/8 [00:00<00:00, 71.79it/s]\n"
     ]
    },
    {
     "name": "stdout",
     "output_type": "stream",
     "text": [
      "10 tensor(0.4340, device='cuda:0', dtype=torch.float64)\n"
     ]
    },
    {
     "name": "stderr",
     "output_type": "stream",
     "text": [
      "100%|██████████| 40/40 [00:00<00:00, 58.81it/s]\n",
      "100%|██████████| 8/8 [00:00<00:00, 70.62it/s]\n"
     ]
    },
    {
     "name": "stdout",
     "output_type": "stream",
     "text": [
      "11 tensor(0.4700, device='cuda:0', dtype=torch.float64)\n"
     ]
    },
    {
     "name": "stderr",
     "output_type": "stream",
     "text": [
      "100%|██████████| 40/40 [00:00<00:00, 58.60it/s]\n",
      "100%|██████████| 8/8 [00:00<00:00, 71.67it/s]\n"
     ]
    },
    {
     "name": "stdout",
     "output_type": "stream",
     "text": [
      "12 tensor(0.5620, device='cuda:0', dtype=torch.float64)\n"
     ]
    },
    {
     "name": "stderr",
     "output_type": "stream",
     "text": [
      "100%|██████████| 40/40 [00:00<00:00, 58.48it/s]\n",
      "100%|██████████| 8/8 [00:00<00:00, 71.91it/s]\n"
     ]
    },
    {
     "name": "stdout",
     "output_type": "stream",
     "text": [
      "13 tensor(0.6280, device='cuda:0', dtype=torch.float64)\n"
     ]
    },
    {
     "name": "stderr",
     "output_type": "stream",
     "text": [
      "100%|██████████| 40/40 [00:00<00:00, 60.36it/s]\n",
      "100%|██████████| 8/8 [00:00<00:00, 72.47it/s]\n"
     ]
    },
    {
     "name": "stdout",
     "output_type": "stream",
     "text": [
      "14 tensor(0.6580, device='cuda:0', dtype=torch.float64)\n"
     ]
    },
    {
     "name": "stderr",
     "output_type": "stream",
     "text": [
      "100%|██████████| 40/40 [00:00<00:00, 60.92it/s]\n",
      "100%|██████████| 8/8 [00:00<00:00, 72.17it/s]\n"
     ]
    },
    {
     "name": "stdout",
     "output_type": "stream",
     "text": [
      "15 tensor(0.6840, device='cuda:0', dtype=torch.float64)\n"
     ]
    },
    {
     "name": "stderr",
     "output_type": "stream",
     "text": [
      "100%|██████████| 40/40 [00:00<00:00, 60.10it/s]\n",
      "100%|██████████| 8/8 [00:00<00:00, 72.60it/s]\n"
     ]
    },
    {
     "name": "stdout",
     "output_type": "stream",
     "text": [
      "16 tensor(0.6920, device='cuda:0', dtype=torch.float64)\n"
     ]
    },
    {
     "name": "stderr",
     "output_type": "stream",
     "text": [
      "100%|██████████| 40/40 [00:00<00:00, 60.70it/s]\n",
      "100%|██████████| 8/8 [00:00<00:00, 73.19it/s]\n"
     ]
    },
    {
     "name": "stdout",
     "output_type": "stream",
     "text": [
      "17 tensor(0.7200, device='cuda:0', dtype=torch.float64)\n"
     ]
    },
    {
     "name": "stderr",
     "output_type": "stream",
     "text": [
      "100%|██████████| 40/40 [00:00<00:00, 60.13it/s]\n",
      "100%|██████████| 8/8 [00:00<00:00, 72.57it/s]\n"
     ]
    },
    {
     "name": "stdout",
     "output_type": "stream",
     "text": [
      "18 tensor(0.7380, device='cuda:0', dtype=torch.float64)\n"
     ]
    },
    {
     "name": "stderr",
     "output_type": "stream",
     "text": [
      "100%|██████████| 40/40 [00:00<00:00, 59.77it/s]\n",
      "100%|██████████| 8/8 [00:00<00:00, 72.08it/s]\n"
     ]
    },
    {
     "name": "stdout",
     "output_type": "stream",
     "text": [
      "19 tensor(0.7480, device='cuda:0', dtype=torch.float64)\n"
     ]
    },
    {
     "name": "stderr",
     "output_type": "stream",
     "text": [
      "100%|██████████| 40/40 [00:00<00:00, 59.88it/s]\n",
      "100%|██████████| 8/8 [00:00<00:00, 73.29it/s]\n"
     ]
    },
    {
     "name": "stdout",
     "output_type": "stream",
     "text": [
      "20 tensor(0.7640, device='cuda:0', dtype=torch.float64)\n"
     ]
    },
    {
     "name": "stderr",
     "output_type": "stream",
     "text": [
      "100%|██████████| 40/40 [00:00<00:00, 59.25it/s]\n",
      "100%|██████████| 8/8 [00:00<00:00, 72.84it/s]\n"
     ]
    },
    {
     "name": "stdout",
     "output_type": "stream",
     "text": [
      "21 tensor(0.7880, device='cuda:0', dtype=torch.float64)\n"
     ]
    },
    {
     "name": "stderr",
     "output_type": "stream",
     "text": [
      "100%|██████████| 40/40 [00:00<00:00, 60.54it/s]\n",
      "100%|██████████| 8/8 [00:00<00:00, 72.32it/s]\n",
      "100%|██████████| 40/40 [00:00<00:00, 60.25it/s]\n",
      "100%|██████████| 8/8 [00:00<00:00, 72.05it/s]\n"
     ]
    },
    {
     "name": "stdout",
     "output_type": "stream",
     "text": [
      "23 tensor(0.8240, device='cuda:0', dtype=torch.float64)\n"
     ]
    },
    {
     "name": "stderr",
     "output_type": "stream",
     "text": [
      "100%|██████████| 40/40 [00:00<00:00, 60.22it/s]\n",
      "100%|██████████| 8/8 [00:00<00:00, 74.07it/s]\n"
     ]
    },
    {
     "name": "stdout",
     "output_type": "stream",
     "text": [
      "24 tensor(0.8360, device='cuda:0', dtype=torch.float64)\n"
     ]
    },
    {
     "name": "stderr",
     "output_type": "stream",
     "text": [
      "100%|██████████| 40/40 [00:00<00:00, 60.25it/s]\n",
      "100%|██████████| 8/8 [00:00<00:00, 72.33it/s]\n"
     ]
    },
    {
     "name": "stdout",
     "output_type": "stream",
     "text": [
      "25 tensor(0.8540, device='cuda:0', dtype=torch.float64)\n"
     ]
    },
    {
     "name": "stderr",
     "output_type": "stream",
     "text": [
      "100%|██████████| 40/40 [00:00<00:00, 50.91it/s]\n",
      "100%|██████████| 8/8 [00:00<00:00, 71.15it/s]\n"
     ]
    },
    {
     "name": "stdout",
     "output_type": "stream",
     "text": [
      "26 tensor(0.8600, device='cuda:0', dtype=torch.float64)\n"
     ]
    },
    {
     "name": "stderr",
     "output_type": "stream",
     "text": [
      "100%|██████████| 40/40 [00:00<00:00, 59.35it/s]\n",
      "100%|██████████| 8/8 [00:00<00:00, 70.53it/s]\n",
      "100%|██████████| 40/40 [00:00<00:00, 60.26it/s]\n",
      "100%|██████████| 8/8 [00:00<00:00, 73.18it/s]\n"
     ]
    },
    {
     "name": "stdout",
     "output_type": "stream",
     "text": [
      "28 tensor(0.8620, device='cuda:0', dtype=torch.float64)\n"
     ]
    },
    {
     "name": "stderr",
     "output_type": "stream",
     "text": [
      "100%|██████████| 40/40 [00:00<00:00, 60.56it/s]\n",
      "100%|██████████| 8/8 [00:00<00:00, 73.06it/s]\n",
      "100%|██████████| 40/40 [00:00<00:00, 60.71it/s]\n",
      "100%|██████████| 8/8 [00:00<00:00, 71.74it/s]\n",
      "100%|██████████| 40/40 [00:00<00:00, 60.24it/s]\n",
      "100%|██████████| 8/8 [00:00<00:00, 73.16it/s]\n"
     ]
    },
    {
     "name": "stdout",
     "output_type": "stream",
     "text": [
      "31 tensor(0.8640, device='cuda:0', dtype=torch.float64)\n"
     ]
    },
    {
     "name": "stderr",
     "output_type": "stream",
     "text": [
      "100%|██████████| 40/40 [00:00<00:00, 60.20it/s]\n",
      "100%|██████████| 8/8 [00:00<00:00, 70.88it/s]\n"
     ]
    },
    {
     "name": "stdout",
     "output_type": "stream",
     "text": [
      "32 tensor(0.8700, device='cuda:0', dtype=torch.float64)\n"
     ]
    },
    {
     "name": "stderr",
     "output_type": "stream",
     "text": [
      "100%|██████████| 40/40 [00:00<00:00, 59.71it/s]\n",
      "100%|██████████| 8/8 [00:00<00:00, 71.20it/s]\n",
      "100%|██████████| 40/40 [00:00<00:00, 59.74it/s]\n",
      "100%|██████████| 8/8 [00:00<00:00, 72.11it/s]\n"
     ]
    },
    {
     "name": "stdout",
     "output_type": "stream",
     "text": [
      "34 tensor(0.8780, device='cuda:0', dtype=torch.float64)\n"
     ]
    },
    {
     "name": "stderr",
     "output_type": "stream",
     "text": [
      "100%|██████████| 40/40 [00:00<00:00, 60.54it/s]\n",
      "100%|██████████| 8/8 [00:00<00:00, 72.68it/s]\n"
     ]
    },
    {
     "name": "stdout",
     "output_type": "stream",
     "text": [
      "35 tensor(0.8800, device='cuda:0', dtype=torch.float64)\n"
     ]
    },
    {
     "name": "stderr",
     "output_type": "stream",
     "text": [
      "100%|██████████| 40/40 [00:00<00:00, 60.17it/s]\n",
      "100%|██████████| 8/8 [00:00<00:00, 72.48it/s]\n",
      "100%|██████████| 40/40 [00:00<00:00, 60.36it/s]\n",
      "100%|██████████| 8/8 [00:00<00:00, 72.70it/s]\n",
      "100%|██████████| 40/40 [00:00<00:00, 60.32it/s]\n",
      "100%|██████████| 8/8 [00:00<00:00, 71.26it/s]\n"
     ]
    },
    {
     "name": "stdout",
     "output_type": "stream",
     "text": [
      "38 tensor(0.8840, device='cuda:0', dtype=torch.float64)\n"
     ]
    },
    {
     "name": "stderr",
     "output_type": "stream",
     "text": [
      "100%|██████████| 40/40 [00:00<00:00, 60.21it/s]\n",
      "100%|██████████| 8/8 [00:00<00:00, 71.07it/s]\n"
     ]
    },
    {
     "name": "stdout",
     "output_type": "stream",
     "text": [
      "tensor(0.8840, device='cuda:0', dtype=torch.float64)\n",
      "2500 500\n",
      "TAILLE dataset {'train': 2500, 'val': 500}\n",
      "DATASET SIZE {'train': 2500, 'val': 500}\n"
     ]
    },
    {
     "name": "stderr",
     "output_type": "stream",
     "text": [
      "100%|██████████| 40/40 [00:00<00:00, 60.46it/s]\n",
      "100%|██████████| 8/8 [00:00<00:00, 73.05it/s]\n"
     ]
    },
    {
     "name": "stdout",
     "output_type": "stream",
     "text": [
      "0 tensor(0.1520, device='cuda:0', dtype=torch.float64)\n"
     ]
    },
    {
     "name": "stderr",
     "output_type": "stream",
     "text": [
      "100%|██████████| 40/40 [00:00<00:00, 63.27it/s]\n",
      "100%|██████████| 8/8 [00:00<00:00, 80.12it/s]\n"
     ]
    },
    {
     "name": "stdout",
     "output_type": "stream",
     "text": [
      "1 tensor(0.2240, device='cuda:0', dtype=torch.float64)\n"
     ]
    },
    {
     "name": "stderr",
     "output_type": "stream",
     "text": [
      "100%|██████████| 40/40 [00:00<00:00, 65.19it/s]\n",
      "100%|██████████| 8/8 [00:00<00:00, 80.49it/s]\n"
     ]
    },
    {
     "name": "stdout",
     "output_type": "stream",
     "text": [
      "2 tensor(0.2820, device='cuda:0', dtype=torch.float64)\n"
     ]
    },
    {
     "name": "stderr",
     "output_type": "stream",
     "text": [
      "100%|██████████| 40/40 [00:00<00:00, 65.63it/s]\n",
      "100%|██████████| 8/8 [00:00<00:00, 80.30it/s]\n"
     ]
    },
    {
     "name": "stdout",
     "output_type": "stream",
     "text": [
      "3 tensor(0.3260, device='cuda:0', dtype=torch.float64)\n"
     ]
    },
    {
     "name": "stderr",
     "output_type": "stream",
     "text": [
      "100%|██████████| 40/40 [00:00<00:00, 65.34it/s]\n",
      "100%|██████████| 8/8 [00:00<00:00, 80.16it/s]\n"
     ]
    },
    {
     "name": "stdout",
     "output_type": "stream",
     "text": [
      "4 tensor(0.3540, device='cuda:0', dtype=torch.float64)\n"
     ]
    },
    {
     "name": "stderr",
     "output_type": "stream",
     "text": [
      "100%|██████████| 40/40 [00:00<00:00, 64.68it/s]\n",
      "100%|██████████| 8/8 [00:00<00:00, 75.46it/s]\n"
     ]
    },
    {
     "name": "stdout",
     "output_type": "stream",
     "text": [
      "5 tensor(0.3780, device='cuda:0', dtype=torch.float64)\n"
     ]
    },
    {
     "name": "stderr",
     "output_type": "stream",
     "text": [
      "100%|██████████| 40/40 [00:00<00:00, 57.57it/s]\n",
      "100%|██████████| 8/8 [00:00<00:00, 68.49it/s]\n"
     ]
    },
    {
     "name": "stdout",
     "output_type": "stream",
     "text": [
      "6 tensor(0.4120, device='cuda:0', dtype=torch.float64)\n"
     ]
    },
    {
     "name": "stderr",
     "output_type": "stream",
     "text": [
      "100%|██████████| 40/40 [00:00<00:00, 58.55it/s]\n",
      "100%|██████████| 8/8 [00:00<00:00, 69.22it/s]\n"
     ]
    },
    {
     "name": "stdout",
     "output_type": "stream",
     "text": [
      "7 tensor(0.4360, device='cuda:0', dtype=torch.float64)\n"
     ]
    },
    {
     "name": "stderr",
     "output_type": "stream",
     "text": [
      "100%|██████████| 40/40 [00:00<00:00, 55.56it/s]\n",
      "100%|██████████| 8/8 [00:00<00:00, 58.11it/s]\n",
      "100%|██████████| 40/40 [00:00<00:00, 59.75it/s]\n",
      "100%|██████████| 8/8 [00:00<00:00, 71.35it/s]\n"
     ]
    },
    {
     "name": "stdout",
     "output_type": "stream",
     "text": [
      "9 tensor(0.4440, device='cuda:0', dtype=torch.float64)\n"
     ]
    },
    {
     "name": "stderr",
     "output_type": "stream",
     "text": [
      "100%|██████████| 40/40 [00:00<00:00, 59.36it/s]\n",
      "100%|██████████| 8/8 [00:00<00:00, 70.30it/s]\n"
     ]
    },
    {
     "name": "stdout",
     "output_type": "stream",
     "text": [
      "10 tensor(0.5040, device='cuda:0', dtype=torch.float64)\n"
     ]
    },
    {
     "name": "stderr",
     "output_type": "stream",
     "text": [
      "100%|██████████| 40/40 [00:00<00:00, 60.35it/s]\n",
      "100%|██████████| 8/8 [00:00<00:00, 72.70it/s]\n"
     ]
    },
    {
     "name": "stdout",
     "output_type": "stream",
     "text": [
      "11 tensor(0.5380, device='cuda:0', dtype=torch.float64)\n"
     ]
    },
    {
     "name": "stderr",
     "output_type": "stream",
     "text": [
      "100%|██████████| 40/40 [00:00<00:00, 61.80it/s]\n",
      "100%|██████████| 8/8 [00:00<00:00, 73.13it/s]\n"
     ]
    },
    {
     "name": "stdout",
     "output_type": "stream",
     "text": [
      "12 tensor(0.5800, device='cuda:0', dtype=torch.float64)\n"
     ]
    },
    {
     "name": "stderr",
     "output_type": "stream",
     "text": [
      "100%|██████████| 40/40 [00:00<00:00, 61.99it/s]\n",
      "100%|██████████| 8/8 [00:00<00:00, 74.73it/s]\n"
     ]
    },
    {
     "name": "stdout",
     "output_type": "stream",
     "text": [
      "13 tensor(0.6100, device='cuda:0', dtype=torch.float64)\n"
     ]
    },
    {
     "name": "stderr",
     "output_type": "stream",
     "text": [
      "100%|██████████| 40/40 [00:00<00:00, 64.44it/s]\n",
      "100%|██████████| 8/8 [00:00<00:00, 75.86it/s]\n"
     ]
    },
    {
     "name": "stdout",
     "output_type": "stream",
     "text": [
      "14 tensor(0.6220, device='cuda:0', dtype=torch.float64)\n"
     ]
    },
    {
     "name": "stderr",
     "output_type": "stream",
     "text": [
      "100%|██████████| 40/40 [00:00<00:00, 60.39it/s]\n",
      "100%|██████████| 8/8 [00:00<00:00, 63.53it/s]\n"
     ]
    },
    {
     "name": "stdout",
     "output_type": "stream",
     "text": [
      "15 tensor(0.6400, device='cuda:0', dtype=torch.float64)\n"
     ]
    },
    {
     "name": "stderr",
     "output_type": "stream",
     "text": [
      "100%|██████████| 40/40 [00:00<00:00, 58.30it/s]\n",
      "100%|██████████| 8/8 [00:00<00:00, 70.61it/s]\n"
     ]
    },
    {
     "name": "stdout",
     "output_type": "stream",
     "text": [
      "16 tensor(0.6500, device='cuda:0', dtype=torch.float64)\n"
     ]
    },
    {
     "name": "stderr",
     "output_type": "stream",
     "text": [
      "100%|██████████| 40/40 [00:00<00:00, 58.53it/s]\n",
      "100%|██████████| 8/8 [00:00<00:00, 69.29it/s]\n"
     ]
    },
    {
     "name": "stdout",
     "output_type": "stream",
     "text": [
      "17 tensor(0.6860, device='cuda:0', dtype=torch.float64)\n"
     ]
    },
    {
     "name": "stderr",
     "output_type": "stream",
     "text": [
      "100%|██████████| 40/40 [00:00<00:00, 58.36it/s]\n",
      "100%|██████████| 8/8 [00:00<00:00, 68.34it/s]\n"
     ]
    },
    {
     "name": "stdout",
     "output_type": "stream",
     "text": [
      "18 tensor(0.7180, device='cuda:0', dtype=torch.float64)\n"
     ]
    },
    {
     "name": "stderr",
     "output_type": "stream",
     "text": [
      "100%|██████████| 40/40 [00:00<00:00, 58.54it/s]\n",
      "100%|██████████| 8/8 [00:00<00:00, 69.45it/s]\n"
     ]
    },
    {
     "name": "stdout",
     "output_type": "stream",
     "text": [
      "19 tensor(0.7360, device='cuda:0', dtype=torch.float64)\n"
     ]
    },
    {
     "name": "stderr",
     "output_type": "stream",
     "text": [
      "100%|██████████| 40/40 [00:00<00:00, 58.26it/s]\n",
      "100%|██████████| 8/8 [00:00<00:00, 68.09it/s]\n"
     ]
    },
    {
     "name": "stdout",
     "output_type": "stream",
     "text": [
      "20 tensor(0.7880, device='cuda:0', dtype=torch.float64)\n"
     ]
    },
    {
     "name": "stderr",
     "output_type": "stream",
     "text": [
      "100%|██████████| 40/40 [00:00<00:00, 59.53it/s]\n",
      "100%|██████████| 8/8 [00:00<00:00, 71.49it/s]\n"
     ]
    },
    {
     "name": "stdout",
     "output_type": "stream",
     "text": [
      "21 tensor(0.7900, device='cuda:0', dtype=torch.float64)\n"
     ]
    },
    {
     "name": "stderr",
     "output_type": "stream",
     "text": [
      "100%|██████████| 40/40 [00:00<00:00, 59.56it/s]\n",
      "100%|██████████| 8/8 [00:00<00:00, 71.69it/s]\n",
      "100%|██████████| 40/40 [00:00<00:00, 58.50it/s]\n",
      "100%|██████████| 8/8 [00:00<00:00, 71.26it/s]\n"
     ]
    },
    {
     "name": "stdout",
     "output_type": "stream",
     "text": [
      "23 tensor(0.8040, device='cuda:0', dtype=torch.float64)\n"
     ]
    },
    {
     "name": "stderr",
     "output_type": "stream",
     "text": [
      "100%|██████████| 40/40 [00:00<00:00, 56.83it/s]\n",
      "100%|██████████| 8/8 [00:00<00:00, 72.50it/s]\n",
      "100%|██████████| 40/40 [00:00<00:00, 59.76it/s]\n",
      "100%|██████████| 8/8 [00:00<00:00, 70.87it/s]\n",
      "100%|██████████| 40/40 [00:00<00:00, 59.49it/s]\n",
      "100%|██████████| 8/8 [00:00<00:00, 71.48it/s]\n"
     ]
    },
    {
     "name": "stdout",
     "output_type": "stream",
     "text": [
      "26 tensor(0.8180, device='cuda:0', dtype=torch.float64)\n"
     ]
    },
    {
     "name": "stderr",
     "output_type": "stream",
     "text": [
      "100%|██████████| 40/40 [00:00<00:00, 59.51it/s]\n",
      "100%|██████████| 8/8 [00:00<00:00, 67.42it/s]\n"
     ]
    },
    {
     "name": "stdout",
     "output_type": "stream",
     "text": [
      "27 tensor(0.8240, device='cuda:0', dtype=torch.float64)\n"
     ]
    },
    {
     "name": "stderr",
     "output_type": "stream",
     "text": [
      "100%|██████████| 40/40 [00:00<00:00, 59.49it/s]\n",
      "100%|██████████| 8/8 [00:00<00:00, 71.59it/s]\n"
     ]
    },
    {
     "name": "stdout",
     "output_type": "stream",
     "text": [
      "28 tensor(0.8360, device='cuda:0', dtype=torch.float64)\n"
     ]
    },
    {
     "name": "stderr",
     "output_type": "stream",
     "text": [
      "100%|██████████| 40/40 [00:00<00:00, 59.55it/s]\n",
      "100%|██████████| 8/8 [00:00<00:00, 71.49it/s]\n",
      "100%|██████████| 40/40 [00:00<00:00, 59.34it/s]\n",
      "100%|██████████| 8/8 [00:00<00:00, 71.64it/s]\n",
      "100%|██████████| 40/40 [00:00<00:00, 58.83it/s]\n",
      "100%|██████████| 8/8 [00:00<00:00, 71.39it/s]\n"
     ]
    },
    {
     "name": "stdout",
     "output_type": "stream",
     "text": [
      "31 tensor(0.8520, device='cuda:0', dtype=torch.float64)\n"
     ]
    },
    {
     "name": "stderr",
     "output_type": "stream",
     "text": [
      "100%|██████████| 40/40 [00:00<00:00, 59.98it/s]\n",
      "100%|██████████| 8/8 [00:00<00:00, 71.15it/s]\n",
      "100%|██████████| 40/40 [00:00<00:00, 60.17it/s]\n",
      "100%|██████████| 8/8 [00:00<00:00, 70.98it/s]\n"
     ]
    },
    {
     "name": "stdout",
     "output_type": "stream",
     "text": [
      "33 tensor(0.8620, device='cuda:0', dtype=torch.float64)\n"
     ]
    },
    {
     "name": "stderr",
     "output_type": "stream",
     "text": [
      "100%|██████████| 40/40 [00:00<00:00, 59.83it/s]\n",
      "100%|██████████| 8/8 [00:00<00:00, 71.81it/s]\n",
      "100%|██████████| 40/40 [00:00<00:00, 59.61it/s]\n",
      "100%|██████████| 8/8 [00:00<00:00, 71.56it/s]\n",
      "100%|██████████| 40/40 [00:00<00:00, 59.55it/s]\n",
      "100%|██████████| 8/8 [00:00<00:00, 72.15it/s]\n"
     ]
    },
    {
     "name": "stdout",
     "output_type": "stream",
     "text": [
      "36 tensor(0.8740, device='cuda:0', dtype=torch.float64)\n"
     ]
    },
    {
     "name": "stderr",
     "output_type": "stream",
     "text": [
      "100%|██████████| 40/40 [00:00<00:00, 59.08it/s]\n",
      "100%|██████████| 8/8 [00:00<00:00, 72.10it/s]\n"
     ]
    },
    {
     "name": "stdout",
     "output_type": "stream",
     "text": [
      "37 tensor(0.8780, device='cuda:0', dtype=torch.float64)\n"
     ]
    },
    {
     "name": "stderr",
     "output_type": "stream",
     "text": [
      "100%|██████████| 40/40 [00:00<00:00, 54.80it/s]\n",
      "100%|██████████| 8/8 [00:00<00:00, 60.51it/s]\n",
      "100%|██████████| 40/40 [00:00<00:00, 59.75it/s]\n",
      "100%|██████████| 8/8 [00:00<00:00, 73.14it/s]\n"
     ]
    },
    {
     "name": "stdout",
     "output_type": "stream",
     "text": [
      "tensor(0.8780, device='cuda:0', dtype=torch.float64)\n",
      "2500 500\n",
      "TAILLE dataset {'train': 2500, 'val': 500}\n",
      "DATASET SIZE {'train': 2500, 'val': 500}\n"
     ]
    },
    {
     "name": "stderr",
     "output_type": "stream",
     "text": [
      "100%|██████████| 40/40 [00:00<00:00, 56.34it/s]\n",
      "100%|██████████| 8/8 [00:00<00:00, 71.62it/s]\n"
     ]
    },
    {
     "name": "stdout",
     "output_type": "stream",
     "text": [
      "0 tensor(0.1400, device='cuda:0', dtype=torch.float64)\n"
     ]
    },
    {
     "name": "stderr",
     "output_type": "stream",
     "text": [
      "100%|██████████| 40/40 [00:00<00:00, 60.09it/s]\n",
      "100%|██████████| 8/8 [00:00<00:00, 71.21it/s]\n"
     ]
    },
    {
     "name": "stdout",
     "output_type": "stream",
     "text": [
      "1 tensor(0.2260, device='cuda:0', dtype=torch.float64)\n"
     ]
    },
    {
     "name": "stderr",
     "output_type": "stream",
     "text": [
      "100%|██████████| 40/40 [00:00<00:00, 59.76it/s]\n",
      "100%|██████████| 8/8 [00:00<00:00, 71.01it/s]\n"
     ]
    },
    {
     "name": "stdout",
     "output_type": "stream",
     "text": [
      "2 tensor(0.3260, device='cuda:0', dtype=torch.float64)\n"
     ]
    },
    {
     "name": "stderr",
     "output_type": "stream",
     "text": [
      "100%|██████████| 40/40 [00:00<00:00, 59.07it/s]\n",
      "100%|██████████| 8/8 [00:00<00:00, 71.55it/s]\n"
     ]
    },
    {
     "name": "stdout",
     "output_type": "stream",
     "text": [
      "3 tensor(0.3360, device='cuda:0', dtype=torch.float64)\n"
     ]
    },
    {
     "name": "stderr",
     "output_type": "stream",
     "text": [
      "100%|██████████| 40/40 [00:00<00:00, 58.81it/s]\n",
      "100%|██████████| 8/8 [00:00<00:00, 68.25it/s]\n"
     ]
    },
    {
     "name": "stdout",
     "output_type": "stream",
     "text": [
      "4 tensor(0.3480, device='cuda:0', dtype=torch.float64)\n"
     ]
    },
    {
     "name": "stderr",
     "output_type": "stream",
     "text": [
      "100%|██████████| 40/40 [00:00<00:00, 58.70it/s]\n",
      "100%|██████████| 8/8 [00:00<00:00, 71.09it/s]\n",
      "100%|██████████| 40/40 [00:00<00:00, 56.17it/s]\n",
      "100%|██████████| 8/8 [00:00<00:00, 60.34it/s]\n",
      "100%|██████████| 40/40 [00:00<00:00, 57.14it/s]\n",
      "100%|██████████| 8/8 [00:00<00:00, 59.53it/s]\n",
      "100%|██████████| 40/40 [00:00<00:00, 60.63it/s]\n",
      "100%|██████████| 8/8 [00:00<00:00, 74.28it/s]\n"
     ]
    },
    {
     "name": "stdout",
     "output_type": "stream",
     "text": [
      "8 tensor(0.3500, device='cuda:0', dtype=torch.float64)\n"
     ]
    },
    {
     "name": "stderr",
     "output_type": "stream",
     "text": [
      "100%|██████████| 40/40 [00:00<00:00, 56.92it/s]\n",
      "100%|██████████| 8/8 [00:00<00:00, 69.88it/s]\n"
     ]
    },
    {
     "name": "stdout",
     "output_type": "stream",
     "text": [
      "9 tensor(0.3580, device='cuda:0', dtype=torch.float64)\n"
     ]
    },
    {
     "name": "stderr",
     "output_type": "stream",
     "text": [
      "100%|██████████| 40/40 [00:00<00:00, 60.44it/s]\n",
      "100%|██████████| 8/8 [00:00<00:00, 71.94it/s]\n"
     ]
    },
    {
     "name": "stdout",
     "output_type": "stream",
     "text": [
      "10 tensor(0.3780, device='cuda:0', dtype=torch.float64)\n"
     ]
    },
    {
     "name": "stderr",
     "output_type": "stream",
     "text": [
      "100%|██████████| 40/40 [00:00<00:00, 60.62it/s]\n",
      "100%|██████████| 8/8 [00:00<00:00, 72.36it/s]\n"
     ]
    },
    {
     "name": "stdout",
     "output_type": "stream",
     "text": [
      "11 tensor(0.4360, device='cuda:0', dtype=torch.float64)\n"
     ]
    },
    {
     "name": "stderr",
     "output_type": "stream",
     "text": [
      "100%|██████████| 40/40 [00:00<00:00, 60.46it/s]\n",
      "100%|██████████| 8/8 [00:00<00:00, 76.87it/s]\n"
     ]
    },
    {
     "name": "stdout",
     "output_type": "stream",
     "text": [
      "12 tensor(0.4860, device='cuda:0', dtype=torch.float64)\n"
     ]
    },
    {
     "name": "stderr",
     "output_type": "stream",
     "text": [
      "100%|██████████| 40/40 [00:00<00:00, 64.18it/s]\n",
      "100%|██████████| 8/8 [00:00<00:00, 77.34it/s]\n"
     ]
    },
    {
     "name": "stdout",
     "output_type": "stream",
     "text": [
      "13 tensor(0.5260, device='cuda:0', dtype=torch.float64)\n"
     ]
    },
    {
     "name": "stderr",
     "output_type": "stream",
     "text": [
      "100%|██████████| 40/40 [00:00<00:00, 63.86it/s]\n",
      "100%|██████████| 8/8 [00:00<00:00, 76.25it/s]\n"
     ]
    },
    {
     "name": "stdout",
     "output_type": "stream",
     "text": [
      "14 tensor(0.5640, device='cuda:0', dtype=torch.float64)\n"
     ]
    },
    {
     "name": "stderr",
     "output_type": "stream",
     "text": [
      "100%|██████████| 40/40 [00:00<00:00, 62.21it/s]\n",
      "100%|██████████| 8/8 [00:00<00:00, 74.17it/s]\n"
     ]
    },
    {
     "name": "stdout",
     "output_type": "stream",
     "text": [
      "15 tensor(0.6080, device='cuda:0', dtype=torch.float64)\n"
     ]
    },
    {
     "name": "stderr",
     "output_type": "stream",
     "text": [
      "100%|██████████| 40/40 [00:00<00:00, 59.53it/s]\n",
      "100%|██████████| 8/8 [00:00<00:00, 69.73it/s]\n"
     ]
    },
    {
     "name": "stdout",
     "output_type": "stream",
     "text": [
      "16 tensor(0.6300, device='cuda:0', dtype=torch.float64)\n"
     ]
    },
    {
     "name": "stderr",
     "output_type": "stream",
     "text": [
      "100%|██████████| 40/40 [00:00<00:00, 59.65it/s]\n",
      "100%|██████████| 8/8 [00:00<00:00, 70.30it/s]\n"
     ]
    },
    {
     "name": "stdout",
     "output_type": "stream",
     "text": [
      "17 tensor(0.6940, device='cuda:0', dtype=torch.float64)\n"
     ]
    },
    {
     "name": "stderr",
     "output_type": "stream",
     "text": [
      "100%|██████████| 40/40 [00:00<00:00, 59.48it/s]\n",
      "100%|██████████| 8/8 [00:00<00:00, 70.57it/s]\n"
     ]
    },
    {
     "name": "stdout",
     "output_type": "stream",
     "text": [
      "18 tensor(0.7200, device='cuda:0', dtype=torch.float64)\n"
     ]
    },
    {
     "name": "stderr",
     "output_type": "stream",
     "text": [
      "100%|██████████| 40/40 [00:00<00:00, 59.63it/s]\n",
      "100%|██████████| 8/8 [00:00<00:00, 67.44it/s]\n"
     ]
    },
    {
     "name": "stdout",
     "output_type": "stream",
     "text": [
      "19 tensor(0.7440, device='cuda:0', dtype=torch.float64)\n"
     ]
    },
    {
     "name": "stderr",
     "output_type": "stream",
     "text": [
      "100%|██████████| 40/40 [00:00<00:00, 59.02it/s]\n",
      "100%|██████████| 8/8 [00:00<00:00, 68.90it/s]\n"
     ]
    },
    {
     "name": "stdout",
     "output_type": "stream",
     "text": [
      "20 tensor(0.7680, device='cuda:0', dtype=torch.float64)\n"
     ]
    },
    {
     "name": "stderr",
     "output_type": "stream",
     "text": [
      "100%|██████████| 40/40 [00:00<00:00, 59.66it/s]\n",
      "100%|██████████| 8/8 [00:00<00:00, 71.20it/s]\n"
     ]
    },
    {
     "name": "stdout",
     "output_type": "stream",
     "text": [
      "21 tensor(0.7800, device='cuda:0', dtype=torch.float64)\n"
     ]
    },
    {
     "name": "stderr",
     "output_type": "stream",
     "text": [
      "100%|██████████| 40/40 [00:00<00:00, 59.59it/s]\n",
      "100%|██████████| 8/8 [00:00<00:00, 71.35it/s]\n"
     ]
    },
    {
     "name": "stdout",
     "output_type": "stream",
     "text": [
      "22 tensor(0.8160, device='cuda:0', dtype=torch.float64)\n"
     ]
    },
    {
     "name": "stderr",
     "output_type": "stream",
     "text": [
      "100%|██████████| 40/40 [00:00<00:00, 59.97it/s]\n",
      "100%|██████████| 8/8 [00:00<00:00, 69.41it/s]\n",
      "100%|██████████| 40/40 [00:00<00:00, 60.94it/s]\n",
      "100%|██████████| 8/8 [00:00<00:00, 72.74it/s]\n"
     ]
    },
    {
     "name": "stdout",
     "output_type": "stream",
     "text": [
      "24 tensor(0.8340, device='cuda:0', dtype=torch.float64)\n"
     ]
    },
    {
     "name": "stderr",
     "output_type": "stream",
     "text": [
      "100%|██████████| 40/40 [00:00<00:00, 63.02it/s]\n",
      "100%|██████████| 8/8 [00:00<00:00, 76.16it/s]\n"
     ]
    },
    {
     "name": "stdout",
     "output_type": "stream",
     "text": [
      "25 tensor(0.8500, device='cuda:0', dtype=torch.float64)\n"
     ]
    },
    {
     "name": "stderr",
     "output_type": "stream",
     "text": [
      "100%|██████████| 40/40 [00:00<00:00, 62.96it/s]\n",
      "100%|██████████| 8/8 [00:00<00:00, 74.84it/s]\n",
      "100%|██████████| 40/40 [00:00<00:00, 61.74it/s]\n",
      "100%|██████████| 8/8 [00:00<00:00, 73.77it/s]\n"
     ]
    },
    {
     "name": "stdout",
     "output_type": "stream",
     "text": [
      "27 tensor(0.8560, device='cuda:0', dtype=torch.float64)\n"
     ]
    },
    {
     "name": "stderr",
     "output_type": "stream",
     "text": [
      "100%|██████████| 40/40 [00:00<00:00, 54.71it/s]\n",
      "100%|██████████| 8/8 [00:00<00:00, 72.85it/s]\n",
      "100%|██████████| 40/40 [00:00<00:00, 61.58it/s]\n",
      "100%|██████████| 8/8 [00:00<00:00, 73.93it/s]\n",
      "100%|██████████| 40/40 [00:00<00:00, 60.84it/s]\n",
      "100%|██████████| 8/8 [00:00<00:00, 74.00it/s]\n"
     ]
    },
    {
     "name": "stdout",
     "output_type": "stream",
     "text": [
      "30 tensor(0.8640, device='cuda:0', dtype=torch.float64)\n"
     ]
    },
    {
     "name": "stderr",
     "output_type": "stream",
     "text": [
      "100%|██████████| 40/40 [00:00<00:00, 61.44it/s]\n",
      "100%|██████████| 8/8 [00:00<00:00, 74.20it/s]\n"
     ]
    },
    {
     "name": "stdout",
     "output_type": "stream",
     "text": [
      "31 tensor(0.8720, device='cuda:0', dtype=torch.float64)\n"
     ]
    },
    {
     "name": "stderr",
     "output_type": "stream",
     "text": [
      "100%|██████████| 40/40 [00:00<00:00, 62.09it/s]\n",
      "100%|██████████| 8/8 [00:00<00:00, 74.81it/s]\n",
      "100%|██████████| 40/40 [00:00<00:00, 60.18it/s]\n",
      "100%|██████████| 8/8 [00:00<00:00, 73.22it/s]\n"
     ]
    },
    {
     "name": "stdout",
     "output_type": "stream",
     "text": [
      "33 tensor(0.8780, device='cuda:0', dtype=torch.float64)\n"
     ]
    },
    {
     "name": "stderr",
     "output_type": "stream",
     "text": [
      "100%|██████████| 40/40 [00:00<00:00, 60.38it/s]\n",
      "100%|██████████| 8/8 [00:00<00:00, 73.54it/s]\n",
      "100%|██████████| 40/40 [00:00<00:00, 61.56it/s]\n",
      "100%|██████████| 8/8 [00:00<00:00, 73.71it/s]\n"
     ]
    },
    {
     "name": "stdout",
     "output_type": "stream",
     "text": [
      "35 tensor(0.8840, device='cuda:0', dtype=torch.float64)\n"
     ]
    },
    {
     "name": "stderr",
     "output_type": "stream",
     "text": [
      "100%|██████████| 40/40 [00:00<00:00, 60.32it/s]\n",
      "100%|██████████| 8/8 [00:00<00:00, 70.38it/s]\n",
      "100%|██████████| 40/40 [00:00<00:00, 59.52it/s]\n",
      "100%|██████████| 8/8 [00:00<00:00, 71.23it/s]\n",
      "100%|██████████| 40/40 [00:00<00:00, 59.27it/s]\n",
      "100%|██████████| 8/8 [00:00<00:00, 71.75it/s]\n"
     ]
    },
    {
     "name": "stdout",
     "output_type": "stream",
     "text": [
      "38 tensor(0.8880, device='cuda:0', dtype=torch.float64)\n"
     ]
    },
    {
     "name": "stderr",
     "output_type": "stream",
     "text": [
      "100%|██████████| 40/40 [00:00<00:00, 58.81it/s]\n",
      "100%|██████████| 8/8 [00:00<00:00, 71.13it/s]\n"
     ]
    },
    {
     "name": "stdout",
     "output_type": "stream",
     "text": [
      "39 tensor(0.9060, device='cuda:0', dtype=torch.float64)\n",
      "tensor(0.9060, device='cuda:0', dtype=torch.float64)\n",
      "2500 500\n",
      "TAILLE dataset {'train': 2500, 'val': 500}\n",
      "DATASET SIZE {'train': 2500, 'val': 500}\n"
     ]
    },
    {
     "name": "stderr",
     "output_type": "stream",
     "text": [
      "100%|██████████| 40/40 [00:00<00:00, 57.13it/s]\n",
      "100%|██████████| 8/8 [00:00<00:00, 69.96it/s]\n"
     ]
    },
    {
     "name": "stdout",
     "output_type": "stream",
     "text": [
      "0 tensor(0.1140, device='cuda:0', dtype=torch.float64)\n"
     ]
    },
    {
     "name": "stderr",
     "output_type": "stream",
     "text": [
      "100%|██████████| 40/40 [00:00<00:00, 59.16it/s]\n",
      "100%|██████████| 8/8 [00:00<00:00, 74.11it/s]\n"
     ]
    },
    {
     "name": "stdout",
     "output_type": "stream",
     "text": [
      "1 tensor(0.1180, device='cuda:0', dtype=torch.float64)\n"
     ]
    },
    {
     "name": "stderr",
     "output_type": "stream",
     "text": [
      "100%|██████████| 40/40 [00:00<00:00, 60.09it/s]\n",
      "100%|██████████| 8/8 [00:00<00:00, 71.81it/s]\n"
     ]
    },
    {
     "name": "stdout",
     "output_type": "stream",
     "text": [
      "2 tensor(0.1680, device='cuda:0', dtype=torch.float64)\n"
     ]
    },
    {
     "name": "stderr",
     "output_type": "stream",
     "text": [
      "100%|██████████| 40/40 [00:00<00:00, 59.60it/s]\n",
      "100%|██████████| 8/8 [00:00<00:00, 71.97it/s]\n"
     ]
    },
    {
     "name": "stdout",
     "output_type": "stream",
     "text": [
      "3 tensor(0.2680, device='cuda:0', dtype=torch.float64)\n"
     ]
    },
    {
     "name": "stderr",
     "output_type": "stream",
     "text": [
      "100%|██████████| 40/40 [00:00<00:00, 59.59it/s]\n",
      "100%|██████████| 8/8 [00:00<00:00, 71.66it/s]\n"
     ]
    },
    {
     "name": "stdout",
     "output_type": "stream",
     "text": [
      "4 tensor(0.3680, device='cuda:0', dtype=torch.float64)\n"
     ]
    },
    {
     "name": "stderr",
     "output_type": "stream",
     "text": [
      "100%|██████████| 40/40 [00:00<00:00, 58.94it/s]\n",
      "100%|██████████| 8/8 [00:00<00:00, 71.49it/s]\n"
     ]
    },
    {
     "name": "stdout",
     "output_type": "stream",
     "text": [
      "5 tensor(0.4660, device='cuda:0', dtype=torch.float64)\n"
     ]
    },
    {
     "name": "stderr",
     "output_type": "stream",
     "text": [
      "100%|██████████| 40/40 [00:00<00:00, 58.89it/s]\n",
      "100%|██████████| 8/8 [00:00<00:00, 71.26it/s]\n"
     ]
    },
    {
     "name": "stdout",
     "output_type": "stream",
     "text": [
      "6 tensor(0.5160, device='cuda:0', dtype=torch.float64)\n"
     ]
    },
    {
     "name": "stderr",
     "output_type": "stream",
     "text": [
      "100%|██████████| 40/40 [00:00<00:00, 58.24it/s]\n",
      "100%|██████████| 8/8 [00:00<00:00, 71.32it/s]\n"
     ]
    },
    {
     "name": "stdout",
     "output_type": "stream",
     "text": [
      "7 tensor(0.5480, device='cuda:0', dtype=torch.float64)\n"
     ]
    },
    {
     "name": "stderr",
     "output_type": "stream",
     "text": [
      "100%|██████████| 40/40 [00:00<00:00, 58.49it/s]\n",
      "100%|██████████| 8/8 [00:00<00:00, 69.68it/s]\n"
     ]
    },
    {
     "name": "stdout",
     "output_type": "stream",
     "text": [
      "8 tensor(0.5700, device='cuda:0', dtype=torch.float64)\n"
     ]
    },
    {
     "name": "stderr",
     "output_type": "stream",
     "text": [
      "100%|██████████| 40/40 [00:00<00:00, 59.51it/s]\n",
      "100%|██████████| 8/8 [00:00<00:00, 71.18it/s]\n"
     ]
    },
    {
     "name": "stdout",
     "output_type": "stream",
     "text": [
      "9 tensor(0.6140, device='cuda:0', dtype=torch.float64)\n"
     ]
    },
    {
     "name": "stderr",
     "output_type": "stream",
     "text": [
      "100%|██████████| 40/40 [00:00<00:00, 59.57it/s]\n",
      "100%|██████████| 8/8 [00:00<00:00, 72.36it/s]\n"
     ]
    },
    {
     "name": "stdout",
     "output_type": "stream",
     "text": [
      "10 tensor(0.6440, device='cuda:0', dtype=torch.float64)\n"
     ]
    },
    {
     "name": "stderr",
     "output_type": "stream",
     "text": [
      "100%|██████████| 40/40 [00:00<00:00, 59.41it/s]\n",
      "100%|██████████| 8/8 [00:00<00:00, 69.74it/s]\n"
     ]
    },
    {
     "name": "stdout",
     "output_type": "stream",
     "text": [
      "11 tensor(0.6860, device='cuda:0', dtype=torch.float64)\n"
     ]
    },
    {
     "name": "stderr",
     "output_type": "stream",
     "text": [
      "100%|██████████| 40/40 [00:00<00:00, 59.05it/s]\n",
      "100%|██████████| 8/8 [00:00<00:00, 71.18it/s]\n"
     ]
    },
    {
     "name": "stdout",
     "output_type": "stream",
     "text": [
      "12 tensor(0.7420, device='cuda:0', dtype=torch.float64)\n"
     ]
    },
    {
     "name": "stderr",
     "output_type": "stream",
     "text": [
      "100%|██████████| 40/40 [00:00<00:00, 58.93it/s]\n",
      "100%|██████████| 8/8 [00:00<00:00, 70.61it/s]\n"
     ]
    },
    {
     "name": "stdout",
     "output_type": "stream",
     "text": [
      "13 tensor(0.7520, device='cuda:0', dtype=torch.float64)\n"
     ]
    },
    {
     "name": "stderr",
     "output_type": "stream",
     "text": [
      "100%|██████████| 40/40 [00:00<00:00, 59.23it/s]\n",
      "100%|██████████| 8/8 [00:00<00:00, 69.56it/s]\n"
     ]
    },
    {
     "name": "stdout",
     "output_type": "stream",
     "text": [
      "14 tensor(0.7540, device='cuda:0', dtype=torch.float64)\n"
     ]
    },
    {
     "name": "stderr",
     "output_type": "stream",
     "text": [
      "100%|██████████| 40/40 [00:00<00:00, 58.44it/s]\n",
      "100%|██████████| 8/8 [00:00<00:00, 69.19it/s]\n"
     ]
    },
    {
     "name": "stdout",
     "output_type": "stream",
     "text": [
      "15 tensor(0.7820, device='cuda:0', dtype=torch.float64)\n"
     ]
    },
    {
     "name": "stderr",
     "output_type": "stream",
     "text": [
      "100%|██████████| 40/40 [00:00<00:00, 58.53it/s]\n",
      "100%|██████████| 8/8 [00:00<00:00, 68.41it/s]\n"
     ]
    },
    {
     "name": "stdout",
     "output_type": "stream",
     "text": [
      "16 tensor(0.8060, device='cuda:0', dtype=torch.float64)\n"
     ]
    },
    {
     "name": "stderr",
     "output_type": "stream",
     "text": [
      "100%|██████████| 40/40 [00:00<00:00, 58.52it/s]\n",
      "100%|██████████| 8/8 [00:00<00:00, 70.77it/s]\n"
     ]
    },
    {
     "name": "stdout",
     "output_type": "stream",
     "text": [
      "17 tensor(0.8080, device='cuda:0', dtype=torch.float64)\n"
     ]
    },
    {
     "name": "stderr",
     "output_type": "stream",
     "text": [
      "100%|██████████| 40/40 [00:00<00:00, 58.46it/s]\n",
      "100%|██████████| 8/8 [00:00<00:00, 69.11it/s]\n"
     ]
    },
    {
     "name": "stdout",
     "output_type": "stream",
     "text": [
      "18 tensor(0.8600, device='cuda:0', dtype=torch.float64)\n"
     ]
    },
    {
     "name": "stderr",
     "output_type": "stream",
     "text": [
      "100%|██████████| 40/40 [00:00<00:00, 54.73it/s]\n",
      "100%|██████████| 8/8 [00:00<00:00, 69.26it/s]\n",
      "100%|██████████| 40/40 [00:00<00:00, 60.24it/s]\n",
      "100%|██████████| 8/8 [00:00<00:00, 69.32it/s]\n"
     ]
    },
    {
     "name": "stdout",
     "output_type": "stream",
     "text": [
      "20 tensor(0.8660, device='cuda:0', dtype=torch.float64)\n"
     ]
    },
    {
     "name": "stderr",
     "output_type": "stream",
     "text": [
      "100%|██████████| 40/40 [00:00<00:00, 60.62it/s]\n",
      "100%|██████████| 8/8 [00:00<00:00, 71.97it/s]\n",
      "100%|██████████| 40/40 [00:00<00:00, 62.07it/s]\n",
      "100%|██████████| 8/8 [00:00<00:00, 59.58it/s]\n"
     ]
    },
    {
     "name": "stdout",
     "output_type": "stream",
     "text": [
      "22 tensor(0.8800, device='cuda:0', dtype=torch.float64)\n"
     ]
    },
    {
     "name": "stderr",
     "output_type": "stream",
     "text": [
      "100%|██████████| 40/40 [00:00<00:00, 57.12it/s]\n",
      "100%|██████████| 8/8 [00:00<00:00, 77.26it/s]\n",
      "100%|██████████| 40/40 [00:00<00:00, 62.08it/s]\n",
      "100%|██████████| 8/8 [00:00<00:00, 71.35it/s]\n",
      "100%|██████████| 40/40 [00:00<00:00, 58.57it/s]\n",
      "100%|██████████| 8/8 [00:00<00:00, 70.48it/s]\n"
     ]
    },
    {
     "name": "stdout",
     "output_type": "stream",
     "text": [
      "25 tensor(0.8940, device='cuda:0', dtype=torch.float64)\n"
     ]
    },
    {
     "name": "stderr",
     "output_type": "stream",
     "text": [
      "100%|██████████| 40/40 [00:00<00:00, 57.69it/s]\n",
      "100%|██████████| 8/8 [00:00<00:00, 70.77it/s]\n",
      "100%|██████████| 40/40 [00:00<00:00, 56.83it/s]\n",
      "100%|██████████| 8/8 [00:00<00:00, 72.21it/s]\n"
     ]
    },
    {
     "name": "stdout",
     "output_type": "stream",
     "text": [
      "27 tensor(0.9080, device='cuda:0', dtype=torch.float64)\n"
     ]
    },
    {
     "name": "stderr",
     "output_type": "stream",
     "text": [
      "100%|██████████| 40/40 [00:00<00:00, 60.34it/s]\n",
      "100%|██████████| 8/8 [00:00<00:00, 71.69it/s]\n"
     ]
    },
    {
     "name": "stdout",
     "output_type": "stream",
     "text": [
      "28 tensor(0.9140, device='cuda:0', dtype=torch.float64)\n"
     ]
    },
    {
     "name": "stderr",
     "output_type": "stream",
     "text": [
      "100%|██████████| 40/40 [00:00<00:00, 60.02it/s]\n",
      "100%|██████████| 8/8 [00:00<00:00, 72.11it/s]\n",
      "100%|██████████| 40/40 [00:00<00:00, 60.73it/s]\n",
      "100%|██████████| 8/8 [00:00<00:00, 75.07it/s]\n",
      "100%|██████████| 40/40 [00:00<00:00, 62.39it/s]\n",
      "100%|██████████| 8/8 [00:00<00:00, 75.18it/s]\n",
      "100%|██████████| 40/40 [00:00<00:00, 48.67it/s]\n",
      "100%|██████████| 8/8 [00:00<00:00, 61.42it/s]\n",
      "100%|██████████| 40/40 [00:00<00:00, 52.47it/s]\n",
      "100%|██████████| 8/8 [00:00<00:00, 61.06it/s]\n",
      "100%|██████████| 40/40 [00:00<00:00, 53.24it/s]\n",
      "100%|██████████| 8/8 [00:00<00:00, 63.64it/s]\n",
      "100%|██████████| 40/40 [00:00<00:00, 55.50it/s]\n",
      "100%|██████████| 8/8 [00:00<00:00, 61.53it/s]\n",
      "100%|██████████| 40/40 [00:00<00:00, 53.29it/s]\n",
      "100%|██████████| 8/8 [00:00<00:00, 59.89it/s]\n",
      "100%|██████████| 40/40 [00:00<00:00, 57.70it/s]\n",
      "100%|██████████| 8/8 [00:00<00:00, 59.56it/s]\n",
      "100%|██████████| 40/40 [00:00<00:00, 56.02it/s]\n",
      "100%|██████████| 8/8 [00:00<00:00, 59.38it/s]\n",
      "100%|██████████| 40/40 [00:00<00:00, 56.37it/s]\n",
      "100%|██████████| 8/8 [00:00<00:00, 69.84it/s]\n"
     ]
    },
    {
     "name": "stdout",
     "output_type": "stream",
     "text": [
      "39 tensor(0.9200, device='cuda:0', dtype=torch.float64)\n",
      "tensor(0.9200, device='cuda:0', dtype=torch.float64)\n",
      "2500 500\n",
      "TAILLE dataset {'train': 2500, 'val': 500}\n",
      "DATASET SIZE {'train': 2500, 'val': 500}\n"
     ]
    },
    {
     "name": "stderr",
     "output_type": "stream",
     "text": [
      "100%|██████████| 40/40 [00:00<00:00, 59.00it/s]\n",
      "100%|██████████| 8/8 [00:00<00:00, 72.24it/s]\n"
     ]
    },
    {
     "name": "stdout",
     "output_type": "stream",
     "text": [
      "0 tensor(0.1140, device='cuda:0', dtype=torch.float64)\n"
     ]
    },
    {
     "name": "stderr",
     "output_type": "stream",
     "text": [
      "100%|██████████| 40/40 [00:00<00:00, 59.52it/s]\n",
      "100%|██████████| 8/8 [00:00<00:00, 69.38it/s]\n"
     ]
    },
    {
     "name": "stdout",
     "output_type": "stream",
     "text": [
      "1 tensor(0.1200, device='cuda:0', dtype=torch.float64)\n"
     ]
    },
    {
     "name": "stderr",
     "output_type": "stream",
     "text": [
      "100%|██████████| 40/40 [00:00<00:00, 55.47it/s]\n",
      "100%|██████████| 8/8 [00:00<00:00, 59.68it/s]\n"
     ]
    },
    {
     "name": "stdout",
     "output_type": "stream",
     "text": [
      "2 tensor(0.1660, device='cuda:0', dtype=torch.float64)\n"
     ]
    },
    {
     "name": "stderr",
     "output_type": "stream",
     "text": [
      "100%|██████████| 40/40 [00:00<00:00, 57.37it/s]\n",
      "100%|██████████| 8/8 [00:00<00:00, 69.69it/s]\n"
     ]
    },
    {
     "name": "stdout",
     "output_type": "stream",
     "text": [
      "3 tensor(0.2160, device='cuda:0', dtype=torch.float64)\n"
     ]
    },
    {
     "name": "stderr",
     "output_type": "stream",
     "text": [
      "100%|██████████| 40/40 [00:00<00:00, 59.33it/s]\n",
      "100%|██████████| 8/8 [00:00<00:00, 71.32it/s]\n"
     ]
    },
    {
     "name": "stdout",
     "output_type": "stream",
     "text": [
      "4 tensor(0.2720, device='cuda:0', dtype=torch.float64)\n"
     ]
    },
    {
     "name": "stderr",
     "output_type": "stream",
     "text": [
      "100%|██████████| 40/40 [00:00<00:00, 59.59it/s]\n",
      "100%|██████████| 8/8 [00:00<00:00, 73.08it/s]\n"
     ]
    },
    {
     "name": "stdout",
     "output_type": "stream",
     "text": [
      "5 tensor(0.3280, device='cuda:0', dtype=torch.float64)\n"
     ]
    },
    {
     "name": "stderr",
     "output_type": "stream",
     "text": [
      "100%|██████████| 40/40 [00:00<00:00, 58.48it/s]\n",
      "100%|██████████| 8/8 [00:00<00:00, 60.39it/s]\n"
     ]
    },
    {
     "name": "stdout",
     "output_type": "stream",
     "text": [
      "6 tensor(0.4160, device='cuda:0', dtype=torch.float64)\n"
     ]
    },
    {
     "name": "stderr",
     "output_type": "stream",
     "text": [
      "100%|██████████| 40/40 [00:00<00:00, 57.48it/s]\n",
      "100%|██████████| 8/8 [00:00<00:00, 72.54it/s]\n"
     ]
    },
    {
     "name": "stdout",
     "output_type": "stream",
     "text": [
      "7 tensor(0.4700, device='cuda:0', dtype=torch.float64)\n"
     ]
    },
    {
     "name": "stderr",
     "output_type": "stream",
     "text": [
      "100%|██████████| 40/40 [00:00<00:00, 60.00it/s]\n",
      "100%|██████████| 8/8 [00:00<00:00, 72.57it/s]\n"
     ]
    },
    {
     "name": "stdout",
     "output_type": "stream",
     "text": [
      "8 tensor(0.5340, device='cuda:0', dtype=torch.float64)\n"
     ]
    },
    {
     "name": "stderr",
     "output_type": "stream",
     "text": [
      "100%|██████████| 40/40 [00:00<00:00, 59.30it/s]\n",
      "100%|██████████| 8/8 [00:00<00:00, 73.16it/s]\n"
     ]
    },
    {
     "name": "stdout",
     "output_type": "stream",
     "text": [
      "9 tensor(0.5620, device='cuda:0', dtype=torch.float64)\n"
     ]
    },
    {
     "name": "stderr",
     "output_type": "stream",
     "text": [
      "100%|██████████| 40/40 [00:00<00:00, 60.37it/s]\n",
      "100%|██████████| 8/8 [00:00<00:00, 72.60it/s]\n"
     ]
    },
    {
     "name": "stdout",
     "output_type": "stream",
     "text": [
      "10 tensor(0.5820, device='cuda:0', dtype=torch.float64)\n"
     ]
    },
    {
     "name": "stderr",
     "output_type": "stream",
     "text": [
      "100%|██████████| 40/40 [00:00<00:00, 59.98it/s]\n",
      "100%|██████████| 8/8 [00:00<00:00, 72.51it/s]\n"
     ]
    },
    {
     "name": "stdout",
     "output_type": "stream",
     "text": [
      "11 tensor(0.6160, device='cuda:0', dtype=torch.float64)\n"
     ]
    },
    {
     "name": "stderr",
     "output_type": "stream",
     "text": [
      "100%|██████████| 40/40 [00:00<00:00, 60.47it/s]\n",
      "100%|██████████| 8/8 [00:00<00:00, 72.86it/s]\n"
     ]
    },
    {
     "name": "stdout",
     "output_type": "stream",
     "text": [
      "12 tensor(0.6620, device='cuda:0', dtype=torch.float64)\n"
     ]
    },
    {
     "name": "stderr",
     "output_type": "stream",
     "text": [
      "100%|██████████| 40/40 [00:00<00:00, 61.28it/s]\n",
      "100%|██████████| 8/8 [00:00<00:00, 73.90it/s]\n"
     ]
    },
    {
     "name": "stdout",
     "output_type": "stream",
     "text": [
      "13 tensor(0.6720, device='cuda:0', dtype=torch.float64)\n"
     ]
    },
    {
     "name": "stderr",
     "output_type": "stream",
     "text": [
      "100%|██████████| 40/40 [00:00<00:00, 62.13it/s]\n",
      "100%|██████████| 8/8 [00:00<00:00, 73.78it/s]\n"
     ]
    },
    {
     "name": "stdout",
     "output_type": "stream",
     "text": [
      "14 tensor(0.6980, device='cuda:0', dtype=torch.float64)\n"
     ]
    },
    {
     "name": "stderr",
     "output_type": "stream",
     "text": [
      "100%|██████████| 40/40 [00:00<00:00, 62.34it/s]\n",
      "100%|██████████| 8/8 [00:00<00:00, 73.24it/s]\n"
     ]
    },
    {
     "name": "stdout",
     "output_type": "stream",
     "text": [
      "15 tensor(0.7200, device='cuda:0', dtype=torch.float64)\n"
     ]
    },
    {
     "name": "stderr",
     "output_type": "stream",
     "text": [
      "100%|██████████| 40/40 [00:00<00:00, 62.28it/s]\n",
      "100%|██████████| 8/8 [00:00<00:00, 74.16it/s]\n"
     ]
    },
    {
     "name": "stdout",
     "output_type": "stream",
     "text": [
      "16 tensor(0.7460, device='cuda:0', dtype=torch.float64)\n"
     ]
    },
    {
     "name": "stderr",
     "output_type": "stream",
     "text": [
      "100%|██████████| 40/40 [00:00<00:00, 62.09it/s]\n",
      "100%|██████████| 8/8 [00:00<00:00, 74.34it/s]\n"
     ]
    },
    {
     "name": "stdout",
     "output_type": "stream",
     "text": [
      "17 tensor(0.7600, device='cuda:0', dtype=torch.float64)\n"
     ]
    },
    {
     "name": "stderr",
     "output_type": "stream",
     "text": [
      "100%|██████████| 40/40 [00:00<00:00, 61.83it/s]\n",
      "100%|██████████| 8/8 [00:00<00:00, 73.96it/s]\n",
      "100%|██████████| 40/40 [00:00<00:00, 61.95it/s]\n",
      "100%|██████████| 8/8 [00:00<00:00, 74.71it/s]\n",
      "100%|██████████| 40/40 [00:00<00:00, 62.17it/s]\n",
      "100%|██████████| 8/8 [00:00<00:00, 74.35it/s]\n"
     ]
    },
    {
     "name": "stdout",
     "output_type": "stream",
     "text": [
      "20 tensor(0.7800, device='cuda:0', dtype=torch.float64)\n"
     ]
    },
    {
     "name": "stderr",
     "output_type": "stream",
     "text": [
      "100%|██████████| 40/40 [00:00<00:00, 62.02it/s]\n",
      "100%|██████████| 8/8 [00:00<00:00, 74.73it/s]\n",
      "100%|██████████| 40/40 [00:00<00:00, 61.91it/s]\n",
      "100%|██████████| 8/8 [00:00<00:00, 73.25it/s]\n"
     ]
    },
    {
     "name": "stdout",
     "output_type": "stream",
     "text": [
      "22 tensor(0.8120, device='cuda:0', dtype=torch.float64)\n"
     ]
    },
    {
     "name": "stderr",
     "output_type": "stream",
     "text": [
      "100%|██████████| 40/40 [00:00<00:00, 62.16it/s]\n",
      "100%|██████████| 8/8 [00:00<00:00, 71.93it/s]\n"
     ]
    },
    {
     "name": "stdout",
     "output_type": "stream",
     "text": [
      "23 tensor(0.8260, device='cuda:0', dtype=torch.float64)\n"
     ]
    },
    {
     "name": "stderr",
     "output_type": "stream",
     "text": [
      "100%|██████████| 40/40 [00:00<00:00, 62.00it/s]\n",
      "100%|██████████| 8/8 [00:00<00:00, 74.66it/s]\n",
      "100%|██████████| 40/40 [00:00<00:00, 61.73it/s]\n",
      "100%|██████████| 8/8 [00:00<00:00, 75.31it/s]\n"
     ]
    },
    {
     "name": "stdout",
     "output_type": "stream",
     "text": [
      "25 tensor(0.8380, device='cuda:0', dtype=torch.float64)\n"
     ]
    },
    {
     "name": "stderr",
     "output_type": "stream",
     "text": [
      "100%|██████████| 40/40 [00:00<00:00, 61.99it/s]\n",
      "100%|██████████| 8/8 [00:00<00:00, 73.49it/s]\n"
     ]
    },
    {
     "name": "stdout",
     "output_type": "stream",
     "text": [
      "26 tensor(0.8520, device='cuda:0', dtype=torch.float64)\n"
     ]
    },
    {
     "name": "stderr",
     "output_type": "stream",
     "text": [
      "100%|██████████| 40/40 [00:00<00:00, 60.94it/s]\n",
      "100%|██████████| 8/8 [00:00<00:00, 75.21it/s]\n",
      "100%|██████████| 40/40 [00:00<00:00, 62.75it/s]\n",
      "100%|██████████| 8/8 [00:00<00:00, 76.03it/s]\n",
      "100%|██████████| 40/40 [00:00<00:00, 62.42it/s]\n",
      "100%|██████████| 8/8 [00:00<00:00, 75.98it/s]\n",
      "100%|██████████| 40/40 [00:00<00:00, 57.55it/s]\n",
      "100%|██████████| 8/8 [00:00<00:00, 81.32it/s]\n"
     ]
    },
    {
     "name": "stdout",
     "output_type": "stream",
     "text": [
      "30 tensor(0.8680, device='cuda:0', dtype=torch.float64)\n"
     ]
    },
    {
     "name": "stderr",
     "output_type": "stream",
     "text": [
      "100%|██████████| 40/40 [00:00<00:00, 66.80it/s]\n",
      "100%|██████████| 8/8 [00:00<00:00, 81.10it/s]\n",
      "100%|██████████| 40/40 [00:00<00:00, 66.82it/s]\n",
      "100%|██████████| 8/8 [00:00<00:00, 80.88it/s]\n"
     ]
    },
    {
     "name": "stdout",
     "output_type": "stream",
     "text": [
      "32 tensor(0.8840, device='cuda:0', dtype=torch.float64)\n"
     ]
    },
    {
     "name": "stderr",
     "output_type": "stream",
     "text": [
      "100%|██████████| 40/40 [00:00<00:00, 67.09it/s]\n",
      "100%|██████████| 8/8 [00:00<00:00, 80.62it/s]\n",
      "100%|██████████| 40/40 [00:00<00:00, 67.00it/s]\n",
      "100%|██████████| 8/8 [00:00<00:00, 81.14it/s]\n",
      "100%|██████████| 40/40 [00:00<00:00, 66.81it/s]\n",
      "100%|██████████| 8/8 [00:00<00:00, 81.45it/s]\n"
     ]
    },
    {
     "name": "stdout",
     "output_type": "stream",
     "text": [
      "35 tensor(0.8860, device='cuda:0', dtype=torch.float64)\n"
     ]
    },
    {
     "name": "stderr",
     "output_type": "stream",
     "text": [
      "100%|██████████| 40/40 [00:00<00:00, 65.92it/s]\n",
      "100%|██████████| 8/8 [00:00<00:00, 81.02it/s]\n",
      "100%|██████████| 40/40 [00:00<00:00, 63.39it/s]\n",
      "100%|██████████| 8/8 [00:00<00:00, 75.36it/s]\n"
     ]
    },
    {
     "name": "stdout",
     "output_type": "stream",
     "text": [
      "37 tensor(0.8920, device='cuda:0', dtype=torch.float64)\n"
     ]
    },
    {
     "name": "stderr",
     "output_type": "stream",
     "text": [
      "100%|██████████| 40/40 [00:00<00:00, 63.01it/s]\n",
      "100%|██████████| 8/8 [00:00<00:00, 75.68it/s]\n"
     ]
    },
    {
     "name": "stdout",
     "output_type": "stream",
     "text": [
      "38 tensor(0.8960, device='cuda:0', dtype=torch.float64)\n"
     ]
    },
    {
     "name": "stderr",
     "output_type": "stream",
     "text": [
      "100%|██████████| 40/40 [00:00<00:00, 62.81it/s]\n",
      "100%|██████████| 8/8 [00:00<00:00, 74.59it/s]\n"
     ]
    },
    {
     "name": "stdout",
     "output_type": "stream",
     "text": [
      "tensor(0.8960, device='cuda:0', dtype=torch.float64)\n",
      "2500 500\n",
      "TAILLE dataset {'train': 2500, 'val': 500}\n",
      "DATASET SIZE {'train': 2500, 'val': 500}\n"
     ]
    },
    {
     "name": "stderr",
     "output_type": "stream",
     "text": [
      "100%|██████████| 40/40 [00:00<00:00, 62.87it/s]\n",
      "100%|██████████| 8/8 [00:00<00:00, 74.78it/s]\n"
     ]
    },
    {
     "name": "stdout",
     "output_type": "stream",
     "text": [
      "0 tensor(0.1480, device='cuda:0', dtype=torch.float64)\n"
     ]
    },
    {
     "name": "stderr",
     "output_type": "stream",
     "text": [
      "100%|██████████| 40/40 [00:00<00:00, 62.83it/s]\n",
      "100%|██████████| 8/8 [00:00<00:00, 75.28it/s]\n"
     ]
    },
    {
     "name": "stdout",
     "output_type": "stream",
     "text": [
      "1 tensor(0.2360, device='cuda:0', dtype=torch.float64)\n"
     ]
    },
    {
     "name": "stderr",
     "output_type": "stream",
     "text": [
      "100%|██████████| 40/40 [00:00<00:00, 62.60it/s]\n",
      "100%|██████████| 8/8 [00:00<00:00, 75.76it/s]\n"
     ]
    },
    {
     "name": "stdout",
     "output_type": "stream",
     "text": [
      "2 tensor(0.2720, device='cuda:0', dtype=torch.float64)\n"
     ]
    },
    {
     "name": "stderr",
     "output_type": "stream",
     "text": [
      "100%|██████████| 40/40 [00:00<00:00, 62.90it/s]\n",
      "100%|██████████| 8/8 [00:00<00:00, 75.18it/s]\n"
     ]
    },
    {
     "name": "stdout",
     "output_type": "stream",
     "text": [
      "3 tensor(0.2840, device='cuda:0', dtype=torch.float64)\n"
     ]
    },
    {
     "name": "stderr",
     "output_type": "stream",
     "text": [
      "100%|██████████| 40/40 [00:00<00:00, 64.22it/s]\n",
      "100%|██████████| 8/8 [00:00<00:00, 75.33it/s]\n"
     ]
    },
    {
     "name": "stdout",
     "output_type": "stream",
     "text": [
      "4 tensor(0.2920, device='cuda:0', dtype=torch.float64)\n"
     ]
    },
    {
     "name": "stderr",
     "output_type": "stream",
     "text": [
      "100%|██████████| 40/40 [00:00<00:00, 66.03it/s]\n",
      "100%|██████████| 8/8 [00:00<00:00, 78.94it/s]\n"
     ]
    },
    {
     "name": "stdout",
     "output_type": "stream",
     "text": [
      "5 tensor(0.3100, device='cuda:0', dtype=torch.float64)\n"
     ]
    },
    {
     "name": "stderr",
     "output_type": "stream",
     "text": [
      "100%|██████████| 40/40 [00:00<00:00, 64.62it/s]\n",
      "100%|██████████| 8/8 [00:00<00:00, 78.74it/s]\n"
     ]
    },
    {
     "name": "stdout",
     "output_type": "stream",
     "text": [
      "6 tensor(0.3380, device='cuda:0', dtype=torch.float64)\n"
     ]
    },
    {
     "name": "stderr",
     "output_type": "stream",
     "text": [
      "100%|██████████| 40/40 [00:00<00:00, 65.63it/s]\n",
      "100%|██████████| 8/8 [00:00<00:00, 78.93it/s]\n"
     ]
    },
    {
     "name": "stdout",
     "output_type": "stream",
     "text": [
      "7 tensor(0.3700, device='cuda:0', dtype=torch.float64)\n"
     ]
    },
    {
     "name": "stderr",
     "output_type": "stream",
     "text": [
      "100%|██████████| 40/40 [00:00<00:00, 63.06it/s]\n",
      "100%|██████████| 8/8 [00:00<00:00, 75.92it/s]\n"
     ]
    },
    {
     "name": "stdout",
     "output_type": "stream",
     "text": [
      "8 tensor(0.4180, device='cuda:0', dtype=torch.float64)\n"
     ]
    },
    {
     "name": "stderr",
     "output_type": "stream",
     "text": [
      "100%|██████████| 40/40 [00:00<00:00, 62.60it/s]\n",
      "100%|██████████| 8/8 [00:00<00:00, 75.30it/s]\n"
     ]
    },
    {
     "name": "stdout",
     "output_type": "stream",
     "text": [
      "9 tensor(0.4360, device='cuda:0', dtype=torch.float64)\n"
     ]
    },
    {
     "name": "stderr",
     "output_type": "stream",
     "text": [
      "100%|██████████| 40/40 [00:00<00:00, 62.31it/s]\n",
      "100%|██████████| 8/8 [00:00<00:00, 74.68it/s]\n"
     ]
    },
    {
     "name": "stdout",
     "output_type": "stream",
     "text": [
      "10 tensor(0.4720, device='cuda:0', dtype=torch.float64)\n"
     ]
    },
    {
     "name": "stderr",
     "output_type": "stream",
     "text": [
      "100%|██████████| 40/40 [00:00<00:00, 62.65it/s]\n",
      "100%|██████████| 8/8 [00:00<00:00, 74.75it/s]\n"
     ]
    },
    {
     "name": "stdout",
     "output_type": "stream",
     "text": [
      "11 tensor(0.5260, device='cuda:0', dtype=torch.float64)\n"
     ]
    },
    {
     "name": "stderr",
     "output_type": "stream",
     "text": [
      "100%|██████████| 40/40 [00:00<00:00, 62.64it/s]\n",
      "100%|██████████| 8/8 [00:00<00:00, 74.17it/s]\n"
     ]
    },
    {
     "name": "stdout",
     "output_type": "stream",
     "text": [
      "12 tensor(0.5620, device='cuda:0', dtype=torch.float64)\n"
     ]
    },
    {
     "name": "stderr",
     "output_type": "stream",
     "text": [
      "100%|██████████| 40/40 [00:00<00:00, 62.81it/s]\n",
      "100%|██████████| 8/8 [00:00<00:00, 74.42it/s]\n"
     ]
    },
    {
     "name": "stdout",
     "output_type": "stream",
     "text": [
      "13 tensor(0.6240, device='cuda:0', dtype=torch.float64)\n"
     ]
    },
    {
     "name": "stderr",
     "output_type": "stream",
     "text": [
      "100%|██████████| 40/40 [00:00<00:00, 62.31it/s]\n",
      "100%|██████████| 8/8 [00:00<00:00, 74.90it/s]\n"
     ]
    },
    {
     "name": "stdout",
     "output_type": "stream",
     "text": [
      "14 tensor(0.6820, device='cuda:0', dtype=torch.float64)\n"
     ]
    },
    {
     "name": "stderr",
     "output_type": "stream",
     "text": [
      "100%|██████████| 40/40 [00:00<00:00, 62.24it/s]\n",
      "100%|██████████| 8/8 [00:00<00:00, 75.36it/s]\n"
     ]
    },
    {
     "name": "stdout",
     "output_type": "stream",
     "text": [
      "15 tensor(0.7160, device='cuda:0', dtype=torch.float64)\n"
     ]
    },
    {
     "name": "stderr",
     "output_type": "stream",
     "text": [
      "100%|██████████| 40/40 [00:00<00:00, 62.20it/s]\n",
      "100%|██████████| 8/8 [00:00<00:00, 74.57it/s]\n"
     ]
    },
    {
     "name": "stdout",
     "output_type": "stream",
     "text": [
      "16 tensor(0.7560, device='cuda:0', dtype=torch.float64)\n"
     ]
    },
    {
     "name": "stderr",
     "output_type": "stream",
     "text": [
      "100%|██████████| 40/40 [00:00<00:00, 62.68it/s]\n",
      "100%|██████████| 8/8 [00:00<00:00, 74.50it/s]\n"
     ]
    },
    {
     "name": "stdout",
     "output_type": "stream",
     "text": [
      "17 tensor(0.7760, device='cuda:0', dtype=torch.float64)\n"
     ]
    },
    {
     "name": "stderr",
     "output_type": "stream",
     "text": [
      "100%|██████████| 40/40 [00:00<00:00, 62.34it/s]\n",
      "100%|██████████| 8/8 [00:00<00:00, 75.15it/s]\n"
     ]
    },
    {
     "name": "stdout",
     "output_type": "stream",
     "text": [
      "18 tensor(0.7920, device='cuda:0', dtype=torch.float64)\n"
     ]
    },
    {
     "name": "stderr",
     "output_type": "stream",
     "text": [
      "100%|██████████| 40/40 [00:00<00:00, 62.50it/s]\n",
      "100%|██████████| 8/8 [00:00<00:00, 73.82it/s]\n"
     ]
    },
    {
     "name": "stdout",
     "output_type": "stream",
     "text": [
      "19 tensor(0.7980, device='cuda:0', dtype=torch.float64)\n"
     ]
    },
    {
     "name": "stderr",
     "output_type": "stream",
     "text": [
      "100%|██████████| 40/40 [00:00<00:00, 62.13it/s]\n",
      "100%|██████████| 8/8 [00:00<00:00, 73.76it/s]\n"
     ]
    },
    {
     "name": "stdout",
     "output_type": "stream",
     "text": [
      "20 tensor(0.8300, device='cuda:0', dtype=torch.float64)\n"
     ]
    },
    {
     "name": "stderr",
     "output_type": "stream",
     "text": [
      "100%|██████████| 40/40 [00:00<00:00, 62.20it/s]\n",
      "100%|██████████| 8/8 [00:00<00:00, 73.51it/s]\n"
     ]
    },
    {
     "name": "stdout",
     "output_type": "stream",
     "text": [
      "21 tensor(0.8320, device='cuda:0', dtype=torch.float64)\n"
     ]
    },
    {
     "name": "stderr",
     "output_type": "stream",
     "text": [
      "100%|██████████| 40/40 [00:00<00:00, 62.18it/s]\n",
      "100%|██████████| 8/8 [00:00<00:00, 73.79it/s]\n"
     ]
    },
    {
     "name": "stdout",
     "output_type": "stream",
     "text": [
      "22 tensor(0.8400, device='cuda:0', dtype=torch.float64)\n"
     ]
    },
    {
     "name": "stderr",
     "output_type": "stream",
     "text": [
      "100%|██████████| 40/40 [00:00<00:00, 62.00it/s]\n",
      "100%|██████████| 8/8 [00:00<00:00, 75.49it/s]\n"
     ]
    },
    {
     "name": "stdout",
     "output_type": "stream",
     "text": [
      "23 tensor(0.8440, device='cuda:0', dtype=torch.float64)\n"
     ]
    },
    {
     "name": "stderr",
     "output_type": "stream",
     "text": [
      "100%|██████████| 40/40 [00:00<00:00, 62.08it/s]\n",
      "100%|██████████| 8/8 [00:00<00:00, 64.49it/s]\n"
     ]
    },
    {
     "name": "stdout",
     "output_type": "stream",
     "text": [
      "24 tensor(0.8600, device='cuda:0', dtype=torch.float64)\n"
     ]
    },
    {
     "name": "stderr",
     "output_type": "stream",
     "text": [
      "100%|██████████| 40/40 [00:00<00:00, 56.24it/s]\n",
      "100%|██████████| 8/8 [00:00<00:00, 71.04it/s]\n",
      "100%|██████████| 40/40 [00:00<00:00, 61.02it/s]\n",
      "100%|██████████| 8/8 [00:00<00:00, 73.74it/s]\n",
      "100%|██████████| 40/40 [00:00<00:00, 61.40it/s]\n",
      "100%|██████████| 8/8 [00:00<00:00, 72.91it/s]\n",
      "100%|██████████| 40/40 [00:00<00:00, 60.18it/s]\n",
      "100%|██████████| 8/8 [00:00<00:00, 73.67it/s]\n",
      "100%|██████████| 40/40 [00:00<00:00, 60.69it/s]\n",
      "100%|██████████| 8/8 [00:00<00:00, 70.36it/s]\n",
      "100%|██████████| 40/40 [00:00<00:00, 60.25it/s]\n",
      "100%|██████████| 8/8 [00:00<00:00, 73.01it/s]\n",
      "100%|██████████| 40/40 [00:00<00:00, 60.61it/s]\n",
      "100%|██████████| 8/8 [00:00<00:00, 73.25it/s]\n"
     ]
    },
    {
     "name": "stdout",
     "output_type": "stream",
     "text": [
      "31 tensor(0.8740, device='cuda:0', dtype=torch.float64)\n"
     ]
    },
    {
     "name": "stderr",
     "output_type": "stream",
     "text": [
      "100%|██████████| 40/40 [00:00<00:00, 60.46it/s]\n",
      "100%|██████████| 8/8 [00:00<00:00, 73.44it/s]\n",
      "100%|██████████| 40/40 [00:00<00:00, 60.52it/s]\n",
      "100%|██████████| 8/8 [00:00<00:00, 72.65it/s]\n",
      "100%|██████████| 40/40 [00:00<00:00, 60.88it/s]\n",
      "100%|██████████| 8/8 [00:00<00:00, 73.56it/s]\n",
      "100%|██████████| 40/40 [00:00<00:00, 60.07it/s]\n",
      "100%|██████████| 8/8 [00:00<00:00, 72.66it/s]\n"
     ]
    },
    {
     "name": "stdout",
     "output_type": "stream",
     "text": [
      "35 tensor(0.8840, device='cuda:0', dtype=torch.float64)\n"
     ]
    },
    {
     "name": "stderr",
     "output_type": "stream",
     "text": [
      "100%|██████████| 40/40 [00:00<00:00, 60.60it/s]\n",
      "100%|██████████| 8/8 [00:00<00:00, 74.17it/s]\n",
      "100%|██████████| 40/40 [00:00<00:00, 60.86it/s]\n",
      "100%|██████████| 8/8 [00:00<00:00, 73.19it/s]\n",
      "100%|██████████| 40/40 [00:00<00:00, 61.08it/s]\n",
      "100%|██████████| 8/8 [00:00<00:00, 73.25it/s]\n",
      "100%|██████████| 40/40 [00:00<00:00, 61.26it/s]\n",
      "100%|██████████| 8/8 [00:00<00:00, 72.35it/s]\n"
     ]
    },
    {
     "name": "stdout",
     "output_type": "stream",
     "text": [
      "39 tensor(0.8880, device='cuda:0', dtype=torch.float64)\n",
      "tensor(0.8880, device='cuda:0', dtype=torch.float64)\n",
      "2500 500\n",
      "TAILLE dataset {'train': 2500, 'val': 500}\n",
      "DATASET SIZE {'train': 2500, 'val': 500}\n"
     ]
    },
    {
     "name": "stderr",
     "output_type": "stream",
     "text": [
      "100%|██████████| 40/40 [00:00<00:00, 60.48it/s]\n",
      "100%|██████████| 8/8 [00:00<00:00, 73.44it/s]\n"
     ]
    },
    {
     "name": "stdout",
     "output_type": "stream",
     "text": [
      "0 tensor(0.2220, device='cuda:0', dtype=torch.float64)\n"
     ]
    },
    {
     "name": "stderr",
     "output_type": "stream",
     "text": [
      "100%|██████████| 40/40 [00:00<00:00, 60.22it/s]\n",
      "100%|██████████| 8/8 [00:00<00:00, 71.67it/s]\n"
     ]
    },
    {
     "name": "stdout",
     "output_type": "stream",
     "text": [
      "1 tensor(0.2300, device='cuda:0', dtype=torch.float64)\n"
     ]
    },
    {
     "name": "stderr",
     "output_type": "stream",
     "text": [
      "100%|██████████| 40/40 [00:00<00:00, 61.86it/s]\n",
      "100%|██████████| 8/8 [00:00<00:00, 73.60it/s]\n"
     ]
    },
    {
     "name": "stdout",
     "output_type": "stream",
     "text": [
      "2 tensor(0.2640, device='cuda:0', dtype=torch.float64)\n"
     ]
    },
    {
     "name": "stderr",
     "output_type": "stream",
     "text": [
      "100%|██████████| 40/40 [00:00<00:00, 62.42it/s]\n",
      "100%|██████████| 8/8 [00:00<00:00, 73.40it/s]\n"
     ]
    },
    {
     "name": "stdout",
     "output_type": "stream",
     "text": [
      "3 tensor(0.2800, device='cuda:0', dtype=torch.float64)\n"
     ]
    },
    {
     "name": "stderr",
     "output_type": "stream",
     "text": [
      "100%|██████████| 40/40 [00:00<00:00, 64.11it/s]\n",
      "100%|██████████| 8/8 [00:00<00:00, 78.19it/s]\n"
     ]
    },
    {
     "name": "stdout",
     "output_type": "stream",
     "text": [
      "4 tensor(0.3120, device='cuda:0', dtype=torch.float64)\n"
     ]
    },
    {
     "name": "stderr",
     "output_type": "stream",
     "text": [
      "100%|██████████| 40/40 [00:00<00:00, 64.87it/s]\n",
      "100%|██████████| 8/8 [00:00<00:00, 80.77it/s]\n"
     ]
    },
    {
     "name": "stdout",
     "output_type": "stream",
     "text": [
      "5 tensor(0.3340, device='cuda:0', dtype=torch.float64)\n"
     ]
    },
    {
     "name": "stderr",
     "output_type": "stream",
     "text": [
      "100%|██████████| 40/40 [00:00<00:00, 66.44it/s]\n",
      "100%|██████████| 8/8 [00:00<00:00, 80.68it/s]\n"
     ]
    },
    {
     "name": "stdout",
     "output_type": "stream",
     "text": [
      "6 tensor(0.3620, device='cuda:0', dtype=torch.float64)\n"
     ]
    },
    {
     "name": "stderr",
     "output_type": "stream",
     "text": [
      "100%|██████████| 40/40 [00:00<00:00, 66.50it/s]\n",
      "100%|██████████| 8/8 [00:00<00:00, 80.10it/s]\n"
     ]
    },
    {
     "name": "stdout",
     "output_type": "stream",
     "text": [
      "7 tensor(0.4000, device='cuda:0', dtype=torch.float64)\n"
     ]
    },
    {
     "name": "stderr",
     "output_type": "stream",
     "text": [
      "100%|██████████| 40/40 [00:00<00:00, 65.70it/s]\n",
      "100%|██████████| 8/8 [00:00<00:00, 78.35it/s]\n"
     ]
    },
    {
     "name": "stdout",
     "output_type": "stream",
     "text": [
      "8 tensor(0.4300, device='cuda:0', dtype=torch.float64)\n"
     ]
    },
    {
     "name": "stderr",
     "output_type": "stream",
     "text": [
      "100%|██████████| 40/40 [00:00<00:00, 62.58it/s]\n",
      "100%|██████████| 8/8 [00:00<00:00, 74.45it/s]\n"
     ]
    },
    {
     "name": "stdout",
     "output_type": "stream",
     "text": [
      "9 tensor(0.4680, device='cuda:0', dtype=torch.float64)\n"
     ]
    },
    {
     "name": "stderr",
     "output_type": "stream",
     "text": [
      "100%|██████████| 40/40 [00:00<00:00, 62.51it/s]\n",
      "100%|██████████| 8/8 [00:00<00:00, 75.39it/s]\n"
     ]
    },
    {
     "name": "stdout",
     "output_type": "stream",
     "text": [
      "10 tensor(0.5020, device='cuda:0', dtype=torch.float64)\n"
     ]
    },
    {
     "name": "stderr",
     "output_type": "stream",
     "text": [
      "100%|██████████| 40/40 [00:00<00:00, 62.46it/s]\n",
      "100%|██████████| 8/8 [00:00<00:00, 74.16it/s]\n"
     ]
    },
    {
     "name": "stdout",
     "output_type": "stream",
     "text": [
      "11 tensor(0.5220, device='cuda:0', dtype=torch.float64)\n"
     ]
    },
    {
     "name": "stderr",
     "output_type": "stream",
     "text": [
      "100%|██████████| 40/40 [00:00<00:00, 62.43it/s]\n",
      "100%|██████████| 8/8 [00:00<00:00, 74.67it/s]\n"
     ]
    },
    {
     "name": "stdout",
     "output_type": "stream",
     "text": [
      "12 tensor(0.5500, device='cuda:0', dtype=torch.float64)\n"
     ]
    },
    {
     "name": "stderr",
     "output_type": "stream",
     "text": [
      "100%|██████████| 40/40 [00:00<00:00, 62.43it/s]\n",
      "100%|██████████| 8/8 [00:00<00:00, 74.83it/s]\n"
     ]
    },
    {
     "name": "stdout",
     "output_type": "stream",
     "text": [
      "13 tensor(0.5900, device='cuda:0', dtype=torch.float64)\n"
     ]
    },
    {
     "name": "stderr",
     "output_type": "stream",
     "text": [
      "100%|██████████| 40/40 [00:00<00:00, 62.11it/s]\n",
      "100%|██████████| 8/8 [00:00<00:00, 73.48it/s]\n"
     ]
    },
    {
     "name": "stdout",
     "output_type": "stream",
     "text": [
      "14 tensor(0.6260, device='cuda:0', dtype=torch.float64)\n"
     ]
    },
    {
     "name": "stderr",
     "output_type": "stream",
     "text": [
      "100%|██████████| 40/40 [00:00<00:00, 62.56it/s]\n",
      "100%|██████████| 8/8 [00:00<00:00, 74.98it/s]\n"
     ]
    },
    {
     "name": "stdout",
     "output_type": "stream",
     "text": [
      "15 tensor(0.6420, device='cuda:0', dtype=torch.float64)\n"
     ]
    },
    {
     "name": "stderr",
     "output_type": "stream",
     "text": [
      "100%|██████████| 40/40 [00:00<00:00, 62.40it/s]\n",
      "100%|██████████| 8/8 [00:00<00:00, 73.49it/s]\n"
     ]
    },
    {
     "name": "stdout",
     "output_type": "stream",
     "text": [
      "16 tensor(0.6520, device='cuda:0', dtype=torch.float64)\n"
     ]
    },
    {
     "name": "stderr",
     "output_type": "stream",
     "text": [
      "100%|██████████| 40/40 [00:00<00:00, 63.33it/s]\n",
      "100%|██████████| 8/8 [00:00<00:00, 78.34it/s]\n"
     ]
    },
    {
     "name": "stdout",
     "output_type": "stream",
     "text": [
      "17 tensor(0.6580, device='cuda:0', dtype=torch.float64)\n"
     ]
    },
    {
     "name": "stderr",
     "output_type": "stream",
     "text": [
      "100%|██████████| 40/40 [00:00<00:00, 64.71it/s]\n",
      "100%|██████████| 8/8 [00:00<00:00, 78.17it/s]\n"
     ]
    },
    {
     "name": "stdout",
     "output_type": "stream",
     "text": [
      "18 tensor(0.6920, device='cuda:0', dtype=torch.float64)\n"
     ]
    },
    {
     "name": "stderr",
     "output_type": "stream",
     "text": [
      "100%|██████████| 40/40 [00:00<00:00, 63.99it/s]\n",
      "100%|██████████| 8/8 [00:00<00:00, 75.76it/s]\n"
     ]
    },
    {
     "name": "stdout",
     "output_type": "stream",
     "text": [
      "19 tensor(0.7140, device='cuda:0', dtype=torch.float64)\n"
     ]
    },
    {
     "name": "stderr",
     "output_type": "stream",
     "text": [
      "100%|██████████| 40/40 [00:00<00:00, 61.48it/s]\n",
      "100%|██████████| 8/8 [00:00<00:00, 61.84it/s]\n"
     ]
    },
    {
     "name": "stdout",
     "output_type": "stream",
     "text": [
      "20 tensor(0.7240, device='cuda:0', dtype=torch.float64)\n"
     ]
    },
    {
     "name": "stderr",
     "output_type": "stream",
     "text": [
      "100%|██████████| 40/40 [00:00<00:00, 63.39it/s]\n",
      "100%|██████████| 8/8 [00:00<00:00, 73.31it/s]\n"
     ]
    },
    {
     "name": "stdout",
     "output_type": "stream",
     "text": [
      "21 tensor(0.7360, device='cuda:0', dtype=torch.float64)\n"
     ]
    },
    {
     "name": "stderr",
     "output_type": "stream",
     "text": [
      "100%|██████████| 40/40 [00:00<00:00, 54.99it/s]\n",
      "100%|██████████| 8/8 [00:00<00:00, 65.07it/s]\n"
     ]
    },
    {
     "name": "stdout",
     "output_type": "stream",
     "text": [
      "22 tensor(0.7660, device='cuda:0', dtype=torch.float64)\n"
     ]
    },
    {
     "name": "stderr",
     "output_type": "stream",
     "text": [
      "100%|██████████| 40/40 [00:00<00:00, 55.00it/s]\n",
      "100%|██████████| 8/8 [00:00<00:00, 65.02it/s]\n"
     ]
    },
    {
     "name": "stdout",
     "output_type": "stream",
     "text": [
      "23 tensor(0.7900, device='cuda:0', dtype=torch.float64)\n"
     ]
    },
    {
     "name": "stderr",
     "output_type": "stream",
     "text": [
      "100%|██████████| 40/40 [00:00<00:00, 55.24it/s]\n",
      "100%|██████████| 8/8 [00:00<00:00, 65.59it/s]\n"
     ]
    },
    {
     "name": "stdout",
     "output_type": "stream",
     "text": [
      "24 tensor(0.8040, device='cuda:0', dtype=torch.float64)\n"
     ]
    },
    {
     "name": "stderr",
     "output_type": "stream",
     "text": [
      "100%|██████████| 40/40 [00:00<00:00, 55.25it/s]\n",
      "100%|██████████| 8/8 [00:00<00:00, 65.69it/s]\n",
      "100%|██████████| 40/40 [00:00<00:00, 55.25it/s]\n",
      "100%|██████████| 8/8 [00:00<00:00, 65.15it/s]\n"
     ]
    },
    {
     "name": "stdout",
     "output_type": "stream",
     "text": [
      "26 tensor(0.8140, device='cuda:0', dtype=torch.float64)\n"
     ]
    },
    {
     "name": "stderr",
     "output_type": "stream",
     "text": [
      "100%|██████████| 40/40 [00:00<00:00, 55.38it/s]\n",
      "100%|██████████| 8/8 [00:00<00:00, 65.19it/s]\n"
     ]
    },
    {
     "name": "stdout",
     "output_type": "stream",
     "text": [
      "27 tensor(0.8420, device='cuda:0', dtype=torch.float64)\n"
     ]
    },
    {
     "name": "stderr",
     "output_type": "stream",
     "text": [
      "100%|██████████| 40/40 [00:00<00:00, 55.22it/s]\n",
      "100%|██████████| 8/8 [00:00<00:00, 65.38it/s]\n",
      "100%|██████████| 40/40 [00:00<00:00, 55.42it/s]\n",
      "100%|██████████| 8/8 [00:00<00:00, 64.95it/s]\n"
     ]
    },
    {
     "name": "stdout",
     "output_type": "stream",
     "text": [
      "29 tensor(0.8500, device='cuda:0', dtype=torch.float64)\n"
     ]
    },
    {
     "name": "stderr",
     "output_type": "stream",
     "text": [
      "100%|██████████| 40/40 [00:00<00:00, 54.47it/s]\n",
      "100%|██████████| 8/8 [00:00<00:00, 58.92it/s]\n",
      "100%|██████████| 40/40 [00:00<00:00, 62.54it/s]\n",
      "100%|██████████| 8/8 [00:00<00:00, 76.94it/s]\n",
      "100%|██████████| 40/40 [00:00<00:00, 57.35it/s]\n",
      "100%|██████████| 8/8 [00:00<00:00, 76.96it/s]\n"
     ]
    },
    {
     "name": "stdout",
     "output_type": "stream",
     "text": [
      "32 tensor(0.8580, device='cuda:0', dtype=torch.float64)\n"
     ]
    },
    {
     "name": "stderr",
     "output_type": "stream",
     "text": [
      "100%|██████████| 40/40 [00:00<00:00, 63.81it/s]\n",
      "100%|██████████| 8/8 [00:00<00:00, 76.10it/s]\n"
     ]
    },
    {
     "name": "stdout",
     "output_type": "stream",
     "text": [
      "33 tensor(0.8740, device='cuda:0', dtype=torch.float64)\n"
     ]
    },
    {
     "name": "stderr",
     "output_type": "stream",
     "text": [
      "100%|██████████| 40/40 [00:00<00:00, 64.39it/s]\n",
      "100%|██████████| 8/8 [00:00<00:00, 75.65it/s]\n"
     ]
    },
    {
     "name": "stdout",
     "output_type": "stream",
     "text": [
      "34 tensor(0.8880, device='cuda:0', dtype=torch.float64)\n"
     ]
    },
    {
     "name": "stderr",
     "output_type": "stream",
     "text": [
      "100%|██████████| 40/40 [00:00<00:00, 64.06it/s]\n",
      "100%|██████████| 8/8 [00:00<00:00, 76.38it/s]\n",
      "100%|██████████| 40/40 [00:00<00:00, 64.32it/s]\n",
      "100%|██████████| 8/8 [00:00<00:00, 76.55it/s]\n"
     ]
    },
    {
     "name": "stdout",
     "output_type": "stream",
     "text": [
      "36 tensor(0.8900, device='cuda:0', dtype=torch.float64)\n"
     ]
    },
    {
     "name": "stderr",
     "output_type": "stream",
     "text": [
      "100%|██████████| 40/40 [00:00<00:00, 64.13it/s]\n",
      "100%|██████████| 8/8 [00:00<00:00, 76.26it/s]\n"
     ]
    },
    {
     "name": "stdout",
     "output_type": "stream",
     "text": [
      "37 tensor(0.8940, device='cuda:0', dtype=torch.float64)\n"
     ]
    },
    {
     "name": "stderr",
     "output_type": "stream",
     "text": [
      "100%|██████████| 40/40 [00:00<00:00, 64.26it/s]\n",
      "100%|██████████| 8/8 [00:00<00:00, 76.08it/s]\n",
      "100%|██████████| 40/40 [00:00<00:00, 64.18it/s]\n",
      "100%|██████████| 8/8 [00:00<00:00, 77.24it/s]\n"
     ]
    },
    {
     "name": "stdout",
     "output_type": "stream",
     "text": [
      "39 tensor(0.9000, device='cuda:0', dtype=torch.float64)\n",
      "tensor(0.9000, device='cuda:0', dtype=torch.float64)\n",
      "2500 500\n",
      "TAILLE dataset {'train': 2500, 'val': 500}\n",
      "DATASET SIZE {'train': 2500, 'val': 500}\n"
     ]
    },
    {
     "name": "stderr",
     "output_type": "stream",
     "text": [
      "100%|██████████| 40/40 [00:00<00:00, 59.23it/s]\n",
      "100%|██████████| 8/8 [00:00<00:00, 76.72it/s]\n"
     ]
    },
    {
     "name": "stdout",
     "output_type": "stream",
     "text": [
      "0 tensor(0.1060, device='cuda:0', dtype=torch.float64)\n"
     ]
    },
    {
     "name": "stderr",
     "output_type": "stream",
     "text": [
      "100%|██████████| 40/40 [00:00<00:00, 64.60it/s]\n",
      "100%|██████████| 8/8 [00:00<00:00, 75.86it/s]\n"
     ]
    },
    {
     "name": "stdout",
     "output_type": "stream",
     "text": [
      "1 tensor(0.1240, device='cuda:0', dtype=torch.float64)\n"
     ]
    },
    {
     "name": "stderr",
     "output_type": "stream",
     "text": [
      "100%|██████████| 40/40 [00:00<00:00, 62.76it/s]\n",
      "100%|██████████| 8/8 [00:00<00:00, 74.68it/s]\n"
     ]
    },
    {
     "name": "stdout",
     "output_type": "stream",
     "text": [
      "2 tensor(0.1400, device='cuda:0', dtype=torch.float64)\n"
     ]
    },
    {
     "name": "stderr",
     "output_type": "stream",
     "text": [
      "100%|██████████| 40/40 [00:00<00:00, 63.06it/s]\n",
      "100%|██████████| 8/8 [00:00<00:00, 49.95it/s]\n"
     ]
    },
    {
     "name": "stdout",
     "output_type": "stream",
     "text": [
      "3 tensor(0.1600, device='cuda:0', dtype=torch.float64)\n"
     ]
    },
    {
     "name": "stderr",
     "output_type": "stream",
     "text": [
      "100%|██████████| 40/40 [00:00<00:00, 55.02it/s]\n",
      "100%|██████████| 8/8 [00:00<00:00, 65.34it/s]\n"
     ]
    },
    {
     "name": "stdout",
     "output_type": "stream",
     "text": [
      "4 tensor(0.2220, device='cuda:0', dtype=torch.float64)\n"
     ]
    },
    {
     "name": "stderr",
     "output_type": "stream",
     "text": [
      "100%|██████████| 40/40 [00:00<00:00, 54.27it/s]\n",
      "100%|██████████| 8/8 [00:00<00:00, 64.73it/s]\n"
     ]
    },
    {
     "name": "stdout",
     "output_type": "stream",
     "text": [
      "5 tensor(0.3080, device='cuda:0', dtype=torch.float64)\n"
     ]
    },
    {
     "name": "stderr",
     "output_type": "stream",
     "text": [
      "100%|██████████| 40/40 [00:00<00:00, 49.72it/s]\n",
      "100%|██████████| 8/8 [00:00<00:00, 69.33it/s]\n"
     ]
    },
    {
     "name": "stdout",
     "output_type": "stream",
     "text": [
      "6 tensor(0.3760, device='cuda:0', dtype=torch.float64)\n"
     ]
    },
    {
     "name": "stderr",
     "output_type": "stream",
     "text": [
      "100%|██████████| 40/40 [00:00<00:00, 62.86it/s]\n",
      "100%|██████████| 8/8 [00:00<00:00, 77.13it/s]\n"
     ]
    },
    {
     "name": "stdout",
     "output_type": "stream",
     "text": [
      "7 tensor(0.4480, device='cuda:0', dtype=torch.float64)\n"
     ]
    },
    {
     "name": "stderr",
     "output_type": "stream",
     "text": [
      "100%|██████████| 40/40 [00:00<00:00, 62.90it/s]\n",
      "100%|██████████| 8/8 [00:00<00:00, 75.56it/s]\n"
     ]
    },
    {
     "name": "stdout",
     "output_type": "stream",
     "text": [
      "8 tensor(0.4940, device='cuda:0', dtype=torch.float64)\n"
     ]
    },
    {
     "name": "stderr",
     "output_type": "stream",
     "text": [
      "100%|██████████| 40/40 [00:00<00:00, 63.39it/s]\n",
      "100%|██████████| 8/8 [00:00<00:00, 76.75it/s]\n"
     ]
    },
    {
     "name": "stdout",
     "output_type": "stream",
     "text": [
      "9 tensor(0.5280, device='cuda:0', dtype=torch.float64)\n"
     ]
    },
    {
     "name": "stderr",
     "output_type": "stream",
     "text": [
      "100%|██████████| 40/40 [00:00<00:00, 63.03it/s]\n",
      "100%|██████████| 8/8 [00:00<00:00, 76.39it/s]\n"
     ]
    },
    {
     "name": "stdout",
     "output_type": "stream",
     "text": [
      "10 tensor(0.5680, device='cuda:0', dtype=torch.float64)\n"
     ]
    },
    {
     "name": "stderr",
     "output_type": "stream",
     "text": [
      "100%|██████████| 40/40 [00:00<00:00, 61.01it/s]\n",
      "100%|██████████| 8/8 [00:00<00:00, 74.92it/s]\n"
     ]
    },
    {
     "name": "stdout",
     "output_type": "stream",
     "text": [
      "11 tensor(0.6340, device='cuda:0', dtype=torch.float64)\n"
     ]
    },
    {
     "name": "stderr",
     "output_type": "stream",
     "text": [
      "100%|██████████| 40/40 [00:00<00:00, 63.08it/s]\n",
      "100%|██████████| 8/8 [00:00<00:00, 76.92it/s]\n"
     ]
    },
    {
     "name": "stdout",
     "output_type": "stream",
     "text": [
      "12 tensor(0.6780, device='cuda:0', dtype=torch.float64)\n"
     ]
    },
    {
     "name": "stderr",
     "output_type": "stream",
     "text": [
      "100%|██████████| 40/40 [00:00<00:00, 63.09it/s]\n",
      "100%|██████████| 8/8 [00:00<00:00, 76.26it/s]\n"
     ]
    },
    {
     "name": "stdout",
     "output_type": "stream",
     "text": [
      "13 tensor(0.6860, device='cuda:0', dtype=torch.float64)\n"
     ]
    },
    {
     "name": "stderr",
     "output_type": "stream",
     "text": [
      "100%|██████████| 40/40 [00:00<00:00, 60.15it/s]\n",
      "100%|██████████| 8/8 [00:00<00:00, 77.00it/s]\n"
     ]
    },
    {
     "name": "stdout",
     "output_type": "stream",
     "text": [
      "14 tensor(0.6980, device='cuda:0', dtype=torch.float64)\n"
     ]
    },
    {
     "name": "stderr",
     "output_type": "stream",
     "text": [
      "100%|██████████| 40/40 [00:00<00:00, 62.05it/s]\n",
      "100%|██████████| 8/8 [00:00<00:00, 73.73it/s]\n"
     ]
    },
    {
     "name": "stdout",
     "output_type": "stream",
     "text": [
      "15 tensor(0.7100, device='cuda:0', dtype=torch.float64)\n"
     ]
    },
    {
     "name": "stderr",
     "output_type": "stream",
     "text": [
      "100%|██████████| 40/40 [00:00<00:00, 62.97it/s]\n",
      "100%|██████████| 8/8 [00:00<00:00, 75.71it/s]\n"
     ]
    },
    {
     "name": "stdout",
     "output_type": "stream",
     "text": [
      "16 tensor(0.7320, device='cuda:0', dtype=torch.float64)\n"
     ]
    },
    {
     "name": "stderr",
     "output_type": "stream",
     "text": [
      "100%|██████████| 40/40 [00:00<00:00, 63.40it/s]\n",
      "100%|██████████| 8/8 [00:00<00:00, 77.11it/s]\n"
     ]
    },
    {
     "name": "stdout",
     "output_type": "stream",
     "text": [
      "17 tensor(0.7360, device='cuda:0', dtype=torch.float64)\n"
     ]
    },
    {
     "name": "stderr",
     "output_type": "stream",
     "text": [
      "100%|██████████| 40/40 [00:00<00:00, 62.68it/s]\n",
      "100%|██████████| 8/8 [00:00<00:00, 76.74it/s]\n"
     ]
    },
    {
     "name": "stdout",
     "output_type": "stream",
     "text": [
      "18 tensor(0.7420, device='cuda:0', dtype=torch.float64)\n"
     ]
    },
    {
     "name": "stderr",
     "output_type": "stream",
     "text": [
      "100%|██████████| 40/40 [00:00<00:00, 63.15it/s]\n",
      "100%|██████████| 8/8 [00:00<00:00, 77.24it/s]\n"
     ]
    },
    {
     "name": "stdout",
     "output_type": "stream",
     "text": [
      "19 tensor(0.7520, device='cuda:0', dtype=torch.float64)\n"
     ]
    },
    {
     "name": "stderr",
     "output_type": "stream",
     "text": [
      "100%|██████████| 40/40 [00:00<00:00, 63.40it/s]\n",
      "100%|██████████| 8/8 [00:00<00:00, 76.99it/s]\n"
     ]
    },
    {
     "name": "stdout",
     "output_type": "stream",
     "text": [
      "20 tensor(0.7740, device='cuda:0', dtype=torch.float64)\n"
     ]
    },
    {
     "name": "stderr",
     "output_type": "stream",
     "text": [
      "100%|██████████| 40/40 [00:00<00:00, 63.47it/s]\n",
      "100%|██████████| 8/8 [00:00<00:00, 76.12it/s]\n"
     ]
    },
    {
     "name": "stdout",
     "output_type": "stream",
     "text": [
      "21 tensor(0.7760, device='cuda:0', dtype=torch.float64)\n"
     ]
    },
    {
     "name": "stderr",
     "output_type": "stream",
     "text": [
      "100%|██████████| 40/40 [00:00<00:00, 63.65it/s]\n",
      "100%|██████████| 8/8 [00:00<00:00, 76.93it/s]\n"
     ]
    },
    {
     "name": "stdout",
     "output_type": "stream",
     "text": [
      "22 tensor(0.7880, device='cuda:0', dtype=torch.float64)\n"
     ]
    },
    {
     "name": "stderr",
     "output_type": "stream",
     "text": [
      "100%|██████████| 40/40 [00:00<00:00, 62.98it/s]\n",
      "100%|██████████| 8/8 [00:00<00:00, 75.51it/s]\n"
     ]
    },
    {
     "name": "stdout",
     "output_type": "stream",
     "text": [
      "23 tensor(0.8100, device='cuda:0', dtype=torch.float64)\n"
     ]
    },
    {
     "name": "stderr",
     "output_type": "stream",
     "text": [
      "100%|██████████| 40/40 [00:00<00:00, 62.56it/s]\n",
      "100%|██████████| 8/8 [00:00<00:00, 75.16it/s]\n",
      "100%|██████████| 40/40 [00:00<00:00, 62.40it/s]\n",
      "100%|██████████| 8/8 [00:00<00:00, 76.40it/s]\n"
     ]
    },
    {
     "name": "stdout",
     "output_type": "stream",
     "text": [
      "25 tensor(0.8460, device='cuda:0', dtype=torch.float64)\n"
     ]
    },
    {
     "name": "stderr",
     "output_type": "stream",
     "text": [
      "100%|██████████| 40/40 [00:00<00:00, 63.07it/s]\n",
      "100%|██████████| 8/8 [00:00<00:00, 75.22it/s]\n",
      "100%|██████████| 40/40 [00:00<00:00, 62.91it/s]\n",
      "100%|██████████| 8/8 [00:00<00:00, 73.43it/s]\n"
     ]
    },
    {
     "name": "stdout",
     "output_type": "stream",
     "text": [
      "27 tensor(0.8640, device='cuda:0', dtype=torch.float64)\n"
     ]
    },
    {
     "name": "stderr",
     "output_type": "stream",
     "text": [
      "100%|██████████| 40/40 [00:00<00:00, 63.27it/s]\n",
      "100%|██████████| 8/8 [00:00<00:00, 75.45it/s]\n",
      "100%|██████████| 40/40 [00:00<00:00, 63.19it/s]\n",
      "100%|██████████| 8/8 [00:00<00:00, 74.45it/s]\n"
     ]
    },
    {
     "name": "stdout",
     "output_type": "stream",
     "text": [
      "29 tensor(0.8740, device='cuda:0', dtype=torch.float64)\n"
     ]
    },
    {
     "name": "stderr",
     "output_type": "stream",
     "text": [
      "100%|██████████| 40/40 [00:00<00:00, 62.81it/s]\n",
      "100%|██████████| 8/8 [00:00<00:00, 76.05it/s]\n"
     ]
    },
    {
     "name": "stdout",
     "output_type": "stream",
     "text": [
      "30 tensor(0.8900, device='cuda:0', dtype=torch.float64)\n"
     ]
    },
    {
     "name": "stderr",
     "output_type": "stream",
     "text": [
      "100%|██████████| 40/40 [00:00<00:00, 62.80it/s]\n",
      "100%|██████████| 8/8 [00:00<00:00, 74.97it/s]\n",
      "100%|██████████| 40/40 [00:00<00:00, 62.74it/s]\n",
      "100%|██████████| 8/8 [00:00<00:00, 76.33it/s]\n",
      "100%|██████████| 40/40 [00:00<00:00, 62.90it/s]\n",
      "100%|██████████| 8/8 [00:00<00:00, 75.67it/s]\n",
      "100%|██████████| 40/40 [00:00<00:00, 63.14it/s]\n",
      "100%|██████████| 8/8 [00:00<00:00, 76.67it/s]\n",
      "100%|██████████| 40/40 [00:00<00:00, 60.76it/s]\n",
      "100%|██████████| 8/8 [00:00<00:00, 58.03it/s]\n"
     ]
    },
    {
     "name": "stdout",
     "output_type": "stream",
     "text": [
      "35 tensor(0.9100, device='cuda:0', dtype=torch.float64)\n"
     ]
    },
    {
     "name": "stderr",
     "output_type": "stream",
     "text": [
      "100%|██████████| 40/40 [00:00<00:00, 61.08it/s]\n",
      "100%|██████████| 8/8 [00:00<00:00, 74.81it/s]\n",
      "100%|██████████| 40/40 [00:00<00:00, 63.77it/s]\n",
      "100%|██████████| 8/8 [00:00<00:00, 77.83it/s]\n",
      "100%|██████████| 40/40 [00:00<00:00, 64.10it/s]\n",
      "100%|██████████| 8/8 [00:00<00:00, 77.77it/s]\n",
      "100%|██████████| 40/40 [00:00<00:00, 63.44it/s]\n",
      "100%|██████████| 8/8 [00:00<00:00, 78.12it/s]"
     ]
    },
    {
     "name": "stdout",
     "output_type": "stream",
     "text": [
      "39 tensor(0.9140, device='cuda:0', dtype=torch.float64)\n",
      "tensor(0.9140, device='cuda:0', dtype=torch.float64)\n",
      "Finished Shadow Model Training\n"
     ]
    },
    {
     "name": "stderr",
     "output_type": "stream",
     "text": [
      "\n"
     ]
    }
   ],
   "source": [
    "data_train_set = []\n",
    "label_train_set = []\n",
    "\n",
    "for num_model_shadow in range(20):\n",
    "    ############# Train 20 shadow models each 40 epochs and get their output dataset and label_set for MIA\n",
    "    ############# Store them in data_train_set and label_train_set\n",
    "    ############# Shadow model can also use Net_mnist\n",
    "    ############# The training optimization setting and scheduler can following the target model's setting\n",
    "    ############# Point 5\n",
    "    \n",
    "    data_train_shadow = custum_MNIST(False, num_model_shadow, '../data', train=True, download=True,\n",
    "                   transform=transforms.Compose([\n",
    "                       transforms.ToTensor(),\n",
    "                       transforms.Normalize((0.1307,), (0.3081,))\n",
    "                   ]))\n",
    "    data_test_shadow = custum_MNIST(False, num_model_shadow, '../data', train=False, transform=transforms.Compose([\n",
    "                       transforms.ToTensor(),\n",
    "                       transforms.Normalize((0.1307,), (0.3081,))\n",
    "                   ]))\n",
    "    print(len(data_train_shadow), len(data_test_shadow))\n",
    "    \n",
    "    criterion = nn.CrossEntropyLoss()\n",
    "    train_loader_shadow = torch.utils.data.DataLoader(data_train_shadow, batch_size=64, shuffle=True)\n",
    "    test_loader_shadow = torch.utils.data.DataLoader(data_test_shadow, batch_size=64, shuffle=True)\n",
    "    dataloaders_shadow = {\"train\": train_loader_shadow, \"val\": test_loader_shadow}\n",
    "    dataset_sizes_shadow = {\"train\": len(data_train_shadow), \"val\": len(data_test_shadow)}\n",
    "    print(\"TAILLE dataset\", dataset_sizes_shadow)\n",
    "    model_shadow = Net_mnist().to(device)\n",
    "    optimizer = optim.SGD(model_shadow.parameters(), lr=0.001, momentum=0.5)\n",
    "    exp_lr_scheduler = None\n",
    "\n",
    "    model_shadow, best_acc_shadow, data_train, label_train = train(model_shadow, criterion, optimizer, exp_lr_scheduler, dataloaders_shadow, dataset_sizes_shadow,\n",
    "                           num_epochs=40)\n",
    "\n",
    "    print(best_acc_shadow)\n",
    "    data_train_set.append(data_train)\n",
    "    label_train_set.append(label_train)\n",
    "\n",
    "print(\"Finished Shadow Model Training\")"
   ]
  },
  {
   "cell_type": "markdown",
   "id": "9655e94d",
   "metadata": {},
   "source": [
    "<h3>Process datasets</h3>"
   ]
  },
  {
   "cell_type": "code",
   "execution_count": 10,
   "id": "dc887e8d",
   "metadata": {
    "tags": []
   },
   "outputs": [
    {
     "name": "stdout",
     "output_type": "stream",
     "text": [
      "Finished Shadow Dataset Generation\n"
     ]
    }
   ],
   "source": [
    "data_train_set = np.concatenate(data_train_set)\n",
    "label_train_set = np.concatenate(label_train_set)\n",
    "data_train_set, label_train_set = shuffle(data_train_set, label_train_set, random_state=42)\n",
    "data_test_set, label_test_set = shuffle(data_test_set, label_test_set, random_state=42)\n",
    "print(\"Finished Shadow Dataset Generation\")"
   ]
  },
  {
   "cell_type": "markdown",
   "id": "e8a1b1c2",
   "metadata": {},
   "source": [
    "<h3>Use lightgbm to attack</h3>"
   ]
  },
  {
   "cell_type": "code",
   "execution_count": 11,
   "id": "fca156bb",
   "metadata": {
    "tags": []
   },
   "outputs": [
    {
     "name": "stdout",
     "output_type": "stream",
     "text": [
      "Start Fit\n",
      "Finish Fit\n"
     ]
    }
   ],
   "source": [
    "import lightgbm as lgb\n",
    "model = lgb.LGBMClassifier(objective='binary', reg_lambda=10, n_estimators=10000)\n",
    "print(\"Start Fit\")\n",
    "model.fit(data_train_set, label_train_set)\n",
    "print(\"Finish Fit\")\n",
    "y_pred_lgbm = model.predict(data_test_set)"
   ]
  },
  {
   "cell_type": "markdown",
   "id": "ebf33912",
   "metadata": {},
   "source": [
    "<h3>Get acc, should larger than 85%</h3>"
   ]
  },
  {
   "cell_type": "code",
   "execution_count": 12,
   "id": "fbd584a4",
   "metadata": {
    "tags": []
   },
   "outputs": [
    {
     "name": "stdout",
     "output_type": "stream",
     "text": [
      "0.94472\n"
     ]
    }
   ],
   "source": [
    "print((y_pred_lgbm==label_test_set).sum()/(label_test_set).sum())"
   ]
  },
  {
   "cell_type": "code",
   "execution_count": null,
   "id": "73542a4b",
   "metadata": {},
   "outputs": [],
   "source": []
  },
  {
   "cell_type": "code",
   "execution_count": null,
   "id": "993ddb59",
   "metadata": {},
   "outputs": [],
   "source": []
  },
  {
   "cell_type": "code",
   "execution_count": null,
   "id": "fb0e9c47",
   "metadata": {},
   "outputs": [],
   "source": []
  }
 ],
 "metadata": {
  "kernelspec": {
   "display_name": "Python 3 (ipykernel)",
   "language": "python",
   "name": "python3"
  },
  "language_info": {
   "codemirror_mode": {
    "name": "ipython",
    "version": 3
   },
   "file_extension": ".py",
   "mimetype": "text/x-python",
   "name": "python",
   "nbconvert_exporter": "python",
   "pygments_lexer": "ipython3",
   "version": "3.7.10"
  }
 },
 "nbformat": 4,
 "nbformat_minor": 5
}
