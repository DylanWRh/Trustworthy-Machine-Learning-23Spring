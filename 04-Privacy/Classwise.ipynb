{
 "cells": [
  {
   "cell_type": "markdown",
   "metadata": {},
   "source": [
    "<h2>Creating Class-wise Unlearnable Examples</h2>"
   ]
  },
  {
   "cell_type": "markdown",
   "metadata": {
    "tags": []
   },
   "source": [
    "<h3>Prepare Data</h3>"
   ]
  },
  {
   "cell_type": "code",
   "execution_count": 1,
   "metadata": {
    "tags": []
   },
   "outputs": [
    {
     "name": "stdout",
     "output_type": "stream",
     "text": [
      "Files already downloaded and verified\n",
      "Files already downloaded and verified\n"
     ]
    }
   ],
   "source": [
    "import os\n",
    "import torch\n",
    "import torchvision\n",
    "from torch.utils.data import DataLoader\n",
    "from torchvision import datasets, transforms\n",
    "\n",
    "# Prepare Dataset\n",
    "train_transform = [\n",
    "    transforms.ToTensor()\n",
    "]\n",
    "test_transform = [\n",
    "    transforms.ToTensor()\n",
    "]\n",
    "train_transform = transforms.Compose(train_transform)\n",
    "test_transform = transforms.Compose(test_transform)\n",
    "\n",
    "clean_train_dataset = datasets.CIFAR10(root='./data1/mjli/Code/kerdeq/data/', train=True, download=True, transform=train_transform)\n",
    "clean_test_dataset = datasets.CIFAR10(root='./data1/mjli/Code/kerdeq/data/', train=False, download=True, transform=test_transform)\n",
    "\n",
    "clean_train_loader = DataLoader(dataset=clean_train_dataset, batch_size=512,\n",
    "                                shuffle=False, pin_memory=True,\n",
    "                                drop_last=False, num_workers=6)\n",
    "clean_test_loader = DataLoader(dataset=clean_test_dataset, batch_size=512,\n",
    "                                shuffle=False, pin_memory=True,\n",
    "                                drop_last=False, num_workers=6)"
   ]
  },
  {
   "cell_type": "markdown",
   "metadata": {
    "tags": []
   },
   "source": [
    "<h3>Prepare Model</h3>"
   ]
  },
  {
   "cell_type": "code",
   "execution_count": 2,
   "metadata": {
    "tags": []
   },
   "outputs": [],
   "source": [
    "from models.ResNet import ResNet18\n",
    "\n",
    "torch.backends.cudnn.enabled = True\n",
    "torch.backends.cudnn.benchmark = True\n",
    "\n",
    "base_model = ResNet18()\n",
    "base_model = base_model.cuda()\n",
    "criterion = torch.nn.CrossEntropyLoss()\n",
    "optimizer = torch.optim.SGD(params=base_model.parameters(), lr=0.1, weight_decay=0.0005, momentum=0.9)\n",
    "\n"
   ]
  },
  {
   "cell_type": "markdown",
   "metadata": {
    "tags": []
   },
   "source": [
    "<h3>Prepare Perturbation Generator Tool</h3>"
   ]
  },
  {
   "cell_type": "code",
   "execution_count": 3,
   "metadata": {
    "tags": []
   },
   "outputs": [],
   "source": [
    "import numpy as np\n",
    "from torch.autograd import Variable\n",
    "\n",
    "if torch.cuda.is_available():\n",
    "    device = torch.device('cuda')\n",
    "else:\n",
    "    device = torch.device('cpu')\n",
    "\n",
    "\n",
    "class PerturbationTool():\n",
    "    def __init__(self, seed=0, epsilon=0.03137254901, num_steps=20, step_size=0.00784313725):\n",
    "        self.epsilon = epsilon\n",
    "        self.num_steps = num_steps\n",
    "        self.step_size = step_size\n",
    "        self.seed = seed\n",
    "        np.random.seed(seed)\n",
    "\n",
    "    def random_noise(self, noise_shape=[10, 3, 32, 32]):\n",
    "        random_noise = torch.FloatTensor(*noise_shape).uniform_(-self.epsilon, self.epsilon).to(device)\n",
    "        return random_noise\n",
    "\n",
    "    def min_min_attack(self, images, labels, model, optimizer, criterion, random_noise=None, sample_wise=False):\n",
    "        if random_noise is None:\n",
    "            random_noise = torch.FloatTensor(*images.shape).uniform_(-self.epsilon, self.epsilon).to(device)\n",
    "\n",
    "        perturb_img = Variable(images.data + random_noise, requires_grad=True)\n",
    "        perturb_img = Variable(torch.clamp(perturb_img, 0, 1), requires_grad=True)\n",
    "        eta = random_noise\n",
    "        for _ in range(self.num_steps):\n",
    "            opt = torch.optim.SGD([perturb_img], lr=1e-3)\n",
    "            opt.zero_grad()\n",
    "            model.zero_grad()\n",
    "            if isinstance(criterion, torch.nn.CrossEntropyLoss):\n",
    "                if hasattr(model, 'classify'):\n",
    "                    model.classify = True\n",
    "                logits = model(perturb_img)\n",
    "                loss = criterion(logits, labels)\n",
    "            else:\n",
    "                logits, loss = criterion(model, perturb_img, labels, optimizer)\n",
    "            perturb_img.retain_grad()\n",
    "            loss.backward()\n",
    "            eta = self.step_size * perturb_img.grad.data.sign() * (-1)\n",
    "            perturb_img = Variable(perturb_img.data + eta, requires_grad=True)\n",
    "            eta = torch.clamp(perturb_img.data - images.data, -self.epsilon, self.epsilon)\n",
    "            perturb_img = Variable(images.data + eta, requires_grad=True)\n",
    "            perturb_img = Variable(torch.clamp(perturb_img, 0, 1), requires_grad=True)\n",
    "\n",
    "        return perturb_img, eta\n",
    "\n",
    "    \n",
    "noise_generator = PerturbationTool(epsilon=16/255, num_steps=10, step_size=4/255)\n",
    "\n",
    "\n",
    "### Test noise_generator\n",
    "images= torch.randn([1,3,32,32]).cuda()\n",
    "labels= torch.ones([1]).long().cuda()\n",
    "\n",
    "# noise_generator.min_min_attack(images, labels, base_model, optimizer, criterion, \n",
    "#                                                           random_noise=torch.zeros_like(images).cuda())\n"
   ]
  },
  {
   "cell_type": "markdown",
   "metadata": {},
   "source": [
    "<h3>Generate Class-wise Error-Minimizing Noise</h3>"
   ]
  },
  {
   "cell_type": "code",
   "execution_count": 4,
   "metadata": {
    "tags": []
   },
   "outputs": [
    {
     "name": "stderr",
     "output_type": "stream",
     "text": [
      "100%|██████████| 98/98 [04:34<00:00,  2.80s/it]\n"
     ]
    },
    {
     "name": "stdout",
     "output_type": "stream",
     "text": [
      "Accuracy 9.98\n"
     ]
    },
    {
     "name": "stderr",
     "output_type": "stream",
     "text": [
      "100%|██████████| 98/98 [04:25<00:00,  2.71s/it]\n"
     ]
    },
    {
     "name": "stdout",
     "output_type": "stream",
     "text": [
      "Accuracy 16.11\n"
     ]
    },
    {
     "name": "stderr",
     "output_type": "stream",
     "text": [
      "100%|██████████| 98/98 [04:32<00:00,  2.78s/it]\n"
     ]
    },
    {
     "name": "stdout",
     "output_type": "stream",
     "text": [
      "Accuracy 19.05\n"
     ]
    },
    {
     "name": "stderr",
     "output_type": "stream",
     "text": [
      "100%|██████████| 98/98 [04:32<00:00,  2.78s/it]\n"
     ]
    },
    {
     "name": "stdout",
     "output_type": "stream",
     "text": [
      "Accuracy 17.39\n"
     ]
    },
    {
     "name": "stderr",
     "output_type": "stream",
     "text": [
      "100%|██████████| 98/98 [04:32<00:00,  2.78s/it]\n"
     ]
    },
    {
     "name": "stdout",
     "output_type": "stream",
     "text": [
      "Accuracy 36.02\n"
     ]
    },
    {
     "name": "stderr",
     "output_type": "stream",
     "text": [
      "100%|██████████| 98/98 [04:33<00:00,  2.79s/it]\n"
     ]
    },
    {
     "name": "stdout",
     "output_type": "stream",
     "text": [
      "Accuracy 46.66\n"
     ]
    },
    {
     "name": "stderr",
     "output_type": "stream",
     "text": [
      "100%|██████████| 98/98 [04:28<00:00,  2.74s/it]\n"
     ]
    },
    {
     "name": "stdout",
     "output_type": "stream",
     "text": [
      "Accuracy 82.45\n"
     ]
    },
    {
     "name": "stderr",
     "output_type": "stream",
     "text": [
      "100%|██████████| 98/98 [04:31<00:00,  2.77s/it]\n"
     ]
    },
    {
     "name": "stdout",
     "output_type": "stream",
     "text": [
      "Accuracy 93.09\n"
     ]
    }
   ],
   "source": [
    "from tqdm import tqdm\n",
    "import collections\n",
    "\n",
    "### Final noise####\n",
    "noise = torch.zeros([10, 3, 32, 32])\n",
    "\n",
    "data_iter = iter(clean_train_loader)\n",
    "condition = True\n",
    "train_idx = 0\n",
    "\n",
    "while condition:\n",
    "    # optimize base model for 10 steps （train base models with 10 batches）\n",
    "    base_model.train()\n",
    "    for param in base_model.parameters():\n",
    "        param.requires_grad = True\n",
    "    for j in range(0, 10):\n",
    "        #############Optimization of base model on data with noise#################\n",
    "        #####1. each iteration is a batch, you may use next(data_iter) to get images and labels for training\n",
    "        #### Point 2\n",
    "        try:\n",
    "            imgs, labels = next(data_iter)\n",
    "        except:\n",
    "            train_idx = 0\n",
    "            data_iter = iter(clean_train_loader)\n",
    "            imgs, labels = next(data_iter)\n",
    "        imgs = imgs.to(device)\n",
    "        labels = labels.to(device)\n",
    "        imgs_noise = []\n",
    "        for i, (img, label) in enumerate(zip(imgs, labels)):\n",
    "            cls_noise = noise[label.item()]\n",
    "            imgs_noise.append(img.cpu() + cls_noise.cpu())\n",
    "        train_imgs = torch.stack(imgs_noise).to(device)\n",
    "        \n",
    "        base_model.zero_grad()\n",
    "        optimizer.zero_grad()\n",
    "        logits = base_model(train_imgs)\n",
    "        loss = criterion(logits, labels)\n",
    "        loss.backward()\n",
    "        optimizer.step()\n",
    "\n",
    "    # Perturbation over entire dataset\n",
    "    idx = 0\n",
    "    for param in base_model.parameters():\n",
    "        param.requires_grad = False\n",
    "    for i, (images, labels) in tqdm(enumerate(clean_train_loader), total=len(clean_train_loader)):\n",
    "        batch_start_idx, batch_noise = idx, []\n",
    "        tmp_idx = 0\n",
    "        for i, _ in enumerate(images):\n",
    "            # Update noise to images\n",
    "            batch_noise.append(noise[labels[tmp_idx]])\n",
    "            idx += 1\n",
    "            tmp_idx += 1\n",
    "        batch_noise = torch.stack(batch_noise).cuda()\n",
    "        \n",
    "        # Update class-wise perturbation\n",
    "        base_model.eval()\n",
    "        images, labels = images.cuda(), labels.cuda()\n",
    "        perturb_img, eta = noise_generator.min_min_attack(images, labels, base_model, optimizer, criterion, \n",
    "                                                          random_noise=batch_noise)\n",
    "        \n",
    "        #################Update noise by perturb_img or eta####################\n",
    "        #### Point 2\n",
    "        new_noise = torch.zeros([10, 3, 32, 32])\n",
    "        label_count = [0] * 10\n",
    "        for label, delta in zip(labels, eta):\n",
    "            # print(eta.shape, labels.shape)\n",
    "            label_count[label] += 1\n",
    "            new_noise[label] += delta.detach().cpu()\n",
    "        \n",
    "        for label in range(10):\n",
    "            noise[label] = (new_noise[label] / label_count[label]).clone().detach().cpu()\n",
    "            \n",
    "        \n",
    "    # Eval stop condition\n",
    "    eval_idx, total, correct = 0, 0, 0\n",
    "    for i, (images, labels) in enumerate(clean_train_loader):\n",
    "        eval_idx = 0\n",
    "        for i, _ in enumerate(images):\n",
    "            # Update noise to images\n",
    "            images[i] += noise[labels[eval_idx]]\n",
    "            eval_idx += 1\n",
    "        images, labels = images.cuda(), labels.cuda()\n",
    "        with torch.no_grad():\n",
    "            logits = base_model(images)\n",
    "            _, predicted = torch.max(logits.data, 1)\n",
    "            total += labels.size(0)\n",
    "            correct += (predicted == labels).sum().item()\n",
    "    acc = correct / total\n",
    "    print('Accuracy %.2f' % (acc*100))\n",
    "    if acc > 0.9:\n",
    "        condition=False    \n"
   ]
  },
  {
   "cell_type": "code",
   "execution_count": 5,
   "metadata": {},
   "outputs": [
    {
     "name": "stdout",
     "output_type": "stream",
     "text": [
      "tensor([[[[ 4.5752e-02,  5.4715e-02, -1.7997e-02,  ..., -5.0961e-02,\n",
      "           -5.3150e-02, -5.3052e-02],\n",
      "          [-6.1251e-02, -5.7516e-02, -3.5482e-02,  ..., -5.3517e-02,\n",
      "           -5.7187e-02, -5.8749e-02],\n",
      "          [-3.7324e-02,  3.9644e-03,  2.0573e-02,  ..., -4.7476e-02,\n",
      "           -5.0731e-02, -5.4170e-02],\n",
      "          ...,\n",
      "          [ 4.1590e-02,  1.7625e-02,  4.9608e-02,  ...,  1.8801e-03,\n",
      "           -2.1454e-02, -4.6120e-02],\n",
      "          [ 4.4374e-02,  5.2043e-02,  5.2661e-02,  ...,  3.6295e-02,\n",
      "            3.0999e-02, -1.9939e-02],\n",
      "          [ 2.7951e-02,  3.0003e-02,  4.9171e-02,  ...,  4.4914e-02,\n",
      "            4.8463e-02,  1.6823e-02]],\n",
      "\n",
      "         [[-6.1251e-02, -6.1251e-02, -4.7155e-02,  ...,  4.1816e-02,\n",
      "            4.1598e-02,  4.2195e-02],\n",
      "          [-5.7516e-02, -5.8263e-02, -2.5049e-02,  ...,  4.4141e-02,\n",
      "            4.5797e-02,  4.7621e-02],\n",
      "          [-3.8176e-02,  9.8008e-03,  3.8739e-02,  ...,  5.3968e-02,\n",
      "            5.3720e-02,  5.3392e-02],\n",
      "          ...,\n",
      "          [-5.4264e-02, -5.2119e-02, -4.5913e-02,  ...,  3.8282e-02,\n",
      "            4.4897e-02,  5.0894e-02],\n",
      "          [-6.0249e-02, -5.2392e-02, -5.1341e-02,  ...,  2.6652e-02,\n",
      "            4.3754e-02,  4.6113e-02],\n",
      "          [-5.8980e-02, -5.8894e-02, -5.3003e-02,  ..., -1.6849e-02,\n",
      "            1.3816e-02,  2.9130e-02]],\n",
      "\n",
      "         [[ 4.2600e-02,  4.7993e-02,  5.0769e-02,  ..., -7.9574e-03,\n",
      "           -4.8784e-02, -5.0986e-02],\n",
      "          [ 2.5374e-02,  4.9113e-02,  3.3973e-03,  ..., -5.0486e-02,\n",
      "           -5.2703e-02, -5.2605e-02],\n",
      "          [ 1.9848e-02,  2.6798e-02, -4.4315e-02,  ..., -5.3571e-02,\n",
      "           -5.4726e-02, -5.4946e-02],\n",
      "          ...,\n",
      "          [-1.7216e-02,  4.5377e-02, -1.5115e-02,  ..., -4.1376e-02,\n",
      "           -4.9515e-02, -4.8653e-02],\n",
      "          [ 4.6009e-02,  4.5255e-02,  3.0111e-02,  ..., -3.8274e-02,\n",
      "           -4.9916e-02, -5.3914e-02],\n",
      "          [ 4.9544e-02,  5.4189e-02,  4.9536e-02,  ..., -1.0948e-02,\n",
      "           -3.8324e-02, -5.1603e-02]]],\n",
      "\n",
      "\n",
      "        [[[-5.1100e-02, -6.0807e-02, -4.0429e-02,  ..., -1.2255e-02,\n",
      "            4.6576e-03,  9.4442e-03],\n",
      "          [ 5.7041e-02,  5.8186e-02, -2.2230e-02,  ...,  4.8485e-02,\n",
      "            4.8960e-02,  4.8366e-02],\n",
      "          [ 5.1972e-02,  4.7000e-02,  2.3405e-02,  ...,  5.1575e-02,\n",
      "            5.6090e-02,  5.7873e-02],\n",
      "          ...,\n",
      "          [-2.9730e-02, -5.6161e-02, -6.0368e-02,  ..., -6.2270e-02,\n",
      "           -6.2745e-02, -6.2270e-02],\n",
      "          [-2.9701e-02, -2.7820e-02, -4.9142e-02,  ..., -6.2745e-02,\n",
      "           -6.1794e-02, -6.2270e-02],\n",
      "          [-3.8710e-02, -3.4661e-02, -3.2936e-02,  ..., -5.8816e-02,\n",
      "           -5.5305e-02, -5.8467e-02]],\n",
      "\n",
      "         [[ 5.6684e-02,  5.0380e-02,  4.6605e-02,  ...,  7.6472e-03,\n",
      "           -2.1920e-02, -2.9325e-02],\n",
      "          [ 5.6447e-02,  5.9061e-02,  4.3200e-02,  ..., -4.4945e-02,\n",
      "           -5.1812e-02, -5.4336e-02],\n",
      "          [ 3.6009e-02,  2.6749e-02,  2.7631e-02,  ..., -5.3714e-02,\n",
      "           -5.6309e-02, -6.0123e-02],\n",
      "          ...,\n",
      "          [ 4.3930e-02,  4.8020e-02,  4.7908e-02,  ...,  5.2504e-02,\n",
      "            4.4711e-02,  3.6617e-02],\n",
      "          [ 5.2189e-02,  5.4928e-02,  5.7041e-02,  ...,  5.9180e-02,\n",
      "            5.9180e-02,  5.8942e-02],\n",
      "          [ 5.6350e-02,  5.8942e-02,  5.7754e-02,  ...,  5.9537e-02,\n",
      "            5.9893e-02,  5.9893e-02]],\n",
      "\n",
      "         [[-6.1557e-02, -6.2745e-02, -6.0581e-02,  ..., -4.1870e-02,\n",
      "           -4.3984e-02, -4.4106e-02],\n",
      "          [-6.0814e-02, -6.2032e-02, -5.7355e-02,  ..., -4.1345e-02,\n",
      "           -1.9906e-02, -6.4724e-03],\n",
      "          [-4.5478e-02, -4.5919e-02, -4.1806e-02,  ...,  4.0689e-02,\n",
      "            4.7059e-02,  4.7263e-02],\n",
      "          ...,\n",
      "          [-3.8532e-02, -3.6288e-02, -3.9362e-02,  ...,  1.7759e-02,\n",
      "            3.3441e-02,  2.9912e-02],\n",
      "          [-5.0124e-02, -5.0620e-02, -5.1254e-02,  ..., -4.7302e-02,\n",
      "           -3.8336e-02, -3.8204e-02],\n",
      "          [-5.7516e-02, -6.0844e-02, -6.1319e-02,  ..., -6.2745e-02,\n",
      "           -6.2270e-02, -6.2151e-02]]],\n",
      "\n",
      "\n",
      "        [[[ 5.1010e-02, -2.5704e-02, -5.6648e-02,  ..., -4.7850e-02,\n",
      "           -4.5812e-02, -4.8035e-02],\n",
      "          [-3.7728e-02, -5.0265e-02, -4.5049e-02,  ..., -4.2630e-02,\n",
      "           -4.0109e-02, -4.2265e-02],\n",
      "          [ 4.9807e-02,  4.3719e-02,  4.5112e-02,  ...,  9.7623e-05,\n",
      "           -7.5063e-03, -1.6876e-02],\n",
      "          ...,\n",
      "          [ 4.7430e-02,  5.2496e-02,  5.9661e-02,  ...,  4.4323e-02,\n",
      "            2.7397e-02,  3.5382e-02],\n",
      "          [-2.9483e-02,  2.7531e-02,  4.3841e-02,  ...,  4.2403e-02,\n",
      "            3.9334e-02,  3.3115e-02],\n",
      "          [-4.6733e-02, -3.7501e-02, -9.8598e-03,  ...,  3.9761e-02,\n",
      "            3.9524e-02,  4.3253e-02]],\n",
      "\n",
      "         [[ 5.4649e-02,  4.8063e-02,  5.7377e-02,  ...,  4.5576e-02,\n",
      "            4.5902e-02,  4.6071e-02],\n",
      "          [-5.1286e-02, -3.9403e-02,  5.3211e-02,  ...,  4.3446e-02,\n",
      "            4.3615e-02,  4.2985e-02],\n",
      "          [ 1.9166e-02,  2.6854e-02,  2.6255e-02,  ...,  2.9762e-02,\n",
      "            2.8761e-02,  3.2413e-02],\n",
      "          ...,\n",
      "          [-4.9136e-02, -5.1720e-02, -5.5961e-02,  ..., -4.6367e-02,\n",
      "           -4.1765e-02, -3.7031e-02],\n",
      "          [-6.2717e-02, -6.2619e-02, -6.2577e-02,  ..., -3.9784e-02,\n",
      "           -4.1484e-02, -1.1307e-02],\n",
      "          [-5.8316e-02, -5.9571e-02, -5.9048e-02,  ..., -4.7975e-02,\n",
      "           -4.2271e-02, -2.7128e-02]],\n",
      "\n",
      "         [[ 4.3783e-02,  4.2029e-02, -1.5635e-02,  ..., -4.0591e-02,\n",
      "           -3.1927e-02, -4.6435e-02],\n",
      "          [-5.6747e-02, -1.5546e-03, -5.5118e-02,  ..., -5.1302e-02,\n",
      "           -4.6829e-02, -4.7054e-02],\n",
      "          [-5.4590e-02, -5.6964e-02, -5.5538e-02,  ..., -4.7226e-02,\n",
      "           -4.6267e-02, -4.6004e-02],\n",
      "          ...,\n",
      "          [ 3.5108e-02,  4.1683e-02,  3.9562e-02,  ...,  4.3804e-02,\n",
      "            3.9203e-02,  3.4436e-02],\n",
      "          [ 6.0318e-02,  5.9804e-02,  5.9510e-02,  ...,  4.6475e-02,\n",
      "            3.6149e-02,  2.3531e-02],\n",
      "          [ 6.1471e-02,  5.9999e-02,  6.0205e-02,  ...,  3.9949e-02,\n",
      "            4.0377e-02,  4.0879e-02]]],\n",
      "\n",
      "\n",
      "        ...,\n",
      "\n",
      "\n",
      "        [[[ 2.2881e-02,  5.9866e-02,  6.0332e-02,  ...,  6.0533e-02,\n",
      "            6.0030e-02,  5.7717e-02],\n",
      "          [-6.2661e-02, -2.5065e-02, -3.9985e-02,  ...,  2.6485e-02,\n",
      "            3.5710e-02,  5.1584e-02],\n",
      "          [-6.2745e-02, -6.1538e-02, -6.2745e-02,  ..., -6.1464e-02,\n",
      "           -5.8755e-02, -5.5011e-02],\n",
      "          ...,\n",
      "          [ 4.3232e-02,  1.0359e-03,  4.7464e-02,  ...,  1.3154e-02,\n",
      "            8.9385e-04, -1.1205e-02],\n",
      "          [ 6.0854e-02,  6.1238e-02,  6.0557e-02,  ...,  5.5635e-02,\n",
      "            5.3308e-02,  4.3170e-02],\n",
      "          [ 5.4150e-02,  5.6065e-02,  5.6466e-02,  ...,  6.1256e-02,\n",
      "            6.1585e-02,  5.9628e-02]],\n",
      "\n",
      "         [[-6.2745e-02, -6.2745e-02, -6.2544e-02,  ..., -6.2142e-02,\n",
      "           -6.2041e-02, -6.2041e-02],\n",
      "          [-1.5543e-02, -5.0878e-02, -6.2343e-02,  ..., -6.2343e-02,\n",
      "           -6.1538e-02, -6.1438e-02],\n",
      "          [-5.3369e-03, -2.8556e-03,  3.5267e-03,  ..., -2.6643e-02,\n",
      "           -4.9181e-02, -4.7581e-02],\n",
      "          ...,\n",
      "          [-5.3199e-02, -5.0038e-02, -3.2418e-02,  ...,  1.3719e-02,\n",
      "            1.6510e-02,  1.6638e-02],\n",
      "          [-5.6960e-02, -5.3220e-02, -5.0113e-02,  ..., -3.5086e-02,\n",
      "           -2.3772e-02, -2.5467e-02],\n",
      "          [-6.1941e-02, -6.0226e-02, -5.7919e-02,  ..., -4.3700e-02,\n",
      "           -4.3400e-02, -3.5980e-02]],\n",
      "\n",
      "         [[-3.1941e-02,  4.7804e-02,  4.6591e-02,  ...,  4.1528e-02,\n",
      "            2.7554e-02,  4.1126e-02],\n",
      "          [ 5.8924e-02,  5.3135e-02,  5.8220e-02,  ...,  5.7014e-02,\n",
      "            5.5003e-02,  5.5204e-02],\n",
      "          [ 5.6722e-02,  5.5807e-02,  5.4600e-02,  ...,  5.6410e-02,\n",
      "            5.5807e-02,  5.5003e-02],\n",
      "          ...,\n",
      "          [-3.0823e-02,  2.7037e-02, -2.8707e-02,  ..., -3.2022e-02,\n",
      "           -3.7263e-02, -3.5100e-02],\n",
      "          [ 2.6274e-02,  1.9808e-02,  1.1909e-02,  ..., -1.9004e-02,\n",
      "           -2.5476e-02, -2.7204e-02],\n",
      "          [ 5.1732e-02,  5.4713e-02,  5.0353e-02,  ...,  3.6866e-02,\n",
      "            2.9917e-02,  2.3515e-02]]],\n",
      "\n",
      "\n",
      "        [[[ 5.4679e-02,  5.9712e-02, -3.9599e-02,  ..., -4.8573e-02,\n",
      "           -5.1293e-02, -5.2608e-02],\n",
      "          [-6.1151e-02, -6.2289e-02, -5.0610e-02,  ..., -5.2357e-02,\n",
      "           -5.6443e-02, -5.8865e-02],\n",
      "          [-3.7707e-02, -2.6143e-02,  3.1926e-02,  ..., -4.7494e-02,\n",
      "           -4.7974e-02, -5.3975e-02],\n",
      "          ...,\n",
      "          [ 5.3122e-02, -9.2739e-03,  4.1073e-02,  ..., -4.9705e-02,\n",
      "           -5.0010e-02, -5.0026e-02],\n",
      "          [ 4.0853e-02,  3.6067e-02,  5.5039e-02,  ..., -3.2382e-02,\n",
      "           -3.2028e-02, -3.9723e-02],\n",
      "          [ 5.1547e-02,  3.7416e-02,  5.3480e-02,  ...,  1.4714e-02,\n",
      "           -1.1633e-02, -3.4696e-02]],\n",
      "\n",
      "         [[-6.1436e-02, -5.8501e-02, -3.7061e-02,  ...,  4.5053e-02,\n",
      "            4.8472e-02,  5.0316e-02],\n",
      "          [-6.2745e-02, -6.2563e-02,  3.2995e-02,  ...,  5.0782e-02,\n",
      "            5.5809e-02,  5.6369e-02],\n",
      "          [-1.5402e-02,  5.0392e-02,  5.6972e-02,  ...,  5.9640e-02,\n",
      "            6.0374e-02,  6.0264e-02],\n",
      "          ...,\n",
      "          [-4.1533e-02, -3.2397e-02, -1.2027e-02,  ...,  6.0625e-02,\n",
      "            5.9482e-02,  5.9410e-02],\n",
      "          [-3.5177e-02, -2.7378e-02, -2.5755e-02,  ...,  5.9939e-02,\n",
      "            5.9555e-02,  5.9108e-02],\n",
      "          [-5.0981e-02, -4.7724e-02, -1.5271e-02,  ...,  6.1221e-02,\n",
      "            5.9535e-02,  5.9290e-02]],\n",
      "\n",
      "         [[ 5.8094e-02,  5.9006e-02,  5.5379e-02,  ...,  1.3047e-02,\n",
      "           -4.9277e-02, -4.7114e-02],\n",
      "          [-6.4061e-03,  6.0143e-02,  1.1915e-02,  ..., -4.9407e-02,\n",
      "           -4.9460e-02, -5.1281e-02],\n",
      "          [-3.2709e-02, -1.2288e-02, -5.1780e-02,  ..., -5.2889e-02,\n",
      "           -5.4907e-02, -5.7307e-02],\n",
      "          ...,\n",
      "          [-3.9651e-02, -4.0983e-02, -4.9225e-02,  ..., -5.9776e-02,\n",
      "           -5.8926e-02, -5.9694e-02],\n",
      "          [ 1.8439e-02, -1.9344e-02, -3.0569e-02,  ..., -5.8830e-02,\n",
      "           -5.8795e-02, -5.9240e-02],\n",
      "          [-1.8662e-02,  3.1787e-03, -3.2294e-02,  ..., -5.9569e-02,\n",
      "           -5.8653e-02, -6.0017e-02]]],\n",
      "\n",
      "\n",
      "        [[[-2.5450e-02,  4.1736e-02,  3.1700e-02,  ...,  2.0302e-02,\n",
      "            2.1791e-02,  1.9339e-02],\n",
      "          [-5.7916e-02,  1.7862e-02, -4.5164e-02,  ..., -1.1058e-02,\n",
      "           -1.6196e-02,  8.4830e-03],\n",
      "          [-5.3057e-02, -5.2595e-02, -5.0288e-02,  ..., -5.1562e-02,\n",
      "           -4.9811e-02, -4.7210e-02],\n",
      "          ...,\n",
      "          [ 2.6330e-02,  6.4919e-03, -5.6772e-02,  ..., -5.5611e-02,\n",
      "           -5.8289e-02, -5.4113e-02],\n",
      "          [ 4.9384e-02,  1.8212e-02, -7.1082e-03,  ..., -4.9024e-02,\n",
      "           -5.3657e-02, -5.4834e-02],\n",
      "          [ 2.6235e-02,  5.1921e-02,  1.8731e-02,  ..., -1.9445e-02,\n",
      "           -4.4432e-02, -4.5232e-02]],\n",
      "\n",
      "         [[-6.1614e-02, -5.8406e-02, -5.3518e-02,  ..., -4.7215e-02,\n",
      "           -4.8129e-02, -4.7190e-02],\n",
      "          [-1.2179e-02, -2.9516e-02, -4.9977e-02,  ..., -4.5362e-02,\n",
      "           -4.6768e-02, -4.6736e-02],\n",
      "          [ 1.1594e-02,  3.0725e-02,  3.0048e-02,  ...,  2.3602e-02,\n",
      "           -1.3895e-02,  1.1909e-02],\n",
      "          ...,\n",
      "          [ 5.1672e-02,  5.4325e-02,  5.4210e-02,  ...,  5.7030e-02,\n",
      "            5.2643e-02,  4.9202e-02],\n",
      "          [ 4.9942e-02,  5.1626e-02,  5.1442e-02,  ...,  5.1139e-02,\n",
      "            4.9352e-02,  4.6741e-02],\n",
      "          [ 4.4125e-02,  4.8715e-02,  4.9980e-02,  ...,  4.6214e-02,\n",
      "            4.7187e-02,  4.5237e-02]],\n",
      "\n",
      "         [[-3.6179e-02,  2.2708e-02,  4.4930e-02,  ...,  1.2975e-02,\n",
      "            2.3593e-02,  1.9553e-02],\n",
      "          [ 4.3379e-02,  3.7319e-02,  3.3036e-02,  ...,  1.9694e-02,\n",
      "            2.2724e-02,  1.7189e-02],\n",
      "          [ 3.4926e-02,  3.4514e-02,  2.4382e-02,  ...,  2.1543e-02,\n",
      "            2.0752e-02,  1.8406e-02],\n",
      "          ...,\n",
      "          [-6.2630e-02, -6.1216e-02, -6.0870e-02,  ..., -5.5856e-02,\n",
      "           -5.5645e-02, -5.5074e-02],\n",
      "          [-6.1822e-02, -6.0438e-02, -5.9538e-02,  ..., -5.5317e-02,\n",
      "           -5.4746e-02, -5.3434e-02],\n",
      "          [-5.9054e-02, -5.9054e-02, -5.9192e-02,  ..., -5.3436e-02,\n",
      "           -5.1129e-02, -5.0643e-02]]]])\n"
     ]
    }
   ],
   "source": [
    "# Examine the noise\n",
    "print(noise)"
   ]
  },
  {
   "cell_type": "markdown",
   "metadata": {},
   "source": [
    "<h3>Creat Unlearnable class-wise min-min Dataset</h3>"
   ]
  },
  {
   "cell_type": "code",
   "execution_count": 6,
   "metadata": {},
   "outputs": [
    {
     "name": "stdout",
     "output_type": "stream",
     "text": [
      "Files already downloaded and verified\n",
      "Files already downloaded and verified\n"
     ]
    }
   ],
   "source": [
    "import numpy as np\n",
    "\n",
    "# Add standard augmentation\n",
    "train_transform = [\n",
    "    transforms.RandomCrop(32, padding=4),\n",
    "    transforms.RandomHorizontalFlip(),\n",
    "    transforms.ToTensor()\n",
    "]\n",
    "train_transform = transforms.Compose(train_transform)\n",
    "clean_train_dataset = datasets.CIFAR10(root='./data1/mjli/Code/kerdeq/data/', train=True, download=True, transform=train_transform)\n",
    "unlearnable_train_dataset = datasets.CIFAR10(root='./data1/mjli/Code/kerdeq/data/', train=True, download=True, transform=train_transform)\n",
    "\n",
    "##########Add the generated noise to the clean dataset to generate the unlearnable dataset###########\n",
    "##########Point 2, you can refer to such part in samplewise.ipynb\n",
    "preturb_noise = noise.mul(255).clamp_(0, 255).permute(0, 2, 3, 1).to('cpu').numpy()\n",
    "unlearnable_train_dataset.data = unlearnable_train_dataset.data.astype(np.float32)\n",
    "for i in range(len(unlearnable_train_dataset)):\n",
    "    unlearnable_train_dataset.data[i] += preturb_noise[unlearnable_train_dataset.targets[i]]\n",
    "    unlearnable_train_dataset.data[i] = np.clip(unlearnable_train_dataset.data[i], a_min=0, a_max=255)\n",
    "unlearnable_train_dataset.data = unlearnable_train_dataset.data.astype(np.uint8)"
   ]
  },
  {
   "cell_type": "markdown",
   "metadata": {},
   "source": [
    "<h3>Visualize Clean Images, Error-Minimizing Noise, Unlearnable Images</h3>"
   ]
  },
  {
   "cell_type": "code",
   "execution_count": 7,
   "metadata": {},
   "outputs": [
    {
     "name": "stderr",
     "output_type": "stream",
     "text": [
      "Clipping input data to the valid range for imshow with RGB data ([0..1] for floats or [0..255] for integers).\n"
     ]
    },
    {
     "data": {
      "image/png": "[encoded data removed]",
      "text/plain": [
       "<Figure size 640x640 with 1 Axes>"
      ]
     },
     "metadata": {},
     "output_type": "display_data"
    }
   ],
   "source": [
    "import random\n",
    "import matplotlib.pyplot as plt\n",
    "import matplotlib\n",
    "%matplotlib inline\n",
    "\n",
    "def imshow(img):\n",
    "    fig = plt.figure(figsize=(8, 8), dpi=80, facecolor='w', edgecolor='k')\n",
    "    npimg = img.numpy()\n",
    "    plt.imshow(np.transpose(npimg, (1, 2, 0)))\n",
    "    plt.show()\n",
    "    \n",
    "def get_pairs_of_imgs(idx):\n",
    "    clean_img = clean_train_dataset.data[idx]\n",
    "    unlearnable_img = unlearnable_train_dataset.data[idx]\n",
    "    clean_img = torchvision.transforms.functional.to_tensor(clean_img)\n",
    "    unlearnable_img = torchvision.transforms.functional.to_tensor(unlearnable_img)\n",
    "\n",
    "    x = noise[unlearnable_train_dataset.targets[idx]]\n",
    "    x_min = torch.min(x)\n",
    "    x_max = torch.max(x)\n",
    "    noise_norm = (x - x_min) / (x_max - x_min)\n",
    "    noise_norm = torch.clamp(noise_norm, 0, 1)\n",
    "    return [clean_img, noise_norm, unlearnable_img]\n",
    "    \n",
    "selected_idx = [random.randint(0, 50000) for _ in range(3)]\n",
    "img_grid = []\n",
    "for idx in selected_idx:\n",
    "    img_grid += get_pairs_of_imgs(idx)\n",
    "    \n",
    "\n",
    "imshow(torchvision.utils.make_grid(torch.stack(img_grid), nrow=3, pad_value=255))\n",
    "\n"
   ]
  },
  {
   "cell_type": "markdown",
   "metadata": {},
   "source": [
    "<h3>Train ResNet18 on Unlearnable Dataset</h3>"
   ]
  },
  {
   "cell_type": "code",
   "execution_count": 8,
   "metadata": {},
   "outputs": [
    {
     "name": "stderr",
     "output_type": "stream",
     "text": [
      "Acc 67.06 Loss: 0.96: 100%|██████████| 391/391 [00:40<00:00,  9.64it/s]\n"
     ]
    },
    {
     "name": "stdout",
     "output_type": "stream",
     "text": [
      "Clean Accuracy 13.24\n",
      "\n"
     ]
    },
    {
     "name": "stderr",
     "output_type": "stream",
     "text": [
      "Acc 97.34 Loss: 0.08: 100%|██████████| 391/391 [00:47<00:00,  8.25it/s]\n"
     ]
    },
    {
     "name": "stdout",
     "output_type": "stream",
     "text": [
      "Clean Accuracy 10.62\n",
      "\n"
     ]
    },
    {
     "name": "stderr",
     "output_type": "stream",
     "text": [
      "Acc 98.75 Loss: 0.04: 100%|██████████| 391/391 [00:47<00:00,  8.23it/s]\n"
     ]
    },
    {
     "name": "stdout",
     "output_type": "stream",
     "text": [
      "Clean Accuracy 10.24\n",
      "\n"
     ]
    },
    {
     "name": "stderr",
     "output_type": "stream",
     "text": [
      "Acc 99.02 Loss: 0.03: 100%|██████████| 391/391 [00:47<00:00,  8.23it/s]\n"
     ]
    },
    {
     "name": "stdout",
     "output_type": "stream",
     "text": [
      "Clean Accuracy 11.01\n",
      "\n"
     ]
    },
    {
     "name": "stderr",
     "output_type": "stream",
     "text": [
      "Acc 99.15 Loss: 0.03: 100%|██████████| 391/391 [00:47<00:00,  8.25it/s]\n"
     ]
    },
    {
     "name": "stdout",
     "output_type": "stream",
     "text": [
      "Clean Accuracy 10.26\n",
      "\n"
     ]
    },
    {
     "name": "stderr",
     "output_type": "stream",
     "text": [
      "Acc 99.33 Loss: 0.02: 100%|██████████| 391/391 [00:47<00:00,  8.20it/s]\n"
     ]
    },
    {
     "name": "stdout",
     "output_type": "stream",
     "text": [
      "Clean Accuracy 10.06\n",
      "\n"
     ]
    },
    {
     "name": "stderr",
     "output_type": "stream",
     "text": [
      "Acc 99.54 Loss: 0.02: 100%|██████████| 391/391 [00:47<00:00,  8.22it/s]\n"
     ]
    },
    {
     "name": "stdout",
     "output_type": "stream",
     "text": [
      "Clean Accuracy 10.03\n",
      "\n"
     ]
    },
    {
     "name": "stderr",
     "output_type": "stream",
     "text": [
      "Acc 99.65 Loss: 0.01: 100%|██████████| 391/391 [00:47<00:00,  8.22it/s]\n"
     ]
    },
    {
     "name": "stdout",
     "output_type": "stream",
     "text": [
      "Clean Accuracy 10.15\n",
      "\n"
     ]
    },
    {
     "name": "stderr",
     "output_type": "stream",
     "text": [
      "Acc 99.75 Loss: 0.01: 100%|██████████| 391/391 [00:47<00:00,  8.32it/s]\n"
     ]
    },
    {
     "name": "stdout",
     "output_type": "stream",
     "text": [
      "Clean Accuracy 10.25\n",
      "\n"
     ]
    },
    {
     "name": "stderr",
     "output_type": "stream",
     "text": [
      "Acc 99.69 Loss: 0.01: 100%|██████████| 391/391 [00:47<00:00,  8.23it/s]\n"
     ]
    },
    {
     "name": "stdout",
     "output_type": "stream",
     "text": [
      "Clean Accuracy 10.14\n",
      "\n"
     ]
    },
    {
     "name": "stderr",
     "output_type": "stream",
     "text": [
      "Acc 99.80 Loss: 0.01: 100%|██████████| 391/391 [00:47<00:00,  8.24it/s]\n"
     ]
    },
    {
     "name": "stdout",
     "output_type": "stream",
     "text": [
      "Clean Accuracy 10.17\n",
      "\n"
     ]
    },
    {
     "name": "stderr",
     "output_type": "stream",
     "text": [
      "Acc 99.80 Loss: 0.01: 100%|██████████| 391/391 [00:47<00:00,  8.18it/s]\n"
     ]
    },
    {
     "name": "stdout",
     "output_type": "stream",
     "text": [
      "Clean Accuracy 10.11\n",
      "\n"
     ]
    },
    {
     "name": "stderr",
     "output_type": "stream",
     "text": [
      "Acc 99.74 Loss: 0.01: 100%|██████████| 391/391 [00:47<00:00,  8.19it/s]\n"
     ]
    },
    {
     "name": "stdout",
     "output_type": "stream",
     "text": [
      "Clean Accuracy 10.24\n",
      "\n"
     ]
    },
    {
     "name": "stderr",
     "output_type": "stream",
     "text": [
      "Acc 99.91 Loss: 0.00: 100%|██████████| 391/391 [00:47<00:00,  8.19it/s]\n"
     ]
    },
    {
     "name": "stdout",
     "output_type": "stream",
     "text": [
      "Clean Accuracy 10.05\n",
      "\n"
     ]
    },
    {
     "name": "stderr",
     "output_type": "stream",
     "text": [
      "Acc 99.90 Loss: 0.00: 100%|██████████| 391/391 [00:47<00:00,  8.20it/s]\n"
     ]
    },
    {
     "name": "stdout",
     "output_type": "stream",
     "text": [
      "Clean Accuracy 10.24\n",
      "\n"
     ]
    },
    {
     "name": "stderr",
     "output_type": "stream",
     "text": [
      "Acc 99.88 Loss: 0.01: 100%|██████████| 391/391 [00:47<00:00,  8.19it/s]\n"
     ]
    },
    {
     "name": "stdout",
     "output_type": "stream",
     "text": [
      "Clean Accuracy 10.16\n",
      "\n"
     ]
    },
    {
     "name": "stderr",
     "output_type": "stream",
     "text": [
      "Acc 99.89 Loss: 0.01: 100%|██████████| 391/391 [00:47<00:00,  8.15it/s]\n"
     ]
    },
    {
     "name": "stdout",
     "output_type": "stream",
     "text": [
      "Clean Accuracy 10.17\n",
      "\n"
     ]
    },
    {
     "name": "stderr",
     "output_type": "stream",
     "text": [
      "Acc 99.91 Loss: 0.00: 100%|██████████| 391/391 [00:47<00:00,  8.18it/s]\n"
     ]
    },
    {
     "name": "stdout",
     "output_type": "stream",
     "text": [
      "Clean Accuracy 10.09\n",
      "\n"
     ]
    },
    {
     "name": "stderr",
     "output_type": "stream",
     "text": [
      "Acc 99.94 Loss: 0.00: 100%|██████████| 391/391 [00:47<00:00,  8.18it/s]\n"
     ]
    },
    {
     "name": "stdout",
     "output_type": "stream",
     "text": [
      "Clean Accuracy 10.08\n",
      "\n"
     ]
    },
    {
     "name": "stderr",
     "output_type": "stream",
     "text": [
      "Acc 99.91 Loss: 0.00: 100%|██████████| 391/391 [00:47<00:00,  8.19it/s]\n"
     ]
    },
    {
     "name": "stdout",
     "output_type": "stream",
     "text": [
      "Clean Accuracy 10.24\n",
      "\n"
     ]
    },
    {
     "name": "stderr",
     "output_type": "stream",
     "text": [
      "Acc 99.96 Loss: 0.00: 100%|██████████| 391/391 [00:47<00:00,  8.23it/s]\n"
     ]
    },
    {
     "name": "stdout",
     "output_type": "stream",
     "text": [
      "Clean Accuracy 10.07\n",
      "\n"
     ]
    },
    {
     "name": "stderr",
     "output_type": "stream",
     "text": [
      "Acc 99.96 Loss: 0.00: 100%|██████████| 391/391 [00:47<00:00,  8.18it/s]\n"
     ]
    },
    {
     "name": "stdout",
     "output_type": "stream",
     "text": [
      "Clean Accuracy 10.03\n",
      "\n"
     ]
    },
    {
     "name": "stderr",
     "output_type": "stream",
     "text": [
      "Acc 100.00 Loss: 0.00: 100%|██████████| 391/391 [00:47<00:00,  8.22it/s]\n"
     ]
    },
    {
     "name": "stdout",
     "output_type": "stream",
     "text": [
      "Clean Accuracy 10.07\n",
      "\n"
     ]
    },
    {
     "name": "stderr",
     "output_type": "stream",
     "text": [
      "Acc 100.00 Loss: 0.00: 100%|██████████| 391/391 [00:48<00:00,  8.14it/s]\n"
     ]
    },
    {
     "name": "stdout",
     "output_type": "stream",
     "text": [
      "Clean Accuracy 10.06\n",
      "\n"
     ]
    },
    {
     "name": "stderr",
     "output_type": "stream",
     "text": [
      "Acc 100.00 Loss: 0.00: 100%|██████████| 391/391 [00:47<00:00,  8.15it/s]\n"
     ]
    },
    {
     "name": "stdout",
     "output_type": "stream",
     "text": [
      "Clean Accuracy 10.04\n",
      "\n"
     ]
    },
    {
     "name": "stderr",
     "output_type": "stream",
     "text": [
      "Acc 100.00 Loss: 0.00: 100%|██████████| 391/391 [00:48<00:00,  8.12it/s]\n"
     ]
    },
    {
     "name": "stdout",
     "output_type": "stream",
     "text": [
      "Clean Accuracy 10.04\n",
      "\n"
     ]
    },
    {
     "name": "stderr",
     "output_type": "stream",
     "text": [
      "Acc 100.00 Loss: 0.00: 100%|██████████| 391/391 [00:47<00:00,  8.17it/s]\n"
     ]
    },
    {
     "name": "stdout",
     "output_type": "stream",
     "text": [
      "Clean Accuracy 10.04\n",
      "\n"
     ]
    },
    {
     "name": "stderr",
     "output_type": "stream",
     "text": [
      "Acc 100.00 Loss: 0.00: 100%|██████████| 391/391 [00:47<00:00,  8.17it/s]\n"
     ]
    },
    {
     "name": "stdout",
     "output_type": "stream",
     "text": [
      "Clean Accuracy 10.05\n",
      "\n"
     ]
    },
    {
     "name": "stderr",
     "output_type": "stream",
     "text": [
      "Acc 100.00 Loss: 0.00: 100%|██████████| 391/391 [00:47<00:00,  8.16it/s]\n"
     ]
    },
    {
     "name": "stdout",
     "output_type": "stream",
     "text": [
      "Clean Accuracy 10.04\n",
      "\n"
     ]
    },
    {
     "name": "stderr",
     "output_type": "stream",
     "text": [
      "Acc 100.00 Loss: 0.00: 100%|██████████| 391/391 [00:47<00:00,  8.19it/s]\n"
     ]
    },
    {
     "name": "stdout",
     "output_type": "stream",
     "text": [
      "Clean Accuracy 10.03\n",
      "\n"
     ]
    }
   ],
   "source": [
    "from util import AverageMeter\n",
    "\n",
    "model = ResNet18()\n",
    "model = model.cuda()\n",
    "criterion = torch.nn.CrossEntropyLoss()\n",
    "optimizer = torch.optim.SGD(params=model.parameters(), lr=0.1, weight_decay=0.0005, momentum=0.9)\n",
    "scheduler = torch.optim.lr_scheduler.CosineAnnealingLR(optimizer, T_max=30, eta_min=0)\n",
    "\n",
    "unlearnable_loader = DataLoader(dataset=unlearnable_train_dataset, batch_size=128,\n",
    "                                shuffle=True, pin_memory=True,\n",
    "                                drop_last=False, num_workers=6)\n",
    "\n",
    "\n",
    "for epoch in range(30):\n",
    "    # Train\n",
    "    model.train()\n",
    "    acc_meter = AverageMeter()\n",
    "    loss_meter = AverageMeter()\n",
    "    pbar = tqdm(unlearnable_loader, total=len(unlearnable_loader))\n",
    "    for images, labels in pbar:\n",
    "        images, labels = images.cuda(), labels.cuda()\n",
    "        model.zero_grad()\n",
    "        optimizer.zero_grad()\n",
    "        logits = model(images)\n",
    "        loss = criterion(logits, labels)\n",
    "        loss.backward()\n",
    "        torch.nn.utils.clip_grad_norm_(model.parameters(), 5.0)\n",
    "        optimizer.step()\n",
    "        \n",
    "        _, predicted = torch.max(logits.data, 1)\n",
    "        acc = (predicted == labels).sum().item()/labels.size(0)\n",
    "        acc_meter.update(acc)\n",
    "        loss_meter.update(loss.item())\n",
    "        pbar.set_description(\"Acc %.2f Loss: %.2f\" % (acc_meter.avg*100, loss_meter.avg))\n",
    "    scheduler.step()\n",
    "    # Eval\n",
    "    model.eval()\n",
    "    correct, total = 0, 0\n",
    "    for i, (images, labels) in enumerate(clean_test_loader):\n",
    "        images, labels = images.cuda(), labels.cuda()\n",
    "        with torch.no_grad():\n",
    "            logits = model(images)\n",
    "            _, predicted = torch.max(logits.data, 1)\n",
    "            total += labels.size(0)\n",
    "            correct += (predicted == labels).sum().item()\n",
    "    acc = correct / total\n",
    "    tqdm.write('Clean Accuracy %.2f\\n' % (acc*100))\n",
    "            "
   ]
  },
  {
   "cell_type": "code",
   "execution_count": null,
   "metadata": {},
   "outputs": [],
   "source": []
  },
  {
   "cell_type": "code",
   "execution_count": null,
   "metadata": {},
   "outputs": [],
   "source": []
  }
 ],
 "metadata": {
  "kernelspec": {
   "display_name": "Python 3 (ipykernel)",
   "language": "python",
   "name": "python3"
  },
  "language_info": {
   "codemirror_mode": {
    "name": "ipython",
    "version": 3
   },
   "file_extension": ".py",
   "mimetype": "text/x-python",
   "name": "python",
   "nbconvert_exporter": "python",
   "pygments_lexer": "ipython3",
   "version": "3.7.10"
  }
 },
 "nbformat": 4,
 "nbformat_minor": 4
}
