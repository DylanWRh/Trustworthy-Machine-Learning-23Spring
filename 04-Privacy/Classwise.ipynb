{
 "cells": [
  {
   "cell_type": "markdown",
   "metadata": {},
   "source": [
    "<h2>Creating Class-wise Unlearnable Examples</h2>"
   ]
  },
  {
   "cell_type": "markdown",
   "metadata": {
    "tags": []
   },
   "source": [
    "<h3>Prepare Data</h3>"
   ]
  },
  {
   "cell_type": "code",
   "execution_count": 1,
   "metadata": {
    "tags": []
   },
   "outputs": [
    {
     "name": "stdout",
     "output_type": "stream",
     "text": [
      "Files already downloaded and verified\n",
      "Files already downloaded and verified\n"
     ]
    }
   ],
   "source": [
    "import os\n",
    "import torch\n",
    "import torchvision\n",
    "from torch.utils.data import DataLoader\n",
    "from torchvision import datasets, transforms\n",
    "\n",
    "# Prepare Dataset\n",
    "train_transform = [\n",
    "    transforms.ToTensor()\n",
    "]\n",
    "test_transform = [\n",
    "    transforms.ToTensor()\n",
    "]\n",
    "train_transform = transforms.Compose(train_transform)\n",
    "test_transform = transforms.Compose(test_transform)\n",
    "\n",
    "clean_train_dataset = datasets.CIFAR10(root='./data1/mjli/Code/kerdeq/data/', train=True, download=True, transform=train_transform)\n",
    "clean_test_dataset = datasets.CIFAR10(root='./data1/mjli/Code/kerdeq/data/', train=False, download=True, transform=test_transform)\n",
    "\n",
    "clean_train_loader = DataLoader(dataset=clean_train_dataset, batch_size=512,\n",
    "                                shuffle=False, pin_memory=True,\n",
    "                                drop_last=False, num_workers=6)\n",
    "clean_test_loader = DataLoader(dataset=clean_test_dataset, batch_size=512,\n",
    "                                shuffle=False, pin_memory=True,\n",
    "                                drop_last=False, num_workers=6)"
   ]
  },
  {
   "cell_type": "markdown",
   "metadata": {
    "tags": []
   },
   "source": [
    "<h3>Prepare Model</h3>"
   ]
  },
  {
   "cell_type": "code",
   "execution_count": 2,
   "metadata": {
    "tags": []
   },
   "outputs": [],
   "source": [
    "from models.ResNet import ResNet18\n",
    "\n",
    "torch.backends.cudnn.enabled = True\n",
    "torch.backends.cudnn.benchmark = True\n",
    "\n",
    "base_model = ResNet18()\n",
    "base_model = base_model.cuda()\n",
    "criterion = torch.nn.CrossEntropyLoss()\n",
    "optimizer = torch.optim.SGD(params=base_model.parameters(), lr=0.1, weight_decay=0.0005, momentum=0.9)\n",
    "\n"
   ]
  },
  {
   "cell_type": "markdown",
   "metadata": {
    "tags": []
   },
   "source": [
    "<h3>Prepare Perturbation Generator Tool</h3>"
   ]
  },
  {
   "cell_type": "code",
   "execution_count": 3,
   "metadata": {
    "tags": []
   },
   "outputs": [],
   "source": [
    "import numpy as np\n",
    "from torch.autograd import Variable\n",
    "\n",
    "if torch.cuda.is_available():\n",
    "    device = torch.device('cuda')\n",
    "else:\n",
    "    device = torch.device('cpu')\n",
    "\n",
    "\n",
    "class PerturbationTool():\n",
    "    def __init__(self, seed=0, epsilon=0.03137254901, num_steps=20, step_size=0.00784313725):\n",
    "        self.epsilon = epsilon\n",
    "        self.num_steps = num_steps\n",
    "        self.step_size = step_size\n",
    "        self.seed = seed\n",
    "        np.random.seed(seed)\n",
    "\n",
    "    def random_noise(self, noise_shape=[10, 3, 32, 32]):\n",
    "        random_noise = torch.FloatTensor(*noise_shape).uniform_(-self.epsilon, self.epsilon).to(device)\n",
    "        return random_noise\n",
    "\n",
    "    def min_min_attack(self, images, labels, model, optimizer, criterion, random_noise=None, sample_wise=False):\n",
    "        if random_noise is None:\n",
    "            random_noise = torch.FloatTensor(*images.shape).uniform_(-self.epsilon, self.epsilon).to(device)\n",
    "\n",
    "        perturb_img = Variable(images.data + random_noise, requires_grad=True)\n",
    "        perturb_img = Variable(torch.clamp(perturb_img, 0, 1), requires_grad=True)\n",
    "        eta = random_noise\n",
    "        for _ in range(self.num_steps):\n",
    "            opt = torch.optim.SGD([perturb_img], lr=1e-3)\n",
    "            opt.zero_grad()\n",
    "            model.zero_grad()\n",
    "            if isinstance(criterion, torch.nn.CrossEntropyLoss):\n",
    "                if hasattr(model, 'classify'):\n",
    "                    model.classify = True\n",
    "                logits = model(perturb_img)\n",
    "                loss = criterion(logits, labels)\n",
    "            else:\n",
    "                logits, loss = criterion(model, perturb_img, labels, optimizer)\n",
    "            perturb_img.retain_grad()\n",
    "            loss.backward()\n",
    "            eta = self.step_size * perturb_img.grad.data.sign() * (-1)\n",
    "            perturb_img = Variable(perturb_img.data + eta, requires_grad=True)\n",
    "            eta = torch.clamp(perturb_img.data - images.data, -self.epsilon, self.epsilon)\n",
    "            perturb_img = Variable(images.data + eta, requires_grad=True)\n",
    "            perturb_img = Variable(torch.clamp(perturb_img, 0, 1), requires_grad=True)\n",
    "\n",
    "        return perturb_img, eta\n",
    "\n",
    "    \n",
    "noise_generator = PerturbationTool(epsilon=16/255, num_steps=10, step_size=4/255)\n",
    "\n",
    "\n",
    "### Test noise_generator\n",
    "images= torch.randn([1,3,32,32]).cuda()\n",
    "labels= torch.ones([1]).long().cuda()\n",
    "\n",
    "# noise_generator.min_min_attack(images, labels, base_model, optimizer, criterion, \n",
    "#                                                           random_noise=torch.zeros_like(images).cuda())\n"
   ]
  },
  {
   "cell_type": "markdown",
   "metadata": {},
   "source": [
    "<h3>Generate Class-wise Error-Minimizing Noise</h3>"
   ]
  },
  {
   "cell_type": "code",
   "execution_count": 4,
   "metadata": {
    "tags": []
   },
   "outputs": [
    {
     "name": "stderr",
     "output_type": "stream",
     "text": [
      "100%|██████████| 98/98 [02:15<00:00,  1.38s/it]\n"
     ]
    },
    {
     "name": "stdout",
     "output_type": "stream",
     "text": [
      "Accuracy 10.00\n"
     ]
    },
    {
     "name": "stderr",
     "output_type": "stream",
     "text": [
      "100%|██████████| 98/98 [02:14<00:00,  1.37s/it]\n"
     ]
    },
    {
     "name": "stdout",
     "output_type": "stream",
     "text": [
      "Accuracy 15.09\n"
     ]
    },
    {
     "name": "stderr",
     "output_type": "stream",
     "text": [
      "100%|██████████| 98/98 [02:15<00:00,  1.38s/it]\n"
     ]
    },
    {
     "name": "stdout",
     "output_type": "stream",
     "text": [
      "Accuracy 26.92\n"
     ]
    },
    {
     "name": "stderr",
     "output_type": "stream",
     "text": [
      "100%|██████████| 98/98 [02:15<00:00,  1.38s/it]\n"
     ]
    },
    {
     "name": "stdout",
     "output_type": "stream",
     "text": [
      "Accuracy 29.73\n"
     ]
    },
    {
     "name": "stderr",
     "output_type": "stream",
     "text": [
      "100%|██████████| 98/98 [02:15<00:00,  1.38s/it]\n"
     ]
    },
    {
     "name": "stdout",
     "output_type": "stream",
     "text": [
      "Accuracy 69.68\n"
     ]
    },
    {
     "name": "stderr",
     "output_type": "stream",
     "text": [
      "100%|██████████| 98/98 [02:14<00:00,  1.38s/it]\n"
     ]
    },
    {
     "name": "stdout",
     "output_type": "stream",
     "text": [
      "Accuracy 87.17\n"
     ]
    },
    {
     "name": "stderr",
     "output_type": "stream",
     "text": [
      "100%|██████████| 98/98 [02:14<00:00,  1.37s/it]\n"
     ]
    },
    {
     "name": "stdout",
     "output_type": "stream",
     "text": [
      "Accuracy 92.79\n"
     ]
    }
   ],
   "source": [
    "from tqdm import tqdm\n",
    "import collections\n",
    "\n",
    "### Final noise####\n",
    "noise = torch.zeros([10, 3, 32, 32])\n",
    "\n",
    "data_iter = iter(clean_train_loader)\n",
    "condition = True\n",
    "train_idx = 0\n",
    "\n",
    "while condition:\n",
    "    # optimize base model for 10 steps （train base models with 10 batches）\n",
    "    base_model.train()\n",
    "    for param in base_model.parameters():\n",
    "        param.requires_grad = True\n",
    "    for j in range(0, 10):\n",
    "        #############Optimization of base model on data with noise#################\n",
    "        #####1. each iteration is a batch, you may use next(data_iter) to get images and labels for training\n",
    "        #### Point 2\n",
    "        imgs, labels = next(data_iter)\n",
    "        imgs = imgs.to(device)\n",
    "        labels = labels.to(device)\n",
    "        imgs_noise = []\n",
    "        for i, (img, label) in enumerate(zip(imgs, labels)):\n",
    "            cls_noise = noise[label.item()]\n",
    "            imgs_noise.append(img.cpu() + cls_noise.cpu())\n",
    "        train_imgs = torch.stack(imgs_noise).to(device)\n",
    "        \n",
    "        base_model.zero_grad()\n",
    "        optimizer.zero_grad()\n",
    "        logits = base_model(train_imgs)\n",
    "        loss = criterion(logits, labels)\n",
    "        loss.backward()\n",
    "        optimizer.step()\n",
    "\n",
    "    # Perturbation over entire dataset\n",
    "    idx = 0\n",
    "    for param in base_model.parameters():\n",
    "        param.requires_grad = False\n",
    "    for i, (images, labels) in tqdm(enumerate(clean_train_loader), total=len(clean_train_loader)):\n",
    "        batch_start_idx, batch_noise = idx, []\n",
    "        tmp_idx = 0\n",
    "        for i, _ in enumerate(images):\n",
    "            # Update noise to images\n",
    "            batch_noise.append(noise[labels[tmp_idx]])\n",
    "            idx += 1\n",
    "            tmp_idx += 1\n",
    "        batch_noise = torch.stack(batch_noise).cuda()\n",
    "        \n",
    "        # Update class-wise perturbation\n",
    "        base_model.eval()\n",
    "        images, labels = images.cuda(), labels.cuda()\n",
    "        perturb_img, eta = noise_generator.min_min_attack(images, labels, base_model, optimizer, criterion, \n",
    "                                                          random_noise=batch_noise)\n",
    "        \n",
    "        #################Update noise by perturb_img or eta####################\n",
    "        #### Point 2\n",
    "        new_noise = torch.zeros([10, 3, 32, 32])\n",
    "        label_count = [0] * 10\n",
    "        for label, delta in zip(labels, eta):\n",
    "            # print(eta.shape, labels.shape)\n",
    "            label_count[label] += 1\n",
    "            new_noise[label] += delta.detach().cpu()\n",
    "        \n",
    "        for label in range(10):\n",
    "            noise[label] = (new_noise[label] / label_count[label]).clone().detach().cpu()\n",
    "            \n",
    "        \n",
    "    # Eval stop condition\n",
    "    eval_idx, total, correct = 0, 0, 0\n",
    "    for i, (images, labels) in enumerate(clean_train_loader):\n",
    "        eval_idx = 0\n",
    "        for i, _ in enumerate(images):\n",
    "            # Update noise to images\n",
    "            images[i] += noise[labels[eval_idx]]\n",
    "            eval_idx += 1\n",
    "        images, labels = images.cuda(), labels.cuda()\n",
    "        with torch.no_grad():\n",
    "            logits = base_model(images)\n",
    "            _, predicted = torch.max(logits.data, 1)\n",
    "            total += labels.size(0)\n",
    "            correct += (predicted == labels).sum().item()\n",
    "    acc = correct / total\n",
    "    print('Accuracy %.2f' % (acc*100))\n",
    "    if acc > 0.9:\n",
    "        condition=False    \n"
   ]
  },
  {
   "cell_type": "code",
   "execution_count": 5,
   "metadata": {},
   "outputs": [
    {
     "name": "stdout",
     "output_type": "stream",
     "text": [
      "tensor([[[[ 4.3041e-02, -3.5079e-02, -1.1109e-03,  ...,  5.3425e-02,\n",
      "            5.0607e-02,  5.1967e-02],\n",
      "          [-3.5559e-02, -3.5772e-02,  2.1168e-02,  ...,  5.4528e-02,\n",
      "            5.1727e-02,  5.2508e-02],\n",
      "          [ 2.0255e-02,  2.2097e-02,  2.3938e-02,  ...,  4.6338e-02,\n",
      "            4.5911e-02,  3.6187e-02],\n",
      "          ...,\n",
      "          [-5.1876e-02, -5.1028e-02, -2.7353e-02,  ..., -4.5613e-02,\n",
      "           -7.5813e-03, -1.6483e-02],\n",
      "          [-1.2554e-02, -1.4292e-02, -4.0739e-02,  ..., -3.8138e-02,\n",
      "           -4.7061e-02,  2.4924e-02],\n",
      "          [-4.8382e-02, -1.3676e-02, -2.3319e-02,  ...,  1.5730e-02,\n",
      "            2.4782e-02,  3.2678e-02]],\n",
      "\n",
      "         [[ 1.2540e-02,  1.9866e-02,  7.3125e-03,  ..., -6.0684e-02,\n",
      "           -5.8603e-02, -5.8660e-02],\n",
      "          [ 1.1490e-02, -3.9522e-02, -2.0567e-02,  ..., -5.3247e-02,\n",
      "           -5.8548e-02, -5.7693e-02],\n",
      "          [-2.4046e-04,  1.8282e-02, -7.9051e-03,  ..., -5.9010e-02,\n",
      "           -5.9010e-02, -5.8263e-02],\n",
      "          ...,\n",
      "          [ 3.5270e-02, -2.1636e-02,  3.5227e-02,  ...,  3.1184e-02,\n",
      "            3.3499e-02,  4.1919e-02],\n",
      "          [ 3.6297e-02,  5.0369e-02,  4.3647e-02,  ...,  1.6206e-02,\n",
      "            1.9690e-02, -6.5848e-03],\n",
      "          [ 4.0308e-02,  3.9822e-02,  4.1378e-02,  ...,  3.3913e-02,\n",
      "           -1.7845e-05,  4.6359e-02]],\n",
      "\n",
      "         [[-3.7100e-02, -3.8285e-02, -4.4618e-02,  ...,  5.2067e-02,\n",
      "            4.6103e-02,  4.8306e-02],\n",
      "          [ 8.3548e-03,  1.2526e-02,  1.2081e-02,  ...,  3.3456e-02,\n",
      "            4.2764e-02,  4.2294e-02],\n",
      "          [-4.0387e-02, -3.1953e-02,  5.1061e-03,  ...,  4.5752e-02,\n",
      "            4.4071e-02,  4.4818e-02],\n",
      "          ...,\n",
      "          [-2.4558e-02,  3.4614e-02, -5.4054e-02,  ..., -4.8010e-02,\n",
      "           -3.6496e-02, -5.2047e-02],\n",
      "          [-5.5217e-02, -5.4189e-02, -5.0749e-02,  ..., -1.4708e-02,\n",
      "           -2.2556e-02, -1.6178e-02],\n",
      "          [-4.4781e-02, -1.4603e-02, -4.9740e-02,  ..., -5.0402e-02,\n",
      "           -4.1123e-02, -4.8306e-02]]],\n",
      "\n",
      "\n",
      "        [[[ 5.4730e-02, -4.2196e-02,  1.2569e-02,  ..., -6.0319e-02,\n",
      "           -1.8603e-02, -6.0976e-02],\n",
      "          [-4.3145e-02, -4.5225e-02,  2.7648e-02,  ..., -6.0073e-02,\n",
      "           -4.5021e-02, -5.7606e-02],\n",
      "          [ 2.7869e-02,  3.7159e-02,  2.6444e-02,  ..., -5.8815e-02,\n",
      "           -3.3149e-02, -2.9999e-02],\n",
      "          ...,\n",
      "          [-1.8970e-02, -4.1042e-02,  1.7727e-02,  ..., -3.9733e-02,\n",
      "            9.5461e-04, -2.2483e-02],\n",
      "          [ 3.8418e-02,  5.2406e-02,  3.6543e-02,  ...,  1.9539e-02,\n",
      "            4.5087e-02, -4.9196e-02],\n",
      "          [ 4.6035e-02,  5.3951e-02,  5.4308e-02,  ..., -1.5430e-02,\n",
      "           -7.2290e-03, -4.8549e-02]],\n",
      "\n",
      "         [[ 2.9703e-02,  3.5250e-02, -1.4722e-04,  ...,  4.4567e-03,\n",
      "            3.7016e-02,  3.9832e-02],\n",
      "          [ 2.9409e-02, -4.5813e-02, -2.9711e-02,  ..., -3.3126e-02,\n",
      "            4.4497e-02, -1.0473e-02],\n",
      "          [-3.8927e-02, -2.3617e-03, -9.7269e-03,  ...,  2.7064e-02,\n",
      "            3.3678e-02,  3.2923e-03],\n",
      "          ...,\n",
      "          [ 4.7756e-02, -4.3826e-02,  2.5226e-02,  ..., -9.4909e-03,\n",
      "           -9.1479e-03, -4.7537e-02],\n",
      "          [-2.6367e-02, -3.5115e-02, -1.4615e-03,  ..., -2.1956e-02,\n",
      "           -3.5459e-02, -2.5298e-02],\n",
      "          [-3.8963e-02, -3.7400e-02, -4.1134e-02,  ..., -2.5714e-02,\n",
      "           -2.1129e-02, -4.6495e-02]],\n",
      "\n",
      "         [[-4.5978e-02, -4.8166e-02, -2.3874e-02,  ..., -2.0906e-02,\n",
      "           -2.8852e-02, -5.8561e-02],\n",
      "          [ 3.0802e-02,  3.1018e-02,  2.5655e-02,  ..., -9.0566e-03,\n",
      "           -1.3711e-02, -1.8084e-02],\n",
      "          [-4.7199e-03,  5.1607e-03, -1.6934e-02,  ..., -2.3305e-02,\n",
      "           -2.0566e-02, -5.1501e-02],\n",
      "          ...,\n",
      "          [ 5.2398e-02,  3.5656e-02,  3.5534e-02,  ...,  2.8178e-02,\n",
      "            3.7285e-02,  2.6492e-02],\n",
      "          [-1.7378e-02,  3.0254e-02,  2.1207e-02,  ...,  2.3238e-02,\n",
      "            1.7991e-02,  1.9750e-03],\n",
      "          [-1.8477e-02, -4.6006e-02, -2.5438e-02,  ..., -3.6749e-02,\n",
      "            2.8504e-02, -1.9554e-02]]],\n",
      "\n",
      "\n",
      "        [[[ 2.2011e-02, -4.4507e-02, -3.7961e-04,  ...,  1.8202e-02,\n",
      "            1.6126e-03, -5.0227e-02],\n",
      "          [-4.8514e-02, -4.8331e-02,  4.7763e-02,  ...,  3.4165e-02,\n",
      "            2.0055e-02, -9.2520e-03],\n",
      "          [ 4.1316e-02,  4.3473e-02,  4.2303e-02,  ...,  1.7838e-02,\n",
      "           -1.4633e-02, -3.4620e-02],\n",
      "          ...,\n",
      "          [-4.2860e-02, -4.4047e-02,  5.2348e-02,  ..., -2.0791e-02,\n",
      "            2.7453e-02, -8.0025e-04],\n",
      "          [ 3.9104e-02,  4.9371e-02,  4.2122e-02,  ..., -4.9572e-02,\n",
      "           -4.9757e-02, -4.9130e-02],\n",
      "          [ 3.2769e-02,  3.5236e-02,  3.1553e-02,  ..., -5.4275e-02,\n",
      "           -4.6932e-02, -3.7985e-02]],\n",
      "\n",
      "         [[ 4.7306e-02,  4.8419e-02,  1.0698e-02,  ..., -2.8708e-02,\n",
      "            2.5094e-02, -1.3552e-02],\n",
      "          [ 4.7238e-02, -4.7096e-02, -1.3936e-02,  ..., -2.5463e-03,\n",
      "            2.5481e-03,  1.4481e-02],\n",
      "          [-8.4458e-03,  1.7198e-02, -1.8187e-02,  ..., -1.0200e-02,\n",
      "            2.1899e-02,  2.7049e-02],\n",
      "          ...,\n",
      "          [ 4.8916e-02, -5.4383e-02, -4.7694e-02,  ..., -3.7634e-02,\n",
      "           -3.9845e-02, -3.4185e-02],\n",
      "          [-4.8965e-02, -4.6182e-02, -4.9910e-02,  ..., -4.4167e-02,\n",
      "           -4.0327e-02, -3.6677e-02],\n",
      "          [-3.9822e-02, -4.3072e-02, -4.4511e-02,  ..., -1.0639e-02,\n",
      "           -3.3636e-02, -2.8009e-02]],\n",
      "\n",
      "         [[-4.7192e-02, -4.7428e-02, -4.7836e-02,  ...,  1.2805e-03,\n",
      "            2.0326e-02, -2.5713e-02],\n",
      "          [ 3.7073e-02,  4.6511e-02,  3.1442e-02,  ..., -2.5086e-02,\n",
      "           -2.6399e-02, -4.0873e-02],\n",
      "          [-3.7689e-02, -2.7040e-02,  2.2091e-02,  ..., -8.4713e-03,\n",
      "           -2.2450e-02, -3.2948e-02],\n",
      "          ...,\n",
      "          [ 5.2474e-02,  4.7740e-02,  4.1292e-02,  ...,  2.5782e-02,\n",
      "            3.7530e-02,  2.4268e-02],\n",
      "          [-7.4225e-04,  3.8546e-02,  4.8035e-02,  ...,  4.0560e-02,\n",
      "            4.0126e-02,  3.2420e-02],\n",
      "          [-2.1331e-02, -9.0645e-03,  3.1320e-02,  ...,  4.9075e-02,\n",
      "            4.3332e-02,  4.2782e-02]]],\n",
      "\n",
      "\n",
      "        ...,\n",
      "\n",
      "\n",
      "        [[[ 4.1896e-02, -1.7157e-02,  3.7416e-02,  ...,  5.7856e-02,\n",
      "            3.8433e-02,  4.0227e-02],\n",
      "          [-2.7703e-02, -2.8771e-02,  5.0585e-02,  ...,  5.3057e-02,\n",
      "            3.9238e-02,  3.3046e-02],\n",
      "          [ 1.4497e-03,  5.9960e-03,  2.4373e-03,  ..., -5.2579e-02,\n",
      "           -5.0264e-02, -3.1179e-02],\n",
      "          ...,\n",
      "          [-6.0965e-02, -6.1126e-02,  8.6617e-03,  ..., -6.1136e-02,\n",
      "           -5.3844e-02, -2.3047e-02],\n",
      "          [ 5.9756e-02,  5.9548e-02,  5.5080e-02,  ...,  5.3134e-02,\n",
      "            4.7315e-02,  5.9930e-02],\n",
      "          [ 3.9088e-02,  5.6245e-02,  4.4265e-02,  ...,  2.2905e-02,\n",
      "           -4.7189e-02,  1.0981e-02]],\n",
      "\n",
      "         [[-1.0210e-03,  4.5588e-03, -4.9716e-02,  ..., -5.7089e-02,\n",
      "           -5.2865e-02, -5.1420e-02],\n",
      "          [ 6.4820e-04, -3.3179e-02, -4.7286e-02,  ...,  2.3422e-02,\n",
      "           -2.4326e-02,  1.8429e-02],\n",
      "          [-4.6418e-02, -1.7685e-02, -2.3038e-02,  ..., -4.1470e-02,\n",
      "           -2.4298e-02, -3.2492e-02],\n",
      "          ...,\n",
      "          [ 5.8265e-02, -6.1098e-02, -5.3146e-02,  ..., -6.2727e-02,\n",
      "           -2.2430e-02, -3.7157e-02],\n",
      "          [-4.5165e-02,  3.4049e-03, -1.0380e-02,  ...,  5.5449e-02,\n",
      "            4.4926e-02,  5.8119e-02],\n",
      "          [-3.9685e-02, -1.4832e-02, -6.3432e-03,  ..., -1.1496e-02,\n",
      "            4.4934e-02, -5.6069e-02]],\n",
      "\n",
      "         [[-2.4873e-02, -2.7386e-02,  7.3334e-03,  ...,  4.9692e-02,\n",
      "            4.4805e-02,  4.4835e-02],\n",
      "          [ 8.7701e-04,  3.6120e-03, -2.6320e-02,  ..., -5.0120e-02,\n",
      "            2.5800e-02, -4.3563e-02],\n",
      "          [-3.4882e-03, -4.6758e-02, -3.9232e-02,  ...,  2.1673e-02,\n",
      "            1.9407e-02,  3.0941e-02],\n",
      "          ...,\n",
      "          [ 5.7518e-02,  6.0413e-02, -3.5468e-02,  ...,  6.2745e-02,\n",
      "            2.1074e-02,  6.1116e-02],\n",
      "          [-5.2037e-02, -5.2069e-02, -2.7808e-02,  ..., -5.7964e-02,\n",
      "           -5.3333e-02, -5.6914e-02],\n",
      "          [-5.2734e-02,  9.8185e-03, -3.7291e-02,  ...,  6.2745e-02,\n",
      "           -2.8866e-02,  6.1639e-02]]],\n",
      "\n",
      "\n",
      "        [[[-5.9006e-02, -6.2472e-02, -4.5787e-02,  ..., -5.4544e-02,\n",
      "           -3.3187e-02, -5.6766e-02],\n",
      "          [-6.2745e-02, -6.2289e-02, -5.7084e-02,  ..., -4.1131e-02,\n",
      "           -4.8231e-02, -4.2700e-02],\n",
      "          [ 5.8185e-02,  5.9097e-02,  5.3899e-02,  ...,  3.9640e-02,\n",
      "            2.7280e-04,  3.2583e-02],\n",
      "          ...,\n",
      "          [ 6.2563e-02,  3.3202e-02,  5.2987e-02,  ...,  2.4290e-02,\n",
      "            6.1517e-02,  3.7508e-02],\n",
      "          [-2.6843e-02,  2.1733e-02,  3.5801e-02,  ...,  4.1613e-02,\n",
      "            4.8610e-02, -1.0395e-02],\n",
      "          [-3.8261e-02, -5.7888e-02, -4.3816e-02,  ..., -5.2643e-02,\n",
      "           -4.9339e-02, -6.1651e-02]],\n",
      "\n",
      "         [[ 5.9827e-02,  5.9918e-02,  4.3478e-02,  ...,  2.7740e-02,\n",
      "            5.5254e-02,  5.2788e-02],\n",
      "          [ 6.0192e-02, -5.9644e-02, -1.4947e-02,  ...,  4.3909e-02,\n",
      "            5.4223e-02, -3.6719e-02],\n",
      "          [-4.2635e-02, -3.8506e-03, -9.5823e-03,  ...,  3.0542e-02,\n",
      "            4.2908e-02, -8.4926e-03],\n",
      "          ...,\n",
      "          [-6.2745e-02, -5.1072e-02, -6.1264e-02,  ..., -5.9644e-02,\n",
      "           -6.2107e-02, -6.2380e-02],\n",
      "          [-5.9827e-02, -6.2745e-02, -6.2380e-02,  ..., -6.2380e-02,\n",
      "           -6.2654e-02, -6.2380e-02],\n",
      "          [-5.7974e-02, -6.1233e-02, -6.2016e-02,  ..., -6.2745e-02,\n",
      "           -6.2745e-02, -5.9462e-02]],\n",
      "\n",
      "         [[-6.1924e-02, -6.2380e-02, -5.7638e-02,  ..., -4.3502e-02,\n",
      "           -5.6532e-02, -5.9827e-02],\n",
      "          [ 5.5632e-02,  5.8459e-02,  5.7729e-02,  ..., -3.6401e-02,\n",
      "            2.6476e-03,  5.2059e-02],\n",
      "          [-4.7542e-02,  4.8090e-02,  4.8618e-02,  ..., -3.4153e-02,\n",
      "           -1.7351e-02,  1.4289e-02],\n",
      "          ...,\n",
      "          [ 6.2535e-02,  1.0631e-02,  5.8334e-02,  ...,  3.1417e-02,\n",
      "            5.8795e-02,  5.2115e-02],\n",
      "          [ 6.2380e-02,  6.2107e-02,  6.1651e-02,  ...,  5.7778e-02,\n",
      "            6.0283e-02,  6.1012e-02],\n",
      "          [ 6.2289e-02,  5.4589e-02,  6.1651e-02,  ...,  3.6907e-02,\n",
      "            6.0739e-02, -7.6258e-03]]],\n",
      "\n",
      "\n",
      "        [[[ 4.4913e-02, -5.0909e-02,  7.6975e-03,  ...,  2.4027e-02,\n",
      "            3.5149e-02,  4.0670e-02],\n",
      "          [-5.1919e-02, -5.1921e-02, -4.5956e-03,  ...,  1.2901e-02,\n",
      "            3.1246e-02,  3.7961e-02],\n",
      "          [ 3.5548e-02,  3.7960e-02,  3.9164e-02,  ...,  4.2866e-02,\n",
      "            4.5376e-02,  4.1168e-02],\n",
      "          ...,\n",
      "          [ 2.0333e-02, -3.8890e-02,  2.1411e-02,  ...,  2.6123e-02,\n",
      "            4.1825e-02,  3.3892e-02],\n",
      "          [-4.5452e-02, -1.1380e-02, -2.5178e-02,  ..., -4.2135e-02,\n",
      "           -2.9070e-02, -3.9156e-02],\n",
      "          [-5.2263e-02, -5.0914e-02, -2.3926e-02,  ..., -5.9494e-02,\n",
      "           -5.6204e-02, -5.4483e-02]],\n",
      "\n",
      "         [[ 2.6790e-02,  2.6159e-02, -2.1737e-02,  ..., -2.7315e-02,\n",
      "           -5.1093e-02, -5.5495e-02],\n",
      "          [ 2.7655e-02, -5.2696e-02, -5.6624e-02,  ..., -5.7599e-02,\n",
      "           -4.8541e-02, -5.1640e-02],\n",
      "          [-5.7221e-02, -5.0135e-02, -5.5226e-02,  ..., -4.9575e-02,\n",
      "           -4.9528e-02, -5.2408e-02],\n",
      "          ...,\n",
      "          [-3.5351e-02, -1.9093e-02, -3.8300e-02,  ..., -1.4598e-03,\n",
      "           -2.8253e-02, -1.8971e-02],\n",
      "          [-3.5691e-02, -3.8250e-02, -3.5888e-02,  ..., -4.5176e-02,\n",
      "           -4.6924e-02, -3.7289e-02],\n",
      "          [-2.4645e-02, -2.8616e-02, -3.6047e-02,  ..., -3.7850e-02,\n",
      "           -3.9230e-02, -4.3430e-02]],\n",
      "\n",
      "         [[-4.9255e-02, -4.9934e-02,  1.0543e-03,  ...,  6.8192e-03,\n",
      "            3.5672e-02,  3.7514e-02],\n",
      "          [ 3.9342e-02,  3.2280e-02,  4.6798e-02,  ...,  4.7424e-02,\n",
      "            3.4969e-02,  3.3873e-02],\n",
      "          [ 9.9572e-03,  4.3963e-02,  4.3470e-02,  ...,  3.7941e-02,\n",
      "            3.8449e-02,  4.1544e-02],\n",
      "          ...,\n",
      "          [ 3.6495e-02, -3.6468e-02,  2.7738e-02,  ..., -4.1309e-02,\n",
      "            1.4764e-02, -2.1360e-02],\n",
      "          [ 2.9326e-02,  2.8677e-02,  2.8504e-02,  ...,  3.6520e-02,\n",
      "            3.9578e-02,  2.6250e-02],\n",
      "          [ 3.9435e-02,  3.3849e-02,  2.7219e-02,  ...,  2.8523e-02,\n",
      "            4.1224e-02,  3.0760e-02]]]])\n"
     ]
    }
   ],
   "source": [
    "# Examine the noise\n",
    "print(noise)"
   ]
  },
  {
   "cell_type": "markdown",
   "metadata": {},
   "source": [
    "<h3>Creat Unlearnable class-wise min-min Dataset</h3>"
   ]
  },
  {
   "cell_type": "code",
   "execution_count": 6,
   "metadata": {},
   "outputs": [
    {
     "name": "stdout",
     "output_type": "stream",
     "text": [
      "Files already downloaded and verified\n",
      "Files already downloaded and verified\n"
     ]
    }
   ],
   "source": [
    "import numpy as np\n",
    "\n",
    "# Add standard augmentation\n",
    "train_transform = [\n",
    "    transforms.RandomCrop(32, padding=4),\n",
    "    transforms.RandomHorizontalFlip(),\n",
    "    transforms.ToTensor()\n",
    "]\n",
    "train_transform = transforms.Compose(train_transform)\n",
    "clean_train_dataset = datasets.CIFAR10(root='./data1/mjli/Code/kerdeq/data/', train=True, download=True, transform=train_transform)\n",
    "unlearnable_train_dataset = datasets.CIFAR10(root='./data1/mjli/Code/kerdeq/data/', train=True, download=True, transform=train_transform)\n",
    "\n",
    "##########Add the generated noise to the clean dataset to generate the unlearnable dataset###########\n",
    "##########Point 2, you can refer to such part in samplewise.ipynb\n",
    "preturb_noise = noise.mul(255).clamp_(0, 255).permute(0, 2, 3, 1).to('cpu').numpy()\n",
    "unlearnable_train_dataset.data = unlearnable_train_dataset.data.astype(np.float32)\n",
    "for i in range(len(unlearnable_train_dataset)):\n",
    "    unlearnable_train_dataset.data[i] += preturb_noise[unlearnable_train_dataset.targets[i]]\n",
    "    unlearnable_train_dataset.data[i] = np.clip(unlearnable_train_dataset.data[i], a_min=0, a_max=255)\n",
    "unlearnable_train_dataset.data = unlearnable_train_dataset.data.astype(np.uint8)"
   ]
  },
  {
   "cell_type": "markdown",
   "metadata": {},
   "source": [
    "<h3>Visualize Clean Images, Error-Minimizing Noise, Unlearnable Images</h3>"
   ]
  },
  {
   "cell_type": "code",
   "execution_count": 7,
   "metadata": {},
   "outputs": [
    {
     "name": "stderr",
     "output_type": "stream",
     "text": [
      "Clipping input data to the valid range for imshow with RGB data ([0..1] for floats or [0..255] for integers).\n"
     ]
    },
    {
     "data": {
      "image/png": "[encoded data removed]",
      "text/plain": [
       "<Figure size 640x640 with 1 Axes>"
      ]
     },
     "metadata": {},
     "output_type": "display_data"
    }
   ],
   "source": [
    "import random\n",
    "import matplotlib.pyplot as plt\n",
    "import matplotlib\n",
    "%matplotlib inline\n",
    "\n",
    "def imshow(img):\n",
    "    fig = plt.figure(figsize=(8, 8), dpi=80, facecolor='w', edgecolor='k')\n",
    "    npimg = img.numpy()\n",
    "    plt.imshow(np.transpose(npimg, (1, 2, 0)))\n",
    "    plt.show()\n",
    "    \n",
    "def get_pairs_of_imgs(idx):\n",
    "    clean_img = clean_train_dataset.data[idx]\n",
    "    unlearnable_img = unlearnable_train_dataset.data[idx]\n",
    "    clean_img = torchvision.transforms.functional.to_tensor(clean_img)\n",
    "    unlearnable_img = torchvision.transforms.functional.to_tensor(unlearnable_img)\n",
    "\n",
    "    x = noise[unlearnable_train_dataset.targets[idx]]\n",
    "    x_min = torch.min(x)\n",
    "    x_max = torch.max(x)\n",
    "    noise_norm = (x - x_min) / (x_max - x_min)\n",
    "    noise_norm = torch.clamp(noise_norm, 0, 1)\n",
    "    return [clean_img, noise_norm, unlearnable_img]\n",
    "    \n",
    "selected_idx = [random.randint(0, 50000) for _ in range(3)]\n",
    "img_grid = []\n",
    "for idx in selected_idx:\n",
    "    img_grid += get_pairs_of_imgs(idx)\n",
    "    \n",
    "\n",
    "imshow(torchvision.utils.make_grid(torch.stack(img_grid), nrow=3, pad_value=255))\n",
    "\n"
   ]
  },
  {
   "cell_type": "markdown",
   "metadata": {},
   "source": [
    "<h3>Train ResNet18 on Unlearnable Dataset</h3>"
   ]
  },
  {
   "cell_type": "code",
   "execution_count": 8,
   "metadata": {},
   "outputs": [
    {
     "name": "stderr",
     "output_type": "stream",
     "text": [
      "Acc 61.36 Loss: 1.09: 100%|██████████| 391/391 [00:25<00:00, 15.30it/s]\n"
     ]
    },
    {
     "name": "stdout",
     "output_type": "stream",
     "text": [
      "Clean Accuracy 11.49\n",
      "\n"
     ]
    },
    {
     "name": "stderr",
     "output_type": "stream",
     "text": [
      "Acc 97.44 Loss: 0.08: 100%|██████████| 391/391 [00:24<00:00, 15.90it/s]\n"
     ]
    },
    {
     "name": "stdout",
     "output_type": "stream",
     "text": [
      "Clean Accuracy 10.72\n",
      "\n"
     ]
    },
    {
     "name": "stderr",
     "output_type": "stream",
     "text": [
      "Acc 98.89 Loss: 0.03: 100%|██████████| 391/391 [00:24<00:00, 15.82it/s]\n"
     ]
    },
    {
     "name": "stdout",
     "output_type": "stream",
     "text": [
      "Clean Accuracy 10.25\n",
      "\n"
     ]
    },
    {
     "name": "stderr",
     "output_type": "stream",
     "text": [
      "Acc 99.30 Loss: 0.02: 100%|██████████| 391/391 [00:24<00:00, 15.92it/s]\n"
     ]
    },
    {
     "name": "stdout",
     "output_type": "stream",
     "text": [
      "Clean Accuracy 10.38\n",
      "\n"
     ]
    },
    {
     "name": "stderr",
     "output_type": "stream",
     "text": [
      "Acc 99.45 Loss: 0.02: 100%|██████████| 391/391 [00:24<00:00, 15.72it/s]\n"
     ]
    },
    {
     "name": "stdout",
     "output_type": "stream",
     "text": [
      "Clean Accuracy 10.10\n",
      "\n"
     ]
    },
    {
     "name": "stderr",
     "output_type": "stream",
     "text": [
      "Acc 99.45 Loss: 0.02: 100%|██████████| 391/391 [00:24<00:00, 15.89it/s]\n"
     ]
    },
    {
     "name": "stdout",
     "output_type": "stream",
     "text": [
      "Clean Accuracy 10.02\n",
      "\n"
     ]
    },
    {
     "name": "stderr",
     "output_type": "stream",
     "text": [
      "Acc 99.51 Loss: 0.02: 100%|██████████| 391/391 [00:24<00:00, 15.81it/s]\n"
     ]
    },
    {
     "name": "stdout",
     "output_type": "stream",
     "text": [
      "Clean Accuracy 12.43\n",
      "\n"
     ]
    },
    {
     "name": "stderr",
     "output_type": "stream",
     "text": [
      "Acc 99.56 Loss: 0.01: 100%|██████████| 391/391 [00:24<00:00, 15.84it/s]\n"
     ]
    },
    {
     "name": "stdout",
     "output_type": "stream",
     "text": [
      "Clean Accuracy 10.17\n",
      "\n"
     ]
    },
    {
     "name": "stderr",
     "output_type": "stream",
     "text": [
      "Acc 99.57 Loss: 0.02: 100%|██████████| 391/391 [00:24<00:00, 15.84it/s]\n"
     ]
    },
    {
     "name": "stdout",
     "output_type": "stream",
     "text": [
      "Clean Accuracy 12.72\n",
      "\n"
     ]
    },
    {
     "name": "stderr",
     "output_type": "stream",
     "text": [
      "Acc 99.66 Loss: 0.01: 100%|██████████| 391/391 [00:24<00:00, 15.80it/s]\n"
     ]
    },
    {
     "name": "stdout",
     "output_type": "stream",
     "text": [
      "Clean Accuracy 10.28\n",
      "\n"
     ]
    },
    {
     "name": "stderr",
     "output_type": "stream",
     "text": [
      "Acc 99.74 Loss: 0.01: 100%|██████████| 391/391 [00:24<00:00, 15.77it/s]\n"
     ]
    },
    {
     "name": "stdout",
     "output_type": "stream",
     "text": [
      "Clean Accuracy 10.55\n",
      "\n"
     ]
    },
    {
     "name": "stderr",
     "output_type": "stream",
     "text": [
      "Acc 99.71 Loss: 0.01: 100%|██████████| 391/391 [00:24<00:00, 15.71it/s]\n"
     ]
    },
    {
     "name": "stdout",
     "output_type": "stream",
     "text": [
      "Clean Accuracy 10.24\n",
      "\n"
     ]
    },
    {
     "name": "stderr",
     "output_type": "stream",
     "text": [
      "Acc 99.70 Loss: 0.01: 100%|██████████| 391/391 [00:24<00:00, 15.67it/s]\n"
     ]
    },
    {
     "name": "stdout",
     "output_type": "stream",
     "text": [
      "Clean Accuracy 10.56\n",
      "\n"
     ]
    },
    {
     "name": "stderr",
     "output_type": "stream",
     "text": [
      "Acc 99.70 Loss: 0.01: 100%|██████████| 391/391 [00:24<00:00, 15.80it/s]\n"
     ]
    },
    {
     "name": "stdout",
     "output_type": "stream",
     "text": [
      "Clean Accuracy 10.26\n",
      "\n"
     ]
    },
    {
     "name": "stderr",
     "output_type": "stream",
     "text": [
      "Acc 99.84 Loss: 0.01: 100%|██████████| 391/391 [00:24<00:00, 15.73it/s]\n"
     ]
    },
    {
     "name": "stdout",
     "output_type": "stream",
     "text": [
      "Clean Accuracy 10.71\n",
      "\n"
     ]
    },
    {
     "name": "stderr",
     "output_type": "stream",
     "text": [
      "Acc 99.80 Loss: 0.01: 100%|██████████| 391/391 [00:24<00:00, 15.81it/s]\n"
     ]
    },
    {
     "name": "stdout",
     "output_type": "stream",
     "text": [
      "Clean Accuracy 10.07\n",
      "\n"
     ]
    },
    {
     "name": "stderr",
     "output_type": "stream",
     "text": [
      "Acc 99.90 Loss: 0.00: 100%|██████████| 391/391 [00:24<00:00, 15.79it/s]\n"
     ]
    },
    {
     "name": "stdout",
     "output_type": "stream",
     "text": [
      "Clean Accuracy 10.40\n",
      "\n"
     ]
    },
    {
     "name": "stderr",
     "output_type": "stream",
     "text": [
      "Acc 99.85 Loss: 0.01: 100%|██████████| 391/391 [00:24<00:00, 15.73it/s]\n"
     ]
    },
    {
     "name": "stdout",
     "output_type": "stream",
     "text": [
      "Clean Accuracy 10.00\n",
      "\n"
     ]
    },
    {
     "name": "stderr",
     "output_type": "stream",
     "text": [
      "Acc 99.89 Loss: 0.00: 100%|██████████| 391/391 [00:25<00:00, 15.63it/s]\n"
     ]
    },
    {
     "name": "stdout",
     "output_type": "stream",
     "text": [
      "Clean Accuracy 10.19\n",
      "\n"
     ]
    },
    {
     "name": "stderr",
     "output_type": "stream",
     "text": [
      "Acc 99.91 Loss: 0.00: 100%|██████████| 391/391 [00:24<00:00, 15.71it/s]\n"
     ]
    },
    {
     "name": "stdout",
     "output_type": "stream",
     "text": [
      "Clean Accuracy 10.21\n",
      "\n"
     ]
    },
    {
     "name": "stderr",
     "output_type": "stream",
     "text": [
      "Acc 99.95 Loss: 0.00: 100%|██████████| 391/391 [00:24<00:00, 15.77it/s]\n"
     ]
    },
    {
     "name": "stdout",
     "output_type": "stream",
     "text": [
      "Clean Accuracy 10.04\n",
      "\n"
     ]
    },
    {
     "name": "stderr",
     "output_type": "stream",
     "text": [
      "Acc 99.98 Loss: 0.00: 100%|██████████| 391/391 [00:24<00:00, 15.89it/s]\n"
     ]
    },
    {
     "name": "stdout",
     "output_type": "stream",
     "text": [
      "Clean Accuracy 10.01\n",
      "\n"
     ]
    },
    {
     "name": "stderr",
     "output_type": "stream",
     "text": [
      "Acc 99.98 Loss: 0.00: 100%|██████████| 391/391 [00:24<00:00, 15.87it/s]\n"
     ]
    },
    {
     "name": "stdout",
     "output_type": "stream",
     "text": [
      "Clean Accuracy 10.01\n",
      "\n"
     ]
    },
    {
     "name": "stderr",
     "output_type": "stream",
     "text": [
      "Acc 99.98 Loss: 0.00: 100%|██████████| 391/391 [00:24<00:00, 15.76it/s]\n"
     ]
    },
    {
     "name": "stdout",
     "output_type": "stream",
     "text": [
      "Clean Accuracy 10.06\n",
      "\n"
     ]
    },
    {
     "name": "stderr",
     "output_type": "stream",
     "text": [
      "Acc 99.99 Loss: 0.00: 100%|██████████| 391/391 [00:24<00:00, 15.88it/s] \n"
     ]
    },
    {
     "name": "stdout",
     "output_type": "stream",
     "text": [
      "Clean Accuracy 10.00\n",
      "\n"
     ]
    },
    {
     "name": "stderr",
     "output_type": "stream",
     "text": [
      "Acc 99.99 Loss: 0.00: 100%|██████████| 391/391 [00:24<00:00, 15.92it/s] \n"
     ]
    },
    {
     "name": "stdout",
     "output_type": "stream",
     "text": [
      "Clean Accuracy 10.09\n",
      "\n"
     ]
    },
    {
     "name": "stderr",
     "output_type": "stream",
     "text": [
      "Acc 99.99 Loss: 0.00: 100%|██████████| 391/391 [00:24<00:00, 15.78it/s] \n"
     ]
    },
    {
     "name": "stdout",
     "output_type": "stream",
     "text": [
      "Clean Accuracy 10.07\n",
      "\n"
     ]
    },
    {
     "name": "stderr",
     "output_type": "stream",
     "text": [
      "Acc 100.00 Loss: 0.00: 100%|██████████| 391/391 [00:24<00:00, 15.93it/s]\n"
     ]
    },
    {
     "name": "stdout",
     "output_type": "stream",
     "text": [
      "Clean Accuracy 10.07\n",
      "\n"
     ]
    },
    {
     "name": "stderr",
     "output_type": "stream",
     "text": [
      "Acc 99.99 Loss: 0.00: 100%|██████████| 391/391 [00:24<00:00, 15.90it/s] \n"
     ]
    },
    {
     "name": "stdout",
     "output_type": "stream",
     "text": [
      "Clean Accuracy 10.06\n",
      "\n"
     ]
    },
    {
     "name": "stderr",
     "output_type": "stream",
     "text": [
      "Acc 100.00 Loss: 0.00: 100%|██████████| 391/391 [00:24<00:00, 15.84it/s]\n"
     ]
    },
    {
     "name": "stdout",
     "output_type": "stream",
     "text": [
      "Clean Accuracy 10.05\n",
      "\n"
     ]
    }
   ],
   "source": [
    "from util import AverageMeter\n",
    "\n",
    "model = ResNet18()\n",
    "model = model.cuda()\n",
    "criterion = torch.nn.CrossEntropyLoss()\n",
    "optimizer = torch.optim.SGD(params=model.parameters(), lr=0.1, weight_decay=0.0005, momentum=0.9)\n",
    "scheduler = torch.optim.lr_scheduler.CosineAnnealingLR(optimizer, T_max=30, eta_min=0)\n",
    "\n",
    "unlearnable_loader = DataLoader(dataset=unlearnable_train_dataset, batch_size=128,\n",
    "                                shuffle=True, pin_memory=True,\n",
    "                                drop_last=False, num_workers=6)\n",
    "\n",
    "\n",
    "for epoch in range(30):\n",
    "    # Train\n",
    "    model.train()\n",
    "    acc_meter = AverageMeter()\n",
    "    loss_meter = AverageMeter()\n",
    "    pbar = tqdm(unlearnable_loader, total=len(unlearnable_loader))\n",
    "    for images, labels in pbar:\n",
    "        images, labels = images.cuda(), labels.cuda()\n",
    "        model.zero_grad()\n",
    "        optimizer.zero_grad()\n",
    "        logits = model(images)\n",
    "        loss = criterion(logits, labels)\n",
    "        loss.backward()\n",
    "        torch.nn.utils.clip_grad_norm_(model.parameters(), 5.0)\n",
    "        optimizer.step()\n",
    "        \n",
    "        _, predicted = torch.max(logits.data, 1)\n",
    "        acc = (predicted == labels).sum().item()/labels.size(0)\n",
    "        acc_meter.update(acc)\n",
    "        loss_meter.update(loss.item())\n",
    "        pbar.set_description(\"Acc %.2f Loss: %.2f\" % (acc_meter.avg*100, loss_meter.avg))\n",
    "    scheduler.step()\n",
    "    # Eval\n",
    "    model.eval()\n",
    "    correct, total = 0, 0\n",
    "    for i, (images, labels) in enumerate(clean_test_loader):\n",
    "        images, labels = images.cuda(), labels.cuda()\n",
    "        with torch.no_grad():\n",
    "            logits = model(images)\n",
    "            _, predicted = torch.max(logits.data, 1)\n",
    "            total += labels.size(0)\n",
    "            correct += (predicted == labels).sum().item()\n",
    "    acc = correct / total\n",
    "    tqdm.write('Clean Accuracy %.2f\\n' % (acc*100))\n",
    "            "
   ]
  },
  {
   "cell_type": "code",
   "execution_count": null,
   "metadata": {},
   "outputs": [],
   "source": []
  },
  {
   "cell_type": "code",
   "execution_count": null,
   "metadata": {},
   "outputs": [],
   "source": []
  }
 ],
 "metadata": {
  "kernelspec": {
   "display_name": "Python 3 (ipykernel)",
   "language": "python",
   "name": "python3"
  },
  "language_info": {
   "codemirror_mode": {
    "name": "ipython",
    "version": 3
   },
   "file_extension": ".py",
   "mimetype": "text/x-python",
   "name": "python",
   "nbconvert_exporter": "python",
   "pygments_lexer": "ipython3",
   "version": "3.7.10"
  }
 },
 "nbformat": 4,
 "nbformat_minor": 4
}
